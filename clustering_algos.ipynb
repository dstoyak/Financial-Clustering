{
 "cells": [
  {
   "cell_type": "code",
   "execution_count": 3,
   "id": "857a4bd5",
   "metadata": {
    "code_folding": []
   },
   "outputs": [],
   "source": [
    "def warn(*args, **kwargs):\n",
    "    pass\n",
    "import warnings\n",
    "warnings.warn = warn\n",
    "from kneed import KneeLocator\n",
    "from sklearn.neighbors import NearestNeighbors\n",
    "from numpy import inf\n",
    "\n",
    "import numpy as np\n",
    "import seaborn as sns\n",
    "import matplotlib.pyplot as plt\n",
    "from sklearn.cluster import DBSCAN\n",
    "\n",
    "import numpy as np\n",
    "import matplotlib.pyplot as plt\n",
    "from sklearn.cluster import KMeans\n",
    "from scipy.spatial.distance import cdist\n",
    "\n",
    "import pandas_datareader.data as web\n",
    "from matplotlib import pyplot as plt\n",
    "import pandas as pd\n",
    "import numpy as np\n",
    "import datetime\n",
    "import matplotlib.pyplot as plt\n",
    "from pandas import ExcelWriter\n",
    "from pandas import ExcelFile\n",
    "import os\n",
    "from sklearn.pipeline import make_pipeline\n",
    "from sklearn.cluster import KMeans\n",
    "from sklearn.preprocessing import Normalizer\n",
    "from sklearn.pipeline import Pipeline\n",
    "from matplotlib.pyplot import figure\n",
    "\n",
    "import seaborn as sns\n",
    "\n",
    "from sklearn.cluster import KMeans\n",
    "from sklearn.decomposition import PCA\n",
    "from sklearn.metrics import silhouette_score, adjusted_rand_score, silhouette_samples\n",
    "from sklearn.pipeline import Pipeline\n",
    "from sklearn.preprocessing import LabelEncoder, MinMaxScaler,MaxAbsScaler\n",
    "from sklearn.metrics import silhouette_score\n",
    "import random\n",
    "\n",
    "\n",
    "from matplotlib import cm\n",
    "from matplotlib.ticker import LinearLocator, FormatStrFormatter\n",
    "from mpl_toolkits.mplot3d import Axes3D\n",
    "\n",
    "from sklearn.preprocessing import StandardScaler\n",
    "from sklearn.decomposition import PCA\n",
    "\n",
    "from kneed import KneeLocator\n",
    "\n",
    "from sklearn.pipeline import Pipeline\n",
    "from sklearn.svm import SVC\n",
    "from sklearn.decomposition import PCA\n",
    "\n",
    "from sklearn.datasets import make_blobs\n",
    "from sklearn.cluster import OPTICS\n",
    "from sklearn.cluster import DBSCAN\n",
    "import numpy as np\n",
    "import matplotlib.pyplot as plt\n",
    "import itertools\n",
    "\n",
    "COLOR_BOLD = \"\\033[95m\"\n",
    "COLOR_END = \"\\033[0m\""
   ]
  },
  {
   "cell_type": "code",
   "execution_count": 4,
   "id": "981aeb5d",
   "metadata": {},
   "outputs": [],
   "source": [
    "pd.options.display.float_format = '{:,.10f}'.format"
   ]
  },
  {
   "cell_type": "code",
   "execution_count": 5,
   "id": "7e24075e",
   "metadata": {},
   "outputs": [],
   "source": [
    "pd.set_option('display.max_colwidth', -1)"
   ]
  },
  {
   "cell_type": "markdown",
   "id": "9a9bda47",
   "metadata": {},
   "source": [
    "# Functions"
   ]
  },
  {
   "cell_type": "code",
   "execution_count": 6,
   "id": "1d076e65",
   "metadata": {
    "code_folding": [
     0
    ]
   },
   "outputs": [],
   "source": [
    "def loop_files(string_to_find):\n",
    "    '''\n",
    "    Returns list of file paths containing certain string\n",
    "    '''\n",
    "    filepaths = []\n",
    "    for root, dirs, files in os.walk('Export/'):\n",
    "        for name in files:\n",
    "            if name.endswith('.csv'):\n",
    "\n",
    "                filepath = os.path.join(root, name)\n",
    "                if f'{string_to_find}' in name:\n",
    "                    filepaths.append(filepath)\n",
    "    return filepaths"
   ]
  },
  {
   "cell_type": "code",
   "execution_count": 7,
   "id": "4f9e181b",
   "metadata": {
    "code_folding": [
     0
    ]
   },
   "outputs": [],
   "source": [
    "def read_returns(file_path):\n",
    "    \"\"\"\n",
    "    Returns a dataframe when given a file path to csv file of returns\n",
    "    \"\"\"\n",
    "    movements = pd.read_csv(f'{file_path}',\n",
    "                              header=0,\n",
    "                              index_col=0,\n",
    "                              parse_dates=True)\n",
    "    \n",
    "    return movements"
   ]
  },
  {
   "cell_type": "code",
   "execution_count": 8,
   "id": "77e8ca93",
   "metadata": {
    "code_folding": [],
    "scrolled": false
   },
   "outputs": [],
   "source": [
    "def find_knee(movements, min_samples, direction = 'increasing'):\n",
    "    '''\n",
    "    Finds knee for data set. AKA the epsilon, or distance\n",
    "    points need to be from centroid to be considered a cluster\n",
    "    '''\n",
    "    \n",
    "    nearest_neighbors = NearestNeighbors(n_neighbors=min_samples)\n",
    "    neighbors = nearest_neighbors.fit(movements)\n",
    "    distances, indices = neighbors.kneighbors(movements)\n",
    "\n",
    "    distances = np.sort(distances[:,1], axis=0)\n",
    "\n",
    "\n",
    "\n",
    "    i = np.arange(len(distances))\n",
    "    knee = KneeLocator(i, distances,\n",
    "                       S=1, curve='convex',\n",
    "                       direction=direction,\n",
    "                       interp_method='polynomial')\n",
    "    '''\n",
    "    fig = plt.figure(figsize=(5, 3))\n",
    "\n",
    "    knee.plot_knee()\n",
    "\n",
    "    plt.xlabel(\"Points\")\n",
    "    plt.ylabel(\"Distance\")\n",
    "    '''\n",
    "    return distances[knee.knee]"
   ]
  },
  {
   "cell_type": "code",
   "execution_count": 9,
   "id": "fb95e326",
   "metadata": {
    "code_folding": [
     0
    ]
   },
   "outputs": [],
   "source": [
    "def tune_n_clusters(movements, upper_bound = 21, random_state = 10, init = 'k-means++'):\n",
    "    \n",
    "    '''\n",
    "    returns optimal cluster number\n",
    "    '''\n",
    "    \n",
    "    n_clusters = list(range(2,upper_bound))\n",
    "\n",
    "    sil_dict = {}\n",
    "\n",
    "    for cluster in n_clusters:\n",
    "        clusterer = KMeans(n_clusters = cluster, random_state=random_state, init=init)\n",
    "        cluster_labels = clusterer.fit(movements)\n",
    "\n",
    "        sil_avg = silhouette_score(movements, clusterer.labels_)\n",
    "\n",
    "        sil_dict[cluster] = sil_avg\n",
    "        \n",
    "    #return max(sil_dict, key = sil_dict.get)\n",
    "    return sil_dict"
   ]
  },
  {
   "cell_type": "code",
   "execution_count": 10,
   "id": "115dfa8f",
   "metadata": {
    "code_folding": [
     0
    ]
   },
   "outputs": [],
   "source": [
    "def get_n_clusters(movements, random_state=10, max_iter=1000):\n",
    "    '''\n",
    "    Solves for n_clusters progrimatically using\n",
    "    SSE elbow method, and Shilouette method.\n",
    "    \n",
    "    Uses both random init and k-means++ init.\n",
    "    '''\n",
    "    n_clusters = []\n",
    "    #------\n",
    "    kmeans_kwargs = {\n",
    "        \"init\": 'k-means++',\n",
    "        \"max_iter\": max_iter,\n",
    "        \"random_state\": random_state,\n",
    "    }\n",
    "\n",
    "    # A list holds the SSE values for each k\n",
    "    sse = []\n",
    "    for k in range(1, 15):\n",
    "        kmeans = KMeans(n_clusters=k, **kmeans_kwargs)\n",
    "        kmeans.fit(movements)\n",
    "        sse.append(kmeans.inertia_)\n",
    "\n",
    "    kl = KneeLocator(range(1, 15), sse, curve=\"convex\", direction=\"decreasing\")\n",
    "\n",
    "    n_clusters.append(kl.elbow)\n",
    "    #------\n",
    "    kmeans_kwargs = {\n",
    "        \"init\": \"random\",\n",
    "        \"max_iter\": 1000,\n",
    "        \"random_state\": random_state,\n",
    "    }\n",
    "\n",
    "    # A list holds the SSE values for each k\n",
    "    sse = []\n",
    "    for k in range(1, 15):\n",
    "        kmeans = KMeans(n_clusters=k, **kmeans_kwargs)\n",
    "        kmeans.fit(movements)\n",
    "        sse.append(kmeans.inertia_)\n",
    "\n",
    "    kl = KneeLocator(range(1, 15), sse, curve=\"convex\", direction=\"decreasing\")\n",
    "\n",
    "    n_clusters.append(kl.elbow)\n",
    "    #------\n",
    "    kmeans_kwargs = {\n",
    "        \"init\": \"k-means++\",\n",
    "        \"max_iter\": 1000,\n",
    "        \"random_state\": random_state,\n",
    "    }\n",
    "\n",
    "    # A list holds the silhouette coefficients for each k\n",
    "    silhouette_coefficients = []\n",
    "\n",
    "    # Notice you start at 2 clusters for silhouette coefficient\n",
    "    for k in range(2, 15):\n",
    "        kmeans = KMeans(n_clusters=k, **kmeans_kwargs)\n",
    "        kmeans.fit(movements)\n",
    "        score = silhouette_score(movements, kmeans.labels_)\n",
    "        silhouette_coefficients.append(score)\n",
    "        \n",
    "    #return len(silhouette_coefficients), len(list(range(2, 15)))\n",
    "    zipped = pd.DataFrame({\n",
    "        '0': list(range(2, 15)),\n",
    "        '1': silhouette_coefficients\n",
    "    })\n",
    "\n",
    "    n_clusters.append(int(zipped.loc[zipped['1'].idxmax()][0]))\n",
    "\n",
    "    kmeans_kwargs = {\n",
    "        \"init\": \"random\",\n",
    "        \"max_iter\": 1000,\n",
    "        \"random_state\": 42,\n",
    "    }\n",
    "\n",
    "    # A list holds the silhouette coefficients for each k\n",
    "    silhouette_coefficients = []\n",
    "\n",
    "    # Notice you start at 2 clusters for silhouette coefficient\n",
    "    for k in range(2, 15):\n",
    "        kmeans = KMeans(n_clusters=k, **kmeans_kwargs)\n",
    "        kmeans.fit(movements)\n",
    "        score = silhouette_score(movements, kmeans.labels_)\n",
    "        silhouette_coefficients.append(score)\n",
    "\n",
    "    zipped = pd.DataFrame({\n",
    "        '0': list(range(2, 15)),\n",
    "        '1': silhouette_coefficients\n",
    "    })\n",
    "    \n",
    "    n_clusters.append(int(zipped.loc[zipped['1'].idxmax()][0]))\n",
    "    #------\n",
    "\n",
    "    return list(set(n_clusters))"
   ]
  },
  {
   "cell_type": "code",
   "execution_count": 11,
   "id": "12cd4064",
   "metadata": {
    "code_folding": [
     0
    ]
   },
   "outputs": [],
   "source": [
    "def opti_cluster(movements, eps, upper_bound = 50, DBS = True):\n",
    "    '''\n",
    "    Returns number of cluster for certain number of min_samples\n",
    "    '''\n",
    "    labels_dict = {}\n",
    "    ms = list(range(1,upper_bound))\n",
    "    \n",
    "    if DBS:\n",
    "        for i in ms:\n",
    "            db = DBSCAN(eps = eps, min_samples=i)\n",
    "            labels = db.fit_predict(movements)\n",
    "\n",
    "\n",
    "            labels = set([label for label in labels if label >= 0])\n",
    "            labels_dict[i] = len(labels)\n",
    "        return labels_dict\n",
    "        \n",
    "    if not DBS:\n",
    "        for i in ms:\n",
    "            db = OPTICS(eps = eps, min_samples=i)\n",
    "            labels = db.fit_predict(movements)\n",
    "\n",
    "\n",
    "            labels = set([label for label in labels if label >= 0])\n",
    "\n",
    "            labels_dict[i] = len(labels)\n",
    "        return labels_dict"
   ]
  },
  {
   "cell_type": "code",
   "execution_count": 12,
   "id": "415d611a",
   "metadata": {},
   "outputs": [],
   "source": [
    "def mod_z_score(sqdist, consistency_correction = 1.4826):\n",
    "    median = np.median(sqdist)\n",
    "    \n",
    "    \n",
    "    dev_from_med = np.array(sqdist) - median\n",
    "    \n",
    "    mad = np.median(np.abs(dev_from_med))\n",
    "    \n",
    "    mod_zscore = dev_from_med/(consistency_correction*mad)\n",
    "    \n",
    "    return mod_zscore#, mad"
   ]
  },
  {
   "cell_type": "code",
   "execution_count": 13,
   "id": "d340d244",
   "metadata": {
    "code_folding": []
   },
   "outputs": [],
   "source": [
    "def KMEANS_DS(movements,\n",
    "              n_clusters=3,\n",
    "              init='k-means++',\n",
    "              n_init=50,\n",
    "              max_iter=1000,\n",
    "              random_state=10,\n",
    "              algorithm='lloyd',\n",
    "              PCA_components = 3,\n",
    "              scaler = MinMaxScaler(),\n",
    "              ZSCORE = 3):\n",
    "    '''\n",
    "    Returns tuple of Silhoutte Score and Predicted Labels\n",
    "    '''\n",
    "    preprocessor = Pipeline([\n",
    "        (\"scaler\", scaler),\n",
    "        (\"pca\", PCA(n_components=PCA_components, random_state=random_state)),\n",
    "    ])\n",
    "\n",
    "    clusterer = Pipeline([\n",
    "        (\n",
    "            \"kmeans\",\n",
    "            KMeans(\n",
    "                n_clusters=n_clusters,\n",
    "                init=init,\n",
    "                n_init=n_init,\n",
    "                max_iter=max_iter,\n",
    "                random_state=random_state,\n",
    "            ),\n",
    "        ),\n",
    "    ])\n",
    "\n",
    "    pipe = Pipeline([(\"preprocessor\", preprocessor), (\"clusterer\", clusterer)])\n",
    "    \n",
    "    \n",
    "    \n",
    "    fitted_movements = pipe.fit(movements)\n",
    "    labels = pipe.predict(movements)\n",
    "    preprocessed_data = pipe[\"preprocessor\"].transform(movements)\n",
    "\n",
    "    predicted_labels = pd.DataFrame(index=range(nrow),\n",
    "                                    columns=['ticker', 'group'])\n",
    "    \n",
    "\n",
    "    \n",
    "    i = 0\n",
    "    for ticker in list(movements.index):\n",
    "        current_prediction = fitted_movements.predict(\n",
    "            [list(movements.iloc[i])])[0]\n",
    "        predicted_labels.loc[i, 'ticker'] = ticker\n",
    "        predicted_labels.loc[i, 'group'] = current_prediction\n",
    "        i = i + 1\n",
    "        \n",
    "    X_dist = preprocessed_data**2    \n",
    "    #centers = pipe.named_steps['clusterer'][0].cluster_centers_\n",
    "    #outliers = KM_OUTLIERS(centers, predicted_labels['group'])\n",
    "    \n",
    "    predicted_labels['sqdist'] = X_dist.sum(axis=1)\n",
    "    \n",
    "    \n",
    "    #modZ = predicted_labels.groupby('group')['sqdist']\n",
    "    #zscore = lambda x: mod_z_score(x)\n",
    "    predicted_labels['modZZ'] = predicted_labels.groupby('group')['sqdist'].transform(mod_z_score)\n",
    "    predicted_labels = predicted_labels[predicted_labels['modZZ'] < ZSCORE]\n",
    "    #predicted_labels = predicted_labels[predicted_labels.group > -1]\n",
    "    #sil_score = silhouette_score(preprocessed_data, labels = predicted_labels['group'])\n",
    "\n",
    "    return  predicted_labels #sil_score"
   ]
  },
  {
   "cell_type": "code",
   "execution_count": 14,
   "id": "7f450bd1",
   "metadata": {
    "code_folding": [
     0
    ]
   },
   "outputs": [],
   "source": [
    "def DBSCAN_DS(\n",
    "        movements,\n",
    "        eps=0.5,\n",
    "        min_samples=5,\n",
    "        metric='euclidean',\n",
    "        metric_params=None,\n",
    "        algorithm='auto',\n",
    "        leaf_size=30,\n",
    "        p=None,\n",
    "        n_jobs=None,\n",
    "        scaler=MinMaxScaler(),\n",
    "        PCA_components=3,\n",
    "        random_state=10):\n",
    "\n",
    "    preprocessor = Pipeline([\n",
    "        (\"scaler\", scaler),\n",
    "        (\"pca\", PCA(n_components=PCA_components, random_state=random_state, svd_solver='auto')),\n",
    "    ])\n",
    "\n",
    "    clusterer = Pipeline([\n",
    "        (\n",
    "            \"DBSCAN\",\n",
    "            DBSCAN(\n",
    "                eps=eps,\n",
    "                min_samples=min_samples,\n",
    "                metric=metric,\n",
    "                algorithm=algorithm,\n",
    "                p=p,\n",
    "                leaf_size=leaf_size,\n",
    "            ),\n",
    "        ),\n",
    "    ])\n",
    "\n",
    "    \n",
    "\n",
    "    pipe = Pipeline([(\"preprocessor\", preprocessor), (\"clusterer\", clusterer)])\n",
    "    \n",
    "    \n",
    "    labels = pipe.fit_predict(movements)\n",
    "    #preprocessed_data = pipe[\"preprocessor\"].transform(movements)\n",
    "    d = {'ticker': movements.index.values, 'group': labels}\n",
    "    predicted_labels = pd.DataFrame(data=d,\n",
    "                                    index=range(nrow),\n",
    "                                    columns=['ticker', 'group'])\n",
    "    \n",
    "    predicted_labels = predicted_labels[predicted_labels.group>-1]\n",
    "    #sil_score = silhouette_score(preprocessed_data, predicted_labels['group'])\n",
    "\n",
    "    return predicted_labels\n",
    "\n",
    "    "
   ]
  },
  {
   "cell_type": "code",
   "execution_count": 15,
   "id": "7ebcdb58",
   "metadata": {
    "code_folding": [
     0
    ]
   },
   "outputs": [],
   "source": [
    "def OPTICS_DS(movements,\n",
    "              scaler=MinMaxScaler(),\n",
    "              PCA_components=3,\n",
    "              random_state=10,\n",
    "              min_samples=5,\n",
    "              max_eps=inf,\n",
    "              metric='minkowski',\n",
    "              p=2,\n",
    "              metric_params=None,\n",
    "              cluster_method='xi',\n",
    "              eps=None,\n",
    "              xi=0.05,\n",
    "              predecessor_correction=True,\n",
    "              min_cluster_size=None,\n",
    "              algorithm='auto',\n",
    "              leaf_size=30,\n",
    "              n_jobs = -1):\n",
    "\n",
    "    preprocessor = Pipeline([\n",
    "        (\"scaler\", scaler),\n",
    "        (\"pca\", PCA(n_components=PCA_components, random_state=random_state)),\n",
    "    ])\n",
    "\n",
    "    clusterer = Pipeline([\n",
    "        (\n",
    "            \"OPTICS\",\n",
    "            OPTICS(\n",
    "                min_samples=min_samples,\n",
    "                max_eps=max_eps,\n",
    "                metric=metric,\n",
    "                p=p,\n",
    "                metric_params=metric_params,\n",
    "                cluster_method=cluster_method,\n",
    "                eps=eps,\n",
    "                xi=xi,\n",
    "                predecessor_correction=predecessor_correction,\n",
    "                min_cluster_size=min_cluster_size,\n",
    "                algorithm=algorithm,\n",
    "                leaf_size=leaf_size,\n",
    "                memory=None,\n",
    "                n_jobs=n_jobs,\n",
    "            ),\n",
    "        ),\n",
    "    ])\n",
    "\n",
    "    pipe = Pipeline([(\"preprocessor\", preprocessor), (\"clusterer\", clusterer)])\n",
    "    \n",
    "    \n",
    "    labels = pipe.fit_predict(movements)\n",
    "\n",
    "    #preprocessed_data = pipe[\"preprocessor\"].transform(movements)\n",
    "    d = {'ticker': movements.index.values, 'group': labels}\n",
    "    predicted_labels = pd.DataFrame(data=d,\n",
    "                                    index=range(nrow),\n",
    "                                    columns=['ticker', 'group'])\n",
    "    \n",
    "    \n",
    "    return predicted_labels"
   ]
  },
  {
   "cell_type": "code",
   "execution_count": 16,
   "id": "3841a5bc",
   "metadata": {
    "code_folding": []
   },
   "outputs": [],
   "source": [
    "def SUMMARYSTATS_DS(predicted_labels, returns_file_name, sharpes_file_name):\n",
    "    '''\n",
    "    Returns Constituent Companies of Portfolio and their return\n",
    "    in during covid in excess of SP500 avg return during same time frame\n",
    "    '''\n",
    "    #Portfolio Construction\n",
    "    sharpes = pd.read_csv(f\"{sharpes_file_name}\",\n",
    "                          header=0,\n",
    "                          index_col=0,\n",
    "                          parse_dates=True)\n",
    "\n",
    "    merged = sharpes.merge(predicted_labels[['group','ticker']], on=['ticker'])\n",
    "\n",
    "    max_sharpes = merged.groupby('group')['sharpes', 'ticker'].max()\n",
    "\n",
    "    # Testing Portfolio Returns During Covid\n",
    "\n",
    "    movements = pd.read_csv(f'Export/returns_covid_PC.csv',\n",
    "                            header=0,\n",
    "                            index_col=0,\n",
    "                            parse_dates=True)\n",
    "\n",
    "    portfolio = movements[movements.index.isin(max_sharpes['ticker'])]\n",
    "\n",
    "    portfolio = portfolio.T\n",
    "\n",
    "    overall = (portfolio.iloc[:, :] + 1).prod() - 1\n",
    "    average = overall.mean()\n",
    "\n",
    "    #Excess Return\n",
    "\n",
    "\n",
    "    excess = average - spExcess\n",
    "\n",
    "\n",
    "    return portfolio.columns, excess"
   ]
  },
  {
   "cell_type": "markdown",
   "id": "db3120a2",
   "metadata": {},
   "source": [
    "# SP500 Returns"
   ]
  },
  {
   "cell_type": "code",
   "execution_count": 17,
   "id": "18a896bc",
   "metadata": {},
   "outputs": [],
   "source": [
    "# import historical s&p 500 data as data frame\n",
    "sp500_hist = pd.read_csv('sp500_historical.csv',\n",
    "                          header=0,\n",
    "                          index_col=0,\n",
    "                          parse_dates=True)\n",
    "\n",
    "sp500_hist = sp500_hist['2020-02-03':'2020-04-14']\n",
    "\n",
    "spExcess = (sp500_hist['Adj Close'].pct_change()+1).prod()-1"
   ]
  },
  {
   "cell_type": "markdown",
   "id": "7e0d6744",
   "metadata": {},
   "source": [
    "# OHLC"
   ]
  },
  {
   "cell_type": "markdown",
   "id": "b10ea5bd",
   "metadata": {},
   "source": [
    "## KMEANS"
   ]
  },
  {
   "cell_type": "markdown",
   "id": "828e9849",
   "metadata": {},
   "source": [
    "### KMEANS Params"
   ]
  },
  {
   "cell_type": "code",
   "execution_count": 18,
   "id": "7130804e",
   "metadata": {},
   "outputs": [],
   "source": [
    "###### KMEANS Params List\n",
    "n_clusters = [2,11,16,21]\n",
    "pca_components = [6,7,8,14]\n",
    "scaler = [MinMaxScaler()]\n",
    "init = ['k-means++']\n",
    "ZS = [1,1.3,1.5,2,3.5]\n",
    "ninit = [5,50]"
   ]
  },
  {
   "cell_type": "code",
   "execution_count": 19,
   "id": "6fdb7e20",
   "metadata": {},
   "outputs": [],
   "source": [
    "ret_files = loop_files('ac_de')#['Export/ac_detrend_ret.csv']"
   ]
  },
  {
   "cell_type": "code",
   "execution_count": 20,
   "id": "9b9c0601",
   "metadata": {},
   "outputs": [],
   "source": [
    "sharpe_files= loop_files('sharpes_monthly_diff_OCO')#['Export/sharpes_monthly_diff_OCO.csv']"
   ]
  },
  {
   "cell_type": "code",
   "execution_count": 21,
   "id": "bc557f83",
   "metadata": {},
   "outputs": [
    {
     "data": {
      "text/plain": [
       "['Export/sharpes_monthly_diff_OCO.csv']"
      ]
     },
     "execution_count": 21,
     "metadata": {},
     "output_type": "execute_result"
    }
   ],
   "source": [
    "sharpe_files"
   ]
  },
  {
   "cell_type": "code",
   "execution_count": 22,
   "id": "f423f9e1",
   "metadata": {},
   "outputs": [],
   "source": [
    "#iter_list[378] #best kmeans combo for this iterlist\n",
    "iter_KM = list(itertools.product(n_clusters, #0\n",
    "                                   pca_components, #1\n",
    "                                   scaler, #2\n",
    "                                   init, #3\n",
    "                                   ret_files, #4\n",
    "                                   sharpe_files, #5\n",
    "                                 ZS,#6\n",
    "                                ninit)) #7"
   ]
  },
  {
   "cell_type": "code",
   "execution_count": 23,
   "id": "b192ffb7",
   "metadata": {},
   "outputs": [
    {
     "data": {
      "text/plain": [
       "160"
      ]
     },
     "execution_count": 23,
     "metadata": {},
     "output_type": "execute_result"
    }
   ],
   "source": [
    "len(iter_KM)"
   ]
  },
  {
   "cell_type": "markdown",
   "id": "8fab9903",
   "metadata": {},
   "source": [
    "### KMEANS Loop for all Combos of Params"
   ]
  },
  {
   "cell_type": "code",
   "execution_count": 193,
   "id": "4b7ab9db",
   "metadata": {
    "scrolled": true
   },
   "outputs": [
    {
     "name": "stderr",
     "output_type": "stream",
     "text": [
      "C:\\Users\\Daniel\\AppData\\Local\\Temp\\ipykernel_19988\\2292402150.py:9: RuntimeWarning: invalid value encountered in true_divide\n",
      "  mod_zscore = dev_from_med/(consistency_correction*mad)\n",
      "C:\\Users\\Daniel\\AppData\\Local\\Temp\\ipykernel_19988\\2292402150.py:9: RuntimeWarning: invalid value encountered in true_divide\n",
      "  mod_zscore = dev_from_med/(consistency_correction*mad)\n",
      "C:\\Users\\Daniel\\AppData\\Local\\Temp\\ipykernel_19988\\2292402150.py:9: RuntimeWarning: invalid value encountered in true_divide\n",
      "  mod_zscore = dev_from_med/(consistency_correction*mad)\n",
      "C:\\Users\\Daniel\\AppData\\Local\\Temp\\ipykernel_19988\\2292402150.py:9: RuntimeWarning: invalid value encountered in true_divide\n",
      "  mod_zscore = dev_from_med/(consistency_correction*mad)\n",
      "C:\\Users\\Daniel\\AppData\\Local\\Temp\\ipykernel_19988\\2292402150.py:9: RuntimeWarning: invalid value encountered in true_divide\n",
      "  mod_zscore = dev_from_med/(consistency_correction*mad)\n",
      "C:\\Users\\Daniel\\AppData\\Local\\Temp\\ipykernel_19988\\2292402150.py:9: RuntimeWarning: invalid value encountered in true_divide\n",
      "  mod_zscore = dev_from_med/(consistency_correction*mad)\n",
      "C:\\Users\\Daniel\\AppData\\Local\\Temp\\ipykernel_19988\\2292402150.py:9: RuntimeWarning: invalid value encountered in true_divide\n",
      "  mod_zscore = dev_from_med/(consistency_correction*mad)\n",
      "C:\\Users\\Daniel\\AppData\\Local\\Temp\\ipykernel_19988\\2292402150.py:9: RuntimeWarning: invalid value encountered in true_divide\n",
      "  mod_zscore = dev_from_med/(consistency_correction*mad)\n",
      "C:\\Users\\Daniel\\AppData\\Local\\Temp\\ipykernel_19988\\2292402150.py:9: RuntimeWarning: invalid value encountered in true_divide\n",
      "  mod_zscore = dev_from_med/(consistency_correction*mad)\n",
      "C:\\Users\\Daniel\\AppData\\Local\\Temp\\ipykernel_19988\\2292402150.py:9: RuntimeWarning: invalid value encountered in true_divide\n",
      "  mod_zscore = dev_from_med/(consistency_correction*mad)\n",
      "C:\\Users\\Daniel\\AppData\\Local\\Temp\\ipykernel_19988\\2292402150.py:9: RuntimeWarning: invalid value encountered in true_divide\n",
      "  mod_zscore = dev_from_med/(consistency_correction*mad)\n",
      "C:\\Users\\Daniel\\AppData\\Local\\Temp\\ipykernel_19988\\2292402150.py:9: RuntimeWarning: invalid value encountered in true_divide\n",
      "  mod_zscore = dev_from_med/(consistency_correction*mad)\n",
      "C:\\Users\\Daniel\\AppData\\Local\\Temp\\ipykernel_19988\\2292402150.py:9: RuntimeWarning: invalid value encountered in true_divide\n",
      "  mod_zscore = dev_from_med/(consistency_correction*mad)\n",
      "C:\\Users\\Daniel\\AppData\\Local\\Temp\\ipykernel_19988\\2292402150.py:9: RuntimeWarning: invalid value encountered in true_divide\n",
      "  mod_zscore = dev_from_med/(consistency_correction*mad)\n",
      "C:\\Users\\Daniel\\AppData\\Local\\Temp\\ipykernel_19988\\2292402150.py:9: RuntimeWarning: invalid value encountered in true_divide\n",
      "  mod_zscore = dev_from_med/(consistency_correction*mad)\n",
      "C:\\Users\\Daniel\\AppData\\Local\\Temp\\ipykernel_19988\\2292402150.py:9: RuntimeWarning: invalid value encountered in true_divide\n",
      "  mod_zscore = dev_from_med/(consistency_correction*mad)\n",
      "C:\\Users\\Daniel\\AppData\\Local\\Temp\\ipykernel_19988\\2292402150.py:9: RuntimeWarning: invalid value encountered in true_divide\n",
      "  mod_zscore = dev_from_med/(consistency_correction*mad)\n",
      "C:\\Users\\Daniel\\AppData\\Local\\Temp\\ipykernel_19988\\2292402150.py:9: RuntimeWarning: invalid value encountered in true_divide\n",
      "  mod_zscore = dev_from_med/(consistency_correction*mad)\n",
      "C:\\Users\\Daniel\\AppData\\Local\\Temp\\ipykernel_19988\\2292402150.py:9: RuntimeWarning: invalid value encountered in true_divide\n",
      "  mod_zscore = dev_from_med/(consistency_correction*mad)\n",
      "C:\\Users\\Daniel\\AppData\\Local\\Temp\\ipykernel_19988\\2292402150.py:9: RuntimeWarning: invalid value encountered in true_divide\n",
      "  mod_zscore = dev_from_med/(consistency_correction*mad)\n",
      "C:\\Users\\Daniel\\AppData\\Local\\Temp\\ipykernel_19988\\2292402150.py:9: RuntimeWarning: invalid value encountered in true_divide\n",
      "  mod_zscore = dev_from_med/(consistency_correction*mad)\n",
      "C:\\Users\\Daniel\\AppData\\Local\\Temp\\ipykernel_19988\\2292402150.py:9: RuntimeWarning: invalid value encountered in true_divide\n",
      "  mod_zscore = dev_from_med/(consistency_correction*mad)\n",
      "C:\\Users\\Daniel\\AppData\\Local\\Temp\\ipykernel_19988\\2292402150.py:9: RuntimeWarning: invalid value encountered in true_divide\n",
      "  mod_zscore = dev_from_med/(consistency_correction*mad)\n",
      "C:\\Users\\Daniel\\AppData\\Local\\Temp\\ipykernel_19988\\2292402150.py:9: RuntimeWarning: invalid value encountered in true_divide\n",
      "  mod_zscore = dev_from_med/(consistency_correction*mad)\n",
      "C:\\Users\\Daniel\\AppData\\Local\\Temp\\ipykernel_19988\\2292402150.py:9: RuntimeWarning: invalid value encountered in true_divide\n",
      "  mod_zscore = dev_from_med/(consistency_correction*mad)\n",
      "C:\\Users\\Daniel\\AppData\\Local\\Temp\\ipykernel_19988\\2292402150.py:9: RuntimeWarning: invalid value encountered in true_divide\n",
      "  mod_zscore = dev_from_med/(consistency_correction*mad)\n",
      "C:\\Users\\Daniel\\AppData\\Local\\Temp\\ipykernel_19988\\2292402150.py:9: RuntimeWarning: invalid value encountered in true_divide\n",
      "  mod_zscore = dev_from_med/(consistency_correction*mad)\n",
      "C:\\Users\\Daniel\\AppData\\Local\\Temp\\ipykernel_19988\\2292402150.py:9: RuntimeWarning: invalid value encountered in true_divide\n",
      "  mod_zscore = dev_from_med/(consistency_correction*mad)\n",
      "C:\\Users\\Daniel\\AppData\\Local\\Temp\\ipykernel_19988\\2292402150.py:9: RuntimeWarning: invalid value encountered in true_divide\n",
      "  mod_zscore = dev_from_med/(consistency_correction*mad)\n",
      "C:\\Users\\Daniel\\AppData\\Local\\Temp\\ipykernel_19988\\2292402150.py:9: RuntimeWarning: invalid value encountered in true_divide\n",
      "  mod_zscore = dev_from_med/(consistency_correction*mad)\n",
      "C:\\Users\\Daniel\\AppData\\Local\\Temp\\ipykernel_19988\\2292402150.py:9: RuntimeWarning: invalid value encountered in true_divide\n",
      "  mod_zscore = dev_from_med/(consistency_correction*mad)\n",
      "C:\\Users\\Daniel\\AppData\\Local\\Temp\\ipykernel_19988\\2292402150.py:9: RuntimeWarning: invalid value encountered in true_divide\n",
      "  mod_zscore = dev_from_med/(consistency_correction*mad)\n",
      "C:\\Users\\Daniel\\AppData\\Local\\Temp\\ipykernel_19988\\2292402150.py:9: RuntimeWarning: invalid value encountered in true_divide\n",
      "  mod_zscore = dev_from_med/(consistency_correction*mad)\n",
      "C:\\Users\\Daniel\\AppData\\Local\\Temp\\ipykernel_19988\\2292402150.py:9: RuntimeWarning: invalid value encountered in true_divide\n",
      "  mod_zscore = dev_from_med/(consistency_correction*mad)\n",
      "C:\\Users\\Daniel\\AppData\\Local\\Temp\\ipykernel_19988\\2292402150.py:9: RuntimeWarning: invalid value encountered in true_divide\n",
      "  mod_zscore = dev_from_med/(consistency_correction*mad)\n",
      "C:\\Users\\Daniel\\AppData\\Local\\Temp\\ipykernel_19988\\2292402150.py:9: RuntimeWarning: invalid value encountered in true_divide\n",
      "  mod_zscore = dev_from_med/(consistency_correction*mad)\n",
      "C:\\Users\\Daniel\\AppData\\Local\\Temp\\ipykernel_19988\\2292402150.py:9: RuntimeWarning: invalid value encountered in true_divide\n",
      "  mod_zscore = dev_from_med/(consistency_correction*mad)\n",
      "C:\\Users\\Daniel\\AppData\\Local\\Temp\\ipykernel_19988\\2292402150.py:9: RuntimeWarning: invalid value encountered in true_divide\n",
      "  mod_zscore = dev_from_med/(consistency_correction*mad)\n",
      "C:\\Users\\Daniel\\AppData\\Local\\Temp\\ipykernel_19988\\2292402150.py:9: RuntimeWarning: invalid value encountered in true_divide\n",
      "  mod_zscore = dev_from_med/(consistency_correction*mad)\n",
      "C:\\Users\\Daniel\\AppData\\Local\\Temp\\ipykernel_19988\\2292402150.py:9: RuntimeWarning: invalid value encountered in true_divide\n",
      "  mod_zscore = dev_from_med/(consistency_correction*mad)\n",
      "C:\\Users\\Daniel\\AppData\\Local\\Temp\\ipykernel_19988\\2292402150.py:9: RuntimeWarning: invalid value encountered in true_divide\n",
      "  mod_zscore = dev_from_med/(consistency_correction*mad)\n",
      "C:\\Users\\Daniel\\AppData\\Local\\Temp\\ipykernel_19988\\2292402150.py:9: RuntimeWarning: invalid value encountered in true_divide\n",
      "  mod_zscore = dev_from_med/(consistency_correction*mad)\n",
      "C:\\Users\\Daniel\\AppData\\Local\\Temp\\ipykernel_19988\\2292402150.py:9: RuntimeWarning: invalid value encountered in true_divide\n",
      "  mod_zscore = dev_from_med/(consistency_correction*mad)\n",
      "C:\\Users\\Daniel\\AppData\\Local\\Temp\\ipykernel_19988\\2292402150.py:9: RuntimeWarning: invalid value encountered in true_divide\n",
      "  mod_zscore = dev_from_med/(consistency_correction*mad)\n",
      "C:\\Users\\Daniel\\AppData\\Local\\Temp\\ipykernel_19988\\2292402150.py:9: RuntimeWarning: invalid value encountered in true_divide\n",
      "  mod_zscore = dev_from_med/(consistency_correction*mad)\n",
      "C:\\Users\\Daniel\\AppData\\Local\\Temp\\ipykernel_19988\\2292402150.py:9: RuntimeWarning: invalid value encountered in true_divide\n",
      "  mod_zscore = dev_from_med/(consistency_correction*mad)\n"
     ]
    },
    {
     "name": "stderr",
     "output_type": "stream",
     "text": [
      "C:\\Users\\Daniel\\AppData\\Local\\Temp\\ipykernel_19988\\2292402150.py:9: RuntimeWarning: invalid value encountered in true_divide\n",
      "  mod_zscore = dev_from_med/(consistency_correction*mad)\n",
      "C:\\Users\\Daniel\\AppData\\Local\\Temp\\ipykernel_19988\\2292402150.py:9: RuntimeWarning: invalid value encountered in true_divide\n",
      "  mod_zscore = dev_from_med/(consistency_correction*mad)\n",
      "C:\\Users\\Daniel\\AppData\\Local\\Temp\\ipykernel_19988\\2292402150.py:9: RuntimeWarning: invalid value encountered in true_divide\n",
      "  mod_zscore = dev_from_med/(consistency_correction*mad)\n",
      "C:\\Users\\Daniel\\AppData\\Local\\Temp\\ipykernel_19988\\2292402150.py:9: RuntimeWarning: invalid value encountered in true_divide\n",
      "  mod_zscore = dev_from_med/(consistency_correction*mad)\n",
      "C:\\Users\\Daniel\\AppData\\Local\\Temp\\ipykernel_19988\\2292402150.py:9: RuntimeWarning: invalid value encountered in true_divide\n",
      "  mod_zscore = dev_from_med/(consistency_correction*mad)\n",
      "C:\\Users\\Daniel\\AppData\\Local\\Temp\\ipykernel_19988\\2292402150.py:9: RuntimeWarning: invalid value encountered in true_divide\n",
      "  mod_zscore = dev_from_med/(consistency_correction*mad)\n",
      "C:\\Users\\Daniel\\AppData\\Local\\Temp\\ipykernel_19988\\2292402150.py:9: RuntimeWarning: invalid value encountered in true_divide\n",
      "  mod_zscore = dev_from_med/(consistency_correction*mad)\n",
      "C:\\Users\\Daniel\\AppData\\Local\\Temp\\ipykernel_19988\\2292402150.py:9: RuntimeWarning: invalid value encountered in true_divide\n",
      "  mod_zscore = dev_from_med/(consistency_correction*mad)\n",
      "C:\\Users\\Daniel\\AppData\\Local\\Temp\\ipykernel_19988\\2292402150.py:9: RuntimeWarning: invalid value encountered in true_divide\n",
      "  mod_zscore = dev_from_med/(consistency_correction*mad)\n",
      "C:\\Users\\Daniel\\AppData\\Local\\Temp\\ipykernel_19988\\2292402150.py:9: RuntimeWarning: invalid value encountered in true_divide\n",
      "  mod_zscore = dev_from_med/(consistency_correction*mad)\n",
      "C:\\Users\\Daniel\\AppData\\Local\\Temp\\ipykernel_19988\\2292402150.py:9: RuntimeWarning: invalid value encountered in true_divide\n",
      "  mod_zscore = dev_from_med/(consistency_correction*mad)\n",
      "C:\\Users\\Daniel\\AppData\\Local\\Temp\\ipykernel_19988\\2292402150.py:9: RuntimeWarning: invalid value encountered in true_divide\n",
      "  mod_zscore = dev_from_med/(consistency_correction*mad)\n",
      "C:\\Users\\Daniel\\AppData\\Local\\Temp\\ipykernel_19988\\2292402150.py:9: RuntimeWarning: invalid value encountered in true_divide\n",
      "  mod_zscore = dev_from_med/(consistency_correction*mad)\n",
      "C:\\Users\\Daniel\\AppData\\Local\\Temp\\ipykernel_19988\\2292402150.py:9: RuntimeWarning: invalid value encountered in true_divide\n",
      "  mod_zscore = dev_from_med/(consistency_correction*mad)\n"
     ]
    }
   ],
   "source": [
    "sil_master_KM = []\n",
    "predicted_labels_master_KM = []\n",
    "portfolio_companies_master_KM = []\n",
    "excess_master_KM = []\n",
    "\n",
    "\n",
    "for combo in iter_KM:\n",
    "    movements = read_returns(combo[4])\n",
    "    movements = movements[:-1]\n",
    "    nrow = movements.shape[0]\n",
    "    ncol = movements.shape[1]\n",
    "\n",
    "    predicted_labels = KMEANS_DS(movements,\n",
    "                                            n_clusters=combo[0],\n",
    "                                            init=combo[3],\n",
    "                                            n_init= combo[7],\n",
    "                                            scaler=combo[2],\n",
    "                                            PCA_components=combo[1],\n",
    "                                            ZSCORE = combo[6],\n",
    "                                random_state=10)\n",
    "\n",
    "    portfolio_companies, excess = SUMMARYSTATS_DS(predicted_labels, combo[4],\n",
    "                                                  combo[5])\n",
    "\n",
    "    #sil_master_KM.append(sil_score)\n",
    "    predicted_labels_master_KM.append(predicted_labels)\n",
    "    portfolio_companies_master_KM.append(portfolio_companies)\n",
    "    excess_master_KM.append(excess)\n",
    "\n"
   ]
  },
  {
   "cell_type": "markdown",
   "id": "ae935968",
   "metadata": {},
   "source": [
    "### KMEANS Results"
   ]
  },
  {
   "cell_type": "code",
   "execution_count": 194,
   "id": "6461b334",
   "metadata": {},
   "outputs": [
    {
     "data": {
      "text/plain": [
       "0.016249711211300144"
      ]
     },
     "execution_count": 194,
     "metadata": {},
     "output_type": "execute_result"
    }
   ],
   "source": [
    "max(excess_master_KM)"
   ]
  },
  {
   "cell_type": "code",
   "execution_count": 195,
   "id": "e9a08741",
   "metadata": {},
   "outputs": [],
   "source": [
    "max_index = excess_master_KM.index(max(excess_master_KM))"
   ]
  },
  {
   "cell_type": "code",
   "execution_count": 196,
   "id": "9e98bd57",
   "metadata": {},
   "outputs": [
    {
     "data": {
      "text/plain": [
       "51"
      ]
     },
     "execution_count": 196,
     "metadata": {},
     "output_type": "execute_result"
    }
   ],
   "source": [
    "max_index"
   ]
  },
  {
   "cell_type": "code",
   "execution_count": 197,
   "id": "e2740bb0",
   "metadata": {},
   "outputs": [
    {
     "data": {
      "text/plain": [
       "Index(['MAS', 'NVDA', 'TJX', 'TMO', 'VRSN', 'WFC', 'WMB', 'WMT', 'XEL', 'XRX',\n",
       "       'YUM'],\n",
       "      dtype='object')"
      ]
     },
     "execution_count": 197,
     "metadata": {},
     "output_type": "execute_result"
    }
   ],
   "source": [
    "portfolio_companies_master_KM[max_index]"
   ]
  },
  {
   "cell_type": "code",
   "execution_count": 198,
   "id": "de79138c",
   "metadata": {},
   "outputs": [
    {
     "data": {
      "text/plain": [
       "(11,\n",
       " 7,\n",
       " MinMaxScaler(),\n",
       " 'k-means++',\n",
       " 'Export/ac_detrend.csv',\n",
       " 'Export/sharpes_monthly_diff_OCO.csv',\n",
       " 1,\n",
       " 50)"
      ]
     },
     "execution_count": 198,
     "metadata": {},
     "output_type": "execute_result"
    }
   ],
   "source": [
    "iter_KM[max_index]"
   ]
  },
  {
   "cell_type": "markdown",
   "id": "f567d0e8",
   "metadata": {},
   "source": [
    "## DBSCAN"
   ]
  },
  {
   "cell_type": "markdown",
   "id": "19cc85f3",
   "metadata": {},
   "source": [
    "### DBSCAN Params"
   ]
  },
  {
   "cell_type": "code",
   "execution_count": null,
   "id": "5e13a1f1",
   "metadata": {
    "code_folding": []
   },
   "outputs": [],
   "source": [
    "#DB param lists\n",
    "scaler = [MinMaxScaler(), MaxAbsScaler()]\n",
    "PCA_components = [4,5,6,11]\n",
    "min_samples = [3,10,11,12,18]\n",
    "#max_eps = [2, 2.5, 3, 3.5, 4, 4.5, 5, 5.5]\n",
    "metric = ['euclidean','minkowski']\n",
    "\n",
    "eps = [0.43333, 0.4245796527260531,0.3357278927089582,0.2630817273081133,0.25818012165540655,0.20696961857497598,0.14048568590637187]\n",
    "algorithm = ['auto']\n",
    "n_jobs = [-1]\n",
    "p = [1.5]"
   ]
  },
  {
   "cell_type": "code",
   "execution_count": null,
   "id": "a4f6038b",
   "metadata": {},
   "outputs": [],
   "source": [
    "ret_files = loop_files('ac_detrend')"
   ]
  },
  {
   "cell_type": "code",
   "execution_count": null,
   "id": "9102811b",
   "metadata": {},
   "outputs": [],
   "source": [
    "sharpe_files= loop_files('sharpes_diff_O')"
   ]
  },
  {
   "cell_type": "code",
   "execution_count": null,
   "id": "8e5cb98d",
   "metadata": {
    "code_folding": [
     1
    ]
   },
   "outputs": [],
   "source": [
    "iter_DB = list(\n",
    "    itertools.product(\n",
    "        scaler, #0\n",
    "        PCA_components, #1\n",
    "        min_samples, #2\n",
    "        metric, #3\n",
    "        eps, #4\n",
    "        algorithm, #5\n",
    "        n_jobs, #6\n",
    "        ret_files,  #7\n",
    "        sharpe_files,#8\n",
    "        p)) #9"
   ]
  },
  {
   "cell_type": "code",
   "execution_count": null,
   "id": "538ecdd1",
   "metadata": {
    "scrolled": true
   },
   "outputs": [],
   "source": [
    "len(iter_DB)"
   ]
  },
  {
   "cell_type": "markdown",
   "id": "e597a614",
   "metadata": {},
   "source": [
    "### DBSCAN Loop for all Combos of Params"
   ]
  },
  {
   "cell_type": "code",
   "execution_count": null,
   "id": "9a1be526",
   "metadata": {
    "scrolled": true
   },
   "outputs": [],
   "source": [
    "sil_master_DB = []\n",
    "predicted_labels_master_DB = []\n",
    "portfolio_companies_master_DB = []\n",
    "excess_master_DB = []\n",
    "combo_excess_masterlist_DB = []\n",
    "\n",
    "for combo in iter_DB:\n",
    "    movements = read_returns(combo[7])\n",
    "    movements = movements[:-1]\n",
    "    nrow = movements.shape[0]\n",
    "    ncol = movements.shape[1]\n",
    "\n",
    "    predicted_labels = DBSCAN_DS(movements,\n",
    "                                 eps=combo[4],\n",
    "                                 min_samples=combo[2],\n",
    "                                 metric=combo[3],\n",
    "                                 algorithm=combo[5],\n",
    "                                 n_jobs=combo[6],\n",
    "                                 scaler=combo[0],\n",
    "                                 PCA_components=combo[1],\n",
    "                                 p=combo[9])\n",
    "    #predicted_labels = predicted_labels[predicted_labels['group'] > -1]\n",
    "    #  ^gets rid of outliers group\n",
    "    \n",
    "    \n",
    "    portfolio_companies, excess = SUMMARYSTATS_DS(predicted_labels, combo[7],\n",
    "                                                  combo[8])\n",
    "\n",
    "    #sil_master_DB.append(sil_score)\n",
    "    predicted_labels_master_DB.append(predicted_labels)\n",
    "    portfolio_companies_master_DB.append(portfolio_companies)\n",
    "    excess_master_DB.append(excess)\n",
    "    combo_excess_masterlist_DB.append([combo, excess])"
   ]
  },
  {
   "cell_type": "markdown",
   "id": "8bac3f69",
   "metadata": {},
   "source": [
    "### DBSCAN Results"
   ]
  },
  {
   "cell_type": "code",
   "execution_count": null,
   "id": "c9040a35",
   "metadata": {},
   "outputs": [],
   "source": [
    "max(excess_master_DB)"
   ]
  },
  {
   "cell_type": "code",
   "execution_count": null,
   "id": "c5288c38",
   "metadata": {},
   "outputs": [],
   "source": [
    "max_index = excess_master_DB.index(max(excess_master_DB))"
   ]
  },
  {
   "cell_type": "code",
   "execution_count": null,
   "id": "b70ddd3f",
   "metadata": {},
   "outputs": [],
   "source": [
    "max_index"
   ]
  },
  {
   "cell_type": "code",
   "execution_count": null,
   "id": "e1565c69",
   "metadata": {},
   "outputs": [],
   "source": [
    "portfolio_companies_master_DB[max_index]"
   ]
  },
  {
   "cell_type": "code",
   "execution_count": null,
   "id": "5297c78c",
   "metadata": {},
   "outputs": [],
   "source": [
    "iter_DB[max_index]"
   ]
  },
  {
   "cell_type": "markdown",
   "id": "c42d5d98",
   "metadata": {},
   "source": [
    "## OPTICS"
   ]
  },
  {
   "cell_type": "markdown",
   "id": "4ca335f2",
   "metadata": {},
   "source": [
    "### OPTICS Params"
   ]
  },
  {
   "cell_type": "code",
   "execution_count": 277,
   "id": "9f154716",
   "metadata": {},
   "outputs": [],
   "source": [
    "#OPTICS Params\n",
    "scaler = [MinMaxScaler(),MaxAbsScaler()]\n",
    "PCA_components = [17]\n",
    "random_state= [10]\n",
    "min_samples= [14]\n",
    "max_eps = inf\n",
    "metric= ['minkowski']\n",
    "p=2,\n",
    "metric_params= None \n",
    "cluster_method= 'xi' \n",
    "eps= [0.3357278927]#[0.0633380090583151,0.4245796527260531,0.3357278927089582,0.2630817273081133,0.25818012165540655,0.20696961857497598]\n",
    "xi= [0.05]\n",
    "predecessor_correction = [True]\n",
    "min_cluster_size = [0.05]\n",
    "algorithm = ['auto'] \n",
    "leaf_size= [30] \n"
   ]
  },
  {
   "cell_type": "code",
   "execution_count": 278,
   "id": "b68075a9",
   "metadata": {},
   "outputs": [],
   "source": [
    "ret_files = loop_files('ac_detrend')"
   ]
  },
  {
   "cell_type": "code",
   "execution_count": 279,
   "id": "8fed568e",
   "metadata": {},
   "outputs": [],
   "source": [
    "sharpe_files= ['Export/sharpes_monthly_diff_OCO.csv']#loop_files('sharpe')"
   ]
  },
  {
   "cell_type": "code",
   "execution_count": 280,
   "id": "b88d68d9",
   "metadata": {},
   "outputs": [],
   "source": [
    "iter_OPT = list(\n",
    "    itertools.product(\n",
    "        scaler, #0\n",
    "        PCA_components, #1\n",
    "        min_samples, #2\n",
    "        metric, #3\n",
    "        eps, #4\n",
    "        xi,#5\n",
    "        min_cluster_size,#6\n",
    "        algorithm, #&\n",
    "        ret_files,  #8\n",
    "        sharpe_files,#9\n",
    "        p)) #10"
   ]
  },
  {
   "cell_type": "code",
   "execution_count": 281,
   "id": "5713601f",
   "metadata": {},
   "outputs": [
    {
     "data": {
      "text/plain": [
       "2"
      ]
     },
     "execution_count": 281,
     "metadata": {},
     "output_type": "execute_result"
    }
   ],
   "source": [
    "len(iter_OPT)"
   ]
  },
  {
   "cell_type": "markdown",
   "id": "0f9e153e",
   "metadata": {},
   "source": [
    "### OPTICS Loop for all Combos of Params"
   ]
  },
  {
   "cell_type": "code",
   "execution_count": 282,
   "id": "856c85e0",
   "metadata": {},
   "outputs": [],
   "source": [
    "sil_master_OPT = []\n",
    "predicted_labels_master_OPT = []\n",
    "portfolio_companies_master_OPT = []\n",
    "excess_master_OPT = []\n",
    "combo_excess_masterlist_OPT = []\n",
    "\n",
    "for combo in iter_OPT:\n",
    "    movements = read_returns(combo[8])\n",
    "\n",
    "    nrow = movements.shape[0]\n",
    "    ncol = movements.shape[1]\n",
    "\n",
    "    predicted_labels = OPTICS_DS(movements,\n",
    "                                            scaler=combo[0],\n",
    "                                            PCA_components=combo[1],\n",
    "                                            min_samples=combo[2],\n",
    "                                            metric=combo[3],\n",
    "                                            eps=combo[4],\n",
    "                                            xi=combo[5],\n",
    "                                            min_cluster_size=combo[6])\n",
    "    \n",
    "    predicted_labels = predicted_labels[predicted_labels['group'] > -1]\n",
    "    #  ^gets rid of outliers group\n",
    "    portfolio_companies, excess = SUMMARYSTATS_DS(predicted_labels, combo[8],\n",
    "                                                  combo[9])\n",
    "\n",
    "    #sil_master_DB.append(sil_score)\n",
    "    predicted_labels_master_OPT.append(predicted_labels)\n",
    "    portfolio_companies_master_OPT.append(portfolio_companies)\n",
    "    excess_master_OPT.append(excess)\n",
    "    combo_excess_masterlist_OPT.append([combo,excess])"
   ]
  },
  {
   "cell_type": "markdown",
   "id": "cb9a2952",
   "metadata": {},
   "source": [
    "### OPTICS Results"
   ]
  },
  {
   "cell_type": "code",
   "execution_count": 284,
   "id": "984e7caa",
   "metadata": {},
   "outputs": [
    {
     "data": {
      "text/plain": [
       "0.17171391070979286"
      ]
     },
     "execution_count": 284,
     "metadata": {},
     "output_type": "execute_result"
    }
   ],
   "source": [
    "max(excess_master_OPT)"
   ]
  },
  {
   "cell_type": "code",
   "execution_count": 285,
   "id": "97a1edc5",
   "metadata": {},
   "outputs": [],
   "source": [
    "max_index = excess_master_OPT.index(max(excess_master_OPT))"
   ]
  },
  {
   "cell_type": "code",
   "execution_count": 286,
   "id": "6503f7dd",
   "metadata": {},
   "outputs": [
    {
     "data": {
      "text/plain": [
       "0"
      ]
     },
     "execution_count": 286,
     "metadata": {},
     "output_type": "execute_result"
    }
   ],
   "source": [
    "max_index"
   ]
  },
  {
   "cell_type": "code",
   "execution_count": 287,
   "id": "68aadcac",
   "metadata": {},
   "outputs": [
    {
     "data": {
      "text/plain": [
       "Index(['WMT', 'XEL'], dtype='object')"
      ]
     },
     "execution_count": 287,
     "metadata": {},
     "output_type": "execute_result"
    }
   ],
   "source": [
    "portfolio_companies_master_OPT[max_index]"
   ]
  },
  {
   "cell_type": "code",
   "execution_count": 288,
   "id": "3e005d2d",
   "metadata": {},
   "outputs": [
    {
     "data": {
      "text/plain": [
       "(MinMaxScaler(),\n",
       " 17,\n",
       " 14,\n",
       " 'minkowski',\n",
       " 0.3357278927,\n",
       " 0.05,\n",
       " 0.05,\n",
       " 'auto',\n",
       " 'Export/ac_detrend.csv',\n",
       " 'Export/sharpes_monthly_diff_OCO.csv',\n",
       " 2)"
      ]
     },
     "execution_count": 288,
     "metadata": {},
     "output_type": "execute_result"
    }
   ],
   "source": [
    "iter_OPT[max_index]"
   ]
  },
  {
   "cell_type": "markdown",
   "id": "8c0ee065",
   "metadata": {},
   "source": [
    "# Ratios Test"
   ]
  },
  {
   "cell_type": "markdown",
   "id": "df072b2e",
   "metadata": {},
   "source": [
    "## K-Means"
   ]
  },
  {
   "cell_type": "markdown",
   "id": "f879cd04",
   "metadata": {},
   "source": [
    "### KMEANS Params"
   ]
  },
  {
   "cell_type": "code",
   "execution_count": 36,
   "id": "c647b1b3",
   "metadata": {},
   "outputs": [],
   "source": [
    "###### KMEANS Params List\n",
    "n_clusters = [4,7]\n",
    "pca_components = [2,3,4,11]\n",
    "scaler = [MinMaxScaler()]\n",
    "init = ['k-means++']\n",
    "ZS = [3,4,5]\n",
    "ninit = [50]"
   ]
  },
  {
   "cell_type": "code",
   "execution_count": 37,
   "id": "2c54c481",
   "metadata": {},
   "outputs": [],
   "source": [
    "ratios_files = loop_files('ratios.csv')#['Export/ac_detrend_ret.csv']"
   ]
  },
  {
   "cell_type": "code",
   "execution_count": 38,
   "id": "c0cf66f4",
   "metadata": {},
   "outputs": [],
   "source": [
    "sharpe_files= loop_files('sharpes_monthly_diff_OCO')"
   ]
  },
  {
   "cell_type": "code",
   "execution_count": 39,
   "id": "3ce755c1",
   "metadata": {},
   "outputs": [
    {
     "data": {
      "text/plain": [
       "['Export/ratios.csv']"
      ]
     },
     "execution_count": 39,
     "metadata": {},
     "output_type": "execute_result"
    }
   ],
   "source": [
    "ratios_files"
   ]
  },
  {
   "cell_type": "code",
   "execution_count": 40,
   "id": "401fba21",
   "metadata": {},
   "outputs": [],
   "source": [
    "iter_KM = list(itertools.product(n_clusters, #0\n",
    "                                   pca_components, #1\n",
    "                                   scaler, #2\n",
    "                                   init, #3\n",
    "                                   ratios_files, #4\n",
    "                                   sharpe_files, #5\n",
    "                                 ZS,#6\n",
    "                                ninit)) #7"
   ]
  },
  {
   "cell_type": "code",
   "execution_count": 41,
   "id": "3ad5f331",
   "metadata": {},
   "outputs": [
    {
     "data": {
      "text/plain": [
       "24"
      ]
     },
     "execution_count": 41,
     "metadata": {},
     "output_type": "execute_result"
    }
   ],
   "source": [
    "len(iter_KM)"
   ]
  },
  {
   "cell_type": "markdown",
   "id": "5357a900",
   "metadata": {},
   "source": [
    "### KMEANS Loop for all Combos of Params"
   ]
  },
  {
   "cell_type": "code",
   "execution_count": 42,
   "id": "353e91dd",
   "metadata": {
    "scrolled": true
   },
   "outputs": [
    {
     "name": "stderr",
     "output_type": "stream",
     "text": [
      "C:\\Users\\Daniel\\AppData\\Local\\Temp\\ipykernel_16808\\2292402150.py:9: RuntimeWarning: invalid value encountered in true_divide\n",
      "  mod_zscore = dev_from_med/(consistency_correction*mad)\n",
      "C:\\Users\\Daniel\\AppData\\Local\\Temp\\ipykernel_16808\\2292402150.py:9: RuntimeWarning: invalid value encountered in true_divide\n",
      "  mod_zscore = dev_from_med/(consistency_correction*mad)\n",
      "C:\\Users\\Daniel\\AppData\\Local\\Temp\\ipykernel_16808\\2292402150.py:9: RuntimeWarning: invalid value encountered in true_divide\n",
      "  mod_zscore = dev_from_med/(consistency_correction*mad)\n",
      "C:\\Users\\Daniel\\AppData\\Local\\Temp\\ipykernel_16808\\2292402150.py:9: RuntimeWarning: invalid value encountered in true_divide\n",
      "  mod_zscore = dev_from_med/(consistency_correction*mad)\n",
      "C:\\Users\\Daniel\\AppData\\Local\\Temp\\ipykernel_16808\\2292402150.py:9: RuntimeWarning: invalid value encountered in true_divide\n",
      "  mod_zscore = dev_from_med/(consistency_correction*mad)\n",
      "C:\\Users\\Daniel\\AppData\\Local\\Temp\\ipykernel_16808\\2292402150.py:9: RuntimeWarning: invalid value encountered in true_divide\n",
      "  mod_zscore = dev_from_med/(consistency_correction*mad)\n",
      "C:\\Users\\Daniel\\AppData\\Local\\Temp\\ipykernel_16808\\2292402150.py:9: RuntimeWarning: invalid value encountered in true_divide\n",
      "  mod_zscore = dev_from_med/(consistency_correction*mad)\n",
      "C:\\Users\\Daniel\\AppData\\Local\\Temp\\ipykernel_16808\\2292402150.py:9: RuntimeWarning: invalid value encountered in true_divide\n",
      "  mod_zscore = dev_from_med/(consistency_correction*mad)\n",
      "C:\\Users\\Daniel\\AppData\\Local\\Temp\\ipykernel_16808\\2292402150.py:9: RuntimeWarning: invalid value encountered in true_divide\n",
      "  mod_zscore = dev_from_med/(consistency_correction*mad)\n",
      "C:\\Users\\Daniel\\AppData\\Local\\Temp\\ipykernel_16808\\2292402150.py:9: RuntimeWarning: invalid value encountered in true_divide\n",
      "  mod_zscore = dev_from_med/(consistency_correction*mad)\n",
      "C:\\Users\\Daniel\\AppData\\Local\\Temp\\ipykernel_16808\\2292402150.py:9: RuntimeWarning: invalid value encountered in true_divide\n",
      "  mod_zscore = dev_from_med/(consistency_correction*mad)\n",
      "C:\\Users\\Daniel\\AppData\\Local\\Temp\\ipykernel_16808\\2292402150.py:9: RuntimeWarning: invalid value encountered in true_divide\n",
      "  mod_zscore = dev_from_med/(consistency_correction*mad)\n"
     ]
    }
   ],
   "source": [
    "sil_master_KM = []\n",
    "predicted_labels_master_KM = []\n",
    "portfolio_companies_master_KM = []\n",
    "excess_master_KM = []\n",
    "\n",
    "\n",
    "for combo in iter_KM:\n",
    "    movements = read_returns(combo[4])\n",
    "    movements = movements[:-1]\n",
    "    nrow = movements.shape[0]\n",
    "    ncol = movements.shape[1]\n",
    "\n",
    "    predicted_labels = KMEANS_DS(movements,\n",
    "                                            n_clusters=combo[0],\n",
    "                                            init=combo[3],\n",
    "                                            n_init= combo[7],\n",
    "                                            scaler=combo[2],\n",
    "                                            PCA_components=combo[1],\n",
    "                                            ZSCORE = combo[6],\n",
    "                                random_state=10)\n",
    "\n",
    "    portfolio_companies, excess = SUMMARYSTATS_DS(predicted_labels, combo[4],\n",
    "                                                  combo[5])\n",
    "\n",
    "    #sil_master_KM.append(sil_score)\n",
    "    predicted_labels_master_KM.append(predicted_labels)\n",
    "    portfolio_companies_master_KM.append(portfolio_companies)\n",
    "    excess_master_KM.append(excess)"
   ]
  },
  {
   "cell_type": "markdown",
   "id": "672cdb3a",
   "metadata": {},
   "source": [
    "### KMEANS Results"
   ]
  },
  {
   "cell_type": "code",
   "execution_count": 43,
   "id": "abf97258",
   "metadata": {},
   "outputs": [
    {
     "data": {
      "text/plain": [
       "0.03450409782912439"
      ]
     },
     "execution_count": 43,
     "metadata": {},
     "output_type": "execute_result"
    }
   ],
   "source": [
    "max(excess_master_KM)"
   ]
  },
  {
   "cell_type": "code",
   "execution_count": 44,
   "id": "51f97dac",
   "metadata": {},
   "outputs": [],
   "source": [
    "max_index = excess_master_KM.index(max(excess_master_KM))"
   ]
  },
  {
   "cell_type": "code",
   "execution_count": 45,
   "id": "cc71b2bb",
   "metadata": {},
   "outputs": [
    {
     "data": {
      "text/plain": [
       "2"
      ]
     },
     "execution_count": 45,
     "metadata": {},
     "output_type": "execute_result"
    }
   ],
   "source": [
    "max_index"
   ]
  },
  {
   "cell_type": "code",
   "execution_count": 46,
   "id": "c654babf",
   "metadata": {},
   "outputs": [
    {
     "data": {
      "text/plain": [
       "Index(['TJX', 'WMT', 'XEL', 'XOM'], dtype='object')"
      ]
     },
     "execution_count": 46,
     "metadata": {},
     "output_type": "execute_result"
    }
   ],
   "source": [
    "portfolio_companies_master_KM[max_index]"
   ]
  },
  {
   "cell_type": "code",
   "execution_count": 47,
   "id": "5b1ccc95",
   "metadata": {},
   "outputs": [
    {
     "data": {
      "text/plain": [
       "(4,\n",
       " 2,\n",
       " MinMaxScaler(),\n",
       " 'k-means++',\n",
       " 'Export/ratios.csv',\n",
       " 'Export/sharpes_monthly_diff_OCO.csv',\n",
       " 5,\n",
       " 50)"
      ]
     },
     "execution_count": 47,
     "metadata": {},
     "output_type": "execute_result"
    }
   ],
   "source": [
    "iter_KM[max_index]"
   ]
  },
  {
   "cell_type": "markdown",
   "id": "ae2867e4",
   "metadata": {},
   "source": [
    "## DBSCAN"
   ]
  },
  {
   "cell_type": "markdown",
   "id": "8bc9ecbb",
   "metadata": {},
   "source": [
    "### DBSCAN Params"
   ]
  },
  {
   "cell_type": "code",
   "execution_count": 328,
   "id": "320a4072",
   "metadata": {},
   "outputs": [],
   "source": [
    "#DB param lists\n",
    "scaler = [MinMaxScaler(), MaxAbsScaler()]\n",
    "PCA_components = [2,4,6,7,8,9]\n",
    "min_samples = [10,11,12]\n",
    "max_eps = [2, 2.5, 3, 3.5, 4, 4.5, 5, 5.5]\n",
    "metric = [\n",
    "    'minkowski','euclidean','manhattan'\n",
    "]\n",
    "#eps = [0.04461719757124152]\n",
    "eps = [0.42383600018117623, 0.33948192944865985,0.43280100014311673,0.256098350775273,0.5621840302358065,0.3998988812520709]\n",
    "algorithm = ['auto']\n",
    "n_jobs = [-1]\n",
    "p = [1.5]\n"
   ]
  },
  {
   "cell_type": "code",
   "execution_count": null,
   "id": "f895bc35",
   "metadata": {},
   "outputs": [],
   "source": [
    "movements = read_returns('Export/ac_detrend.csv')"
   ]
  },
  {
   "cell_type": "code",
   "execution_count": null,
   "id": "6f92b63c",
   "metadata": {},
   "outputs": [],
   "source": [
    "nearest_neighbors = NearestNeighbors(n_neighbors=5)\n",
    "neighbors = nearest_neighbors.fit(movements)\n",
    "distances, indices = neighbors.kneighbors(movements)\n",
    "\n",
    "distances = np.sort(distances[:,1], axis=0)\n",
    "\n",
    "\n",
    "\n",
    "i = np.arange(len(distances))\n",
    "knee = KneeLocator(i, distances,\n",
    "                   S=3, curve='convex',\n",
    "                   direction='increasing',\n",
    "                   interp_method='interp1d')\n",
    "#'''\n",
    "fig = plt.figure(figsize=(5, 3))\n",
    "\n",
    "knee.plot_knee()\n",
    "\n",
    "plt.xlabel(\"Points\")\n",
    "plt.ylabel(\"Distance\")\n",
    "#'''\n",
    "\n",
    "distances[knee.knee]"
   ]
  },
  {
   "cell_type": "code",
   "execution_count": null,
   "id": "b7b5b664",
   "metadata": {},
   "outputs": [],
   "source": []
  },
  {
   "cell_type": "code",
   "execution_count": 338,
   "id": "68819c6b",
   "metadata": {},
   "outputs": [],
   "source": [
    "ratios_files = loop_files('ratios.csv')#['Export/ac_detrend_ret.csv']"
   ]
  },
  {
   "cell_type": "code",
   "execution_count": 339,
   "id": "77a577fe",
   "metadata": {},
   "outputs": [],
   "source": [
    "sharpe_files= loop_files('sharpes')#'sharpes_monthly_diff_OCO')"
   ]
  },
  {
   "cell_type": "code",
   "execution_count": 340,
   "id": "198f3fa7",
   "metadata": {},
   "outputs": [],
   "source": [
    "iter_DB = list(\n",
    "    itertools.product(\n",
    "        scaler, #0\n",
    "        PCA_components, #1\n",
    "        min_samples, #2\n",
    "        metric, #3\n",
    "        eps, #4\n",
    "        algorithm, #5\n",
    "        n_jobs, #6\n",
    "        ratios_files,  #7\n",
    "        sharpe_files,#8\n",
    "        p)) #9"
   ]
  },
  {
   "cell_type": "code",
   "execution_count": 341,
   "id": "21d4f315",
   "metadata": {},
   "outputs": [
    {
     "data": {
      "text/plain": [
       "7776"
      ]
     },
     "execution_count": 341,
     "metadata": {},
     "output_type": "execute_result"
    }
   ],
   "source": [
    "len(iter_DB)"
   ]
  },
  {
   "cell_type": "markdown",
   "id": "fc2c94ec",
   "metadata": {},
   "source": [
    "### DBSCAN Loop for all Param Combos"
   ]
  },
  {
   "cell_type": "code",
   "execution_count": 342,
   "id": "a0fcce59",
   "metadata": {},
   "outputs": [],
   "source": [
    "sil_master_DB = []\n",
    "predicted_labels_master_DB = []\n",
    "portfolio_companies_master_DB = []\n",
    "excess_master_DB = []\n",
    "combo_excess_masterlist_DB = []\n",
    "\n",
    "for combo in iter_DB:\n",
    "    movements = read_returns(combo[7])\n",
    "\n",
    "    nrow = movements.shape[0]\n",
    "    ncol = movements.shape[1]\n",
    "\n",
    "    predicted_labels = DBSCAN_DS(movements,\n",
    "                                 eps=combo[4],\n",
    "                                 min_samples=combo[2],\n",
    "                                 metric=combo[3],\n",
    "                                 algorithm=combo[5],\n",
    "                                 n_jobs=combo[6],\n",
    "                                 scaler=combo[0],\n",
    "                                 PCA_components=combo[1],\n",
    "                                 p=combo[9])\n",
    "\n",
    "    portfolio_companies, excess = SUMMARYSTATS_DS(predicted_labels, combo[7],\n",
    "                                                  combo[8])\n",
    "\n",
    "    #sil_master_DB.append(sil_score)\n",
    "    predicted_labels_master_DB.append(predicted_labels)\n",
    "    portfolio_companies_master_DB.append(portfolio_companies)\n",
    "    excess_master_DB.append(excess)\n",
    "    combo_excess_masterlist_DB.append([combo, excess])"
   ]
  },
  {
   "cell_type": "markdown",
   "id": "a0437f22",
   "metadata": {},
   "source": [
    "### DBSCAN Results"
   ]
  },
  {
   "cell_type": "code",
   "execution_count": 343,
   "id": "8b10f3f9",
   "metadata": {},
   "outputs": [
    {
     "data": {
      "text/plain": [
       "0.1051473567901044"
      ]
     },
     "execution_count": 343,
     "metadata": {},
     "output_type": "execute_result"
    }
   ],
   "source": [
    "max(excess_master_DB)"
   ]
  },
  {
   "cell_type": "code",
   "execution_count": 344,
   "id": "bd781c91",
   "metadata": {},
   "outputs": [],
   "source": [
    "max_index = excess_master_DB.index(max(excess_master_DB))"
   ]
  },
  {
   "cell_type": "code",
   "execution_count": 345,
   "id": "8b79501d",
   "metadata": {},
   "outputs": [
    {
     "data": {
      "text/plain": [
       "Index(['PGR', 'XEL'], dtype='object')"
      ]
     },
     "execution_count": 345,
     "metadata": {},
     "output_type": "execute_result"
    }
   ],
   "source": [
    "portfolio_companies_master_DB[max_index]"
   ]
  },
  {
   "cell_type": "code",
   "execution_count": 346,
   "id": "d375ae52",
   "metadata": {},
   "outputs": [
    {
     "data": {
      "text/plain": [
       "(MinMaxScaler(),\n",
       " 8,\n",
       " 10,\n",
       " 'minkowski',\n",
       " 0.256098350775273,\n",
       " 'auto',\n",
       " -1,\n",
       " 'Export/ratios.csv',\n",
       " 'Export/sharpes_diff_OCO.csv',\n",
       " 1.5)"
      ]
     },
     "execution_count": 346,
     "metadata": {},
     "output_type": "execute_result"
    }
   ],
   "source": [
    "iter_DB[max_index]"
   ]
  },
  {
   "cell_type": "markdown",
   "id": "bf84b434",
   "metadata": {},
   "source": [
    "## OPTICS"
   ]
  },
  {
   "cell_type": "markdown",
   "id": "4cba5915",
   "metadata": {},
   "source": [
    "### OPTICS Params"
   ]
  },
  {
   "cell_type": "code",
   "execution_count": 379,
   "id": "7cb06269",
   "metadata": {},
   "outputs": [],
   "source": [
    "#OPTICS Params\n",
    "scaler = [MinMaxScaler(),MaxAbsScaler()]\n",
    "PCA_components = [2,3,5,4,11]\n",
    "random_state= [10]\n",
    "min_samples= [1,2,3,4,16]\n",
    "max_eps = inf\n",
    "metric= ['minkowski']\n",
    "p=2,\n",
    "metric_params= None \n",
    "cluster_method= 'xi' \n",
    "eps= [0.0633380090583151,\n",
    "0.42223]\n",
    "xi= [0.05]\n",
    "predecessor_correction = [True]\n",
    "min_cluster_size = [0.05]\n",
    "algorithm = ['auto'] \n",
    "leaf_size= [30] \n"
   ]
  },
  {
   "cell_type": "code",
   "execution_count": 380,
   "id": "8bd9b14a",
   "metadata": {},
   "outputs": [],
   "source": [
    "ratios_files = loop_files('ratios')"
   ]
  },
  {
   "cell_type": "code",
   "execution_count": 381,
   "id": "e9ccc758",
   "metadata": {},
   "outputs": [],
   "source": [
    "sharpe_files= ['Export/sharpes_monthly_diff_OCO.csv']#loop_files('sharpe')"
   ]
  },
  {
   "cell_type": "code",
   "execution_count": 382,
   "id": "76f353b5",
   "metadata": {},
   "outputs": [],
   "source": [
    "iter_OPT = list(\n",
    "    itertools.product(\n",
    "        scaler, #0\n",
    "        PCA_components, #1\n",
    "        min_samples, #2\n",
    "        metric, #3\n",
    "        eps, #4\n",
    "        xi,#5\n",
    "        min_cluster_size,#6\n",
    "        algorithm, #7\n",
    "        ratios_files,  #8\n",
    "        sharpe_files,#9\n",
    "        p)) #10"
   ]
  },
  {
   "cell_type": "code",
   "execution_count": 383,
   "id": "b110013e",
   "metadata": {},
   "outputs": [
    {
     "data": {
      "text/plain": [
       "100"
      ]
     },
     "execution_count": 383,
     "metadata": {},
     "output_type": "execute_result"
    }
   ],
   "source": [
    "len(iter_OPT)"
   ]
  },
  {
   "cell_type": "markdown",
   "id": "31bca74c",
   "metadata": {},
   "source": [
    "### OPTICS Loop for all Combos of Params"
   ]
  },
  {
   "cell_type": "code",
   "execution_count": 373,
   "id": "23330c68",
   "metadata": {},
   "outputs": [],
   "source": [
    "sil_master_OPT = []\n",
    "predicted_labels_master_OPT = []\n",
    "portfolio_companies_master_OPT = []\n",
    "excess_master_OPT = []\n",
    "combo_excess_masterlist_OPT = []\n",
    "\n",
    "for combo in iter_OPT:\n",
    "    movements = read_returns(combo[8])\n",
    "\n",
    "    nrow = movements.shape[0]\n",
    "    ncol = movements.shape[1]\n",
    "\n",
    "    predicted_labels = OPTICS_DS(movements,\n",
    "                                            scaler=combo[0],\n",
    "                                            PCA_components=combo[1],\n",
    "                                            min_samples=combo[2],\n",
    "                                            metric=combo[3],\n",
    "                                            eps=combo[4],\n",
    "                                            xi=combo[5],\n",
    "                                            min_cluster_size=combo[6])\n",
    "    \n",
    "    predicted_labels = predicted_labels[predicted_labels['group'] > -1]\n",
    "    #  ^gets rid of outliers group\n",
    "    portfolio_companies, excess = SUMMARYSTATS_DS(predicted_labels, combo[8],\n",
    "                                                  combo[9])\n",
    "\n",
    "    #sil_master_DB.append(sil_score)\n",
    "    predicted_labels_master_OPT.append(predicted_labels)\n",
    "    portfolio_companies_master_OPT.append(portfolio_companies)\n",
    "    excess_master_OPT.append(excess)\n",
    "    combo_excess_masterlist_OPT.append([combo,excess])"
   ]
  },
  {
   "cell_type": "markdown",
   "id": "68b4d412",
   "metadata": {},
   "source": [
    "### OPTICS Results"
   ]
  },
  {
   "cell_type": "code",
   "execution_count": 374,
   "id": "5af6dc26",
   "metadata": {},
   "outputs": [
    {
     "data": {
      "text/plain": [
       "0.08770828264743336"
      ]
     },
     "execution_count": 374,
     "metadata": {},
     "output_type": "execute_result"
    }
   ],
   "source": [
    "max(excess_master_OPT)"
   ]
  },
  {
   "cell_type": "code",
   "execution_count": 375,
   "id": "12946ef6",
   "metadata": {},
   "outputs": [],
   "source": [
    "max_index = excess_master_OPT.index(max(excess_master_OPT))"
   ]
  },
  {
   "cell_type": "code",
   "execution_count": 376,
   "id": "e22b33ba",
   "metadata": {},
   "outputs": [
    {
     "data": {
      "text/plain": [
       "460"
      ]
     },
     "execution_count": 376,
     "metadata": {},
     "output_type": "execute_result"
    }
   ],
   "source": [
    "max_index"
   ]
  },
  {
   "cell_type": "code",
   "execution_count": 377,
   "id": "5584ae87",
   "metadata": {
    "scrolled": true
   },
   "outputs": [
    {
     "data": {
      "text/plain": [
       "Index(['XEL'], dtype='object')"
      ]
     },
     "execution_count": 377,
     "metadata": {},
     "output_type": "execute_result"
    }
   ],
   "source": [
    "portfolio_companies_master_OPT[max_index]"
   ]
  },
  {
   "cell_type": "code",
   "execution_count": 378,
   "id": "8161d0ad",
   "metadata": {},
   "outputs": [
    {
     "data": {
      "text/plain": [
       "(MinMaxScaler(),\n",
       " 21,\n",
       " 10,\n",
       " 'manhattan',\n",
       " 0.0633380090583151,\n",
       " 0.05,\n",
       " 0.05,\n",
       " 'auto',\n",
       " 'Export/ratios.csv',\n",
       " 'Export/sharpes_monthly_diff_OCO.csv',\n",
       " 2)"
      ]
     },
     "execution_count": 378,
     "metadata": {},
     "output_type": "execute_result"
    }
   ],
   "source": [
    "iter_OPT[max_index]"
   ]
  },
  {
   "cell_type": "code",
   "execution_count": null,
   "id": "0a992648",
   "metadata": {},
   "outputs": [],
   "source": []
  }
 ],
 "metadata": {
  "kernelspec": {
   "display_name": "Python 3 (ipykernel)",
   "language": "python",
   "name": "python3"
  },
  "language_info": {
   "codemirror_mode": {
    "name": "ipython",
    "version": 3
   },
   "file_extension": ".py",
   "mimetype": "text/x-python",
   "name": "python",
   "nbconvert_exporter": "python",
   "pygments_lexer": "ipython3",
   "version": "3.8.5"
  },
  "toc": {
   "base_numbering": 1,
   "nav_menu": {},
   "number_sections": true,
   "sideBar": true,
   "skip_h1_title": false,
   "title_cell": "Table of Contents",
   "title_sidebar": "Contents",
   "toc_cell": false,
   "toc_position": {},
   "toc_section_display": true,
   "toc_window_display": false
  },
  "varInspector": {
   "cols": {
    "lenName": 16,
    "lenType": 16,
    "lenVar": 40
   },
   "kernels_config": {
    "python": {
     "delete_cmd_postfix": "",
     "delete_cmd_prefix": "del ",
     "library": "var_list.py",
     "varRefreshCmd": "print(var_dic_list())"
    },
    "r": {
     "delete_cmd_postfix": ") ",
     "delete_cmd_prefix": "rm(",
     "library": "var_list.r",
     "varRefreshCmd": "cat(var_dic_list()) "
    }
   },
   "position": {
    "height": "606.85px",
    "left": "704.233px",
    "right": "20px",
    "top": "120px",
    "width": "350px"
   },
   "types_to_exclude": [
    "module",
    "function",
    "builtin_function_or_method",
    "instance",
    "_Feature"
   ],
   "window_display": false
  }
 },
 "nbformat": 4,
 "nbformat_minor": 5
}
