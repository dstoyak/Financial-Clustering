{
 "cells": [
  {
   "cell_type": "code",
   "execution_count": 1,
   "id": "6486f4c7",
   "metadata": {
    "scrolled": true
   },
   "outputs": [],
   "source": [
    "import yfinance as yf\n",
    "import bs4 as bs\n",
    "import pickle\n",
    "import requests\n",
    "import pandas as pd\n",
    "import json\n",
    "from dateutil import parser\n",
    "from datetime import datetime\n",
    "import os\n",
    "import time\n",
    "from pandas.io.json import json_normalize\n",
    "from alpha_vantage.timeseries import TimeSeries\n",
    "from alpha_vantage.fundamentaldata import FundamentalData\n",
    "import wrds\n",
    "from datetime import datetime as dt\n",
    "import numpy as np\n",
    "import glob, os\n",
    "import csv\n",
    "from matplotlib import pyplot as plt\n",
    "pd.set_option(\"display.precision\", 8)\n",
    "\n",
    "import edhec_risk_kit as erk\n",
    "\n",
    "%load_ext autoreload\n",
    "%autoreload 2"
   ]
  },
  {
   "cell_type": "code",
   "execution_count": 2,
   "id": "20432715",
   "metadata": {},
   "outputs": [],
   "source": [
    "start_download = '2006-06-01'\n",
    "end_download = '2021-06-01'"
   ]
  },
  {
   "cell_type": "code",
   "execution_count": 3,
   "id": "a8810782",
   "metadata": {},
   "outputs": [],
   "source": [
    "start_date = '2009-06-30' # Define start and end dates\n",
    "end_date = '2020-04-15'"
   ]
  },
  {
   "cell_type": "markdown",
   "id": "b0c0cf5e",
   "metadata": {},
   "source": [
    "### Gets currently listed SP500 companies and thier CIKs"
   ]
  },
  {
   "cell_type": "code",
   "execution_count": 4,
   "id": "249e8533",
   "metadata": {},
   "outputs": [],
   "source": [
    "# gets list of SP500 companies and their CIKs\n",
    "\n",
    "#standard: pull from yahoo finance, yfinance\n",
    "#\n",
    "\n",
    "def save_SP500_tickers():\n",
    "    resp = requests.get('https://web.archive.org/web/20200411084847/https://en.wikipedia.org/wiki/List_of_S%26P_500_companies')\n",
    "    soup = bs.BeautifulSoup(resp.text, 'lxml')\n",
    "    table = soup.find('table', {'class': 'wikitable sortable'})\n",
    "    tickers = []\n",
    "    ciks = []\n",
    "    \n",
    "    for row in table.findAll('tr')[1:]:\n",
    "        ticker = row.findAll('td')[0].text[:-1]\n",
    "        cik = row.findAll('td')[7].text[:]\n",
    "        \n",
    "        tickers.append(ticker)\n",
    "        ciks.append(cik)\n",
    "    \n",
    "    #drops '\\n' from certain entries in CIK list\n",
    "    ciks = list(map(lambda x:x.strip(),ciks))\n",
    "    \n",
    "    tickers_ciks_df = pd.DataFrame({'ticker': tickers, 'cik': ciks})\n",
    "\n",
    "        \n",
    "    return tickers_ciks_df\n",
    "    "
   ]
  },
  {
   "cell_type": "markdown",
   "id": "1816fd08",
   "metadata": {},
   "source": [
    "### Prepping tickers list"
   ]
  },
  {
   "cell_type": "code",
   "execution_count": 5,
   "id": "8dc43b93",
   "metadata": {},
   "outputs": [],
   "source": [
    "tickers_ciks= save_SP500_tickers()"
   ]
  },
  {
   "cell_type": "code",
   "execution_count": 6,
   "id": "ca105244",
   "metadata": {},
   "outputs": [],
   "source": [
    "tickers = tickers_ciks['ticker'] \n",
    "tickers = [item.replace('-','.') for item in tickers]\n",
    "tickers = [item.replace('.B','-A') for item in tickers]\n",
    "ciks = tickers_ciks['cik']"
   ]
  },
  {
   "cell_type": "markdown",
   "id": "ecd1e4ce",
   "metadata": {},
   "source": [
    "## Remove tickers from list if change detected in change list"
   ]
  },
  {
   "cell_type": "code",
   "execution_count": 7,
   "id": "102ace7f",
   "metadata": {},
   "outputs": [],
   "source": [
    "changes = pd.read_excel('sp500change.xlsx')"
   ]
  },
  {
   "cell_type": "code",
   "execution_count": 8,
   "id": "2058cac0",
   "metadata": {},
   "outputs": [],
   "source": [
    "changes['Ticker'] = changes['Ticker'].astype(str)"
   ]
  },
  {
   "cell_type": "code",
   "execution_count": 9,
   "id": "03ceb4bd",
   "metadata": {},
   "outputs": [],
   "source": [
    "changes['Ticker'] = [item.replace('-','.') for item in changes['Ticker']]\n",
    "changes['Ticker'] = [item.replace('.B','-A') for item in changes['Ticker']]"
   ]
  },
  {
   "cell_type": "code",
   "execution_count": 10,
   "id": "69617837",
   "metadata": {},
   "outputs": [],
   "source": [
    "tickers = [x for x in tickers if x not in list(changes['Ticker'])]"
   ]
  },
  {
   "cell_type": "code",
   "execution_count": 11,
   "id": "324e60f5",
   "metadata": {},
   "outputs": [
    {
     "data": {
      "text/plain": [
       "232"
      ]
     },
     "execution_count": 11,
     "metadata": {},
     "output_type": "execute_result"
    }
   ],
   "source": [
    "len(tickers)"
   ]
  },
  {
   "cell_type": "markdown",
   "id": "e83225b5",
   "metadata": {},
   "source": [
    "## Returns"
   ]
  },
  {
   "cell_type": "markdown",
   "id": "9db6da11",
   "metadata": {},
   "source": [
    "> ### Download Returns Data from Yfinance"
   ]
  },
  {
   "cell_type": "code",
   "execution_count": 12,
   "id": "c337f326",
   "metadata": {},
   "outputs": [
    {
     "name": "stdout",
     "output_type": "stream",
     "text": [
      "[*********************100%***********************]  232 of 232 completed\n",
      "\n",
      "6 Failed downloads:\n",
      "- ETFC: No data found, symbol may be delisted\n",
      "- BLL: No data found, symbol may be delisted\n",
      "- TIF: No data found, symbol may be delisted\n",
      "- CTL: No data found, symbol may be delisted\n",
      "- MYL: No data found, symbol may be delisted\n",
      "- XLNX: No data found, symbol may be delisted\n"
     ]
    }
   ],
   "source": [
    "data_yf = yf.download(tickers, start=start_download, end=end_download)"
   ]
  },
  {
   "cell_type": "markdown",
   "id": "bb2c29a6",
   "metadata": {},
   "source": [
    "> ### Calculate Daily Returns: Training Period and Covid(testing) Period (PERCENT CHANGE)"
   ]
  },
  {
   "cell_type": "code",
   "execution_count": 13,
   "id": "0223742a",
   "metadata": {},
   "outputs": [],
   "source": [
    "#rets = (data_yf['Open'] - data_yf['Close'])/data_yf['Open']\n",
    "rets_PC = data_yf['Adj Close'].pct_change()  "
   ]
  },
  {
   "cell_type": "code",
   "execution_count": 14,
   "id": "fd6a1a83",
   "metadata": {},
   "outputs": [],
   "source": [
    "rets_PC = rets_PC.dropna(how='all',axis=0)"
   ]
  },
  {
   "cell_type": "code",
   "execution_count": 15,
   "id": "dca01850",
   "metadata": {},
   "outputs": [],
   "source": [
    "rets_PC = rets_PC.dropna(axis=1)"
   ]
  },
  {
   "cell_type": "code",
   "execution_count": 16,
   "id": "082c44b5",
   "metadata": {},
   "outputs": [],
   "source": [
    "returns_PC = rets_PC[pd.to_datetime('2009-06-30', format = '%Y-%m-%d'): pd.to_datetime('2020-02-03', format = '%Y-%m-%d')]"
   ]
  },
  {
   "cell_type": "code",
   "execution_count": 17,
   "id": "9be88563",
   "metadata": {},
   "outputs": [],
   "source": [
    "returns_covid_PC = rets_PC[pd.to_datetime('2020-02-03', format = '%Y-%m-%d'):pd.to_datetime('2020-04-14', format = '%Y-%m-%d')]"
   ]
  },
  {
   "cell_type": "markdown",
   "id": "af49f7c5",
   "metadata": {},
   "source": [
    "> ### Calculate Daily Returns: Training Period and Covid(testing) Period (OCO)"
   ]
  },
  {
   "cell_type": "code",
   "execution_count": 18,
   "id": "f09aceb2",
   "metadata": {},
   "outputs": [],
   "source": [
    "rets_OCO = (data_yf['Close']-data_yf['Open'])/(data_yf['Open'])"
   ]
  },
  {
   "cell_type": "code",
   "execution_count": 19,
   "id": "b3d8de90",
   "metadata": {},
   "outputs": [],
   "source": [
    "rets_OCO = rets_OCO.dropna(how='all',axis=0)"
   ]
  },
  {
   "cell_type": "code",
   "execution_count": 20,
   "id": "cd4eb9bc",
   "metadata": {},
   "outputs": [],
   "source": [
    "rets_OCO = rets_OCO.dropna(axis=1)"
   ]
  },
  {
   "cell_type": "code",
   "execution_count": 21,
   "id": "f2651f05",
   "metadata": {},
   "outputs": [],
   "source": [
    "returns_OCO = rets_OCO[pd.to_datetime('2009-06-30', format = '%Y-%m-%d'): pd.to_datetime('2020-02-03', format = '%Y-%m-%d')]"
   ]
  },
  {
   "cell_type": "code",
   "execution_count": 22,
   "id": "3165a6a7",
   "metadata": {},
   "outputs": [],
   "source": [
    "returns_covid_OCO = rets_OCO[pd.to_datetime('2020-02-03', format = '%Y-%m-%d'):pd.to_datetime('2020-04-14', format = '%Y-%m-%d')]"
   ]
  },
  {
   "cell_type": "markdown",
   "id": "f6c7e1b3",
   "metadata": {},
   "source": [
    "## Export Returns during Covid and Testing Periods"
   ]
  },
  {
   "cell_type": "code",
   "execution_count": 23,
   "id": "f29ec0bf",
   "metadata": {},
   "outputs": [],
   "source": [
    "#Percent Change Version\n",
    "returns_PC.T.to_csv('returns_PC.csv')\n",
    "returns_covid_PC.T.to_csv('returns_covid_PC.csv')"
   ]
  },
  {
   "cell_type": "code",
   "execution_count": 24,
   "id": "78eb184c",
   "metadata": {},
   "outputs": [],
   "source": [
    "#((Open - Close)/Open) Version\n",
    "returns_OCO.T.to_csv('returns_OCO.csv')\n",
    "returns_covid_OCO.T.to_csv('returns_covid_OCO.csv')"
   ]
  },
  {
   "cell_type": "markdown",
   "id": "067742c6",
   "metadata": {},
   "source": [
    "> ### Calculate Monthly Returns: Training Period and Testing Period"
   ]
  },
  {
   "cell_type": "code",
   "execution_count": 25,
   "id": "c2d00fef",
   "metadata": {},
   "outputs": [],
   "source": [
    "#monthly returns fr % change method\n",
    "monthly_returns_PC = (returns_PC+1).groupby(pd.Grouper(freq=\"M\")).prod() -1\n",
    "monthly_returns_covid_PC = (returns_covid_PC+1).groupby(pd.Grouper(freq=\"M\")).prod() -1"
   ]
  },
  {
   "cell_type": "code",
   "execution_count": 26,
   "id": "36615024",
   "metadata": {},
   "outputs": [],
   "source": [
    "#monthly returns for OCO method\n",
    "monthly_returns_OCO = (returns_OCO+1).groupby(pd.Grouper(freq=\"M\")).prod() -1\n",
    "monthly_returns_covid_OCO = (returns_covid_OCO+1).groupby(pd.Grouper(freq=\"M\")).prod() -1"
   ]
  },
  {
   "cell_type": "markdown",
   "id": "2ee5cfb1",
   "metadata": {
    "heading_collapsed": true
   },
   "source": [
    "## T-Bills"
   ]
  },
  {
   "cell_type": "code",
   "execution_count": 27,
   "id": "4a834920",
   "metadata": {
    "hidden": true
   },
   "outputs": [],
   "source": [
    "t_test = pd.read_csv(\"DTB3.csv\",\n",
    "                   header=0, index_col=0, parse_dates=True, na_values=-99.99)\n"
   ]
  },
  {
   "cell_type": "code",
   "execution_count": 28,
   "id": "7b1cdce9",
   "metadata": {
    "hidden": true
   },
   "outputs": [],
   "source": [
    "t_test = t_test.replace('.', np.nan).astype(float).ffill()/100"
   ]
  },
  {
   "cell_type": "code",
   "execution_count": 29,
   "id": "0c90c7cc",
   "metadata": {
    "hidden": true
   },
   "outputs": [
    {
     "data": {
      "text/html": [
       "<div>\n",
       "<style scoped>\n",
       "    .dataframe tbody tr th:only-of-type {\n",
       "        vertical-align: middle;\n",
       "    }\n",
       "\n",
       "    .dataframe tbody tr th {\n",
       "        vertical-align: top;\n",
       "    }\n",
       "\n",
       "    .dataframe thead th {\n",
       "        text-align: right;\n",
       "    }\n",
       "</style>\n",
       "<table border=\"1\" class=\"dataframe\">\n",
       "  <thead>\n",
       "    <tr style=\"text-align: right;\">\n",
       "      <th></th>\n",
       "      <th>3MO TBILL</th>\n",
       "    </tr>\n",
       "    <tr>\n",
       "      <th>DATE</th>\n",
       "      <th></th>\n",
       "    </tr>\n",
       "  </thead>\n",
       "  <tbody>\n",
       "    <tr>\n",
       "      <th>2009-06-30</th>\n",
       "      <td>0.0019</td>\n",
       "    </tr>\n",
       "    <tr>\n",
       "      <th>2009-07-01</th>\n",
       "      <td>0.0017</td>\n",
       "    </tr>\n",
       "    <tr>\n",
       "      <th>2009-07-02</th>\n",
       "      <td>0.0017</td>\n",
       "    </tr>\n",
       "    <tr>\n",
       "      <th>2009-07-03</th>\n",
       "      <td>0.0017</td>\n",
       "    </tr>\n",
       "    <tr>\n",
       "      <th>2009-07-06</th>\n",
       "      <td>0.0019</td>\n",
       "    </tr>\n",
       "    <tr>\n",
       "      <th>...</th>\n",
       "      <td>...</td>\n",
       "    </tr>\n",
       "    <tr>\n",
       "      <th>2020-01-28</th>\n",
       "      <td>0.0154</td>\n",
       "    </tr>\n",
       "    <tr>\n",
       "      <th>2020-01-29</th>\n",
       "      <td>0.0153</td>\n",
       "    </tr>\n",
       "    <tr>\n",
       "      <th>2020-01-30</th>\n",
       "      <td>0.0154</td>\n",
       "    </tr>\n",
       "    <tr>\n",
       "      <th>2020-01-31</th>\n",
       "      <td>0.0152</td>\n",
       "    </tr>\n",
       "    <tr>\n",
       "      <th>2020-02-03</th>\n",
       "      <td>0.0154</td>\n",
       "    </tr>\n",
       "  </tbody>\n",
       "</table>\n",
       "<p>2765 rows × 1 columns</p>\n",
       "</div>"
      ],
      "text/plain": [
       "            3MO TBILL\n",
       "DATE                 \n",
       "2009-06-30     0.0019\n",
       "2009-07-01     0.0017\n",
       "2009-07-02     0.0017\n",
       "2009-07-03     0.0017\n",
       "2009-07-06     0.0019\n",
       "...               ...\n",
       "2020-01-28     0.0154\n",
       "2020-01-29     0.0153\n",
       "2020-01-30     0.0154\n",
       "2020-01-31     0.0152\n",
       "2020-02-03     0.0154\n",
       "\n",
       "[2765 rows x 1 columns]"
      ]
     },
     "execution_count": 29,
     "metadata": {},
     "output_type": "execute_result"
    }
   ],
   "source": [
    "t_test['2009-06-30':'2020-02-03']"
   ]
  },
  {
   "cell_type": "code",
   "execution_count": 30,
   "id": "fbbd6937",
   "metadata": {
    "hidden": true
   },
   "outputs": [],
   "source": [
    "t_test = t_test/63"
   ]
  },
  {
   "cell_type": "code",
   "execution_count": 31,
   "id": "9a4787f9",
   "metadata": {
    "hidden": true
   },
   "outputs": [],
   "source": [
    "merged_test = returns_PC.merge(t_test, how = 'left', left_index=True, right_index=True)\n",
    "#merged_diff = returns.merge(tbills_diff, how = 'left', left_index=True, right_index=True)"
   ]
  },
  {
   "cell_type": "code",
   "execution_count": 32,
   "id": "d5b3c32d",
   "metadata": {
    "hidden": true
   },
   "outputs": [],
   "source": [
    "returns = merged_test.iloc[:,:-1].ffill().bfill()"
   ]
  },
  {
   "cell_type": "code",
   "execution_count": 33,
   "id": "e88aff60",
   "metadata": {
    "hidden": true
   },
   "outputs": [
    {
     "data": {
      "text/html": [
       "<div>\n",
       "<style scoped>\n",
       "    .dataframe tbody tr th:only-of-type {\n",
       "        vertical-align: middle;\n",
       "    }\n",
       "\n",
       "    .dataframe tbody tr th {\n",
       "        vertical-align: top;\n",
       "    }\n",
       "\n",
       "    .dataframe thead th {\n",
       "        text-align: right;\n",
       "    }\n",
       "</style>\n",
       "<table border=\"1\" class=\"dataframe\">\n",
       "  <thead>\n",
       "    <tr style=\"text-align: right;\">\n",
       "      <th></th>\n",
       "      <th>3MO TBILL</th>\n",
       "    </tr>\n",
       "    <tr>\n",
       "      <th>DATE</th>\n",
       "      <th></th>\n",
       "    </tr>\n",
       "  </thead>\n",
       "  <tbody>\n",
       "    <tr>\n",
       "      <th>2009-06-02</th>\n",
       "      <td>0.00002222</td>\n",
       "    </tr>\n",
       "    <tr>\n",
       "      <th>2009-06-03</th>\n",
       "      <td>0.00002222</td>\n",
       "    </tr>\n",
       "    <tr>\n",
       "      <th>2009-06-04</th>\n",
       "      <td>0.00002222</td>\n",
       "    </tr>\n",
       "    <tr>\n",
       "      <th>2009-06-05</th>\n",
       "      <td>0.00003016</td>\n",
       "    </tr>\n",
       "    <tr>\n",
       "      <th>2009-06-08</th>\n",
       "      <td>0.00003016</td>\n",
       "    </tr>\n",
       "    <tr>\n",
       "      <th>...</th>\n",
       "      <td>...</td>\n",
       "    </tr>\n",
       "    <tr>\n",
       "      <th>2020-10-12</th>\n",
       "      <td>0.00001587</td>\n",
       "    </tr>\n",
       "    <tr>\n",
       "      <th>2020-10-13</th>\n",
       "      <td>0.00001746</td>\n",
       "    </tr>\n",
       "    <tr>\n",
       "      <th>2020-10-14</th>\n",
       "      <td>0.00001905</td>\n",
       "    </tr>\n",
       "    <tr>\n",
       "      <th>2020-10-15</th>\n",
       "      <td>0.00001746</td>\n",
       "    </tr>\n",
       "    <tr>\n",
       "      <th>2020-10-16</th>\n",
       "      <td>0.00001746</td>\n",
       "    </tr>\n",
       "  </tbody>\n",
       "</table>\n",
       "<p>2969 rows × 1 columns</p>\n",
       "</div>"
      ],
      "text/plain": [
       "             3MO TBILL\n",
       "DATE                  \n",
       "2009-06-02  0.00002222\n",
       "2009-06-03  0.00002222\n",
       "2009-06-04  0.00002222\n",
       "2009-06-05  0.00003016\n",
       "2009-06-08  0.00003016\n",
       "...                ...\n",
       "2020-10-12  0.00001587\n",
       "2020-10-13  0.00001746\n",
       "2020-10-14  0.00001905\n",
       "2020-10-15  0.00001746\n",
       "2020-10-16  0.00001746\n",
       "\n",
       "[2969 rows x 1 columns]"
      ]
     },
     "execution_count": 33,
     "metadata": {},
     "output_type": "execute_result"
    }
   ],
   "source": [
    "t_test"
   ]
  },
  {
   "cell_type": "code",
   "execution_count": 34,
   "id": "bac43001",
   "metadata": {
    "hidden": true
   },
   "outputs": [],
   "source": [
    "t_test = pd.DataFrame(merged_test['3MO TBILL'])"
   ]
  },
  {
   "cell_type": "code",
   "execution_count": 35,
   "id": "6806fce5",
   "metadata": {
    "hidden": true
   },
   "outputs": [
    {
     "data": {
      "text/html": [
       "<div>\n",
       "<style scoped>\n",
       "    .dataframe tbody tr th:only-of-type {\n",
       "        vertical-align: middle;\n",
       "    }\n",
       "\n",
       "    .dataframe tbody tr th {\n",
       "        vertical-align: top;\n",
       "    }\n",
       "\n",
       "    .dataframe thead th {\n",
       "        text-align: right;\n",
       "    }\n",
       "</style>\n",
       "<table border=\"1\" class=\"dataframe\">\n",
       "  <thead>\n",
       "    <tr style=\"text-align: right;\">\n",
       "      <th></th>\n",
       "      <th>3MO TBILL</th>\n",
       "    </tr>\n",
       "    <tr>\n",
       "      <th>Date</th>\n",
       "      <th></th>\n",
       "    </tr>\n",
       "  </thead>\n",
       "  <tbody>\n",
       "    <tr>\n",
       "      <th>2009-06-30</th>\n",
       "      <td>0.00003016</td>\n",
       "    </tr>\n",
       "    <tr>\n",
       "      <th>2009-07-01</th>\n",
       "      <td>0.00002698</td>\n",
       "    </tr>\n",
       "    <tr>\n",
       "      <th>2009-07-02</th>\n",
       "      <td>0.00002698</td>\n",
       "    </tr>\n",
       "    <tr>\n",
       "      <th>2009-07-06</th>\n",
       "      <td>0.00003016</td>\n",
       "    </tr>\n",
       "    <tr>\n",
       "      <th>2009-07-07</th>\n",
       "      <td>0.00003016</td>\n",
       "    </tr>\n",
       "    <tr>\n",
       "      <th>...</th>\n",
       "      <td>...</td>\n",
       "    </tr>\n",
       "    <tr>\n",
       "      <th>2020-01-28</th>\n",
       "      <td>0.00024444</td>\n",
       "    </tr>\n",
       "    <tr>\n",
       "      <th>2020-01-29</th>\n",
       "      <td>0.00024286</td>\n",
       "    </tr>\n",
       "    <tr>\n",
       "      <th>2020-01-30</th>\n",
       "      <td>0.00024444</td>\n",
       "    </tr>\n",
       "    <tr>\n",
       "      <th>2020-01-31</th>\n",
       "      <td>0.00024127</td>\n",
       "    </tr>\n",
       "    <tr>\n",
       "      <th>2020-02-03</th>\n",
       "      <td>0.00024444</td>\n",
       "    </tr>\n",
       "  </tbody>\n",
       "</table>\n",
       "<p>2667 rows × 1 columns</p>\n",
       "</div>"
      ],
      "text/plain": [
       "             3MO TBILL\n",
       "Date                  \n",
       "2009-06-30  0.00003016\n",
       "2009-07-01  0.00002698\n",
       "2009-07-02  0.00002698\n",
       "2009-07-06  0.00003016\n",
       "2009-07-07  0.00003016\n",
       "...                ...\n",
       "2020-01-28  0.00024444\n",
       "2020-01-29  0.00024286\n",
       "2020-01-30  0.00024444\n",
       "2020-01-31  0.00024127\n",
       "2020-02-03  0.00024444\n",
       "\n",
       "[2667 rows x 1 columns]"
      ]
     },
     "execution_count": 35,
     "metadata": {},
     "output_type": "execute_result"
    }
   ],
   "source": [
    "t_test"
   ]
  },
  {
   "cell_type": "code",
   "execution_count": 36,
   "id": "b72c726e",
   "metadata": {
    "hidden": true
   },
   "outputs": [
    {
     "data": {
      "text/plain": [
       "0.01539972"
      ]
     },
     "execution_count": 36,
     "metadata": {},
     "output_type": "execute_result"
    }
   ],
   "source": [
    "0.00024444*63"
   ]
  },
  {
   "cell_type": "code",
   "execution_count": 37,
   "id": "12bfbeae",
   "metadata": {
    "hidden": true
   },
   "outputs": [],
   "source": [
    "t_test = t_test.replace('.', np.nan).astype(float).ffill()/100"
   ]
  },
  {
   "cell_type": "code",
   "execution_count": 38,
   "id": "cd2fbfb3",
   "metadata": {
    "hidden": true
   },
   "outputs": [
    {
     "data": {
      "text/html": [
       "<div>\n",
       "<style scoped>\n",
       "    .dataframe tbody tr th:only-of-type {\n",
       "        vertical-align: middle;\n",
       "    }\n",
       "\n",
       "    .dataframe tbody tr th {\n",
       "        vertical-align: top;\n",
       "    }\n",
       "\n",
       "    .dataframe thead th {\n",
       "        text-align: right;\n",
       "    }\n",
       "</style>\n",
       "<table border=\"1\" class=\"dataframe\">\n",
       "  <thead>\n",
       "    <tr style=\"text-align: right;\">\n",
       "      <th></th>\n",
       "      <th>3MO TBILL</th>\n",
       "    </tr>\n",
       "    <tr>\n",
       "      <th>Date</th>\n",
       "      <th></th>\n",
       "    </tr>\n",
       "  </thead>\n",
       "  <tbody>\n",
       "    <tr>\n",
       "      <th>2009-06-30</th>\n",
       "      <td>0.00000030</td>\n",
       "    </tr>\n",
       "    <tr>\n",
       "      <th>2009-07-01</th>\n",
       "      <td>0.00000027</td>\n",
       "    </tr>\n",
       "    <tr>\n",
       "      <th>2009-07-02</th>\n",
       "      <td>0.00000027</td>\n",
       "    </tr>\n",
       "    <tr>\n",
       "      <th>2009-07-06</th>\n",
       "      <td>0.00000030</td>\n",
       "    </tr>\n",
       "    <tr>\n",
       "      <th>2009-07-07</th>\n",
       "      <td>0.00000030</td>\n",
       "    </tr>\n",
       "    <tr>\n",
       "      <th>...</th>\n",
       "      <td>...</td>\n",
       "    </tr>\n",
       "    <tr>\n",
       "      <th>2020-01-28</th>\n",
       "      <td>0.00000244</td>\n",
       "    </tr>\n",
       "    <tr>\n",
       "      <th>2020-01-29</th>\n",
       "      <td>0.00000243</td>\n",
       "    </tr>\n",
       "    <tr>\n",
       "      <th>2020-01-30</th>\n",
       "      <td>0.00000244</td>\n",
       "    </tr>\n",
       "    <tr>\n",
       "      <th>2020-01-31</th>\n",
       "      <td>0.00000241</td>\n",
       "    </tr>\n",
       "    <tr>\n",
       "      <th>2020-02-03</th>\n",
       "      <td>0.00000244</td>\n",
       "    </tr>\n",
       "  </tbody>\n",
       "</table>\n",
       "<p>2667 rows × 1 columns</p>\n",
       "</div>"
      ],
      "text/plain": [
       "             3MO TBILL\n",
       "Date                  \n",
       "2009-06-30  0.00000030\n",
       "2009-07-01  0.00000027\n",
       "2009-07-02  0.00000027\n",
       "2009-07-06  0.00000030\n",
       "2009-07-07  0.00000030\n",
       "...                ...\n",
       "2020-01-28  0.00000244\n",
       "2020-01-29  0.00000243\n",
       "2020-01-30  0.00000244\n",
       "2020-01-31  0.00000241\n",
       "2020-02-03  0.00000244\n",
       "\n",
       "[2667 rows x 1 columns]"
      ]
     },
     "execution_count": 38,
     "metadata": {},
     "output_type": "execute_result"
    }
   ],
   "source": [
    "t_test['2009-06-30':'2020-02-03']"
   ]
  },
  {
   "cell_type": "markdown",
   "id": "e66402e3",
   "metadata": {
    "hidden": true
   },
   "source": [
    "> ### T-Bills Training"
   ]
  },
  {
   "cell_type": "code",
   "execution_count": 39,
   "id": "9df36afe",
   "metadata": {
    "hidden": true
   },
   "outputs": [],
   "source": [
    "# read csv from file and set column name\n",
    "t = pd.read_csv(\"DTB3.csv\",\n",
    "                   header=0, index_col=0, parse_dates=True, na_values=-99.99)\n",
    "t.columns = ['tbill']"
   ]
  },
  {
   "cell_type": "code",
   "execution_count": 40,
   "id": "e93bcaf0",
   "metadata": {
    "hidden": true
   },
   "outputs": [],
   "source": [
    "# convert from % return to decimal return\n",
    "tbills = t.replace('.', np.nan).astype(float).ffill()/100\n",
    "#sets date to training period\n",
    "tbills = tbills/63\n",
    "tbills = tbills['2009-06-30':'2020-02-03']\n"
   ]
  },
  {
   "cell_type": "code",
   "execution_count": 41,
   "id": "902b7d7a",
   "metadata": {
    "hidden": true
   },
   "outputs": [],
   "source": [
    "#convert from % return to decimal return\n",
    "tbills_diff =  t.replace('.', np.nan).astype(float).ffill()/100\n",
    "#sets date to training period, takes difference between each days rates and fills NaN values\n",
    "tbills_diff=tbills_diff/63\n",
    "tbills_diff = tbills_diff['2009-06-30':'2020-02-03'].diff().bfill()\n"
   ]
  },
  {
   "cell_type": "code",
   "execution_count": 42,
   "id": "d82a59c0",
   "metadata": {
    "hidden": true
   },
   "outputs": [
    {
     "data": {
      "text/html": [
       "<div>\n",
       "<style scoped>\n",
       "    .dataframe tbody tr th:only-of-type {\n",
       "        vertical-align: middle;\n",
       "    }\n",
       "\n",
       "    .dataframe tbody tr th {\n",
       "        vertical-align: top;\n",
       "    }\n",
       "\n",
       "    .dataframe thead th {\n",
       "        text-align: right;\n",
       "    }\n",
       "</style>\n",
       "<table border=\"1\" class=\"dataframe\">\n",
       "  <thead>\n",
       "    <tr style=\"text-align: right;\">\n",
       "      <th></th>\n",
       "      <th>tbill</th>\n",
       "    </tr>\n",
       "    <tr>\n",
       "      <th>DATE</th>\n",
       "      <th></th>\n",
       "    </tr>\n",
       "  </thead>\n",
       "  <tbody>\n",
       "    <tr>\n",
       "      <th>2009-06-30</th>\n",
       "      <td>0.00003016</td>\n",
       "    </tr>\n",
       "    <tr>\n",
       "      <th>2009-07-01</th>\n",
       "      <td>0.00002698</td>\n",
       "    </tr>\n",
       "    <tr>\n",
       "      <th>2009-07-02</th>\n",
       "      <td>0.00002698</td>\n",
       "    </tr>\n",
       "    <tr>\n",
       "      <th>2009-07-03</th>\n",
       "      <td>0.00002698</td>\n",
       "    </tr>\n",
       "    <tr>\n",
       "      <th>2009-07-06</th>\n",
       "      <td>0.00003016</td>\n",
       "    </tr>\n",
       "    <tr>\n",
       "      <th>...</th>\n",
       "      <td>...</td>\n",
       "    </tr>\n",
       "    <tr>\n",
       "      <th>2020-01-28</th>\n",
       "      <td>0.00024444</td>\n",
       "    </tr>\n",
       "    <tr>\n",
       "      <th>2020-01-29</th>\n",
       "      <td>0.00024286</td>\n",
       "    </tr>\n",
       "    <tr>\n",
       "      <th>2020-01-30</th>\n",
       "      <td>0.00024444</td>\n",
       "    </tr>\n",
       "    <tr>\n",
       "      <th>2020-01-31</th>\n",
       "      <td>0.00024127</td>\n",
       "    </tr>\n",
       "    <tr>\n",
       "      <th>2020-02-03</th>\n",
       "      <td>0.00024444</td>\n",
       "    </tr>\n",
       "  </tbody>\n",
       "</table>\n",
       "<p>2765 rows × 1 columns</p>\n",
       "</div>"
      ],
      "text/plain": [
       "                 tbill\n",
       "DATE                  \n",
       "2009-06-30  0.00003016\n",
       "2009-07-01  0.00002698\n",
       "2009-07-02  0.00002698\n",
       "2009-07-03  0.00002698\n",
       "2009-07-06  0.00003016\n",
       "...                ...\n",
       "2020-01-28  0.00024444\n",
       "2020-01-29  0.00024286\n",
       "2020-01-30  0.00024444\n",
       "2020-01-31  0.00024127\n",
       "2020-02-03  0.00024444\n",
       "\n",
       "[2765 rows x 1 columns]"
      ]
     },
     "execution_count": 42,
     "metadata": {},
     "output_type": "execute_result"
    }
   ],
   "source": [
    "tbills"
   ]
  },
  {
   "cell_type": "code",
   "execution_count": 43,
   "id": "b6ca5ad4",
   "metadata": {
    "hidden": true
   },
   "outputs": [
    {
     "data": {
      "text/html": [
       "<div>\n",
       "<style scoped>\n",
       "    .dataframe tbody tr th:only-of-type {\n",
       "        vertical-align: middle;\n",
       "    }\n",
       "\n",
       "    .dataframe tbody tr th {\n",
       "        vertical-align: top;\n",
       "    }\n",
       "\n",
       "    .dataframe thead th {\n",
       "        text-align: right;\n",
       "    }\n",
       "</style>\n",
       "<table border=\"1\" class=\"dataframe\">\n",
       "  <thead>\n",
       "    <tr style=\"text-align: right;\">\n",
       "      <th></th>\n",
       "      <th>tbill</th>\n",
       "    </tr>\n",
       "    <tr>\n",
       "      <th>DATE</th>\n",
       "      <th></th>\n",
       "    </tr>\n",
       "  </thead>\n",
       "  <tbody>\n",
       "    <tr>\n",
       "      <th>2009-06-30</th>\n",
       "      <td>-0.00000317</td>\n",
       "    </tr>\n",
       "    <tr>\n",
       "      <th>2009-07-01</th>\n",
       "      <td>-0.00000317</td>\n",
       "    </tr>\n",
       "    <tr>\n",
       "      <th>2009-07-02</th>\n",
       "      <td>0.00000000</td>\n",
       "    </tr>\n",
       "    <tr>\n",
       "      <th>2009-07-03</th>\n",
       "      <td>0.00000000</td>\n",
       "    </tr>\n",
       "    <tr>\n",
       "      <th>2009-07-06</th>\n",
       "      <td>0.00000317</td>\n",
       "    </tr>\n",
       "    <tr>\n",
       "      <th>...</th>\n",
       "      <td>...</td>\n",
       "    </tr>\n",
       "    <tr>\n",
       "      <th>2020-01-28</th>\n",
       "      <td>0.00000317</td>\n",
       "    </tr>\n",
       "    <tr>\n",
       "      <th>2020-01-29</th>\n",
       "      <td>-0.00000159</td>\n",
       "    </tr>\n",
       "    <tr>\n",
       "      <th>2020-01-30</th>\n",
       "      <td>0.00000159</td>\n",
       "    </tr>\n",
       "    <tr>\n",
       "      <th>2020-01-31</th>\n",
       "      <td>-0.00000317</td>\n",
       "    </tr>\n",
       "    <tr>\n",
       "      <th>2020-02-03</th>\n",
       "      <td>0.00000317</td>\n",
       "    </tr>\n",
       "  </tbody>\n",
       "</table>\n",
       "<p>2765 rows × 1 columns</p>\n",
       "</div>"
      ],
      "text/plain": [
       "                 tbill\n",
       "DATE                  \n",
       "2009-06-30 -0.00000317\n",
       "2009-07-01 -0.00000317\n",
       "2009-07-02  0.00000000\n",
       "2009-07-03  0.00000000\n",
       "2009-07-06  0.00000317\n",
       "...                ...\n",
       "2020-01-28  0.00000317\n",
       "2020-01-29 -0.00000159\n",
       "2020-01-30  0.00000159\n",
       "2020-01-31 -0.00000317\n",
       "2020-02-03  0.00000317\n",
       "\n",
       "[2765 rows x 1 columns]"
      ]
     },
     "execution_count": 43,
     "metadata": {},
     "output_type": "execute_result"
    }
   ],
   "source": [
    "tbills_diff"
   ]
  },
  {
   "cell_type": "markdown",
   "id": "64aa18a6",
   "metadata": {
    "hidden": true
   },
   "source": [
    "> ### T-Bills Covid"
   ]
  },
  {
   "cell_type": "code",
   "execution_count": 44,
   "id": "61a96c3a",
   "metadata": {
    "hidden": true
   },
   "outputs": [],
   "source": [
    "# read csv from file and set column name\n",
    "t = pd.read_csv(\"DTB3.csv\",\n",
    "                   header=0, index_col=0, parse_dates=True, na_values=-99.99)\n",
    "t.columns = ['tbill']"
   ]
  },
  {
   "cell_type": "code",
   "execution_count": 45,
   "id": "f476b1b4",
   "metadata": {
    "hidden": true
   },
   "outputs": [],
   "source": [
    "# convert from % return to decimal return\n",
    "tbills_covid = t.replace('.', np.nan).astype(float).ffill()/100\n",
    "#sets date to training period\n",
    "tbills_covid = tbills_covid/63\n",
    "tbills_covid = tbills_covid['2020-02-03':'2020-04-14']"
   ]
  },
  {
   "cell_type": "code",
   "execution_count": 46,
   "id": "4fa5957c",
   "metadata": {
    "hidden": true
   },
   "outputs": [],
   "source": [
    "#convert from % return to decimal return\n",
    "tbills_covid_diff = t.replace('.', np.nan).astype(float).ffill()/100\n",
    "tbills_covid_diff = tbills_covid_diff/63\n",
    "#sets date to training period, takes difference between each days rates and fills NaN values\n",
    "tbills_covid_diff = tbills_covid_diff['2020-02-03':'2020-04-14'].diff().bfill()"
   ]
  },
  {
   "cell_type": "code",
   "execution_count": 47,
   "id": "77931863",
   "metadata": {
    "hidden": true,
    "scrolled": true
   },
   "outputs": [
    {
     "data": {
      "text/html": [
       "<div>\n",
       "<style scoped>\n",
       "    .dataframe tbody tr th:only-of-type {\n",
       "        vertical-align: middle;\n",
       "    }\n",
       "\n",
       "    .dataframe tbody tr th {\n",
       "        vertical-align: top;\n",
       "    }\n",
       "\n",
       "    .dataframe thead th {\n",
       "        text-align: right;\n",
       "    }\n",
       "</style>\n",
       "<table border=\"1\" class=\"dataframe\">\n",
       "  <thead>\n",
       "    <tr style=\"text-align: right;\">\n",
       "      <th></th>\n",
       "      <th>tbill</th>\n",
       "    </tr>\n",
       "    <tr>\n",
       "      <th>DATE</th>\n",
       "      <th></th>\n",
       "    </tr>\n",
       "  </thead>\n",
       "  <tbody>\n",
       "    <tr>\n",
       "      <th>2020-02-03</th>\n",
       "      <td>0.00024444</td>\n",
       "    </tr>\n",
       "    <tr>\n",
       "      <th>2020-02-04</th>\n",
       "      <td>0.00024444</td>\n",
       "    </tr>\n",
       "    <tr>\n",
       "      <th>2020-02-05</th>\n",
       "      <td>0.00024444</td>\n",
       "    </tr>\n",
       "    <tr>\n",
       "      <th>2020-02-06</th>\n",
       "      <td>0.00024444</td>\n",
       "    </tr>\n",
       "    <tr>\n",
       "      <th>2020-02-07</th>\n",
       "      <td>0.00024286</td>\n",
       "    </tr>\n",
       "    <tr>\n",
       "      <th>2020-02-10</th>\n",
       "      <td>0.00024603</td>\n",
       "    </tr>\n",
       "    <tr>\n",
       "      <th>2020-02-11</th>\n",
       "      <td>0.00024444</td>\n",
       "    </tr>\n",
       "    <tr>\n",
       "      <th>2020-02-12</th>\n",
       "      <td>0.00024603</td>\n",
       "    </tr>\n",
       "    <tr>\n",
       "      <th>2020-02-13</th>\n",
       "      <td>0.00024762</td>\n",
       "    </tr>\n",
       "    <tr>\n",
       "      <th>2020-02-14</th>\n",
       "      <td>0.00024603</td>\n",
       "    </tr>\n",
       "    <tr>\n",
       "      <th>2020-02-17</th>\n",
       "      <td>0.00024603</td>\n",
       "    </tr>\n",
       "    <tr>\n",
       "      <th>2020-02-18</th>\n",
       "      <td>0.00024603</td>\n",
       "    </tr>\n",
       "    <tr>\n",
       "      <th>2020-02-19</th>\n",
       "      <td>0.00024603</td>\n",
       "    </tr>\n",
       "    <tr>\n",
       "      <th>2020-02-20</th>\n",
       "      <td>0.00024603</td>\n",
       "    </tr>\n",
       "    <tr>\n",
       "      <th>2020-02-21</th>\n",
       "      <td>0.00024286</td>\n",
       "    </tr>\n",
       "    <tr>\n",
       "      <th>2020-02-24</th>\n",
       "      <td>0.00023810</td>\n",
       "    </tr>\n",
       "    <tr>\n",
       "      <th>2020-02-25</th>\n",
       "      <td>0.00023810</td>\n",
       "    </tr>\n",
       "    <tr>\n",
       "      <th>2020-02-26</th>\n",
       "      <td>0.00023810</td>\n",
       "    </tr>\n",
       "    <tr>\n",
       "      <th>2020-02-27</th>\n",
       "      <td>0.00022540</td>\n",
       "    </tr>\n",
       "    <tr>\n",
       "      <th>2020-02-28</th>\n",
       "      <td>0.00019841</td>\n",
       "    </tr>\n",
       "    <tr>\n",
       "      <th>2020-03-02</th>\n",
       "      <td>0.00017460</td>\n",
       "    </tr>\n",
       "    <tr>\n",
       "      <th>2020-03-03</th>\n",
       "      <td>0.00014762</td>\n",
       "    </tr>\n",
       "    <tr>\n",
       "      <th>2020-03-04</th>\n",
       "      <td>0.00011270</td>\n",
       "    </tr>\n",
       "    <tr>\n",
       "      <th>2020-03-05</th>\n",
       "      <td>0.00009683</td>\n",
       "    </tr>\n",
       "    <tr>\n",
       "      <th>2020-03-06</th>\n",
       "      <td>0.00007143</td>\n",
       "    </tr>\n",
       "    <tr>\n",
       "      <th>2020-03-09</th>\n",
       "      <td>0.00005079</td>\n",
       "    </tr>\n",
       "    <tr>\n",
       "      <th>2020-03-10</th>\n",
       "      <td>0.00006825</td>\n",
       "    </tr>\n",
       "    <tr>\n",
       "      <th>2020-03-11</th>\n",
       "      <td>0.00006508</td>\n",
       "    </tr>\n",
       "    <tr>\n",
       "      <th>2020-03-12</th>\n",
       "      <td>0.00005238</td>\n",
       "    </tr>\n",
       "    <tr>\n",
       "      <th>2020-03-13</th>\n",
       "      <td>0.00004286</td>\n",
       "    </tr>\n",
       "    <tr>\n",
       "      <th>2020-03-16</th>\n",
       "      <td>0.00003810</td>\n",
       "    </tr>\n",
       "    <tr>\n",
       "      <th>2020-03-17</th>\n",
       "      <td>0.00003016</td>\n",
       "    </tr>\n",
       "    <tr>\n",
       "      <th>2020-03-18</th>\n",
       "      <td>0.00000317</td>\n",
       "    </tr>\n",
       "    <tr>\n",
       "      <th>2020-03-19</th>\n",
       "      <td>0.00000635</td>\n",
       "    </tr>\n",
       "    <tr>\n",
       "      <th>2020-03-20</th>\n",
       "      <td>0.00000794</td>\n",
       "    </tr>\n",
       "    <tr>\n",
       "      <th>2020-03-23</th>\n",
       "      <td>0.00000317</td>\n",
       "    </tr>\n",
       "    <tr>\n",
       "      <th>2020-03-24</th>\n",
       "      <td>0.00000159</td>\n",
       "    </tr>\n",
       "    <tr>\n",
       "      <th>2020-03-25</th>\n",
       "      <td>-0.00000635</td>\n",
       "    </tr>\n",
       "    <tr>\n",
       "      <th>2020-03-26</th>\n",
       "      <td>-0.00000794</td>\n",
       "    </tr>\n",
       "    <tr>\n",
       "      <th>2020-03-27</th>\n",
       "      <td>0.00000476</td>\n",
       "    </tr>\n",
       "    <tr>\n",
       "      <th>2020-03-30</th>\n",
       "      <td>0.00001905</td>\n",
       "    </tr>\n",
       "    <tr>\n",
       "      <th>2020-03-31</th>\n",
       "      <td>0.00001746</td>\n",
       "    </tr>\n",
       "    <tr>\n",
       "      <th>2020-04-01</th>\n",
       "      <td>0.00001429</td>\n",
       "    </tr>\n",
       "    <tr>\n",
       "      <th>2020-04-02</th>\n",
       "      <td>0.00001429</td>\n",
       "    </tr>\n",
       "    <tr>\n",
       "      <th>2020-04-03</th>\n",
       "      <td>0.00001587</td>\n",
       "    </tr>\n",
       "    <tr>\n",
       "      <th>2020-04-06</th>\n",
       "      <td>0.00002381</td>\n",
       "    </tr>\n",
       "    <tr>\n",
       "      <th>2020-04-07</th>\n",
       "      <td>0.00002222</td>\n",
       "    </tr>\n",
       "    <tr>\n",
       "      <th>2020-04-08</th>\n",
       "      <td>0.00003492</td>\n",
       "    </tr>\n",
       "    <tr>\n",
       "      <th>2020-04-09</th>\n",
       "      <td>0.00003968</td>\n",
       "    </tr>\n",
       "    <tr>\n",
       "      <th>2020-04-10</th>\n",
       "      <td>0.00003968</td>\n",
       "    </tr>\n",
       "    <tr>\n",
       "      <th>2020-04-13</th>\n",
       "      <td>0.00004127</td>\n",
       "    </tr>\n",
       "    <tr>\n",
       "      <th>2020-04-14</th>\n",
       "      <td>0.00003175</td>\n",
       "    </tr>\n",
       "  </tbody>\n",
       "</table>\n",
       "</div>"
      ],
      "text/plain": [
       "                 tbill\n",
       "DATE                  \n",
       "2020-02-03  0.00024444\n",
       "2020-02-04  0.00024444\n",
       "2020-02-05  0.00024444\n",
       "2020-02-06  0.00024444\n",
       "2020-02-07  0.00024286\n",
       "2020-02-10  0.00024603\n",
       "2020-02-11  0.00024444\n",
       "2020-02-12  0.00024603\n",
       "2020-02-13  0.00024762\n",
       "2020-02-14  0.00024603\n",
       "2020-02-17  0.00024603\n",
       "2020-02-18  0.00024603\n",
       "2020-02-19  0.00024603\n",
       "2020-02-20  0.00024603\n",
       "2020-02-21  0.00024286\n",
       "2020-02-24  0.00023810\n",
       "2020-02-25  0.00023810\n",
       "2020-02-26  0.00023810\n",
       "2020-02-27  0.00022540\n",
       "2020-02-28  0.00019841\n",
       "2020-03-02  0.00017460\n",
       "2020-03-03  0.00014762\n",
       "2020-03-04  0.00011270\n",
       "2020-03-05  0.00009683\n",
       "2020-03-06  0.00007143\n",
       "2020-03-09  0.00005079\n",
       "2020-03-10  0.00006825\n",
       "2020-03-11  0.00006508\n",
       "2020-03-12  0.00005238\n",
       "2020-03-13  0.00004286\n",
       "2020-03-16  0.00003810\n",
       "2020-03-17  0.00003016\n",
       "2020-03-18  0.00000317\n",
       "2020-03-19  0.00000635\n",
       "2020-03-20  0.00000794\n",
       "2020-03-23  0.00000317\n",
       "2020-03-24  0.00000159\n",
       "2020-03-25 -0.00000635\n",
       "2020-03-26 -0.00000794\n",
       "2020-03-27  0.00000476\n",
       "2020-03-30  0.00001905\n",
       "2020-03-31  0.00001746\n",
       "2020-04-01  0.00001429\n",
       "2020-04-02  0.00001429\n",
       "2020-04-03  0.00001587\n",
       "2020-04-06  0.00002381\n",
       "2020-04-07  0.00002222\n",
       "2020-04-08  0.00003492\n",
       "2020-04-09  0.00003968\n",
       "2020-04-10  0.00003968\n",
       "2020-04-13  0.00004127\n",
       "2020-04-14  0.00003175"
      ]
     },
     "execution_count": 47,
     "metadata": {},
     "output_type": "execute_result"
    }
   ],
   "source": [
    "tbills_covid"
   ]
  },
  {
   "cell_type": "code",
   "execution_count": 48,
   "id": "647b4f71",
   "metadata": {
    "hidden": true,
    "scrolled": true
   },
   "outputs": [
    {
     "data": {
      "text/html": [
       "<div>\n",
       "<style scoped>\n",
       "    .dataframe tbody tr th:only-of-type {\n",
       "        vertical-align: middle;\n",
       "    }\n",
       "\n",
       "    .dataframe tbody tr th {\n",
       "        vertical-align: top;\n",
       "    }\n",
       "\n",
       "    .dataframe thead th {\n",
       "        text-align: right;\n",
       "    }\n",
       "</style>\n",
       "<table border=\"1\" class=\"dataframe\">\n",
       "  <thead>\n",
       "    <tr style=\"text-align: right;\">\n",
       "      <th></th>\n",
       "      <th>tbill</th>\n",
       "    </tr>\n",
       "    <tr>\n",
       "      <th>DATE</th>\n",
       "      <th></th>\n",
       "    </tr>\n",
       "  </thead>\n",
       "  <tbody>\n",
       "    <tr>\n",
       "      <th>2020-02-03</th>\n",
       "      <td>0.00000000</td>\n",
       "    </tr>\n",
       "    <tr>\n",
       "      <th>2020-02-04</th>\n",
       "      <td>0.00000000</td>\n",
       "    </tr>\n",
       "    <tr>\n",
       "      <th>2020-02-05</th>\n",
       "      <td>0.00000000</td>\n",
       "    </tr>\n",
       "    <tr>\n",
       "      <th>2020-02-06</th>\n",
       "      <td>0.00000000</td>\n",
       "    </tr>\n",
       "    <tr>\n",
       "      <th>2020-02-07</th>\n",
       "      <td>-0.00000159</td>\n",
       "    </tr>\n",
       "    <tr>\n",
       "      <th>2020-02-10</th>\n",
       "      <td>0.00000317</td>\n",
       "    </tr>\n",
       "    <tr>\n",
       "      <th>2020-02-11</th>\n",
       "      <td>-0.00000159</td>\n",
       "    </tr>\n",
       "    <tr>\n",
       "      <th>2020-02-12</th>\n",
       "      <td>0.00000159</td>\n",
       "    </tr>\n",
       "    <tr>\n",
       "      <th>2020-02-13</th>\n",
       "      <td>0.00000159</td>\n",
       "    </tr>\n",
       "    <tr>\n",
       "      <th>2020-02-14</th>\n",
       "      <td>-0.00000159</td>\n",
       "    </tr>\n",
       "    <tr>\n",
       "      <th>2020-02-17</th>\n",
       "      <td>0.00000000</td>\n",
       "    </tr>\n",
       "    <tr>\n",
       "      <th>2020-02-18</th>\n",
       "      <td>0.00000000</td>\n",
       "    </tr>\n",
       "    <tr>\n",
       "      <th>2020-02-19</th>\n",
       "      <td>0.00000000</td>\n",
       "    </tr>\n",
       "    <tr>\n",
       "      <th>2020-02-20</th>\n",
       "      <td>0.00000000</td>\n",
       "    </tr>\n",
       "    <tr>\n",
       "      <th>2020-02-21</th>\n",
       "      <td>-0.00000317</td>\n",
       "    </tr>\n",
       "    <tr>\n",
       "      <th>2020-02-24</th>\n",
       "      <td>-0.00000476</td>\n",
       "    </tr>\n",
       "    <tr>\n",
       "      <th>2020-02-25</th>\n",
       "      <td>0.00000000</td>\n",
       "    </tr>\n",
       "    <tr>\n",
       "      <th>2020-02-26</th>\n",
       "      <td>0.00000000</td>\n",
       "    </tr>\n",
       "    <tr>\n",
       "      <th>2020-02-27</th>\n",
       "      <td>-0.00001270</td>\n",
       "    </tr>\n",
       "    <tr>\n",
       "      <th>2020-02-28</th>\n",
       "      <td>-0.00002698</td>\n",
       "    </tr>\n",
       "    <tr>\n",
       "      <th>2020-03-02</th>\n",
       "      <td>-0.00002381</td>\n",
       "    </tr>\n",
       "    <tr>\n",
       "      <th>2020-03-03</th>\n",
       "      <td>-0.00002698</td>\n",
       "    </tr>\n",
       "    <tr>\n",
       "      <th>2020-03-04</th>\n",
       "      <td>-0.00003492</td>\n",
       "    </tr>\n",
       "    <tr>\n",
       "      <th>2020-03-05</th>\n",
       "      <td>-0.00001587</td>\n",
       "    </tr>\n",
       "    <tr>\n",
       "      <th>2020-03-06</th>\n",
       "      <td>-0.00002540</td>\n",
       "    </tr>\n",
       "    <tr>\n",
       "      <th>2020-03-09</th>\n",
       "      <td>-0.00002063</td>\n",
       "    </tr>\n",
       "    <tr>\n",
       "      <th>2020-03-10</th>\n",
       "      <td>0.00001746</td>\n",
       "    </tr>\n",
       "    <tr>\n",
       "      <th>2020-03-11</th>\n",
       "      <td>-0.00000317</td>\n",
       "    </tr>\n",
       "    <tr>\n",
       "      <th>2020-03-12</th>\n",
       "      <td>-0.00001270</td>\n",
       "    </tr>\n",
       "    <tr>\n",
       "      <th>2020-03-13</th>\n",
       "      <td>-0.00000952</td>\n",
       "    </tr>\n",
       "    <tr>\n",
       "      <th>2020-03-16</th>\n",
       "      <td>-0.00000476</td>\n",
       "    </tr>\n",
       "    <tr>\n",
       "      <th>2020-03-17</th>\n",
       "      <td>-0.00000794</td>\n",
       "    </tr>\n",
       "    <tr>\n",
       "      <th>2020-03-18</th>\n",
       "      <td>-0.00002698</td>\n",
       "    </tr>\n",
       "    <tr>\n",
       "      <th>2020-03-19</th>\n",
       "      <td>0.00000317</td>\n",
       "    </tr>\n",
       "    <tr>\n",
       "      <th>2020-03-20</th>\n",
       "      <td>0.00000159</td>\n",
       "    </tr>\n",
       "    <tr>\n",
       "      <th>2020-03-23</th>\n",
       "      <td>-0.00000476</td>\n",
       "    </tr>\n",
       "    <tr>\n",
       "      <th>2020-03-24</th>\n",
       "      <td>-0.00000159</td>\n",
       "    </tr>\n",
       "    <tr>\n",
       "      <th>2020-03-25</th>\n",
       "      <td>-0.00000794</td>\n",
       "    </tr>\n",
       "    <tr>\n",
       "      <th>2020-03-26</th>\n",
       "      <td>-0.00000159</td>\n",
       "    </tr>\n",
       "    <tr>\n",
       "      <th>2020-03-27</th>\n",
       "      <td>0.00001270</td>\n",
       "    </tr>\n",
       "    <tr>\n",
       "      <th>2020-03-30</th>\n",
       "      <td>0.00001429</td>\n",
       "    </tr>\n",
       "    <tr>\n",
       "      <th>2020-03-31</th>\n",
       "      <td>-0.00000159</td>\n",
       "    </tr>\n",
       "    <tr>\n",
       "      <th>2020-04-01</th>\n",
       "      <td>-0.00000317</td>\n",
       "    </tr>\n",
       "    <tr>\n",
       "      <th>2020-04-02</th>\n",
       "      <td>0.00000000</td>\n",
       "    </tr>\n",
       "    <tr>\n",
       "      <th>2020-04-03</th>\n",
       "      <td>0.00000159</td>\n",
       "    </tr>\n",
       "    <tr>\n",
       "      <th>2020-04-06</th>\n",
       "      <td>0.00000794</td>\n",
       "    </tr>\n",
       "    <tr>\n",
       "      <th>2020-04-07</th>\n",
       "      <td>-0.00000159</td>\n",
       "    </tr>\n",
       "    <tr>\n",
       "      <th>2020-04-08</th>\n",
       "      <td>0.00001270</td>\n",
       "    </tr>\n",
       "    <tr>\n",
       "      <th>2020-04-09</th>\n",
       "      <td>0.00000476</td>\n",
       "    </tr>\n",
       "    <tr>\n",
       "      <th>2020-04-10</th>\n",
       "      <td>0.00000000</td>\n",
       "    </tr>\n",
       "    <tr>\n",
       "      <th>2020-04-13</th>\n",
       "      <td>0.00000159</td>\n",
       "    </tr>\n",
       "    <tr>\n",
       "      <th>2020-04-14</th>\n",
       "      <td>-0.00000952</td>\n",
       "    </tr>\n",
       "  </tbody>\n",
       "</table>\n",
       "</div>"
      ],
      "text/plain": [
       "                 tbill\n",
       "DATE                  \n",
       "2020-02-03  0.00000000\n",
       "2020-02-04  0.00000000\n",
       "2020-02-05  0.00000000\n",
       "2020-02-06  0.00000000\n",
       "2020-02-07 -0.00000159\n",
       "2020-02-10  0.00000317\n",
       "2020-02-11 -0.00000159\n",
       "2020-02-12  0.00000159\n",
       "2020-02-13  0.00000159\n",
       "2020-02-14 -0.00000159\n",
       "2020-02-17  0.00000000\n",
       "2020-02-18  0.00000000\n",
       "2020-02-19  0.00000000\n",
       "2020-02-20  0.00000000\n",
       "2020-02-21 -0.00000317\n",
       "2020-02-24 -0.00000476\n",
       "2020-02-25  0.00000000\n",
       "2020-02-26  0.00000000\n",
       "2020-02-27 -0.00001270\n",
       "2020-02-28 -0.00002698\n",
       "2020-03-02 -0.00002381\n",
       "2020-03-03 -0.00002698\n",
       "2020-03-04 -0.00003492\n",
       "2020-03-05 -0.00001587\n",
       "2020-03-06 -0.00002540\n",
       "2020-03-09 -0.00002063\n",
       "2020-03-10  0.00001746\n",
       "2020-03-11 -0.00000317\n",
       "2020-03-12 -0.00001270\n",
       "2020-03-13 -0.00000952\n",
       "2020-03-16 -0.00000476\n",
       "2020-03-17 -0.00000794\n",
       "2020-03-18 -0.00002698\n",
       "2020-03-19  0.00000317\n",
       "2020-03-20  0.00000159\n",
       "2020-03-23 -0.00000476\n",
       "2020-03-24 -0.00000159\n",
       "2020-03-25 -0.00000794\n",
       "2020-03-26 -0.00000159\n",
       "2020-03-27  0.00001270\n",
       "2020-03-30  0.00001429\n",
       "2020-03-31 -0.00000159\n",
       "2020-04-01 -0.00000317\n",
       "2020-04-02  0.00000000\n",
       "2020-04-03  0.00000159\n",
       "2020-04-06  0.00000794\n",
       "2020-04-07 -0.00000159\n",
       "2020-04-08  0.00001270\n",
       "2020-04-09  0.00000476\n",
       "2020-04-10  0.00000000\n",
       "2020-04-13  0.00000159\n",
       "2020-04-14 -0.00000952"
      ]
     },
     "execution_count": 48,
     "metadata": {},
     "output_type": "execute_result"
    }
   ],
   "source": [
    "tbills_covid_diff"
   ]
  },
  {
   "cell_type": "code",
   "execution_count": 49,
   "id": "3a0a4141",
   "metadata": {
    "hidden": true
   },
   "outputs": [
    {
     "data": {
      "text/plain": [
       "(52, 1)"
      ]
     },
     "execution_count": 49,
     "metadata": {},
     "output_type": "execute_result"
    }
   ],
   "source": [
    "tbills_covid.shape"
   ]
  },
  {
   "cell_type": "markdown",
   "id": "80141443",
   "metadata": {
    "hidden": true
   },
   "source": [
    "> ### Training Period: Match Returns and T-Bills Index"
   ]
  },
  {
   "cell_type": "code",
   "execution_count": 50,
   "id": "73749ebf",
   "metadata": {
    "hidden": true
   },
   "outputs": [],
   "source": [
    "merged = returns.merge(tbills, how = 'left', left_index=True, right_index=True)\n",
    "merged_diff = returns.merge(tbills_diff, how = 'left', left_index=True, right_index=True)"
   ]
  },
  {
   "cell_type": "code",
   "execution_count": 51,
   "id": "31dff7ac",
   "metadata": {
    "hidden": true
   },
   "outputs": [
    {
     "data": {
      "text/html": [
       "<div>\n",
       "<style scoped>\n",
       "    .dataframe tbody tr th:only-of-type {\n",
       "        vertical-align: middle;\n",
       "    }\n",
       "\n",
       "    .dataframe tbody tr th {\n",
       "        vertical-align: top;\n",
       "    }\n",
       "\n",
       "    .dataframe thead th {\n",
       "        text-align: right;\n",
       "    }\n",
       "</style>\n",
       "<table border=\"1\" class=\"dataframe\">\n",
       "  <thead>\n",
       "    <tr style=\"text-align: right;\">\n",
       "      <th></th>\n",
       "      <th>A</th>\n",
       "      <th>AAPL</th>\n",
       "      <th>ABC</th>\n",
       "      <th>ABT</th>\n",
       "      <th>ADBE</th>\n",
       "      <th>ADI</th>\n",
       "      <th>ADM</th>\n",
       "      <th>ADP</th>\n",
       "      <th>ADSK</th>\n",
       "      <th>AEE</th>\n",
       "      <th>...</th>\n",
       "      <th>WM</th>\n",
       "      <th>WMB</th>\n",
       "      <th>WMT</th>\n",
       "      <th>WY</th>\n",
       "      <th>XEL</th>\n",
       "      <th>XOM</th>\n",
       "      <th>XRX</th>\n",
       "      <th>YUM</th>\n",
       "      <th>ZION</th>\n",
       "      <th>tbill</th>\n",
       "    </tr>\n",
       "    <tr>\n",
       "      <th>Date</th>\n",
       "      <th></th>\n",
       "      <th></th>\n",
       "      <th></th>\n",
       "      <th></th>\n",
       "      <th></th>\n",
       "      <th></th>\n",
       "      <th></th>\n",
       "      <th></th>\n",
       "      <th></th>\n",
       "      <th></th>\n",
       "      <th></th>\n",
       "      <th></th>\n",
       "      <th></th>\n",
       "      <th></th>\n",
       "      <th></th>\n",
       "      <th></th>\n",
       "      <th></th>\n",
       "      <th></th>\n",
       "      <th></th>\n",
       "      <th></th>\n",
       "      <th></th>\n",
       "    </tr>\n",
       "  </thead>\n",
       "  <tbody>\n",
       "    <tr>\n",
       "      <th>2009-06-30</th>\n",
       "      <td>-0.00587384</td>\n",
       "      <td>0.00323987</td>\n",
       "      <td>-0.01826180</td>\n",
       "      <td>-0.01631123</td>\n",
       "      <td>-0.01118105</td>\n",
       "      <td>0.00405215</td>\n",
       "      <td>-0.01761471</td>\n",
       "      <td>0.00425035</td>\n",
       "      <td>-0.02865923</td>\n",
       "      <td>-0.00200519</td>\n",
       "      <td>...</td>\n",
       "      <td>-0.01262238</td>\n",
       "      <td>-0.00191773</td>\n",
       "      <td>-0.00656283</td>\n",
       "      <td>-0.00555572</td>\n",
       "      <td>-0.00162680</td>\n",
       "      <td>-0.00949256</td>\n",
       "      <td>-0.02114764</td>\n",
       "      <td>0.00060028</td>\n",
       "      <td>-0.05555583</td>\n",
       "      <td>0.00003016</td>\n",
       "    </tr>\n",
       "    <tr>\n",
       "      <th>2009-07-01</th>\n",
       "      <td>0.01526340</td>\n",
       "      <td>0.00280837</td>\n",
       "      <td>0.02818520</td>\n",
       "      <td>-0.00850391</td>\n",
       "      <td>0.01272087</td>\n",
       "      <td>0.00322817</td>\n",
       "      <td>0.02913745</td>\n",
       "      <td>-0.00253957</td>\n",
       "      <td>-0.01685984</td>\n",
       "      <td>0.02008848</td>\n",
       "      <td>...</td>\n",
       "      <td>-0.00461646</td>\n",
       "      <td>-0.01473449</td>\n",
       "      <td>-0.00144542</td>\n",
       "      <td>0.01117359</td>\n",
       "      <td>0.02009766</td>\n",
       "      <td>0.00929745</td>\n",
       "      <td>0.02006171</td>\n",
       "      <td>0.05038967</td>\n",
       "      <td>-0.01816585</td>\n",
       "      <td>0.00002698</td>\n",
       "    </tr>\n",
       "    <tr>\n",
       "      <th>2009-07-02</th>\n",
       "      <td>-0.04364688</td>\n",
       "      <td>-0.01967384</td>\n",
       "      <td>-0.02302683</td>\n",
       "      <td>-0.00771868</td>\n",
       "      <td>-0.03558969</td>\n",
       "      <td>-0.00643609</td>\n",
       "      <td>-0.03666128</td>\n",
       "      <td>-0.03309776</td>\n",
       "      <td>-0.02947477</td>\n",
       "      <td>-0.04568711</td>\n",
       "      <td>...</td>\n",
       "      <td>-0.02247605</td>\n",
       "      <td>-0.04876458</td>\n",
       "      <td>-0.01199099</td>\n",
       "      <td>-0.04094926</td>\n",
       "      <td>-0.02502640</td>\n",
       "      <td>-0.02933647</td>\n",
       "      <td>-0.03177030</td>\n",
       "      <td>-0.02198683</td>\n",
       "      <td>-0.02555101</td>\n",
       "      <td>0.00002698</td>\n",
       "    </tr>\n",
       "    <tr>\n",
       "      <th>2009-07-06</th>\n",
       "      <td>-0.00862087</td>\n",
       "      <td>-0.01007018</td>\n",
       "      <td>-0.00168396</td>\n",
       "      <td>-0.00604972</td>\n",
       "      <td>-0.01736612</td>\n",
       "      <td>-0.02510100</td>\n",
       "      <td>0.00791286</td>\n",
       "      <td>0.00263319</td>\n",
       "      <td>0.00331306</td>\n",
       "      <td>0.00577817</td>\n",
       "      <td>...</td>\n",
       "      <td>-0.00255495</td>\n",
       "      <td>-0.00410132</td>\n",
       "      <td>-0.00125533</td>\n",
       "      <td>0.01626561</td>\n",
       "      <td>0.01310761</td>\n",
       "      <td>-0.00569462</td>\n",
       "      <td>-0.01874971</td>\n",
       "      <td>0.01751761</td>\n",
       "      <td>0.00632907</td>\n",
       "      <td>0.00003016</td>\n",
       "    </tr>\n",
       "    <tr>\n",
       "      <th>2009-07-07</th>\n",
       "      <td>-0.02864414</td>\n",
       "      <td>-0.02315848</td>\n",
       "      <td>0.02304749</td>\n",
       "      <td>-0.01434784</td>\n",
       "      <td>-0.03019145</td>\n",
       "      <td>-0.01162792</td>\n",
       "      <td>0.01794396</td>\n",
       "      <td>-0.02742877</td>\n",
       "      <td>-0.02641715</td>\n",
       "      <td>-0.02995498</td>\n",
       "      <td>...</td>\n",
       "      <td>-0.01609951</td>\n",
       "      <td>-0.05078907</td>\n",
       "      <td>0.00230500</td>\n",
       "      <td>-0.07102361</td>\n",
       "      <td>-0.02048516</td>\n",
       "      <td>-0.02261360</td>\n",
       "      <td>-0.03662434</td>\n",
       "      <td>-0.01004244</td>\n",
       "      <td>-0.00988274</td>\n",
       "      <td>0.00003016</td>\n",
       "    </tr>\n",
       "    <tr>\n",
       "      <th>...</th>\n",
       "      <td>...</td>\n",
       "      <td>...</td>\n",
       "      <td>...</td>\n",
       "      <td>...</td>\n",
       "      <td>...</td>\n",
       "      <td>...</td>\n",
       "      <td>...</td>\n",
       "      <td>...</td>\n",
       "      <td>...</td>\n",
       "      <td>...</td>\n",
       "      <td>...</td>\n",
       "      <td>...</td>\n",
       "      <td>...</td>\n",
       "      <td>...</td>\n",
       "      <td>...</td>\n",
       "      <td>...</td>\n",
       "      <td>...</td>\n",
       "      <td>...</td>\n",
       "      <td>...</td>\n",
       "      <td>...</td>\n",
       "      <td>...</td>\n",
       "    </tr>\n",
       "    <tr>\n",
       "      <th>2020-01-28</th>\n",
       "      <td>0.00716268</td>\n",
       "      <td>0.02828952</td>\n",
       "      <td>0.01816735</td>\n",
       "      <td>-0.00055798</td>\n",
       "      <td>0.02228311</td>\n",
       "      <td>0.01871498</td>\n",
       "      <td>0.00895949</td>\n",
       "      <td>0.01456707</td>\n",
       "      <td>0.02123860</td>\n",
       "      <td>0.00262144</td>\n",
       "      <td>...</td>\n",
       "      <td>-0.00115523</td>\n",
       "      <td>0.00138827</td>\n",
       "      <td>0.00638691</td>\n",
       "      <td>0.00729209</td>\n",
       "      <td>0.00448284</td>\n",
       "      <td>-0.00139021</td>\n",
       "      <td>0.04935783</td>\n",
       "      <td>0.00411931</td>\n",
       "      <td>0.01356000</td>\n",
       "      <td>0.00024444</td>\n",
       "    </tr>\n",
       "    <tr>\n",
       "      <th>2020-01-29</th>\n",
       "      <td>0.00068816</td>\n",
       "      <td>0.02093236</td>\n",
       "      <td>0.00841663</td>\n",
       "      <td>-0.00446729</td>\n",
       "      <td>-0.00837493</td>\n",
       "      <td>-0.00944802</td>\n",
       "      <td>-0.00546445</td>\n",
       "      <td>-0.04071803</td>\n",
       "      <td>-0.00144975</td>\n",
       "      <td>0.00871507</td>\n",
       "      <td>...</td>\n",
       "      <td>0.00346957</td>\n",
       "      <td>-0.02218107</td>\n",
       "      <td>-0.00608910</td>\n",
       "      <td>-0.00954269</td>\n",
       "      <td>0.00297529</td>\n",
       "      <td>-0.00835274</td>\n",
       "      <td>-0.00135938</td>\n",
       "      <td>0.01726759</td>\n",
       "      <td>-0.01529002</td>\n",
       "      <td>0.00024286</td>\n",
       "    </tr>\n",
       "    <tr>\n",
       "      <th>2020-01-30</th>\n",
       "      <td>-0.03278328</td>\n",
       "      <td>-0.00144929</td>\n",
       "      <td>-0.01090594</td>\n",
       "      <td>0.00022426</td>\n",
       "      <td>0.01444573</td>\n",
       "      <td>-0.00759511</td>\n",
       "      <td>0.04853483</td>\n",
       "      <td>0.02321094</td>\n",
       "      <td>-0.00375488</td>\n",
       "      <td>0.01086145</td>\n",
       "      <td>...</td>\n",
       "      <td>0.01061994</td>\n",
       "      <td>0.00519846</td>\n",
       "      <td>0.00595398</td>\n",
       "      <td>-0.00099654</td>\n",
       "      <td>0.01987564</td>\n",
       "      <td>0.01060682</td>\n",
       "      <td>0.00680650</td>\n",
       "      <td>-0.00028128</td>\n",
       "      <td>0.00841069</td>\n",
       "      <td>0.00024444</td>\n",
       "    </tr>\n",
       "    <tr>\n",
       "      <th>2020-01-31</th>\n",
       "      <td>-0.02156903</td>\n",
       "      <td>-0.04433864</td>\n",
       "      <td>-0.03735377</td>\n",
       "      <td>-0.02265596</td>\n",
       "      <td>-0.01569764</td>\n",
       "      <td>-0.02331570</td>\n",
       "      <td>-0.02270770</td>\n",
       "      <td>-0.02068448</td>\n",
       "      <td>-0.01075431</td>\n",
       "      <td>0.00183157</td>\n",
       "      <td>...</td>\n",
       "      <td>-0.00863485</td>\n",
       "      <td>-0.02726867</td>\n",
       "      <td>-0.01792770</td>\n",
       "      <td>-0.03724645</td>\n",
       "      <td>0.00625354</td>\n",
       "      <td>-0.04121003</td>\n",
       "      <td>-0.03812884</td>\n",
       "      <td>-0.00778607</td>\n",
       "      <td>-0.02715999</td>\n",
       "      <td>0.00024127</td>\n",
       "    </tr>\n",
       "    <tr>\n",
       "      <th>2020-02-03</th>\n",
       "      <td>-0.00496587</td>\n",
       "      <td>-0.00274637</td>\n",
       "      <td>0.00163617</td>\n",
       "      <td>-0.00091810</td>\n",
       "      <td>0.01953632</td>\n",
       "      <td>0.00227771</td>\n",
       "      <td>0.00446840</td>\n",
       "      <td>0.01487827</td>\n",
       "      <td>0.01224277</td>\n",
       "      <td>0.00706876</td>\n",
       "      <td>...</td>\n",
       "      <td>0.00813493</td>\n",
       "      <td>0.02078321</td>\n",
       "      <td>-0.00192157</td>\n",
       "      <td>-0.02521598</td>\n",
       "      <td>0.00375769</td>\n",
       "      <td>-0.02237613</td>\n",
       "      <td>0.02024200</td>\n",
       "      <td>0.00605079</td>\n",
       "      <td>0.01362947</td>\n",
       "      <td>0.00024444</td>\n",
       "    </tr>\n",
       "  </tbody>\n",
       "</table>\n",
       "<p>2667 rows × 227 columns</p>\n",
       "</div>"
      ],
      "text/plain": [
       "                     A        AAPL         ABC         ABT        ADBE  \\\n",
       "Date                                                                     \n",
       "2009-06-30 -0.00587384  0.00323987 -0.01826180 -0.01631123 -0.01118105   \n",
       "2009-07-01  0.01526340  0.00280837  0.02818520 -0.00850391  0.01272087   \n",
       "2009-07-02 -0.04364688 -0.01967384 -0.02302683 -0.00771868 -0.03558969   \n",
       "2009-07-06 -0.00862087 -0.01007018 -0.00168396 -0.00604972 -0.01736612   \n",
       "2009-07-07 -0.02864414 -0.02315848  0.02304749 -0.01434784 -0.03019145   \n",
       "...                ...         ...         ...         ...         ...   \n",
       "2020-01-28  0.00716268  0.02828952  0.01816735 -0.00055798  0.02228311   \n",
       "2020-01-29  0.00068816  0.02093236  0.00841663 -0.00446729 -0.00837493   \n",
       "2020-01-30 -0.03278328 -0.00144929 -0.01090594  0.00022426  0.01444573   \n",
       "2020-01-31 -0.02156903 -0.04433864 -0.03735377 -0.02265596 -0.01569764   \n",
       "2020-02-03 -0.00496587 -0.00274637  0.00163617 -0.00091810  0.01953632   \n",
       "\n",
       "                   ADI         ADM         ADP        ADSK         AEE  ...  \\\n",
       "Date                                                                    ...   \n",
       "2009-06-30  0.00405215 -0.01761471  0.00425035 -0.02865923 -0.00200519  ...   \n",
       "2009-07-01  0.00322817  0.02913745 -0.00253957 -0.01685984  0.02008848  ...   \n",
       "2009-07-02 -0.00643609 -0.03666128 -0.03309776 -0.02947477 -0.04568711  ...   \n",
       "2009-07-06 -0.02510100  0.00791286  0.00263319  0.00331306  0.00577817  ...   \n",
       "2009-07-07 -0.01162792  0.01794396 -0.02742877 -0.02641715 -0.02995498  ...   \n",
       "...                ...         ...         ...         ...         ...  ...   \n",
       "2020-01-28  0.01871498  0.00895949  0.01456707  0.02123860  0.00262144  ...   \n",
       "2020-01-29 -0.00944802 -0.00546445 -0.04071803 -0.00144975  0.00871507  ...   \n",
       "2020-01-30 -0.00759511  0.04853483  0.02321094 -0.00375488  0.01086145  ...   \n",
       "2020-01-31 -0.02331570 -0.02270770 -0.02068448 -0.01075431  0.00183157  ...   \n",
       "2020-02-03  0.00227771  0.00446840  0.01487827  0.01224277  0.00706876  ...   \n",
       "\n",
       "                    WM         WMB         WMT          WY         XEL  \\\n",
       "Date                                                                     \n",
       "2009-06-30 -0.01262238 -0.00191773 -0.00656283 -0.00555572 -0.00162680   \n",
       "2009-07-01 -0.00461646 -0.01473449 -0.00144542  0.01117359  0.02009766   \n",
       "2009-07-02 -0.02247605 -0.04876458 -0.01199099 -0.04094926 -0.02502640   \n",
       "2009-07-06 -0.00255495 -0.00410132 -0.00125533  0.01626561  0.01310761   \n",
       "2009-07-07 -0.01609951 -0.05078907  0.00230500 -0.07102361 -0.02048516   \n",
       "...                ...         ...         ...         ...         ...   \n",
       "2020-01-28 -0.00115523  0.00138827  0.00638691  0.00729209  0.00448284   \n",
       "2020-01-29  0.00346957 -0.02218107 -0.00608910 -0.00954269  0.00297529   \n",
       "2020-01-30  0.01061994  0.00519846  0.00595398 -0.00099654  0.01987564   \n",
       "2020-01-31 -0.00863485 -0.02726867 -0.01792770 -0.03724645  0.00625354   \n",
       "2020-02-03  0.00813493  0.02078321 -0.00192157 -0.02521598  0.00375769   \n",
       "\n",
       "                   XOM         XRX         YUM        ZION       tbill  \n",
       "Date                                                                    \n",
       "2009-06-30 -0.00949256 -0.02114764  0.00060028 -0.05555583  0.00003016  \n",
       "2009-07-01  0.00929745  0.02006171  0.05038967 -0.01816585  0.00002698  \n",
       "2009-07-02 -0.02933647 -0.03177030 -0.02198683 -0.02555101  0.00002698  \n",
       "2009-07-06 -0.00569462 -0.01874971  0.01751761  0.00632907  0.00003016  \n",
       "2009-07-07 -0.02261360 -0.03662434 -0.01004244 -0.00988274  0.00003016  \n",
       "...                ...         ...         ...         ...         ...  \n",
       "2020-01-28 -0.00139021  0.04935783  0.00411931  0.01356000  0.00024444  \n",
       "2020-01-29 -0.00835274 -0.00135938  0.01726759 -0.01529002  0.00024286  \n",
       "2020-01-30  0.01060682  0.00680650 -0.00028128  0.00841069  0.00024444  \n",
       "2020-01-31 -0.04121003 -0.03812884 -0.00778607 -0.02715999  0.00024127  \n",
       "2020-02-03 -0.02237613  0.02024200  0.00605079  0.01362947  0.00024444  \n",
       "\n",
       "[2667 rows x 227 columns]"
      ]
     },
     "execution_count": 51,
     "metadata": {},
     "output_type": "execute_result"
    }
   ],
   "source": [
    "merged"
   ]
  },
  {
   "cell_type": "code",
   "execution_count": 52,
   "id": "596c1729",
   "metadata": {
    "hidden": true
   },
   "outputs": [],
   "source": [
    "returns = merged.iloc[:,:-1].ffill().bfill()"
   ]
  },
  {
   "cell_type": "code",
   "execution_count": 53,
   "id": "18992e9a",
   "metadata": {
    "hidden": true
   },
   "outputs": [],
   "source": [
    "tbills = pd.DataFrame(merged['tbill'])\n",
    "tbills_diff = pd.DataFrame(merged_diff['tbill'])"
   ]
  },
  {
   "cell_type": "code",
   "execution_count": 54,
   "id": "05f8543d",
   "metadata": {
    "hidden": true
   },
   "outputs": [
    {
     "data": {
      "text/html": [
       "<div>\n",
       "<style scoped>\n",
       "    .dataframe tbody tr th:only-of-type {\n",
       "        vertical-align: middle;\n",
       "    }\n",
       "\n",
       "    .dataframe tbody tr th {\n",
       "        vertical-align: top;\n",
       "    }\n",
       "\n",
       "    .dataframe thead th {\n",
       "        text-align: right;\n",
       "    }\n",
       "</style>\n",
       "<table border=\"1\" class=\"dataframe\">\n",
       "  <thead>\n",
       "    <tr style=\"text-align: right;\">\n",
       "      <th></th>\n",
       "      <th>A</th>\n",
       "      <th>AAPL</th>\n",
       "      <th>ABC</th>\n",
       "      <th>ABT</th>\n",
       "      <th>ADBE</th>\n",
       "      <th>ADI</th>\n",
       "      <th>ADM</th>\n",
       "      <th>ADP</th>\n",
       "      <th>ADSK</th>\n",
       "      <th>AEE</th>\n",
       "      <th>...</th>\n",
       "      <th>WHR</th>\n",
       "      <th>WM</th>\n",
       "      <th>WMB</th>\n",
       "      <th>WMT</th>\n",
       "      <th>WY</th>\n",
       "      <th>XEL</th>\n",
       "      <th>XOM</th>\n",
       "      <th>XRX</th>\n",
       "      <th>YUM</th>\n",
       "      <th>ZION</th>\n",
       "    </tr>\n",
       "    <tr>\n",
       "      <th>Date</th>\n",
       "      <th></th>\n",
       "      <th></th>\n",
       "      <th></th>\n",
       "      <th></th>\n",
       "      <th></th>\n",
       "      <th></th>\n",
       "      <th></th>\n",
       "      <th></th>\n",
       "      <th></th>\n",
       "      <th></th>\n",
       "      <th></th>\n",
       "      <th></th>\n",
       "      <th></th>\n",
       "      <th></th>\n",
       "      <th></th>\n",
       "      <th></th>\n",
       "      <th></th>\n",
       "      <th></th>\n",
       "      <th></th>\n",
       "      <th></th>\n",
       "      <th></th>\n",
       "    </tr>\n",
       "  </thead>\n",
       "  <tbody>\n",
       "    <tr>\n",
       "      <th>2009-06-30</th>\n",
       "      <td>-0.00587384</td>\n",
       "      <td>0.00323987</td>\n",
       "      <td>-0.01826180</td>\n",
       "      <td>-0.01631123</td>\n",
       "      <td>-0.01118105</td>\n",
       "      <td>0.00405215</td>\n",
       "      <td>-0.01761471</td>\n",
       "      <td>0.00425035</td>\n",
       "      <td>-0.02865923</td>\n",
       "      <td>-0.00200519</td>\n",
       "      <td>...</td>\n",
       "      <td>-0.02653222</td>\n",
       "      <td>-0.01262238</td>\n",
       "      <td>-0.00191773</td>\n",
       "      <td>-0.00656283</td>\n",
       "      <td>-0.00555572</td>\n",
       "      <td>-0.00162680</td>\n",
       "      <td>-0.00949256</td>\n",
       "      <td>-0.02114764</td>\n",
       "      <td>0.00060028</td>\n",
       "      <td>-0.05555583</td>\n",
       "    </tr>\n",
       "    <tr>\n",
       "      <th>2009-07-01</th>\n",
       "      <td>0.01526340</td>\n",
       "      <td>0.00280837</td>\n",
       "      <td>0.02818520</td>\n",
       "      <td>-0.00850391</td>\n",
       "      <td>0.01272087</td>\n",
       "      <td>0.00322817</td>\n",
       "      <td>0.02913745</td>\n",
       "      <td>-0.00253957</td>\n",
       "      <td>-0.01685984</td>\n",
       "      <td>0.02008848</td>\n",
       "      <td>...</td>\n",
       "      <td>0.05239662</td>\n",
       "      <td>-0.00461646</td>\n",
       "      <td>-0.01473449</td>\n",
       "      <td>-0.00144542</td>\n",
       "      <td>0.01117359</td>\n",
       "      <td>0.02009766</td>\n",
       "      <td>0.00929745</td>\n",
       "      <td>0.02006171</td>\n",
       "      <td>0.05038967</td>\n",
       "      <td>-0.01816585</td>\n",
       "    </tr>\n",
       "    <tr>\n",
       "      <th>2009-07-02</th>\n",
       "      <td>-0.04364688</td>\n",
       "      <td>-0.01967384</td>\n",
       "      <td>-0.02302683</td>\n",
       "      <td>-0.00771868</td>\n",
       "      <td>-0.03558969</td>\n",
       "      <td>-0.00643609</td>\n",
       "      <td>-0.03666128</td>\n",
       "      <td>-0.03309776</td>\n",
       "      <td>-0.02947477</td>\n",
       "      <td>-0.04568711</td>\n",
       "      <td>...</td>\n",
       "      <td>-0.02835450</td>\n",
       "      <td>-0.02247605</td>\n",
       "      <td>-0.04876458</td>\n",
       "      <td>-0.01199099</td>\n",
       "      <td>-0.04094926</td>\n",
       "      <td>-0.02502640</td>\n",
       "      <td>-0.02933647</td>\n",
       "      <td>-0.03177030</td>\n",
       "      <td>-0.02198683</td>\n",
       "      <td>-0.02555101</td>\n",
       "    </tr>\n",
       "    <tr>\n",
       "      <th>2009-07-06</th>\n",
       "      <td>-0.00862087</td>\n",
       "      <td>-0.01007018</td>\n",
       "      <td>-0.00168396</td>\n",
       "      <td>-0.00604972</td>\n",
       "      <td>-0.01736612</td>\n",
       "      <td>-0.02510100</td>\n",
       "      <td>0.00791286</td>\n",
       "      <td>0.00263319</td>\n",
       "      <td>0.00331306</td>\n",
       "      <td>0.00577817</td>\n",
       "      <td>...</td>\n",
       "      <td>-0.02688452</td>\n",
       "      <td>-0.00255495</td>\n",
       "      <td>-0.00410132</td>\n",
       "      <td>-0.00125533</td>\n",
       "      <td>0.01626561</td>\n",
       "      <td>0.01310761</td>\n",
       "      <td>-0.00569462</td>\n",
       "      <td>-0.01874971</td>\n",
       "      <td>0.01751761</td>\n",
       "      <td>0.00632907</td>\n",
       "    </tr>\n",
       "    <tr>\n",
       "      <th>2009-07-07</th>\n",
       "      <td>-0.02864414</td>\n",
       "      <td>-0.02315848</td>\n",
       "      <td>0.02304749</td>\n",
       "      <td>-0.01434784</td>\n",
       "      <td>-0.03019145</td>\n",
       "      <td>-0.01162792</td>\n",
       "      <td>0.01794396</td>\n",
       "      <td>-0.02742877</td>\n",
       "      <td>-0.02641715</td>\n",
       "      <td>-0.02995498</td>\n",
       "      <td>...</td>\n",
       "      <td>-0.01440395</td>\n",
       "      <td>-0.01609951</td>\n",
       "      <td>-0.05078907</td>\n",
       "      <td>0.00230500</td>\n",
       "      <td>-0.07102361</td>\n",
       "      <td>-0.02048516</td>\n",
       "      <td>-0.02261360</td>\n",
       "      <td>-0.03662434</td>\n",
       "      <td>-0.01004244</td>\n",
       "      <td>-0.00988274</td>\n",
       "    </tr>\n",
       "    <tr>\n",
       "      <th>...</th>\n",
       "      <td>...</td>\n",
       "      <td>...</td>\n",
       "      <td>...</td>\n",
       "      <td>...</td>\n",
       "      <td>...</td>\n",
       "      <td>...</td>\n",
       "      <td>...</td>\n",
       "      <td>...</td>\n",
       "      <td>...</td>\n",
       "      <td>...</td>\n",
       "      <td>...</td>\n",
       "      <td>...</td>\n",
       "      <td>...</td>\n",
       "      <td>...</td>\n",
       "      <td>...</td>\n",
       "      <td>...</td>\n",
       "      <td>...</td>\n",
       "      <td>...</td>\n",
       "      <td>...</td>\n",
       "      <td>...</td>\n",
       "      <td>...</td>\n",
       "    </tr>\n",
       "    <tr>\n",
       "      <th>2020-01-28</th>\n",
       "      <td>0.00716268</td>\n",
       "      <td>0.02828952</td>\n",
       "      <td>0.01816735</td>\n",
       "      <td>-0.00055798</td>\n",
       "      <td>0.02228311</td>\n",
       "      <td>0.01871498</td>\n",
       "      <td>0.00895949</td>\n",
       "      <td>0.01456707</td>\n",
       "      <td>0.02123860</td>\n",
       "      <td>0.00262144</td>\n",
       "      <td>...</td>\n",
       "      <td>0.05693845</td>\n",
       "      <td>-0.00115523</td>\n",
       "      <td>0.00138827</td>\n",
       "      <td>0.00638691</td>\n",
       "      <td>0.00729209</td>\n",
       "      <td>0.00448284</td>\n",
       "      <td>-0.00139021</td>\n",
       "      <td>0.04935783</td>\n",
       "      <td>0.00411931</td>\n",
       "      <td>0.01356000</td>\n",
       "    </tr>\n",
       "    <tr>\n",
       "      <th>2020-01-29</th>\n",
       "      <td>0.00068816</td>\n",
       "      <td>0.02093236</td>\n",
       "      <td>0.00841663</td>\n",
       "      <td>-0.00446729</td>\n",
       "      <td>-0.00837493</td>\n",
       "      <td>-0.00944802</td>\n",
       "      <td>-0.00546445</td>\n",
       "      <td>-0.04071803</td>\n",
       "      <td>-0.00144975</td>\n",
       "      <td>0.00871507</td>\n",
       "      <td>...</td>\n",
       "      <td>-0.01640394</td>\n",
       "      <td>0.00346957</td>\n",
       "      <td>-0.02218107</td>\n",
       "      <td>-0.00608910</td>\n",
       "      <td>-0.00954269</td>\n",
       "      <td>0.00297529</td>\n",
       "      <td>-0.00835274</td>\n",
       "      <td>-0.00135938</td>\n",
       "      <td>0.01726759</td>\n",
       "      <td>-0.01529002</td>\n",
       "    </tr>\n",
       "    <tr>\n",
       "      <th>2020-01-30</th>\n",
       "      <td>-0.03278328</td>\n",
       "      <td>-0.00144929</td>\n",
       "      <td>-0.01090594</td>\n",
       "      <td>0.00022426</td>\n",
       "      <td>0.01444573</td>\n",
       "      <td>-0.00759511</td>\n",
       "      <td>0.04853483</td>\n",
       "      <td>0.02321094</td>\n",
       "      <td>-0.00375488</td>\n",
       "      <td>0.01086145</td>\n",
       "      <td>...</td>\n",
       "      <td>-0.00850084</td>\n",
       "      <td>0.01061994</td>\n",
       "      <td>0.00519846</td>\n",
       "      <td>0.00595398</td>\n",
       "      <td>-0.00099654</td>\n",
       "      <td>0.01987564</td>\n",
       "      <td>0.01060682</td>\n",
       "      <td>0.00680650</td>\n",
       "      <td>-0.00028128</td>\n",
       "      <td>0.00841069</td>\n",
       "    </tr>\n",
       "    <tr>\n",
       "      <th>2020-01-31</th>\n",
       "      <td>-0.02156903</td>\n",
       "      <td>-0.04433864</td>\n",
       "      <td>-0.03735377</td>\n",
       "      <td>-0.02265596</td>\n",
       "      <td>-0.01569764</td>\n",
       "      <td>-0.02331570</td>\n",
       "      <td>-0.02270770</td>\n",
       "      <td>-0.02068448</td>\n",
       "      <td>-0.01075431</td>\n",
       "      <td>0.00183157</td>\n",
       "      <td>...</td>\n",
       "      <td>-0.04332754</td>\n",
       "      <td>-0.00863485</td>\n",
       "      <td>-0.02726867</td>\n",
       "      <td>-0.01792770</td>\n",
       "      <td>-0.03724645</td>\n",
       "      <td>0.00625354</td>\n",
       "      <td>-0.04121003</td>\n",
       "      <td>-0.03812884</td>\n",
       "      <td>-0.00778607</td>\n",
       "      <td>-0.02715999</td>\n",
       "    </tr>\n",
       "    <tr>\n",
       "      <th>2020-02-03</th>\n",
       "      <td>-0.00496587</td>\n",
       "      <td>-0.00274637</td>\n",
       "      <td>0.00163617</td>\n",
       "      <td>-0.00091810</td>\n",
       "      <td>0.01953632</td>\n",
       "      <td>0.00227771</td>\n",
       "      <td>0.00446840</td>\n",
       "      <td>0.01487827</td>\n",
       "      <td>0.01224277</td>\n",
       "      <td>0.00706876</td>\n",
       "      <td>...</td>\n",
       "      <td>0.00670459</td>\n",
       "      <td>0.00813493</td>\n",
       "      <td>0.02078321</td>\n",
       "      <td>-0.00192157</td>\n",
       "      <td>-0.02521598</td>\n",
       "      <td>0.00375769</td>\n",
       "      <td>-0.02237613</td>\n",
       "      <td>0.02024200</td>\n",
       "      <td>0.00605079</td>\n",
       "      <td>0.01362947</td>\n",
       "    </tr>\n",
       "  </tbody>\n",
       "</table>\n",
       "<p>2667 rows × 226 columns</p>\n",
       "</div>"
      ],
      "text/plain": [
       "                     A        AAPL         ABC         ABT        ADBE  \\\n",
       "Date                                                                     \n",
       "2009-06-30 -0.00587384  0.00323987 -0.01826180 -0.01631123 -0.01118105   \n",
       "2009-07-01  0.01526340  0.00280837  0.02818520 -0.00850391  0.01272087   \n",
       "2009-07-02 -0.04364688 -0.01967384 -0.02302683 -0.00771868 -0.03558969   \n",
       "2009-07-06 -0.00862087 -0.01007018 -0.00168396 -0.00604972 -0.01736612   \n",
       "2009-07-07 -0.02864414 -0.02315848  0.02304749 -0.01434784 -0.03019145   \n",
       "...                ...         ...         ...         ...         ...   \n",
       "2020-01-28  0.00716268  0.02828952  0.01816735 -0.00055798  0.02228311   \n",
       "2020-01-29  0.00068816  0.02093236  0.00841663 -0.00446729 -0.00837493   \n",
       "2020-01-30 -0.03278328 -0.00144929 -0.01090594  0.00022426  0.01444573   \n",
       "2020-01-31 -0.02156903 -0.04433864 -0.03735377 -0.02265596 -0.01569764   \n",
       "2020-02-03 -0.00496587 -0.00274637  0.00163617 -0.00091810  0.01953632   \n",
       "\n",
       "                   ADI         ADM         ADP        ADSK         AEE  ...  \\\n",
       "Date                                                                    ...   \n",
       "2009-06-30  0.00405215 -0.01761471  0.00425035 -0.02865923 -0.00200519  ...   \n",
       "2009-07-01  0.00322817  0.02913745 -0.00253957 -0.01685984  0.02008848  ...   \n",
       "2009-07-02 -0.00643609 -0.03666128 -0.03309776 -0.02947477 -0.04568711  ...   \n",
       "2009-07-06 -0.02510100  0.00791286  0.00263319  0.00331306  0.00577817  ...   \n",
       "2009-07-07 -0.01162792  0.01794396 -0.02742877 -0.02641715 -0.02995498  ...   \n",
       "...                ...         ...         ...         ...         ...  ...   \n",
       "2020-01-28  0.01871498  0.00895949  0.01456707  0.02123860  0.00262144  ...   \n",
       "2020-01-29 -0.00944802 -0.00546445 -0.04071803 -0.00144975  0.00871507  ...   \n",
       "2020-01-30 -0.00759511  0.04853483  0.02321094 -0.00375488  0.01086145  ...   \n",
       "2020-01-31 -0.02331570 -0.02270770 -0.02068448 -0.01075431  0.00183157  ...   \n",
       "2020-02-03  0.00227771  0.00446840  0.01487827  0.01224277  0.00706876  ...   \n",
       "\n",
       "                   WHR          WM         WMB         WMT          WY  \\\n",
       "Date                                                                     \n",
       "2009-06-30 -0.02653222 -0.01262238 -0.00191773 -0.00656283 -0.00555572   \n",
       "2009-07-01  0.05239662 -0.00461646 -0.01473449 -0.00144542  0.01117359   \n",
       "2009-07-02 -0.02835450 -0.02247605 -0.04876458 -0.01199099 -0.04094926   \n",
       "2009-07-06 -0.02688452 -0.00255495 -0.00410132 -0.00125533  0.01626561   \n",
       "2009-07-07 -0.01440395 -0.01609951 -0.05078907  0.00230500 -0.07102361   \n",
       "...                ...         ...         ...         ...         ...   \n",
       "2020-01-28  0.05693845 -0.00115523  0.00138827  0.00638691  0.00729209   \n",
       "2020-01-29 -0.01640394  0.00346957 -0.02218107 -0.00608910 -0.00954269   \n",
       "2020-01-30 -0.00850084  0.01061994  0.00519846  0.00595398 -0.00099654   \n",
       "2020-01-31 -0.04332754 -0.00863485 -0.02726867 -0.01792770 -0.03724645   \n",
       "2020-02-03  0.00670459  0.00813493  0.02078321 -0.00192157 -0.02521598   \n",
       "\n",
       "                   XEL         XOM         XRX         YUM        ZION  \n",
       "Date                                                                    \n",
       "2009-06-30 -0.00162680 -0.00949256 -0.02114764  0.00060028 -0.05555583  \n",
       "2009-07-01  0.02009766  0.00929745  0.02006171  0.05038967 -0.01816585  \n",
       "2009-07-02 -0.02502640 -0.02933647 -0.03177030 -0.02198683 -0.02555101  \n",
       "2009-07-06  0.01310761 -0.00569462 -0.01874971  0.01751761  0.00632907  \n",
       "2009-07-07 -0.02048516 -0.02261360 -0.03662434 -0.01004244 -0.00988274  \n",
       "...                ...         ...         ...         ...         ...  \n",
       "2020-01-28  0.00448284 -0.00139021  0.04935783  0.00411931  0.01356000  \n",
       "2020-01-29  0.00297529 -0.00835274 -0.00135938  0.01726759 -0.01529002  \n",
       "2020-01-30  0.01987564  0.01060682  0.00680650 -0.00028128  0.00841069  \n",
       "2020-01-31  0.00625354 -0.04121003 -0.03812884 -0.00778607 -0.02715999  \n",
       "2020-02-03  0.00375769 -0.02237613  0.02024200  0.00605079  0.01362947  \n",
       "\n",
       "[2667 rows x 226 columns]"
      ]
     },
     "execution_count": 54,
     "metadata": {},
     "output_type": "execute_result"
    }
   ],
   "source": [
    "returns"
   ]
  },
  {
   "cell_type": "code",
   "execution_count": 55,
   "id": "39c89d21",
   "metadata": {
    "hidden": true
   },
   "outputs": [
    {
     "data": {
      "text/html": [
       "<div>\n",
       "<style scoped>\n",
       "    .dataframe tbody tr th:only-of-type {\n",
       "        vertical-align: middle;\n",
       "    }\n",
       "\n",
       "    .dataframe tbody tr th {\n",
       "        vertical-align: top;\n",
       "    }\n",
       "\n",
       "    .dataframe thead th {\n",
       "        text-align: right;\n",
       "    }\n",
       "</style>\n",
       "<table border=\"1\" class=\"dataframe\">\n",
       "  <thead>\n",
       "    <tr style=\"text-align: right;\">\n",
       "      <th></th>\n",
       "      <th>tbill</th>\n",
       "    </tr>\n",
       "    <tr>\n",
       "      <th>Date</th>\n",
       "      <th></th>\n",
       "    </tr>\n",
       "  </thead>\n",
       "  <tbody>\n",
       "    <tr>\n",
       "      <th>2009-06-30</th>\n",
       "      <td>0.00003016</td>\n",
       "    </tr>\n",
       "    <tr>\n",
       "      <th>2009-07-01</th>\n",
       "      <td>0.00002698</td>\n",
       "    </tr>\n",
       "    <tr>\n",
       "      <th>2009-07-02</th>\n",
       "      <td>0.00002698</td>\n",
       "    </tr>\n",
       "    <tr>\n",
       "      <th>2009-07-06</th>\n",
       "      <td>0.00003016</td>\n",
       "    </tr>\n",
       "    <tr>\n",
       "      <th>2009-07-07</th>\n",
       "      <td>0.00003016</td>\n",
       "    </tr>\n",
       "    <tr>\n",
       "      <th>...</th>\n",
       "      <td>...</td>\n",
       "    </tr>\n",
       "    <tr>\n",
       "      <th>2020-01-28</th>\n",
       "      <td>0.00024444</td>\n",
       "    </tr>\n",
       "    <tr>\n",
       "      <th>2020-01-29</th>\n",
       "      <td>0.00024286</td>\n",
       "    </tr>\n",
       "    <tr>\n",
       "      <th>2020-01-30</th>\n",
       "      <td>0.00024444</td>\n",
       "    </tr>\n",
       "    <tr>\n",
       "      <th>2020-01-31</th>\n",
       "      <td>0.00024127</td>\n",
       "    </tr>\n",
       "    <tr>\n",
       "      <th>2020-02-03</th>\n",
       "      <td>0.00024444</td>\n",
       "    </tr>\n",
       "  </tbody>\n",
       "</table>\n",
       "<p>2667 rows × 1 columns</p>\n",
       "</div>"
      ],
      "text/plain": [
       "                 tbill\n",
       "Date                  \n",
       "2009-06-30  0.00003016\n",
       "2009-07-01  0.00002698\n",
       "2009-07-02  0.00002698\n",
       "2009-07-06  0.00003016\n",
       "2009-07-07  0.00003016\n",
       "...                ...\n",
       "2020-01-28  0.00024444\n",
       "2020-01-29  0.00024286\n",
       "2020-01-30  0.00024444\n",
       "2020-01-31  0.00024127\n",
       "2020-02-03  0.00024444\n",
       "\n",
       "[2667 rows x 1 columns]"
      ]
     },
     "execution_count": 55,
     "metadata": {},
     "output_type": "execute_result"
    }
   ],
   "source": [
    "tbills"
   ]
  },
  {
   "cell_type": "code",
   "execution_count": 56,
   "id": "d7f98b90",
   "metadata": {
    "hidden": true
   },
   "outputs": [
    {
     "data": {
      "text/html": [
       "<div>\n",
       "<style scoped>\n",
       "    .dataframe tbody tr th:only-of-type {\n",
       "        vertical-align: middle;\n",
       "    }\n",
       "\n",
       "    .dataframe tbody tr th {\n",
       "        vertical-align: top;\n",
       "    }\n",
       "\n",
       "    .dataframe thead th {\n",
       "        text-align: right;\n",
       "    }\n",
       "</style>\n",
       "<table border=\"1\" class=\"dataframe\">\n",
       "  <thead>\n",
       "    <tr style=\"text-align: right;\">\n",
       "      <th></th>\n",
       "      <th>tbill</th>\n",
       "    </tr>\n",
       "    <tr>\n",
       "      <th>Date</th>\n",
       "      <th></th>\n",
       "    </tr>\n",
       "  </thead>\n",
       "  <tbody>\n",
       "    <tr>\n",
       "      <th>2009-06-30</th>\n",
       "      <td>-0.00000317</td>\n",
       "    </tr>\n",
       "    <tr>\n",
       "      <th>2009-07-01</th>\n",
       "      <td>-0.00000317</td>\n",
       "    </tr>\n",
       "    <tr>\n",
       "      <th>2009-07-02</th>\n",
       "      <td>0.00000000</td>\n",
       "    </tr>\n",
       "    <tr>\n",
       "      <th>2009-07-06</th>\n",
       "      <td>0.00000317</td>\n",
       "    </tr>\n",
       "    <tr>\n",
       "      <th>2009-07-07</th>\n",
       "      <td>0.00000000</td>\n",
       "    </tr>\n",
       "    <tr>\n",
       "      <th>...</th>\n",
       "      <td>...</td>\n",
       "    </tr>\n",
       "    <tr>\n",
       "      <th>2020-01-28</th>\n",
       "      <td>0.00000317</td>\n",
       "    </tr>\n",
       "    <tr>\n",
       "      <th>2020-01-29</th>\n",
       "      <td>-0.00000159</td>\n",
       "    </tr>\n",
       "    <tr>\n",
       "      <th>2020-01-30</th>\n",
       "      <td>0.00000159</td>\n",
       "    </tr>\n",
       "    <tr>\n",
       "      <th>2020-01-31</th>\n",
       "      <td>-0.00000317</td>\n",
       "    </tr>\n",
       "    <tr>\n",
       "      <th>2020-02-03</th>\n",
       "      <td>0.00000317</td>\n",
       "    </tr>\n",
       "  </tbody>\n",
       "</table>\n",
       "<p>2667 rows × 1 columns</p>\n",
       "</div>"
      ],
      "text/plain": [
       "                 tbill\n",
       "Date                  \n",
       "2009-06-30 -0.00000317\n",
       "2009-07-01 -0.00000317\n",
       "2009-07-02  0.00000000\n",
       "2009-07-06  0.00000317\n",
       "2009-07-07  0.00000000\n",
       "...                ...\n",
       "2020-01-28  0.00000317\n",
       "2020-01-29 -0.00000159\n",
       "2020-01-30  0.00000159\n",
       "2020-01-31 -0.00000317\n",
       "2020-02-03  0.00000317\n",
       "\n",
       "[2667 rows x 1 columns]"
      ]
     },
     "execution_count": 56,
     "metadata": {},
     "output_type": "execute_result"
    }
   ],
   "source": [
    "tbills_diff"
   ]
  },
  {
   "cell_type": "markdown",
   "id": "f1f7f8e2",
   "metadata": {
    "hidden": true
   },
   "source": [
    "> ### Testing Period: Match Returns and T-Bills Index"
   ]
  },
  {
   "cell_type": "code",
   "execution_count": 57,
   "id": "dd970331",
   "metadata": {
    "hidden": true
   },
   "outputs": [],
   "source": [
    "merged_covid = returns_covid_PC.merge(tbills_covid, how = 'left', left_index=True, right_index=True)\n",
    "merged_covid_diff = returns_covid_PC.merge(tbills_covid_diff, how = 'left', left_index=True, right_index=True)"
   ]
  },
  {
   "cell_type": "code",
   "execution_count": 58,
   "id": "e1c882a0",
   "metadata": {
    "hidden": true
   },
   "outputs": [],
   "source": [
    "returns_covid = merged_covid.iloc[:,:-1].ffill().bfill()"
   ]
  },
  {
   "cell_type": "code",
   "execution_count": 59,
   "id": "e61c8d28",
   "metadata": {
    "hidden": true
   },
   "outputs": [],
   "source": [
    "tbills_covid = pd.DataFrame(merged_covid['tbill']).ffill().bfill()"
   ]
  },
  {
   "cell_type": "code",
   "execution_count": 60,
   "id": "fe461ba2",
   "metadata": {
    "hidden": true
   },
   "outputs": [],
   "source": [
    "tbills_covid_diff = pd.DataFrame(merged_covid_diff['tbill']).ffill().bfill()"
   ]
  },
  {
   "cell_type": "code",
   "execution_count": 61,
   "id": "d4775975",
   "metadata": {
    "hidden": true
   },
   "outputs": [
    {
     "data": {
      "text/plain": [
       "(50, 226)"
      ]
     },
     "execution_count": 61,
     "metadata": {},
     "output_type": "execute_result"
    }
   ],
   "source": [
    "returns_covid.shape"
   ]
  },
  {
   "cell_type": "code",
   "execution_count": 62,
   "id": "8f6dce04",
   "metadata": {
    "hidden": true
   },
   "outputs": [
    {
     "data": {
      "text/plain": [
       "(50, 1)"
      ]
     },
     "execution_count": 62,
     "metadata": {},
     "output_type": "execute_result"
    }
   ],
   "source": [
    "tbills_covid.shape"
   ]
  },
  {
   "cell_type": "code",
   "execution_count": 63,
   "id": "f0d04b41",
   "metadata": {
    "hidden": true
   },
   "outputs": [
    {
     "data": {
      "text/plain": [
       "(50, 1)"
      ]
     },
     "execution_count": 63,
     "metadata": {},
     "output_type": "execute_result"
    }
   ],
   "source": [
    "tbills_covid_diff.shape"
   ]
  },
  {
   "cell_type": "markdown",
   "id": "b59dbdba",
   "metadata": {
    "hidden": true
   },
   "source": [
    "> ### Training Period and Testing Period: Monthly T-Bills"
   ]
  },
  {
   "cell_type": "code",
   "execution_count": 64,
   "id": "501ce2d9",
   "metadata": {
    "hidden": true
   },
   "outputs": [],
   "source": [
    "tbills_monthly = (tbills+1).groupby(pd.Grouper(freq=\"M\")).prod() -1\n",
    "tbills_diff_monthly = (tbills_diff).groupby(pd.Grouper(freq=\"M\")).prod()\n",
    "\n",
    "tbills_covid_monthly = (tbills_covid+1).groupby(pd.Grouper(freq=\"M\")).prod().ffill() -1\n",
    "tbills_monthly_covid_diff = (tbills_covid_diff).groupby(pd.Grouper(freq=\"M\")).mean()"
   ]
  },
  {
   "cell_type": "markdown",
   "id": "61577961",
   "metadata": {},
   "source": [
    "## Calculate Sharpe Ratios"
   ]
  },
  {
   "cell_type": "markdown",
   "id": "09c9cbfc",
   "metadata": {},
   "source": [
    "> ### Sharpes calcs with Excess - Direct (PC)"
   ]
  },
  {
   "cell_type": "code",
   "execution_count": 65,
   "id": "86691340",
   "metadata": {},
   "outputs": [],
   "source": [
    "excess_returns_PC = returns_PC.sub(tbills['tbill'], axis = 0)\n",
    "excess_returns_monthly_PC = monthly_returns_PC.sub(tbills_monthly['tbill'], axis = 0)"
   ]
  },
  {
   "cell_type": "code",
   "execution_count": 66,
   "id": "2100f070",
   "metadata": {},
   "outputs": [],
   "source": [
    "sharpes_PC = pd.DataFrame(excess_returns_PC.mean()/returns_PC.std())\n",
    "#sharpes = pd.DataFrame(returns.mean()/returns.std())\n",
    "\n",
    "\n",
    "sharpes_monthly_PC = pd.DataFrame(excess_returns_monthly_PC.mean()/monthly_returns_PC.std())\n",
    "#sharpes_monthly = pd.DataFrame(monthly_returns.mean()/monthly_returns.std())\n",
    "\n",
    "sharpes_PC = sharpes_PC*(252)**0.5\n",
    "sharpes_monthly_PC = sharpes_monthly_PC*(12)**0.5"
   ]
  },
  {
   "cell_type": "code",
   "execution_count": 67,
   "id": "4445ed26",
   "metadata": {},
   "outputs": [],
   "source": [
    "sharpes_PC.columns = ['sharpes']\n",
    "sharpes_monthly_PC.columns = ['sharpes']"
   ]
  },
  {
   "cell_type": "code",
   "execution_count": 68,
   "id": "450d995f",
   "metadata": {},
   "outputs": [],
   "source": [
    "sharpes_PC.index.name = 'ticker'\n",
    "sharpes_monthly_PC.index.name = 'ticker'"
   ]
  },
  {
   "cell_type": "code",
   "execution_count": 69,
   "id": "00e42806",
   "metadata": {
    "scrolled": true
   },
   "outputs": [
    {
     "data": {
      "text/html": [
       "<div>\n",
       "<style scoped>\n",
       "    .dataframe tbody tr th:only-of-type {\n",
       "        vertical-align: middle;\n",
       "    }\n",
       "\n",
       "    .dataframe tbody tr th {\n",
       "        vertical-align: top;\n",
       "    }\n",
       "\n",
       "    .dataframe thead th {\n",
       "        text-align: right;\n",
       "    }\n",
       "</style>\n",
       "<table border=\"1\" class=\"dataframe\">\n",
       "  <thead>\n",
       "    <tr style=\"text-align: right;\">\n",
       "      <th></th>\n",
       "      <th>sharpes</th>\n",
       "    </tr>\n",
       "    <tr>\n",
       "      <th>ticker</th>\n",
       "      <th></th>\n",
       "    </tr>\n",
       "  </thead>\n",
       "  <tbody>\n",
       "    <tr>\n",
       "      <th>DVN</th>\n",
       "      <td>-0.09174995</td>\n",
       "    </tr>\n",
       "    <tr>\n",
       "      <th>APA</th>\n",
       "      <td>-0.08042712</td>\n",
       "    </tr>\n",
       "    <tr>\n",
       "      <th>OXY</th>\n",
       "      <td>0.01743228</td>\n",
       "    </tr>\n",
       "    <tr>\n",
       "      <th>NOV</th>\n",
       "      <td>0.05621413</td>\n",
       "    </tr>\n",
       "    <tr>\n",
       "      <th>XOM</th>\n",
       "      <td>0.06812820</td>\n",
       "    </tr>\n",
       "    <tr>\n",
       "      <th>...</th>\n",
       "      <td>...</td>\n",
       "    </tr>\n",
       "    <tr>\n",
       "      <th>NI</th>\n",
       "      <td>1.10630802</td>\n",
       "    </tr>\n",
       "    <tr>\n",
       "      <th>CMS</th>\n",
       "      <td>1.13490654</td>\n",
       "    </tr>\n",
       "    <tr>\n",
       "      <th>FISV</th>\n",
       "      <td>1.14623849</td>\n",
       "    </tr>\n",
       "    <tr>\n",
       "      <th>HD</th>\n",
       "      <td>1.18673032</td>\n",
       "    </tr>\n",
       "    <tr>\n",
       "      <th>CTAS</th>\n",
       "      <td>1.19116706</td>\n",
       "    </tr>\n",
       "  </tbody>\n",
       "</table>\n",
       "<p>226 rows × 1 columns</p>\n",
       "</div>"
      ],
      "text/plain": [
       "           sharpes\n",
       "ticker            \n",
       "DVN    -0.09174995\n",
       "APA    -0.08042712\n",
       "OXY     0.01743228\n",
       "NOV     0.05621413\n",
       "XOM     0.06812820\n",
       "...            ...\n",
       "NI      1.10630802\n",
       "CMS     1.13490654\n",
       "FISV    1.14623849\n",
       "HD      1.18673032\n",
       "CTAS    1.19116706\n",
       "\n",
       "[226 rows x 1 columns]"
      ]
     },
     "execution_count": 69,
     "metadata": {},
     "output_type": "execute_result"
    }
   ],
   "source": [
    "sharpes_PC.sort_values(by='sharpes')"
   ]
  },
  {
   "cell_type": "code",
   "execution_count": 70,
   "id": "22c36e6f",
   "metadata": {
    "scrolled": true
   },
   "outputs": [
    {
     "data": {
      "text/html": [
       "<div>\n",
       "<style scoped>\n",
       "    .dataframe tbody tr th:only-of-type {\n",
       "        vertical-align: middle;\n",
       "    }\n",
       "\n",
       "    .dataframe tbody tr th {\n",
       "        vertical-align: top;\n",
       "    }\n",
       "\n",
       "    .dataframe thead th {\n",
       "        text-align: right;\n",
       "    }\n",
       "</style>\n",
       "<table border=\"1\" class=\"dataframe\">\n",
       "  <thead>\n",
       "    <tr style=\"text-align: right;\">\n",
       "      <th></th>\n",
       "      <th>sharpes</th>\n",
       "    </tr>\n",
       "    <tr>\n",
       "      <th>ticker</th>\n",
       "      <th></th>\n",
       "    </tr>\n",
       "  </thead>\n",
       "  <tbody>\n",
       "    <tr>\n",
       "      <th>APA</th>\n",
       "      <td>-0.08063525</td>\n",
       "    </tr>\n",
       "    <tr>\n",
       "      <th>DVN</th>\n",
       "      <td>-0.06774496</td>\n",
       "    </tr>\n",
       "    <tr>\n",
       "      <th>OXY</th>\n",
       "      <td>0.00844811</td>\n",
       "    </tr>\n",
       "    <tr>\n",
       "      <th>NOV</th>\n",
       "      <td>0.04341343</td>\n",
       "    </tr>\n",
       "    <tr>\n",
       "      <th>XOM</th>\n",
       "      <td>0.05761925</td>\n",
       "    </tr>\n",
       "    <tr>\n",
       "      <th>...</th>\n",
       "      <td>...</td>\n",
       "    </tr>\n",
       "    <tr>\n",
       "      <th>HD</th>\n",
       "      <td>1.24443377</td>\n",
       "    </tr>\n",
       "    <tr>\n",
       "      <th>CMS</th>\n",
       "      <td>1.26435842</td>\n",
       "    </tr>\n",
       "    <tr>\n",
       "      <th>NI</th>\n",
       "      <td>1.28138444</td>\n",
       "    </tr>\n",
       "    <tr>\n",
       "      <th>FISV</th>\n",
       "      <td>1.35116017</td>\n",
       "    </tr>\n",
       "    <tr>\n",
       "      <th>CTAS</th>\n",
       "      <td>1.40823477</td>\n",
       "    </tr>\n",
       "  </tbody>\n",
       "</table>\n",
       "<p>226 rows × 1 columns</p>\n",
       "</div>"
      ],
      "text/plain": [
       "           sharpes\n",
       "ticker            \n",
       "APA    -0.08063525\n",
       "DVN    -0.06774496\n",
       "OXY     0.00844811\n",
       "NOV     0.04341343\n",
       "XOM     0.05761925\n",
       "...            ...\n",
       "HD      1.24443377\n",
       "CMS     1.26435842\n",
       "NI      1.28138444\n",
       "FISV    1.35116017\n",
       "CTAS    1.40823477\n",
       "\n",
       "[226 rows x 1 columns]"
      ]
     },
     "execution_count": 70,
     "metadata": {},
     "output_type": "execute_result"
    }
   ],
   "source": [
    "sharpes_monthly_PC.sort_values(by='sharpes')"
   ]
  },
  {
   "cell_type": "code",
   "execution_count": 71,
   "id": "243cdb07",
   "metadata": {
    "scrolled": false
   },
   "outputs": [
    {
     "data": {
      "text/plain": [
       "sharpes    0.6248492\n",
       "dtype: float64"
      ]
     },
     "execution_count": 71,
     "metadata": {},
     "output_type": "execute_result"
    }
   ],
   "source": [
    "sharpes_PC.sort_values(by='sharpes').mean()"
   ]
  },
  {
   "cell_type": "code",
   "execution_count": 72,
   "id": "f5149db3",
   "metadata": {
    "scrolled": true
   },
   "outputs": [
    {
     "data": {
      "text/plain": [
       "sharpes    0.66312193\n",
       "dtype: float64"
      ]
     },
     "execution_count": 72,
     "metadata": {},
     "output_type": "execute_result"
    }
   ],
   "source": [
    "sharpes_monthly_PC.sort_values(by='sharpes').mean()"
   ]
  },
  {
   "cell_type": "markdown",
   "id": "aa3cc8b8",
   "metadata": {},
   "source": [
    "### EXPORT"
   ]
  },
  {
   "cell_type": "code",
   "execution_count": 73,
   "id": "663be421",
   "metadata": {},
   "outputs": [],
   "source": [
    "sharpes_PC.to_csv('Export/sharpes_PC.csv')\n",
    "sharpes_monthly_PC.to_csv('Export/sharpes_monthly_PC.csv')"
   ]
  },
  {
   "cell_type": "markdown",
   "id": "3e715956",
   "metadata": {},
   "source": [
    "> ### Sharpes calcs with Excess - Direct (OCO)"
   ]
  },
  {
   "cell_type": "code",
   "execution_count": 74,
   "id": "af4facd3",
   "metadata": {},
   "outputs": [],
   "source": [
    "excess_returns_OCO = returns_OCO.sub(tbills['tbill'], axis = 0)\n",
    "excess_returns_monthly_OCO = monthly_returns_OCO.sub(tbills_monthly['tbill'], axis = 0)"
   ]
  },
  {
   "cell_type": "code",
   "execution_count": 75,
   "id": "0b17aafd",
   "metadata": {},
   "outputs": [],
   "source": [
    "sharpes_OCO = pd.DataFrame(excess_returns_OCO.mean()/returns_OCO.std())\n",
    "#sharpes = pd.DataFrame(returns.mean()/returns.std())\n",
    "\n",
    "\n",
    "sharpes_monthly_OCO = pd.DataFrame(excess_returns_monthly_OCO.mean()/monthly_returns_OCO.std())\n",
    "#sharpes_monthly = pd.DataFrame(monthly_returns.mean()/monthly_returns.std())\n",
    "\n",
    "sharpes_OCO = sharpes_OCO*(252)**0.5\n",
    "sharpes_monthly_OCO = sharpes_monthly_OCO*(12)**0.5"
   ]
  },
  {
   "cell_type": "code",
   "execution_count": 76,
   "id": "4a727dc5",
   "metadata": {},
   "outputs": [],
   "source": [
    "sharpes_OCO.columns = ['sharpes']\n",
    "sharpes_monthly_OCO.columns = ['sharpes']"
   ]
  },
  {
   "cell_type": "code",
   "execution_count": 77,
   "id": "54001ea3",
   "metadata": {},
   "outputs": [],
   "source": [
    "sharpes_OCO.index.name = 'ticker'\n",
    "sharpes_monthly_OCO.index.name = 'ticker'"
   ]
  },
  {
   "cell_type": "code",
   "execution_count": 78,
   "id": "26bed453",
   "metadata": {
    "scrolled": true
   },
   "outputs": [
    {
     "data": {
      "text/html": [
       "<div>\n",
       "<style scoped>\n",
       "    .dataframe tbody tr th:only-of-type {\n",
       "        vertical-align: middle;\n",
       "    }\n",
       "\n",
       "    .dataframe tbody tr th {\n",
       "        vertical-align: top;\n",
       "    }\n",
       "\n",
       "    .dataframe thead th {\n",
       "        text-align: right;\n",
       "    }\n",
       "</style>\n",
       "<table border=\"1\" class=\"dataframe\">\n",
       "  <thead>\n",
       "    <tr style=\"text-align: right;\">\n",
       "      <th></th>\n",
       "      <th>sharpes</th>\n",
       "    </tr>\n",
       "    <tr>\n",
       "      <th>ticker</th>\n",
       "      <th></th>\n",
       "    </tr>\n",
       "  </thead>\n",
       "  <tbody>\n",
       "    <tr>\n",
       "      <th>F</th>\n",
       "      <td>-0.84279601</td>\n",
       "    </tr>\n",
       "    <tr>\n",
       "      <th>BAC</th>\n",
       "      <td>-0.72981199</td>\n",
       "    </tr>\n",
       "    <tr>\n",
       "      <th>FCX</th>\n",
       "      <td>-0.52835816</td>\n",
       "    </tr>\n",
       "    <tr>\n",
       "      <th>DVN</th>\n",
       "      <td>-0.49781592</td>\n",
       "    </tr>\n",
       "    <tr>\n",
       "      <th>T</th>\n",
       "      <td>-0.46176320</td>\n",
       "    </tr>\n",
       "    <tr>\n",
       "      <th>...</th>\n",
       "      <td>...</td>\n",
       "    </tr>\n",
       "    <tr>\n",
       "      <th>VRSN</th>\n",
       "      <td>1.12698210</td>\n",
       "    </tr>\n",
       "    <tr>\n",
       "      <th>HSY</th>\n",
       "      <td>1.23984924</td>\n",
       "    </tr>\n",
       "    <tr>\n",
       "      <th>SHW</th>\n",
       "      <td>1.31123173</td>\n",
       "    </tr>\n",
       "    <tr>\n",
       "      <th>FISV</th>\n",
       "      <td>1.35472315</td>\n",
       "    </tr>\n",
       "    <tr>\n",
       "      <th>INTU</th>\n",
       "      <td>1.36303645</td>\n",
       "    </tr>\n",
       "  </tbody>\n",
       "</table>\n",
       "<p>226 rows × 1 columns</p>\n",
       "</div>"
      ],
      "text/plain": [
       "           sharpes\n",
       "ticker            \n",
       "F      -0.84279601\n",
       "BAC    -0.72981199\n",
       "FCX    -0.52835816\n",
       "DVN    -0.49781592\n",
       "T      -0.46176320\n",
       "...            ...\n",
       "VRSN    1.12698210\n",
       "HSY     1.23984924\n",
       "SHW     1.31123173\n",
       "FISV    1.35472315\n",
       "INTU    1.36303645\n",
       "\n",
       "[226 rows x 1 columns]"
      ]
     },
     "execution_count": 78,
     "metadata": {},
     "output_type": "execute_result"
    }
   ],
   "source": [
    "sharpes_OCO.sort_values(by='sharpes')"
   ]
  },
  {
   "cell_type": "code",
   "execution_count": 79,
   "id": "e015ff1e",
   "metadata": {
    "scrolled": true
   },
   "outputs": [
    {
     "data": {
      "text/html": [
       "<div>\n",
       "<style scoped>\n",
       "    .dataframe tbody tr th:only-of-type {\n",
       "        vertical-align: middle;\n",
       "    }\n",
       "\n",
       "    .dataframe tbody tr th {\n",
       "        vertical-align: top;\n",
       "    }\n",
       "\n",
       "    .dataframe thead th {\n",
       "        text-align: right;\n",
       "    }\n",
       "</style>\n",
       "<table border=\"1\" class=\"dataframe\">\n",
       "  <thead>\n",
       "    <tr style=\"text-align: right;\">\n",
       "      <th></th>\n",
       "      <th>sharpes</th>\n",
       "    </tr>\n",
       "    <tr>\n",
       "      <th>ticker</th>\n",
       "      <th></th>\n",
       "    </tr>\n",
       "  </thead>\n",
       "  <tbody>\n",
       "    <tr>\n",
       "      <th>F</th>\n",
       "      <td>-0.79212502</td>\n",
       "    </tr>\n",
       "    <tr>\n",
       "      <th>BAC</th>\n",
       "      <td>-0.61764227</td>\n",
       "    </tr>\n",
       "    <tr>\n",
       "      <th>MU</th>\n",
       "      <td>-0.49637062</td>\n",
       "    </tr>\n",
       "    <tr>\n",
       "      <th>MRO</th>\n",
       "      <td>-0.46358456</td>\n",
       "    </tr>\n",
       "    <tr>\n",
       "      <th>DVN</th>\n",
       "      <td>-0.46166430</td>\n",
       "    </tr>\n",
       "    <tr>\n",
       "      <th>...</th>\n",
       "      <td>...</td>\n",
       "    </tr>\n",
       "    <tr>\n",
       "      <th>MMC</th>\n",
       "      <td>1.13392206</td>\n",
       "    </tr>\n",
       "    <tr>\n",
       "      <th>HSY</th>\n",
       "      <td>1.15673264</td>\n",
       "    </tr>\n",
       "    <tr>\n",
       "      <th>SHW</th>\n",
       "      <td>1.29382253</td>\n",
       "    </tr>\n",
       "    <tr>\n",
       "      <th>FISV</th>\n",
       "      <td>1.40237752</td>\n",
       "    </tr>\n",
       "    <tr>\n",
       "      <th>INTU</th>\n",
       "      <td>1.44848566</td>\n",
       "    </tr>\n",
       "  </tbody>\n",
       "</table>\n",
       "<p>226 rows × 1 columns</p>\n",
       "</div>"
      ],
      "text/plain": [
       "           sharpes\n",
       "ticker            \n",
       "F      -0.79212502\n",
       "BAC    -0.61764227\n",
       "MU     -0.49637062\n",
       "MRO    -0.46358456\n",
       "DVN    -0.46166430\n",
       "...            ...\n",
       "MMC     1.13392206\n",
       "HSY     1.15673264\n",
       "SHW     1.29382253\n",
       "FISV    1.40237752\n",
       "INTU    1.44848566\n",
       "\n",
       "[226 rows x 1 columns]"
      ]
     },
     "execution_count": 79,
     "metadata": {},
     "output_type": "execute_result"
    }
   ],
   "source": [
    "sharpes_monthly_OCO.sort_values(by='sharpes')"
   ]
  },
  {
   "cell_type": "code",
   "execution_count": 80,
   "id": "68f59680",
   "metadata": {
    "scrolled": false
   },
   "outputs": [
    {
     "data": {
      "text/plain": [
       "sharpes    0.37346563\n",
       "dtype: float64"
      ]
     },
     "execution_count": 80,
     "metadata": {},
     "output_type": "execute_result"
    }
   ],
   "source": [
    "sharpes_OCO.sort_values(by='sharpes').mean()"
   ]
  },
  {
   "cell_type": "code",
   "execution_count": 81,
   "id": "d9bc0ed7",
   "metadata": {
    "scrolled": false
   },
   "outputs": [
    {
     "data": {
      "text/plain": [
       "sharpes    0.37719524\n",
       "dtype: float64"
      ]
     },
     "execution_count": 81,
     "metadata": {},
     "output_type": "execute_result"
    }
   ],
   "source": [
    "sharpes_monthly_OCO.sort_values(by='sharpes').mean()"
   ]
  },
  {
   "cell_type": "markdown",
   "id": "ddadc23c",
   "metadata": {},
   "source": [
    "### EXPORT"
   ]
  },
  {
   "cell_type": "code",
   "execution_count": 82,
   "id": "494ac6ff",
   "metadata": {},
   "outputs": [],
   "source": [
    "sharpes_OCO.to_csv('Export/sharpes_OCO.csv')\n",
    "sharpes_monthly_OCO.to_csv('Export/sharpes_monthly_OCO.csv')"
   ]
  },
  {
   "cell_type": "markdown",
   "id": "ad26e696",
   "metadata": {},
   "source": [
    "> ### Sharpes calcs with Excess - Diff (PC)"
   ]
  },
  {
   "cell_type": "code",
   "execution_count": 83,
   "id": "6b62ec6b",
   "metadata": {},
   "outputs": [],
   "source": [
    "excess_returns_diff_PC = returns_PC.sub(tbills_diff['tbill'], axis = 0)\n",
    "excess_returns_monthly_diff_PC = monthly_returns_PC.sub(tbills_diff_monthly['tbill'], axis = 0)"
   ]
  },
  {
   "cell_type": "code",
   "execution_count": 84,
   "id": "0f84857c",
   "metadata": {},
   "outputs": [],
   "source": [
    "sharpes_diff_PC = pd.DataFrame(excess_returns_diff_PC.mean()/returns_PC.std())\n",
    "sharpes_monthly_diff_PC = pd.DataFrame(excess_returns_monthly_diff_PC.mean()/returns_PC.std())\n",
    "\n",
    "sharpes_diff_PC = sharpes_diff_PC*(252)**0.5\n",
    "sharpes_monthly_diff_PC = sharpes_monthly_diff_PC*(12)**0.5"
   ]
  },
  {
   "cell_type": "code",
   "execution_count": 85,
   "id": "25e12316",
   "metadata": {},
   "outputs": [],
   "source": [
    "sharpes_diff_PC.columns = ['sharpes']\n",
    "sharpes_monthly_diff_PC.columns = ['sharpes']"
   ]
  },
  {
   "cell_type": "code",
   "execution_count": 86,
   "id": "755c443c",
   "metadata": {},
   "outputs": [],
   "source": [
    "sharpes_diff_PC.index.name = 'ticker'\n",
    "sharpes_monthly_diff_PC.index.name = 'ticker'"
   ]
  },
  {
   "cell_type": "code",
   "execution_count": 87,
   "id": "b7119583",
   "metadata": {
    "scrolled": false
   },
   "outputs": [
    {
     "data": {
      "text/html": [
       "<div>\n",
       "<style scoped>\n",
       "    .dataframe tbody tr th:only-of-type {\n",
       "        vertical-align: middle;\n",
       "    }\n",
       "\n",
       "    .dataframe tbody tr th {\n",
       "        vertical-align: top;\n",
       "    }\n",
       "\n",
       "    .dataframe thead th {\n",
       "        text-align: right;\n",
       "    }\n",
       "</style>\n",
       "<table border=\"1\" class=\"dataframe\">\n",
       "  <thead>\n",
       "    <tr style=\"text-align: right;\">\n",
       "      <th></th>\n",
       "      <th>sharpes</th>\n",
       "    </tr>\n",
       "    <tr>\n",
       "      <th>ticker</th>\n",
       "      <th></th>\n",
       "    </tr>\n",
       "  </thead>\n",
       "  <tbody>\n",
       "    <tr>\n",
       "      <th>DVN</th>\n",
       "      <td>-0.03152392</td>\n",
       "    </tr>\n",
       "    <tr>\n",
       "      <th>APA</th>\n",
       "      <td>-0.02079243</td>\n",
       "    </tr>\n",
       "    <tr>\n",
       "      <th>OXY</th>\n",
       "      <td>0.10078572</td>\n",
       "    </tr>\n",
       "    <tr>\n",
       "      <th>NOV</th>\n",
       "      <td>0.11964176</td>\n",
       "    </tr>\n",
       "    <tr>\n",
       "      <th>FCX</th>\n",
       "      <td>0.13814301</td>\n",
       "    </tr>\n",
       "    <tr>\n",
       "      <th>...</th>\n",
       "      <td>...</td>\n",
       "    </tr>\n",
       "    <tr>\n",
       "      <th>NI</th>\n",
       "      <td>1.22333852</td>\n",
       "    </tr>\n",
       "    <tr>\n",
       "      <th>FISV</th>\n",
       "      <td>1.26122920</td>\n",
       "    </tr>\n",
       "    <tr>\n",
       "      <th>CMS</th>\n",
       "      <td>1.26710820</td>\n",
       "    </tr>\n",
       "    <tr>\n",
       "      <th>CTAS</th>\n",
       "      <td>1.29498728</td>\n",
       "    </tr>\n",
       "    <tr>\n",
       "      <th>HD</th>\n",
       "      <td>1.29753622</td>\n",
       "    </tr>\n",
       "  </tbody>\n",
       "</table>\n",
       "<p>226 rows × 1 columns</p>\n",
       "</div>"
      ],
      "text/plain": [
       "           sharpes\n",
       "ticker            \n",
       "DVN    -0.03152392\n",
       "APA    -0.02079243\n",
       "OXY     0.10078572\n",
       "NOV     0.11964176\n",
       "FCX     0.13814301\n",
       "...            ...\n",
       "NI      1.22333852\n",
       "FISV    1.26122920\n",
       "CMS     1.26710820\n",
       "CTAS    1.29498728\n",
       "HD      1.29753622\n",
       "\n",
       "[226 rows x 1 columns]"
      ]
     },
     "execution_count": 87,
     "metadata": {},
     "output_type": "execute_result"
    }
   ],
   "source": [
    "sharpes_diff_PC.sort_values(by='sharpes')"
   ]
  },
  {
   "cell_type": "code",
   "execution_count": 88,
   "id": "63e49a5b",
   "metadata": {
    "scrolled": true
   },
   "outputs": [
    {
     "data": {
      "text/html": [
       "<div>\n",
       "<style scoped>\n",
       "    .dataframe tbody tr th:only-of-type {\n",
       "        vertical-align: middle;\n",
       "    }\n",
       "\n",
       "    .dataframe tbody tr th {\n",
       "        vertical-align: top;\n",
       "    }\n",
       "\n",
       "    .dataframe thead th {\n",
       "        text-align: right;\n",
       "    }\n",
       "</style>\n",
       "<table border=\"1\" class=\"dataframe\">\n",
       "  <thead>\n",
       "    <tr style=\"text-align: right;\">\n",
       "      <th></th>\n",
       "      <th>sharpes</th>\n",
       "    </tr>\n",
       "    <tr>\n",
       "      <th>ticker</th>\n",
       "      <th></th>\n",
       "    </tr>\n",
       "  </thead>\n",
       "  <tbody>\n",
       "    <tr>\n",
       "      <th>APA</th>\n",
       "      <td>-0.09392850</td>\n",
       "    </tr>\n",
       "    <tr>\n",
       "      <th>DVN</th>\n",
       "      <td>-0.05019375</td>\n",
       "    </tr>\n",
       "    <tr>\n",
       "      <th>OXY</th>\n",
       "      <td>0.41476761</td>\n",
       "    </tr>\n",
       "    <tr>\n",
       "      <th>NOV</th>\n",
       "      <td>0.47844727</td>\n",
       "    </tr>\n",
       "    <tr>\n",
       "      <th>MRO</th>\n",
       "      <td>0.61774843</td>\n",
       "    </tr>\n",
       "    <tr>\n",
       "      <th>...</th>\n",
       "      <td>...</td>\n",
       "    </tr>\n",
       "    <tr>\n",
       "      <th>NI</th>\n",
       "      <td>5.42916292</td>\n",
       "    </tr>\n",
       "    <tr>\n",
       "      <th>FISV</th>\n",
       "      <td>5.58856041</td>\n",
       "    </tr>\n",
       "    <tr>\n",
       "      <th>CMS</th>\n",
       "      <td>5.66943915</td>\n",
       "    </tr>\n",
       "    <tr>\n",
       "      <th>CTAS</th>\n",
       "      <td>5.73555429</td>\n",
       "    </tr>\n",
       "    <tr>\n",
       "      <th>HD</th>\n",
       "      <td>5.85250328</td>\n",
       "    </tr>\n",
       "  </tbody>\n",
       "</table>\n",
       "<p>226 rows × 1 columns</p>\n",
       "</div>"
      ],
      "text/plain": [
       "           sharpes\n",
       "ticker            \n",
       "APA    -0.09392850\n",
       "DVN    -0.05019375\n",
       "OXY     0.41476761\n",
       "NOV     0.47844727\n",
       "MRO     0.61774843\n",
       "...            ...\n",
       "NI      5.42916292\n",
       "FISV    5.58856041\n",
       "CMS     5.66943915\n",
       "CTAS    5.73555429\n",
       "HD      5.85250328\n",
       "\n",
       "[226 rows x 1 columns]"
      ]
     },
     "execution_count": 88,
     "metadata": {},
     "output_type": "execute_result"
    }
   ],
   "source": [
    "sharpes_monthly_diff_PC.sort_values(by='sharpes')"
   ]
  },
  {
   "cell_type": "code",
   "execution_count": 89,
   "id": "34026ad4",
   "metadata": {
    "scrolled": false
   },
   "outputs": [
    {
     "data": {
      "text/plain": [
       "sharpes    0.71938084\n",
       "dtype: float64"
      ]
     },
     "execution_count": 89,
     "metadata": {},
     "output_type": "execute_result"
    }
   ],
   "source": [
    "sharpes_diff_PC.sort_values(by='sharpes').mean()"
   ]
  },
  {
   "cell_type": "code",
   "execution_count": 90,
   "id": "820ae558",
   "metadata": {
    "scrolled": false
   },
   "outputs": [
    {
     "data": {
      "text/plain": [
       "sharpes    3.18858851\n",
       "dtype: float64"
      ]
     },
     "execution_count": 90,
     "metadata": {},
     "output_type": "execute_result"
    }
   ],
   "source": [
    "sharpes_monthly_diff_PC.sort_values(by='sharpes').mean()"
   ]
  },
  {
   "cell_type": "markdown",
   "id": "1b136c26",
   "metadata": {},
   "source": [
    "### EXPORT"
   ]
  },
  {
   "cell_type": "code",
   "execution_count": 91,
   "id": "64931969",
   "metadata": {},
   "outputs": [],
   "source": [
    "sharpes_diff_PC.to_csv('Export/sharpes_diff_PC.csv')\n",
    "sharpes_monthly_diff_PC.to_csv('Export/sharpes_monthly_diff_PC.csv')"
   ]
  },
  {
   "cell_type": "markdown",
   "id": "daf0d413",
   "metadata": {},
   "source": [
    "> ### Sharpes calcs with Excess - Diff (OCO)"
   ]
  },
  {
   "cell_type": "code",
   "execution_count": 92,
   "id": "7e485661",
   "metadata": {},
   "outputs": [],
   "source": [
    "excess_returns_diff_OCO = returns_OCO.sub(tbills_diff['tbill'], axis = 0)\n",
    "excess_returns_monthly_diff_OCO = monthly_returns_OCO.sub(tbills_diff_monthly['tbill'], axis = 0)"
   ]
  },
  {
   "cell_type": "code",
   "execution_count": 93,
   "id": "a3ef3c1f",
   "metadata": {},
   "outputs": [],
   "source": [
    "sharpes_diff_OCO = pd.DataFrame(excess_returns_diff_OCO.mean()/returns_OCO.std())\n",
    "sharpes_monthly_diff_OCO = pd.DataFrame(excess_returns_monthly_diff_OCO.mean()/returns_OCO.std())\n",
    "\n",
    "sharpes_diff_OCO = sharpes_diff_OCO*(252)**0.5\n",
    "sharpes_monthly_diff_OCO = sharpes_monthly_diff_OCO*(12)**0.5"
   ]
  },
  {
   "cell_type": "code",
   "execution_count": 94,
   "id": "f3acb427",
   "metadata": {},
   "outputs": [],
   "source": [
    "sharpes_diff_OCO.columns = ['sharpes']\n",
    "sharpes_monthly_diff_OCO.columns = ['sharpes']"
   ]
  },
  {
   "cell_type": "code",
   "execution_count": 95,
   "id": "4ba46dd5",
   "metadata": {},
   "outputs": [],
   "source": [
    "sharpes_diff_OCO.index.name = 'ticker'\n",
    "sharpes_monthly_diff_OCO.index.name = 'ticker'"
   ]
  },
  {
   "cell_type": "code",
   "execution_count": 96,
   "id": "6d148ed7",
   "metadata": {
    "scrolled": false
   },
   "outputs": [
    {
     "data": {
      "text/html": [
       "<div>\n",
       "<style scoped>\n",
       "    .dataframe tbody tr th:only-of-type {\n",
       "        vertical-align: middle;\n",
       "    }\n",
       "\n",
       "    .dataframe tbody tr th {\n",
       "        vertical-align: top;\n",
       "    }\n",
       "\n",
       "    .dataframe thead th {\n",
       "        text-align: right;\n",
       "    }\n",
       "</style>\n",
       "<table border=\"1\" class=\"dataframe\">\n",
       "  <thead>\n",
       "    <tr style=\"text-align: right;\">\n",
       "      <th></th>\n",
       "      <th>sharpes</th>\n",
       "    </tr>\n",
       "    <tr>\n",
       "      <th>ticker</th>\n",
       "      <th></th>\n",
       "    </tr>\n",
       "  </thead>\n",
       "  <tbody>\n",
       "    <tr>\n",
       "      <th>F</th>\n",
       "      <td>-0.74986674</td>\n",
       "    </tr>\n",
       "    <tr>\n",
       "      <th>BAC</th>\n",
       "      <td>-0.64687686</td>\n",
       "    </tr>\n",
       "    <tr>\n",
       "      <th>FCX</th>\n",
       "      <td>-0.47297146</td>\n",
       "    </tr>\n",
       "    <tr>\n",
       "      <th>DVN</th>\n",
       "      <td>-0.42561943</td>\n",
       "    </tr>\n",
       "    <tr>\n",
       "      <th>MRO</th>\n",
       "      <td>-0.38360177</td>\n",
       "    </tr>\n",
       "    <tr>\n",
       "      <th>...</th>\n",
       "      <td>...</td>\n",
       "    </tr>\n",
       "    <tr>\n",
       "      <th>MMC</th>\n",
       "      <td>1.25382541</td>\n",
       "    </tr>\n",
       "    <tr>\n",
       "      <th>HSY</th>\n",
       "      <td>1.37910655</td>\n",
       "    </tr>\n",
       "    <tr>\n",
       "      <th>SHW</th>\n",
       "      <td>1.42862237</td>\n",
       "    </tr>\n",
       "    <tr>\n",
       "      <th>INTU</th>\n",
       "      <td>1.47782037</td>\n",
       "    </tr>\n",
       "    <tr>\n",
       "      <th>FISV</th>\n",
       "      <td>1.48734249</td>\n",
       "    </tr>\n",
       "  </tbody>\n",
       "</table>\n",
       "<p>226 rows × 1 columns</p>\n",
       "</div>"
      ],
      "text/plain": [
       "           sharpes\n",
       "ticker            \n",
       "F      -0.74986674\n",
       "BAC    -0.64687686\n",
       "FCX    -0.47297146\n",
       "DVN    -0.42561943\n",
       "MRO    -0.38360177\n",
       "...            ...\n",
       "MMC     1.25382541\n",
       "HSY     1.37910655\n",
       "SHW     1.42862237\n",
       "INTU    1.47782037\n",
       "FISV    1.48734249\n",
       "\n",
       "[226 rows x 1 columns]"
      ]
     },
     "execution_count": 96,
     "metadata": {},
     "output_type": "execute_result"
    }
   ],
   "source": [
    "sharpes_diff_OCO.sort_values(by='sharpes')"
   ]
  },
  {
   "cell_type": "code",
   "execution_count": 97,
   "id": "ebfcf66b",
   "metadata": {
    "scrolled": true
   },
   "outputs": [
    {
     "data": {
      "text/html": [
       "<div>\n",
       "<style scoped>\n",
       "    .dataframe tbody tr th:only-of-type {\n",
       "        vertical-align: middle;\n",
       "    }\n",
       "\n",
       "    .dataframe tbody tr th {\n",
       "        vertical-align: top;\n",
       "    }\n",
       "\n",
       "    .dataframe thead th {\n",
       "        text-align: right;\n",
       "    }\n",
       "</style>\n",
       "<table border=\"1\" class=\"dataframe\">\n",
       "  <thead>\n",
       "    <tr style=\"text-align: right;\">\n",
       "      <th></th>\n",
       "      <th>sharpes</th>\n",
       "    </tr>\n",
       "    <tr>\n",
       "      <th>ticker</th>\n",
       "      <th></th>\n",
       "    </tr>\n",
       "  </thead>\n",
       "  <tbody>\n",
       "    <tr>\n",
       "      <th>F</th>\n",
       "      <td>-3.30387321</td>\n",
       "    </tr>\n",
       "    <tr>\n",
       "      <th>BAC</th>\n",
       "      <td>-2.72250945</td>\n",
       "    </tr>\n",
       "    <tr>\n",
       "      <th>DVN</th>\n",
       "      <td>-1.86127420</td>\n",
       "    </tr>\n",
       "    <tr>\n",
       "      <th>MRO</th>\n",
       "      <td>-1.74676509</td>\n",
       "    </tr>\n",
       "    <tr>\n",
       "      <th>FCX</th>\n",
       "      <td>-1.74344676</td>\n",
       "    </tr>\n",
       "    <tr>\n",
       "      <th>...</th>\n",
       "      <td>...</td>\n",
       "    </tr>\n",
       "    <tr>\n",
       "      <th>MMC</th>\n",
       "      <td>5.67200664</td>\n",
       "    </tr>\n",
       "    <tr>\n",
       "      <th>HSY</th>\n",
       "      <td>6.31312466</td>\n",
       "    </tr>\n",
       "    <tr>\n",
       "      <th>SHW</th>\n",
       "      <td>6.50743824</td>\n",
       "    </tr>\n",
       "    <tr>\n",
       "      <th>INTU</th>\n",
       "      <td>6.66798655</td>\n",
       "    </tr>\n",
       "    <tr>\n",
       "      <th>FISV</th>\n",
       "      <td>6.72528257</td>\n",
       "    </tr>\n",
       "  </tbody>\n",
       "</table>\n",
       "<p>226 rows × 1 columns</p>\n",
       "</div>"
      ],
      "text/plain": [
       "           sharpes\n",
       "ticker            \n",
       "F      -3.30387321\n",
       "BAC    -2.72250945\n",
       "DVN    -1.86127420\n",
       "MRO    -1.74676509\n",
       "FCX    -1.74344676\n",
       "...            ...\n",
       "MMC     5.67200664\n",
       "HSY     6.31312466\n",
       "SHW     6.50743824\n",
       "INTU    6.66798655\n",
       "FISV    6.72528257\n",
       "\n",
       "[226 rows x 1 columns]"
      ]
     },
     "execution_count": 97,
     "metadata": {},
     "output_type": "execute_result"
    }
   ],
   "source": [
    "sharpes_monthly_diff_OCO.sort_values(by='sharpes')"
   ]
  },
  {
   "cell_type": "code",
   "execution_count": 98,
   "id": "861d2ca3",
   "metadata": {
    "scrolled": false
   },
   "outputs": [
    {
     "data": {
      "text/plain": [
       "sharpes    0.48583356\n",
       "dtype: float64"
      ]
     },
     "execution_count": 98,
     "metadata": {},
     "output_type": "execute_result"
    }
   ],
   "source": [
    "sharpes_diff_OCO.sort_values(by='sharpes').mean()"
   ]
  },
  {
   "cell_type": "code",
   "execution_count": 99,
   "id": "7b7f224b",
   "metadata": {
    "scrolled": false
   },
   "outputs": [
    {
     "data": {
      "text/plain": [
       "sharpes    2.18945196\n",
       "dtype: float64"
      ]
     },
     "execution_count": 99,
     "metadata": {},
     "output_type": "execute_result"
    }
   ],
   "source": [
    "sharpes_monthly_diff_OCO.sort_values(by='sharpes').mean()"
   ]
  },
  {
   "cell_type": "markdown",
   "id": "e0ca3ef1",
   "metadata": {},
   "source": [
    "### EXPORT"
   ]
  },
  {
   "cell_type": "code",
   "execution_count": 100,
   "id": "97fd1f27",
   "metadata": {},
   "outputs": [],
   "source": [
    "sharpes_diff_OCO.to_csv('Export/sharpes_diff_OCO.csv')\n",
    "sharpes_monthly_diff_OCO.to_csv('Export/sharpes_monthly_diff_OCO.csv')"
   ]
  },
  {
   "cell_type": "markdown",
   "id": "4960982b",
   "metadata": {},
   "source": [
    "> ### Sharpes, No Excess (PC)"
   ]
  },
  {
   "cell_type": "code",
   "execution_count": 101,
   "id": "35a53fac",
   "metadata": {},
   "outputs": [],
   "source": [
    "sharpes_no_excess_PC = pd.DataFrame(returns_PC.mean()/returns_PC.std())\n",
    "sharpes_monthly_no_excess_PC = pd.DataFrame(monthly_returns_PC.mean()/monthly_returns_PC.std())\n",
    "\n",
    "sharpes_no_excess_PC = sharpes_no_excess_PC*(252)**0.5\n",
    "sharpes_monthly_no_excess_PC = sharpes_monthly_no_excess_PC*(12)**0.5"
   ]
  },
  {
   "cell_type": "code",
   "execution_count": 102,
   "id": "c8b2fd13",
   "metadata": {},
   "outputs": [],
   "source": [
    "sharpes_no_excess_PC.columns = ['sharpes']\n",
    "sharpes_monthly_no_excess_PC.columns = ['sharpes']"
   ]
  },
  {
   "cell_type": "code",
   "execution_count": 103,
   "id": "c155fbfb",
   "metadata": {},
   "outputs": [],
   "source": [
    "sharpes_no_excess_PC.index.name = 'ticker'\n",
    "sharpes_monthly_no_excess_PC.index.name = 'ticker'"
   ]
  },
  {
   "cell_type": "code",
   "execution_count": 104,
   "id": "76276659",
   "metadata": {
    "scrolled": false
   },
   "outputs": [
    {
     "data": {
      "text/html": [
       "<div>\n",
       "<style scoped>\n",
       "    .dataframe tbody tr th:only-of-type {\n",
       "        vertical-align: middle;\n",
       "    }\n",
       "\n",
       "    .dataframe tbody tr th {\n",
       "        vertical-align: top;\n",
       "    }\n",
       "\n",
       "    .dataframe thead th {\n",
       "        text-align: right;\n",
       "    }\n",
       "</style>\n",
       "<table border=\"1\" class=\"dataframe\">\n",
       "  <thead>\n",
       "    <tr style=\"text-align: right;\">\n",
       "      <th></th>\n",
       "      <th>sharpes</th>\n",
       "    </tr>\n",
       "    <tr>\n",
       "      <th>ticker</th>\n",
       "      <th></th>\n",
       "    </tr>\n",
       "  </thead>\n",
       "  <tbody>\n",
       "    <tr>\n",
       "      <th>DVN</th>\n",
       "      <td>-0.03146992</td>\n",
       "    </tr>\n",
       "    <tr>\n",
       "      <th>APA</th>\n",
       "      <td>-0.02073895</td>\n",
       "    </tr>\n",
       "    <tr>\n",
       "      <th>OXY</th>\n",
       "      <td>0.10086047</td>\n",
       "    </tr>\n",
       "    <tr>\n",
       "      <th>NOV</th>\n",
       "      <td>0.11969863</td>\n",
       "    </tr>\n",
       "    <tr>\n",
       "      <th>FCX</th>\n",
       "      <td>0.13818399</td>\n",
       "    </tr>\n",
       "    <tr>\n",
       "      <th>...</th>\n",
       "      <td>...</td>\n",
       "    </tr>\n",
       "    <tr>\n",
       "      <th>NI</th>\n",
       "      <td>1.22344346</td>\n",
       "    </tr>\n",
       "    <tr>\n",
       "      <th>FISV</th>\n",
       "      <td>1.26133231</td>\n",
       "    </tr>\n",
       "    <tr>\n",
       "      <th>CMS</th>\n",
       "      <td>1.26722674</td>\n",
       "    </tr>\n",
       "    <tr>\n",
       "      <th>CTAS</th>\n",
       "      <td>1.29508038</td>\n",
       "    </tr>\n",
       "    <tr>\n",
       "      <th>HD</th>\n",
       "      <td>1.29763558</td>\n",
       "    </tr>\n",
       "  </tbody>\n",
       "</table>\n",
       "<p>226 rows × 1 columns</p>\n",
       "</div>"
      ],
      "text/plain": [
       "           sharpes\n",
       "ticker            \n",
       "DVN    -0.03146992\n",
       "APA    -0.02073895\n",
       "OXY     0.10086047\n",
       "NOV     0.11969863\n",
       "FCX     0.13818399\n",
       "...            ...\n",
       "NI      1.22344346\n",
       "FISV    1.26133231\n",
       "CMS     1.26722674\n",
       "CTAS    1.29508038\n",
       "HD      1.29763558\n",
       "\n",
       "[226 rows x 1 columns]"
      ]
     },
     "execution_count": 104,
     "metadata": {},
     "output_type": "execute_result"
    }
   ],
   "source": [
    "sharpes_no_excess_PC.sort_values(by='sharpes')"
   ]
  },
  {
   "cell_type": "code",
   "execution_count": 105,
   "id": "620586c4",
   "metadata": {
    "scrolled": true
   },
   "outputs": [
    {
     "data": {
      "text/html": [
       "<div>\n",
       "<style scoped>\n",
       "    .dataframe tbody tr th:only-of-type {\n",
       "        vertical-align: middle;\n",
       "    }\n",
       "\n",
       "    .dataframe tbody tr th {\n",
       "        vertical-align: top;\n",
       "    }\n",
       "\n",
       "    .dataframe thead th {\n",
       "        text-align: right;\n",
       "    }\n",
       "</style>\n",
       "<table border=\"1\" class=\"dataframe\">\n",
       "  <thead>\n",
       "    <tr style=\"text-align: right;\">\n",
       "      <th></th>\n",
       "      <th>sharpes</th>\n",
       "    </tr>\n",
       "    <tr>\n",
       "      <th>ticker</th>\n",
       "      <th></th>\n",
       "    </tr>\n",
       "  </thead>\n",
       "  <tbody>\n",
       "    <tr>\n",
       "      <th>APA</th>\n",
       "      <td>-0.02081294</td>\n",
       "    </tr>\n",
       "    <tr>\n",
       "      <th>DVN</th>\n",
       "      <td>-0.01053243</td>\n",
       "    </tr>\n",
       "    <tr>\n",
       "      <th>OXY</th>\n",
       "      <td>0.09366183</td>\n",
       "    </tr>\n",
       "    <tr>\n",
       "      <th>NOV</th>\n",
       "      <td>0.10857907</td>\n",
       "    </tr>\n",
       "    <tr>\n",
       "      <th>MRO</th>\n",
       "      <td>0.13739681</td>\n",
       "    </tr>\n",
       "    <tr>\n",
       "      <th>...</th>\n",
       "      <td>...</td>\n",
       "    </tr>\n",
       "    <tr>\n",
       "      <th>HD</th>\n",
       "      <td>1.36109832</td>\n",
       "    </tr>\n",
       "    <tr>\n",
       "      <th>CMS</th>\n",
       "      <td>1.41358528</td>\n",
       "    </tr>\n",
       "    <tr>\n",
       "      <th>NI</th>\n",
       "      <td>1.41995429</td>\n",
       "    </tr>\n",
       "    <tr>\n",
       "      <th>FISV</th>\n",
       "      <td>1.48995177</td>\n",
       "    </tr>\n",
       "    <tr>\n",
       "      <th>CTAS</th>\n",
       "      <td>1.53393677</td>\n",
       "    </tr>\n",
       "  </tbody>\n",
       "</table>\n",
       "<p>226 rows × 1 columns</p>\n",
       "</div>"
      ],
      "text/plain": [
       "           sharpes\n",
       "ticker            \n",
       "APA    -0.02081294\n",
       "DVN    -0.01053243\n",
       "OXY     0.09366183\n",
       "NOV     0.10857907\n",
       "MRO     0.13739681\n",
       "...            ...\n",
       "HD      1.36109832\n",
       "CMS     1.41358528\n",
       "NI      1.41995429\n",
       "FISV    1.48995177\n",
       "CTAS    1.53393677\n",
       "\n",
       "[226 rows x 1 columns]"
      ]
     },
     "execution_count": 105,
     "metadata": {},
     "output_type": "execute_result"
    }
   ],
   "source": [
    "sharpes_monthly_no_excess_PC.sort_values(by='sharpes')"
   ]
  },
  {
   "cell_type": "code",
   "execution_count": 106,
   "id": "20dd6ead",
   "metadata": {
    "scrolled": false
   },
   "outputs": [
    {
     "data": {
      "text/plain": [
       "sharpes    0.7194656\n",
       "dtype: float64"
      ]
     },
     "execution_count": 106,
     "metadata": {},
     "output_type": "execute_result"
    }
   ],
   "source": [
    "sharpes_no_excess_PC.sort_values(by='sharpes').mean()"
   ]
  },
  {
   "cell_type": "code",
   "execution_count": 107,
   "id": "ff95751a",
   "metadata": {
    "scrolled": true
   },
   "outputs": [
    {
     "data": {
      "text/plain": [
       "sharpes    0.76574365\n",
       "dtype: float64"
      ]
     },
     "execution_count": 107,
     "metadata": {},
     "output_type": "execute_result"
    }
   ],
   "source": [
    "sharpes_monthly_no_excess_PC.sort_values(by='sharpes').mean()"
   ]
  },
  {
   "cell_type": "markdown",
   "id": "3ca97703",
   "metadata": {},
   "source": [
    "### EXPORT"
   ]
  },
  {
   "cell_type": "code",
   "execution_count": 108,
   "id": "727be6ef",
   "metadata": {},
   "outputs": [],
   "source": [
    "sharpes_no_excess_PC.to_csv('Export/sharpes_no_excess_PC.csv')\n",
    "sharpes_monthly_no_excess_PC.to_csv('Export/sharpes_monthly_no_excess_PC.csv')"
   ]
  },
  {
   "cell_type": "markdown",
   "id": "db704982",
   "metadata": {},
   "source": [
    "> ### Sharpes, No Excess (OCO)"
   ]
  },
  {
   "cell_type": "code",
   "execution_count": 109,
   "id": "7bd525ce",
   "metadata": {},
   "outputs": [],
   "source": [
    "sharpes_no_excess_OCO = pd.DataFrame(returns_OCO.mean()/returns_OCO.std())\n",
    "sharpes_monthly_no_excess_OCO = pd.DataFrame(monthly_returns_OCO.mean()/monthly_returns_OCO.std())\n",
    "\n",
    "sharpes_no_excess_OCO = sharpes_no_excess_OCO*(252)**0.5\n",
    "sharpes_monthly_no_excess_OCO = sharpes_monthly_no_excess_OCO*(12)**0.5"
   ]
  },
  {
   "cell_type": "code",
   "execution_count": 110,
   "id": "30184777",
   "metadata": {},
   "outputs": [],
   "source": [
    "sharpes_no_excess_OCO.columns = ['sharpes']\n",
    "sharpes_monthly_no_excess_OCO.columns = ['sharpes']"
   ]
  },
  {
   "cell_type": "code",
   "execution_count": 111,
   "id": "adb20d82",
   "metadata": {},
   "outputs": [],
   "source": [
    "sharpes_no_excess_OCO.index.name = 'ticker'\n",
    "sharpes_monthly_no_excess_OCO.index.name = 'ticker'"
   ]
  },
  {
   "cell_type": "code",
   "execution_count": 112,
   "id": "1fd64481",
   "metadata": {
    "scrolled": false
   },
   "outputs": [
    {
     "data": {
      "text/html": [
       "<div>\n",
       "<style scoped>\n",
       "    .dataframe tbody tr th:only-of-type {\n",
       "        vertical-align: middle;\n",
       "    }\n",
       "\n",
       "    .dataframe tbody tr th {\n",
       "        vertical-align: top;\n",
       "    }\n",
       "\n",
       "    .dataframe thead th {\n",
       "        text-align: right;\n",
       "    }\n",
       "</style>\n",
       "<table border=\"1\" class=\"dataframe\">\n",
       "  <thead>\n",
       "    <tr style=\"text-align: right;\">\n",
       "      <th></th>\n",
       "      <th>sharpes</th>\n",
       "    </tr>\n",
       "    <tr>\n",
       "      <th>ticker</th>\n",
       "      <th></th>\n",
       "    </tr>\n",
       "  </thead>\n",
       "  <tbody>\n",
       "    <tr>\n",
       "      <th>F</th>\n",
       "      <td>-0.74978341</td>\n",
       "    </tr>\n",
       "    <tr>\n",
       "      <th>BAC</th>\n",
       "      <td>-0.64680250</td>\n",
       "    </tr>\n",
       "    <tr>\n",
       "      <th>FCX</th>\n",
       "      <td>-0.47292179</td>\n",
       "    </tr>\n",
       "    <tr>\n",
       "      <th>DVN</th>\n",
       "      <td>-0.42555469</td>\n",
       "    </tr>\n",
       "    <tr>\n",
       "      <th>MRO</th>\n",
       "      <td>-0.38354182</td>\n",
       "    </tr>\n",
       "    <tr>\n",
       "      <th>...</th>\n",
       "      <td>...</td>\n",
       "    </tr>\n",
       "    <tr>\n",
       "      <th>MMC</th>\n",
       "      <td>1.25395210</td>\n",
       "    </tr>\n",
       "    <tr>\n",
       "      <th>HSY</th>\n",
       "      <td>1.37923142</td>\n",
       "    </tr>\n",
       "    <tr>\n",
       "      <th>SHW</th>\n",
       "      <td>1.42872764</td>\n",
       "    </tr>\n",
       "    <tr>\n",
       "      <th>INTU</th>\n",
       "      <td>1.47792329</td>\n",
       "    </tr>\n",
       "    <tr>\n",
       "      <th>FISV</th>\n",
       "      <td>1.48746141</td>\n",
       "    </tr>\n",
       "  </tbody>\n",
       "</table>\n",
       "<p>226 rows × 1 columns</p>\n",
       "</div>"
      ],
      "text/plain": [
       "           sharpes\n",
       "ticker            \n",
       "F      -0.74978341\n",
       "BAC    -0.64680250\n",
       "FCX    -0.47292179\n",
       "DVN    -0.42555469\n",
       "MRO    -0.38354182\n",
       "...            ...\n",
       "MMC     1.25395210\n",
       "HSY     1.37923142\n",
       "SHW     1.42872764\n",
       "INTU    1.47792329\n",
       "FISV    1.48746141\n",
       "\n",
       "[226 rows x 1 columns]"
      ]
     },
     "execution_count": 112,
     "metadata": {},
     "output_type": "execute_result"
    }
   ],
   "source": [
    "sharpes_no_excess_OCO.sort_values(by='sharpes')"
   ]
  },
  {
   "cell_type": "code",
   "execution_count": 113,
   "id": "87c05f04",
   "metadata": {
    "scrolled": true
   },
   "outputs": [
    {
     "data": {
      "text/html": [
       "<div>\n",
       "<style scoped>\n",
       "    .dataframe tbody tr th:only-of-type {\n",
       "        vertical-align: middle;\n",
       "    }\n",
       "\n",
       "    .dataframe tbody tr th {\n",
       "        vertical-align: top;\n",
       "    }\n",
       "\n",
       "    .dataframe thead th {\n",
       "        text-align: right;\n",
       "    }\n",
       "</style>\n",
       "<table border=\"1\" class=\"dataframe\">\n",
       "  <thead>\n",
       "    <tr style=\"text-align: right;\">\n",
       "      <th></th>\n",
       "      <th>sharpes</th>\n",
       "    </tr>\n",
       "    <tr>\n",
       "      <th>ticker</th>\n",
       "      <th></th>\n",
       "    </tr>\n",
       "  </thead>\n",
       "  <tbody>\n",
       "    <tr>\n",
       "      <th>F</th>\n",
       "      <td>-0.70265099</td>\n",
       "    </tr>\n",
       "    <tr>\n",
       "      <th>BAC</th>\n",
       "      <td>-0.54278634</td>\n",
       "    </tr>\n",
       "    <tr>\n",
       "      <th>MU</th>\n",
       "      <td>-0.43124417</td>\n",
       "    </tr>\n",
       "    <tr>\n",
       "      <th>MRO</th>\n",
       "      <td>-0.39511803</td>\n",
       "    </tr>\n",
       "    <tr>\n",
       "      <th>DVN</th>\n",
       "      <td>-0.39270399</td>\n",
       "    </tr>\n",
       "    <tr>\n",
       "      <th>...</th>\n",
       "      <td>...</td>\n",
       "    </tr>\n",
       "    <tr>\n",
       "      <th>MMC</th>\n",
       "      <td>1.27804366</td>\n",
       "    </tr>\n",
       "    <tr>\n",
       "      <th>HSY</th>\n",
       "      <td>1.28506196</td>\n",
       "    </tr>\n",
       "    <tr>\n",
       "      <th>SHW</th>\n",
       "      <td>1.40888311</td>\n",
       "    </tr>\n",
       "    <tr>\n",
       "      <th>FISV</th>\n",
       "      <td>1.53984554</td>\n",
       "    </tr>\n",
       "    <tr>\n",
       "      <th>INTU</th>\n",
       "      <td>1.57090940</td>\n",
       "    </tr>\n",
       "  </tbody>\n",
       "</table>\n",
       "<p>226 rows × 1 columns</p>\n",
       "</div>"
      ],
      "text/plain": [
       "           sharpes\n",
       "ticker            \n",
       "F      -0.70265099\n",
       "BAC    -0.54278634\n",
       "MU     -0.43124417\n",
       "MRO    -0.39511803\n",
       "DVN    -0.39270399\n",
       "...            ...\n",
       "MMC     1.27804366\n",
       "HSY     1.28506196\n",
       "SHW     1.40888311\n",
       "FISV    1.53984554\n",
       "INTU    1.57090940\n",
       "\n",
       "[226 rows x 1 columns]"
      ]
     },
     "execution_count": 113,
     "metadata": {},
     "output_type": "execute_result"
    }
   ],
   "source": [
    "sharpes_monthly_no_excess_OCO.sort_values(by='sharpes')"
   ]
  },
  {
   "cell_type": "code",
   "execution_count": 114,
   "id": "6360725b",
   "metadata": {
    "scrolled": false
   },
   "outputs": [
    {
     "data": {
      "text/plain": [
       "sharpes    0.48593432\n",
       "dtype: float64"
      ]
     },
     "execution_count": 114,
     "metadata": {},
     "output_type": "execute_result"
    }
   ],
   "source": [
    "sharpes_no_excess_OCO.sort_values(by='sharpes').mean()"
   ]
  },
  {
   "cell_type": "code",
   "execution_count": 115,
   "id": "e514395f",
   "metadata": {
    "scrolled": true
   },
   "outputs": [
    {
     "data": {
      "text/plain": [
       "sharpes    0.49096692\n",
       "dtype: float64"
      ]
     },
     "execution_count": 115,
     "metadata": {},
     "output_type": "execute_result"
    }
   ],
   "source": [
    "sharpes_monthly_no_excess_OCO.sort_values(by='sharpes').mean()"
   ]
  },
  {
   "cell_type": "markdown",
   "id": "212c4e0e",
   "metadata": {},
   "source": [
    "### EXPORT"
   ]
  },
  {
   "cell_type": "code",
   "execution_count": 116,
   "id": "9aefcdf4",
   "metadata": {},
   "outputs": [],
   "source": [
    "sharpes_no_excess_OCO.to_csv('Export/sharpes_no_excess_OCO.csv')\n",
    "sharpes_monthly_no_excess_OCO.to_csv('Export/sharpes_monthly_no_excess_OCO.csv')"
   ]
  },
  {
   "cell_type": "markdown",
   "id": "a966eb67",
   "metadata": {},
   "source": [
    "## Export Data"
   ]
  },
  {
   "cell_type": "markdown",
   "id": "4cf02a57",
   "metadata": {},
   "source": [
    "> ### Returns, Covid Returns, Monthly Sharpes (using difference method, 10 YR T-Bills)"
   ]
  },
  {
   "cell_type": "raw",
   "id": "86f76692",
   "metadata": {},
   "source": [
    "\n",
    "returns.T.to_csv('returns.csv')\n",
    "returns_covid.T.to_csv('returns_covid.csv')\n",
    "\n",
    "sharpes_monthly.to_csv('Export/sharpes_monthly.csv')\n"
   ]
  },
  {
   "cell_type": "markdown",
   "id": "35954097",
   "metadata": {},
   "source": [
    "> ### Returns, Covid Returns, Daily Sharpes (using difference method, 10 YR T-Bills)"
   ]
  },
  {
   "cell_type": "raw",
   "id": "654e2665",
   "metadata": {},
   "source": [
    "returns.T.to_csv('Export/returns.csv')\n",
    "returns_covid.T.to_csv('Export/returns_covid.csv')\n",
    "sharpes.to_csv('Export/sharpes.csv')\n",
    "tbills_covid.to_csv('Export/tbills_covid.csv')"
   ]
  },
  {
   "cell_type": "markdown",
   "id": "67dbcd45",
   "metadata": {},
   "source": [
    "> ### Returns, Covid Returns, Monthly Sharpes (Direct method, 10 YR T-Bills)"
   ]
  },
  {
   "cell_type": "raw",
   "id": "39f598ec",
   "metadata": {},
   "source": [
    "'''\n",
    "returns.T.to_csv('Export/returns.csv')\n",
    "returns_covid.T.to_csv('Export/returns_covid.csv')\n",
    "\n",
    "'''\n",
    "sharpes_monthly_diff.to_csv('Export/sharpes_monthly_diff.csv')\n"
   ]
  },
  {
   "cell_type": "markdown",
   "id": "4a4b7679",
   "metadata": {},
   "source": [
    "> ### Returns, Covid Returns, Daily Sharpes (Direct method, 10 YR T-Bills)"
   ]
  },
  {
   "cell_type": "raw",
   "id": "5084bbfe",
   "metadata": {
    "run_control": {
     "marked": false
    }
   },
   "source": [
    "'''\n",
    "returns.T.to_csv('Export/returns.csv')\n",
    "returns_covid.T.to_csv('Export/returns_covid.csv')\n",
    "'''\n",
    "sharpes_diff.to_csv('Export/sharpes_diff.csv')\n"
   ]
  }
 ],
 "metadata": {
  "kernelspec": {
   "display_name": "Python 3 (ipykernel)",
   "language": "python",
   "name": "python3"
  },
  "language_info": {
   "codemirror_mode": {
    "name": "ipython",
    "version": 3
   },
   "file_extension": ".py",
   "mimetype": "text/x-python",
   "name": "python",
   "nbconvert_exporter": "python",
   "pygments_lexer": "ipython3",
   "version": "3.8.5"
  },
  "toc": {
   "base_numbering": 1,
   "nav_menu": {},
   "number_sections": true,
   "sideBar": true,
   "skip_h1_title": false,
   "title_cell": "Table of Contents",
   "title_sidebar": "Contents",
   "toc_cell": false,
   "toc_position": {},
   "toc_section_display": true,
   "toc_window_display": false
  },
  "varInspector": {
   "cols": {
    "lenName": 16,
    "lenType": 16,
    "lenVar": 40
   },
   "kernels_config": {
    "python": {
     "delete_cmd_postfix": "",
     "delete_cmd_prefix": "del ",
     "library": "var_list.py",
     "varRefreshCmd": "print(var_dic_list())"
    },
    "r": {
     "delete_cmd_postfix": ") ",
     "delete_cmd_prefix": "rm(",
     "library": "var_list.r",
     "varRefreshCmd": "cat(var_dic_list()) "
    }
   },
   "position": {
    "height": "338.844px",
    "left": "959px",
    "right": "20px",
    "top": "120px",
    "width": "361px"
   },
   "types_to_exclude": [
    "module",
    "function",
    "builtin_function_or_method",
    "instance",
    "_Feature"
   ],
   "window_display": false
  }
 },
 "nbformat": 4,
 "nbformat_minor": 5
}
