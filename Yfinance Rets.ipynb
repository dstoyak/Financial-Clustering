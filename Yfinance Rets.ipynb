{
 "cells": [
  {
   "cell_type": "code",
   "execution_count": 1,
   "id": "6486f4c7",
   "metadata": {
    "scrolled": true
   },
   "outputs": [],
   "source": [
    "import yfinance as yf\n",
    "import bs4 as bs\n",
    "import pickle\n",
    "import requests\n",
    "import pandas as pd\n",
    "import json\n",
    "from dateutil import parser\n",
    "from datetime import datetime\n",
    "import os\n",
    "import time\n",
    "from pandas.io.json import json_normalize\n",
    "from alpha_vantage.timeseries import TimeSeries\n",
    "from alpha_vantage.fundamentaldata import FundamentalData\n",
    "import wrds\n",
    "from datetime import datetime as dt\n",
    "import numpy as np\n",
    "import glob, os\n",
    "import csv\n",
    "from matplotlib import pyplot as plt\n",
    "pd.set_option(\"display.precision\", 8)\n",
    "\n",
    "import os.path\n",
    "from os import path\n",
    "\n",
    "\n",
    "\n",
    "\n",
    "%load_ext autoreload\n",
    "%autoreload 2"
   ]
  },
  {
   "cell_type": "code",
   "execution_count": 2,
   "id": "20432715",
   "metadata": {},
   "outputs": [],
   "source": [
    "start_download = '2006-06-01'\n",
    "end_download = '2021-06-01'"
   ]
  },
  {
   "cell_type": "code",
   "execution_count": 3,
   "id": "a8810782",
   "metadata": {},
   "outputs": [],
   "source": [
    "start_date = '2009-06-30' # Define start and end dates\n",
    "end_date = '2020-04-15'"
   ]
  },
  {
   "cell_type": "markdown",
   "id": "b0c0cf5e",
   "metadata": {},
   "source": [
    "### Gets currently listed SP500 companies and thier CIKs"
   ]
  },
  {
   "cell_type": "code",
   "execution_count": 4,
   "id": "249e8533",
   "metadata": {},
   "outputs": [],
   "source": [
    "# gets list of SP500 companies and their CIKs\n",
    "\n",
    "#standard: pull from yahoo finance, yfinance\n",
    "#\n",
    "\n",
    "def save_SP500_tickers():\n",
    "    resp = requests.get('https://web.archive.org/web/20200411084847/https://en.wikipedia.org/wiki/List_of_S%26P_500_companies')\n",
    "    soup = bs.BeautifulSoup(resp.text, 'lxml')\n",
    "    table = soup.find('table', {'class': 'wikitable sortable'})\n",
    "    tickers = []\n",
    "    ciks = []\n",
    "    \n",
    "    for row in table.findAll('tr')[1:]:\n",
    "        ticker = row.findAll('td')[0].text[:-1]\n",
    "        cik = row.findAll('td')[7].text[:]\n",
    "        \n",
    "        tickers.append(ticker)\n",
    "        ciks.append(cik)\n",
    "    \n",
    "    #drops '\\n' from certain entries in CIK list\n",
    "    ciks = list(map(lambda x:x.strip(),ciks))\n",
    "    \n",
    "    tickers_ciks_df = pd.DataFrame({'ticker': tickers, 'cik': ciks})\n",
    "\n",
    "        \n",
    "    return tickers_ciks_df\n",
    "    "
   ]
  },
  {
   "cell_type": "markdown",
   "id": "1816fd08",
   "metadata": {},
   "source": [
    "### Prepping tickers list"
   ]
  },
  {
   "cell_type": "raw",
   "id": "afe7e15b",
   "metadata": {},
   "source": [
    "tickers_ciks= save_SP500_tickers()"
   ]
  },
  {
   "cell_type": "raw",
   "id": "8b46b386",
   "metadata": {},
   "source": [
    "tickers = tickers_ciks['ticker'] \n",
    "tickers = [item.replace('-','.') for item in tickers]\n",
    "tickers = [item.replace('.B','-A') for item in tickers]\n",
    "ciks = tickers_ciks['cik']"
   ]
  },
  {
   "cell_type": "markdown",
   "id": "ecd1e4ce",
   "metadata": {},
   "source": [
    "## Remove tickers from list if change detected in change list"
   ]
  },
  {
   "cell_type": "raw",
   "id": "acf33647",
   "metadata": {},
   "source": [
    "changes = pd.read_excel('sp500change.xlsx')"
   ]
  },
  {
   "cell_type": "raw",
   "id": "36996b89",
   "metadata": {},
   "source": [
    "changes['Ticker'] = changes['Ticker'].astype(str)"
   ]
  },
  {
   "cell_type": "raw",
   "id": "723fbfd7",
   "metadata": {},
   "source": [
    "changes['Ticker'] = [item.replace('-','.') for item in changes['Ticker']]\n",
    "changes['Ticker'] = [item.replace('.B','-A') for item in changes['Ticker']]"
   ]
  },
  {
   "cell_type": "raw",
   "id": "0d2ebd86",
   "metadata": {},
   "source": [
    "tickers = [x for x in tickers if x not in list(changes['Ticker'])]"
   ]
  },
  {
   "cell_type": "raw",
   "id": "540e895a",
   "metadata": {},
   "source": [
    "len(tickers)"
   ]
  },
  {
   "cell_type": "code",
   "execution_count": 5,
   "id": "34bb6178",
   "metadata": {},
   "outputs": [
    {
     "name": "stderr",
     "output_type": "stream",
     "text": [
      "C:\\Users\\Daniel\\AppData\\Local\\Temp\\ipykernel_10788\\2208461315.py:1: DtypeWarning: Columns (500,501,502,503,504,505,506,507) have mixed types. Specify dtype option on import or set low_memory=False.\n",
      "  changes = pd.read_csv('S&P 500 Historical Components & Changes(10-14-2022).csv',\n"
     ]
    }
   ],
   "source": [
    "changes = pd.read_csv('S&P 500 Historical Components & Changes(10-14-2022).csv',\n",
    "                              header=0,\n",
    "                              index_col=0,\n",
    "                              parse_dates=True)"
   ]
  },
  {
   "cell_type": "code",
   "execution_count": 6,
   "id": "c683f919",
   "metadata": {},
   "outputs": [],
   "source": [
    "tickers = sorted(set.intersection(*list(changes[start_date:end_date].apply(lambda x: set(x.dropna()), axis=1))))"
   ]
  },
  {
   "cell_type": "markdown",
   "id": "e83225b5",
   "metadata": {},
   "source": [
    "## Returns"
   ]
  },
  {
   "cell_type": "markdown",
   "id": "9db6da11",
   "metadata": {},
   "source": [
    "> ### Download Returns Data from Yfinance"
   ]
  },
  {
   "cell_type": "code",
   "execution_count": 7,
   "id": "c337f326",
   "metadata": {},
   "outputs": [
    {
     "name": "stdout",
     "output_type": "stream",
     "text": [
      "loaded OHLC data from pickle as 'data_yf'\n"
     ]
    }
   ],
   "source": [
    "  \n",
    "if not path.exists(\"Export\\OHLC_data\"):\n",
    "    data_yf = yf.download(tickers, start=start_download, end=end_download)\n",
    "    data_yf.index = pd.to_datetime(data_yf.index, format = '%Y-%m-%d')\n",
    "    with open('Export/OHLC_data', 'wb') as fh:\n",
    "        pickle.dump(data_yf, fh)\n",
    "    \n",
    "    print('\\n dumped \\'data_yf\\' to pickle as OHLC')\n",
    "    \n",
    "elif path.exists(\"Export\\OHLC_data\"):\n",
    "    # load from pickle\n",
    "    with open(\"Export\\OHLC_data\",\"rb\") as fin:\n",
    "        data_yf = pickle.load(fin)\n",
    "    data_yf.index = pd.to_datetime(data_yf.index, format = '%Y-%m-%d')\n",
    "    print('loaded OHLC data from pickle as \\'data_yf\\'')\n"
   ]
  },
  {
   "cell_type": "code",
   "execution_count": 8,
   "id": "977b406c",
   "metadata": {},
   "outputs": [
    {
     "data": {
      "text/plain": [
       "dtype('<M8[ns]')"
      ]
     },
     "execution_count": 8,
     "metadata": {},
     "output_type": "execute_result"
    }
   ],
   "source": [
    "data_yf.index.dtype"
   ]
  },
  {
   "cell_type": "markdown",
   "id": "bb2c29a6",
   "metadata": {},
   "source": [
    "> ### Calculate Daily Returns: Training Period and Covid(testing) Period (PERCENT CHANGE)"
   ]
  },
  {
   "cell_type": "code",
   "execution_count": 9,
   "id": "0223742a",
   "metadata": {},
   "outputs": [],
   "source": [
    "#rets = (data_yf['Open'] - data_yf['Close'])/data_yf['Open']\n",
    "rets_PC = data_yf['Adj Close'].pct_change()  "
   ]
  },
  {
   "cell_type": "code",
   "execution_count": 10,
   "id": "fd6a1a83",
   "metadata": {},
   "outputs": [],
   "source": [
    "rets_PC = rets_PC.dropna(how='all',axis=0)"
   ]
  },
  {
   "cell_type": "code",
   "execution_count": 11,
   "id": "dca01850",
   "metadata": {},
   "outputs": [],
   "source": [
    "rets_PC = rets_PC.dropna(axis=1)"
   ]
  },
  {
   "cell_type": "code",
   "execution_count": 12,
   "id": "082c44b5",
   "metadata": {},
   "outputs": [],
   "source": [
    "returns_PC = rets_PC[pd.to_datetime('2009-06-30', format = '%Y-%m-%d'): pd.to_datetime('2020-02-03', format = '%Y-%m-%d')]"
   ]
  },
  {
   "cell_type": "code",
   "execution_count": 13,
   "id": "9be88563",
   "metadata": {},
   "outputs": [],
   "source": [
    "returns_covid_PC = rets_PC[pd.to_datetime('2020-02-03', format = '%Y-%m-%d'):pd.to_datetime('2020-04-14', format = '%Y-%m-%d')]"
   ]
  },
  {
   "cell_type": "markdown",
   "id": "af49f7c5",
   "metadata": {},
   "source": [
    "> ### Calculate Daily Returns: Training Period and Covid(testing) Period (OCO)"
   ]
  },
  {
   "cell_type": "code",
   "execution_count": 14,
   "id": "f09aceb2",
   "metadata": {},
   "outputs": [],
   "source": [
    "rets_OCO = (data_yf['Close']-data_yf['Open'])/(data_yf['Open'])"
   ]
  },
  {
   "cell_type": "code",
   "execution_count": 15,
   "id": "b3d8de90",
   "metadata": {},
   "outputs": [],
   "source": [
    "rets_OCO = rets_OCO.dropna(how='all',axis=0)"
   ]
  },
  {
   "cell_type": "code",
   "execution_count": 16,
   "id": "cd4eb9bc",
   "metadata": {},
   "outputs": [],
   "source": [
    "rets_OCO = rets_OCO.dropna(axis=1)"
   ]
  },
  {
   "cell_type": "code",
   "execution_count": 17,
   "id": "f2651f05",
   "metadata": {},
   "outputs": [],
   "source": [
    "returns_OCO = rets_OCO[pd.to_datetime('2009-06-30', format = '%Y-%m-%d'): pd.to_datetime('2020-02-03', format = '%Y-%m-%d')]"
   ]
  },
  {
   "cell_type": "code",
   "execution_count": 18,
   "id": "3165a6a7",
   "metadata": {},
   "outputs": [],
   "source": [
    "returns_covid_OCO = rets_OCO[pd.to_datetime('2020-02-03', format = '%Y-%m-%d'):pd.to_datetime('2020-04-14', format = '%Y-%m-%d')]"
   ]
  },
  {
   "cell_type": "markdown",
   "id": "f6c7e1b3",
   "metadata": {},
   "source": [
    "## Export Returns during Covid and Testing Periods"
   ]
  },
  {
   "cell_type": "code",
   "execution_count": 19,
   "id": "f29ec0bf",
   "metadata": {},
   "outputs": [],
   "source": [
    "#Percent Change Version\n",
    "returns_PC.T.to_csv('Export/returns_PC.csv')\n",
    "returns_covid_PC.T.to_csv('Export/returns_covid_PC.csv')"
   ]
  },
  {
   "cell_type": "code",
   "execution_count": 20,
   "id": "78eb184c",
   "metadata": {},
   "outputs": [],
   "source": [
    "#((Open - Close)/Open) Version\n",
    "returns_OCO.T.to_csv('Export/returns_OCO.csv')\n",
    "returns_covid_OCO.T.to_csv('Export/returns_covid_OCO.csv')"
   ]
  },
  {
   "cell_type": "markdown",
   "id": "067742c6",
   "metadata": {},
   "source": [
    "> ### Calculate Monthly Returns: Training Period and Testing Period"
   ]
  },
  {
   "cell_type": "code",
   "execution_count": 21,
   "id": "c2d00fef",
   "metadata": {},
   "outputs": [],
   "source": [
    "#monthly returns fr % change method\n",
    "monthly_returns_PC = (returns_PC+1).groupby(pd.Grouper(freq=\"M\")).prod() -1\n",
    "monthly_returns_covid_PC = (returns_covid_PC+1).groupby(pd.Grouper(freq=\"M\")).prod() -1"
   ]
  },
  {
   "cell_type": "code",
   "execution_count": 22,
   "id": "36615024",
   "metadata": {},
   "outputs": [],
   "source": [
    "#monthly returns for OCO method\n",
    "monthly_returns_OCO = (returns_OCO+1).groupby(pd.Grouper(freq=\"M\")).prod() -1\n",
    "monthly_returns_covid_OCO = (returns_covid_OCO+1).groupby(pd.Grouper(freq=\"M\")).prod() -1"
   ]
  },
  {
   "cell_type": "markdown",
   "id": "2ee5cfb1",
   "metadata": {
    "heading_collapsed": true
   },
   "source": [
    "## T-Bills"
   ]
  },
  {
   "cell_type": "code",
   "execution_count": 23,
   "id": "4a834920",
   "metadata": {
    "hidden": true
   },
   "outputs": [],
   "source": [
    "t_test = pd.read_csv(\"DTB3.csv\",\n",
    "                   header=0, index_col=0, parse_dates=True, na_values=-99.99)\n"
   ]
  },
  {
   "cell_type": "code",
   "execution_count": 24,
   "id": "7b1cdce9",
   "metadata": {
    "hidden": true
   },
   "outputs": [],
   "source": [
    "t_test = t_test.replace('.', np.nan).astype(float).ffill()/100"
   ]
  },
  {
   "cell_type": "code",
   "execution_count": 25,
   "id": "0c90c7cc",
   "metadata": {
    "hidden": true
   },
   "outputs": [
    {
     "data": {
      "text/html": [
       "<div>\n",
       "<style scoped>\n",
       "    .dataframe tbody tr th:only-of-type {\n",
       "        vertical-align: middle;\n",
       "    }\n",
       "\n",
       "    .dataframe tbody tr th {\n",
       "        vertical-align: top;\n",
       "    }\n",
       "\n",
       "    .dataframe thead th {\n",
       "        text-align: right;\n",
       "    }\n",
       "</style>\n",
       "<table border=\"1\" class=\"dataframe\">\n",
       "  <thead>\n",
       "    <tr style=\"text-align: right;\">\n",
       "      <th></th>\n",
       "      <th>3MO TBILL</th>\n",
       "    </tr>\n",
       "    <tr>\n",
       "      <th>DATE</th>\n",
       "      <th></th>\n",
       "    </tr>\n",
       "  </thead>\n",
       "  <tbody>\n",
       "    <tr>\n",
       "      <th>2009-06-30</th>\n",
       "      <td>0.0019</td>\n",
       "    </tr>\n",
       "    <tr>\n",
       "      <th>2009-07-01</th>\n",
       "      <td>0.0017</td>\n",
       "    </tr>\n",
       "    <tr>\n",
       "      <th>2009-07-02</th>\n",
       "      <td>0.0017</td>\n",
       "    </tr>\n",
       "    <tr>\n",
       "      <th>2009-07-03</th>\n",
       "      <td>0.0017</td>\n",
       "    </tr>\n",
       "    <tr>\n",
       "      <th>2009-07-06</th>\n",
       "      <td>0.0019</td>\n",
       "    </tr>\n",
       "    <tr>\n",
       "      <th>...</th>\n",
       "      <td>...</td>\n",
       "    </tr>\n",
       "    <tr>\n",
       "      <th>2020-01-28</th>\n",
       "      <td>0.0154</td>\n",
       "    </tr>\n",
       "    <tr>\n",
       "      <th>2020-01-29</th>\n",
       "      <td>0.0153</td>\n",
       "    </tr>\n",
       "    <tr>\n",
       "      <th>2020-01-30</th>\n",
       "      <td>0.0154</td>\n",
       "    </tr>\n",
       "    <tr>\n",
       "      <th>2020-01-31</th>\n",
       "      <td>0.0152</td>\n",
       "    </tr>\n",
       "    <tr>\n",
       "      <th>2020-02-03</th>\n",
       "      <td>0.0154</td>\n",
       "    </tr>\n",
       "  </tbody>\n",
       "</table>\n",
       "<p>2765 rows × 1 columns</p>\n",
       "</div>"
      ],
      "text/plain": [
       "            3MO TBILL\n",
       "DATE                 \n",
       "2009-06-30     0.0019\n",
       "2009-07-01     0.0017\n",
       "2009-07-02     0.0017\n",
       "2009-07-03     0.0017\n",
       "2009-07-06     0.0019\n",
       "...               ...\n",
       "2020-01-28     0.0154\n",
       "2020-01-29     0.0153\n",
       "2020-01-30     0.0154\n",
       "2020-01-31     0.0152\n",
       "2020-02-03     0.0154\n",
       "\n",
       "[2765 rows x 1 columns]"
      ]
     },
     "execution_count": 25,
     "metadata": {},
     "output_type": "execute_result"
    }
   ],
   "source": [
    "t_test['2009-06-30':'2020-02-03']"
   ]
  },
  {
   "cell_type": "code",
   "execution_count": 26,
   "id": "fbbd6937",
   "metadata": {
    "hidden": true
   },
   "outputs": [],
   "source": [
    "t_test = t_test/63"
   ]
  },
  {
   "cell_type": "code",
   "execution_count": 27,
   "id": "9a4787f9",
   "metadata": {
    "hidden": true
   },
   "outputs": [],
   "source": [
    "merged_test = returns_PC.merge(t_test, how = 'left', left_index=True, right_index=True)\n",
    "#merged_diff = returns.merge(tbills_diff, how = 'left', left_index=True, right_index=True)"
   ]
  },
  {
   "cell_type": "code",
   "execution_count": 28,
   "id": "d5b3c32d",
   "metadata": {
    "hidden": true
   },
   "outputs": [],
   "source": [
    "returns = merged_test.iloc[:,:-1].ffill().bfill()"
   ]
  },
  {
   "cell_type": "code",
   "execution_count": 29,
   "id": "e88aff60",
   "metadata": {
    "hidden": true
   },
   "outputs": [
    {
     "data": {
      "text/html": [
       "<div>\n",
       "<style scoped>\n",
       "    .dataframe tbody tr th:only-of-type {\n",
       "        vertical-align: middle;\n",
       "    }\n",
       "\n",
       "    .dataframe tbody tr th {\n",
       "        vertical-align: top;\n",
       "    }\n",
       "\n",
       "    .dataframe thead th {\n",
       "        text-align: right;\n",
       "    }\n",
       "</style>\n",
       "<table border=\"1\" class=\"dataframe\">\n",
       "  <thead>\n",
       "    <tr style=\"text-align: right;\">\n",
       "      <th></th>\n",
       "      <th>3MO TBILL</th>\n",
       "    </tr>\n",
       "    <tr>\n",
       "      <th>DATE</th>\n",
       "      <th></th>\n",
       "    </tr>\n",
       "  </thead>\n",
       "  <tbody>\n",
       "    <tr>\n",
       "      <th>2009-06-02</th>\n",
       "      <td>0.00002222</td>\n",
       "    </tr>\n",
       "    <tr>\n",
       "      <th>2009-06-03</th>\n",
       "      <td>0.00002222</td>\n",
       "    </tr>\n",
       "    <tr>\n",
       "      <th>2009-06-04</th>\n",
       "      <td>0.00002222</td>\n",
       "    </tr>\n",
       "    <tr>\n",
       "      <th>2009-06-05</th>\n",
       "      <td>0.00003016</td>\n",
       "    </tr>\n",
       "    <tr>\n",
       "      <th>2009-06-08</th>\n",
       "      <td>0.00003016</td>\n",
       "    </tr>\n",
       "    <tr>\n",
       "      <th>...</th>\n",
       "      <td>...</td>\n",
       "    </tr>\n",
       "    <tr>\n",
       "      <th>2020-10-12</th>\n",
       "      <td>0.00001587</td>\n",
       "    </tr>\n",
       "    <tr>\n",
       "      <th>2020-10-13</th>\n",
       "      <td>0.00001746</td>\n",
       "    </tr>\n",
       "    <tr>\n",
       "      <th>2020-10-14</th>\n",
       "      <td>0.00001905</td>\n",
       "    </tr>\n",
       "    <tr>\n",
       "      <th>2020-10-15</th>\n",
       "      <td>0.00001746</td>\n",
       "    </tr>\n",
       "    <tr>\n",
       "      <th>2020-10-16</th>\n",
       "      <td>0.00001746</td>\n",
       "    </tr>\n",
       "  </tbody>\n",
       "</table>\n",
       "<p>2969 rows × 1 columns</p>\n",
       "</div>"
      ],
      "text/plain": [
       "             3MO TBILL\n",
       "DATE                  \n",
       "2009-06-02  0.00002222\n",
       "2009-06-03  0.00002222\n",
       "2009-06-04  0.00002222\n",
       "2009-06-05  0.00003016\n",
       "2009-06-08  0.00003016\n",
       "...                ...\n",
       "2020-10-12  0.00001587\n",
       "2020-10-13  0.00001746\n",
       "2020-10-14  0.00001905\n",
       "2020-10-15  0.00001746\n",
       "2020-10-16  0.00001746\n",
       "\n",
       "[2969 rows x 1 columns]"
      ]
     },
     "execution_count": 29,
     "metadata": {},
     "output_type": "execute_result"
    }
   ],
   "source": [
    "t_test"
   ]
  },
  {
   "cell_type": "code",
   "execution_count": 30,
   "id": "bac43001",
   "metadata": {
    "hidden": true
   },
   "outputs": [],
   "source": [
    "t_test = pd.DataFrame(merged_test['3MO TBILL'])"
   ]
  },
  {
   "cell_type": "code",
   "execution_count": 31,
   "id": "6806fce5",
   "metadata": {
    "hidden": true
   },
   "outputs": [
    {
     "data": {
      "text/html": [
       "<div>\n",
       "<style scoped>\n",
       "    .dataframe tbody tr th:only-of-type {\n",
       "        vertical-align: middle;\n",
       "    }\n",
       "\n",
       "    .dataframe tbody tr th {\n",
       "        vertical-align: top;\n",
       "    }\n",
       "\n",
       "    .dataframe thead th {\n",
       "        text-align: right;\n",
       "    }\n",
       "</style>\n",
       "<table border=\"1\" class=\"dataframe\">\n",
       "  <thead>\n",
       "    <tr style=\"text-align: right;\">\n",
       "      <th></th>\n",
       "      <th>3MO TBILL</th>\n",
       "    </tr>\n",
       "    <tr>\n",
       "      <th>Date</th>\n",
       "      <th></th>\n",
       "    </tr>\n",
       "  </thead>\n",
       "  <tbody>\n",
       "    <tr>\n",
       "      <th>2009-06-30</th>\n",
       "      <td>0.00003016</td>\n",
       "    </tr>\n",
       "    <tr>\n",
       "      <th>2009-07-01</th>\n",
       "      <td>0.00002698</td>\n",
       "    </tr>\n",
       "    <tr>\n",
       "      <th>2009-07-02</th>\n",
       "      <td>0.00002698</td>\n",
       "    </tr>\n",
       "    <tr>\n",
       "      <th>2009-07-06</th>\n",
       "      <td>0.00003016</td>\n",
       "    </tr>\n",
       "    <tr>\n",
       "      <th>2009-07-07</th>\n",
       "      <td>0.00003016</td>\n",
       "    </tr>\n",
       "    <tr>\n",
       "      <th>...</th>\n",
       "      <td>...</td>\n",
       "    </tr>\n",
       "    <tr>\n",
       "      <th>2020-01-28</th>\n",
       "      <td>0.00024444</td>\n",
       "    </tr>\n",
       "    <tr>\n",
       "      <th>2020-01-29</th>\n",
       "      <td>0.00024286</td>\n",
       "    </tr>\n",
       "    <tr>\n",
       "      <th>2020-01-30</th>\n",
       "      <td>0.00024444</td>\n",
       "    </tr>\n",
       "    <tr>\n",
       "      <th>2020-01-31</th>\n",
       "      <td>0.00024127</td>\n",
       "    </tr>\n",
       "    <tr>\n",
       "      <th>2020-02-03</th>\n",
       "      <td>0.00024444</td>\n",
       "    </tr>\n",
       "  </tbody>\n",
       "</table>\n",
       "<p>2667 rows × 1 columns</p>\n",
       "</div>"
      ],
      "text/plain": [
       "             3MO TBILL\n",
       "Date                  \n",
       "2009-06-30  0.00003016\n",
       "2009-07-01  0.00002698\n",
       "2009-07-02  0.00002698\n",
       "2009-07-06  0.00003016\n",
       "2009-07-07  0.00003016\n",
       "...                ...\n",
       "2020-01-28  0.00024444\n",
       "2020-01-29  0.00024286\n",
       "2020-01-30  0.00024444\n",
       "2020-01-31  0.00024127\n",
       "2020-02-03  0.00024444\n",
       "\n",
       "[2667 rows x 1 columns]"
      ]
     },
     "execution_count": 31,
     "metadata": {},
     "output_type": "execute_result"
    }
   ],
   "source": [
    "t_test"
   ]
  },
  {
   "cell_type": "code",
   "execution_count": 32,
   "id": "b72c726e",
   "metadata": {
    "hidden": true
   },
   "outputs": [
    {
     "data": {
      "text/plain": [
       "0.01539972"
      ]
     },
     "execution_count": 32,
     "metadata": {},
     "output_type": "execute_result"
    }
   ],
   "source": [
    "0.00024444*63"
   ]
  },
  {
   "cell_type": "code",
   "execution_count": 33,
   "id": "12bfbeae",
   "metadata": {
    "hidden": true
   },
   "outputs": [],
   "source": [
    "t_test = t_test.replace('.', np.nan).astype(float).ffill()/100"
   ]
  },
  {
   "cell_type": "code",
   "execution_count": 34,
   "id": "cd2fbfb3",
   "metadata": {
    "hidden": true
   },
   "outputs": [
    {
     "data": {
      "text/html": [
       "<div>\n",
       "<style scoped>\n",
       "    .dataframe tbody tr th:only-of-type {\n",
       "        vertical-align: middle;\n",
       "    }\n",
       "\n",
       "    .dataframe tbody tr th {\n",
       "        vertical-align: top;\n",
       "    }\n",
       "\n",
       "    .dataframe thead th {\n",
       "        text-align: right;\n",
       "    }\n",
       "</style>\n",
       "<table border=\"1\" class=\"dataframe\">\n",
       "  <thead>\n",
       "    <tr style=\"text-align: right;\">\n",
       "      <th></th>\n",
       "      <th>3MO TBILL</th>\n",
       "    </tr>\n",
       "    <tr>\n",
       "      <th>Date</th>\n",
       "      <th></th>\n",
       "    </tr>\n",
       "  </thead>\n",
       "  <tbody>\n",
       "    <tr>\n",
       "      <th>2009-06-30</th>\n",
       "      <td>0.00000030</td>\n",
       "    </tr>\n",
       "    <tr>\n",
       "      <th>2009-07-01</th>\n",
       "      <td>0.00000027</td>\n",
       "    </tr>\n",
       "    <tr>\n",
       "      <th>2009-07-02</th>\n",
       "      <td>0.00000027</td>\n",
       "    </tr>\n",
       "    <tr>\n",
       "      <th>2009-07-06</th>\n",
       "      <td>0.00000030</td>\n",
       "    </tr>\n",
       "    <tr>\n",
       "      <th>2009-07-07</th>\n",
       "      <td>0.00000030</td>\n",
       "    </tr>\n",
       "    <tr>\n",
       "      <th>...</th>\n",
       "      <td>...</td>\n",
       "    </tr>\n",
       "    <tr>\n",
       "      <th>2020-01-28</th>\n",
       "      <td>0.00000244</td>\n",
       "    </tr>\n",
       "    <tr>\n",
       "      <th>2020-01-29</th>\n",
       "      <td>0.00000243</td>\n",
       "    </tr>\n",
       "    <tr>\n",
       "      <th>2020-01-30</th>\n",
       "      <td>0.00000244</td>\n",
       "    </tr>\n",
       "    <tr>\n",
       "      <th>2020-01-31</th>\n",
       "      <td>0.00000241</td>\n",
       "    </tr>\n",
       "    <tr>\n",
       "      <th>2020-02-03</th>\n",
       "      <td>0.00000244</td>\n",
       "    </tr>\n",
       "  </tbody>\n",
       "</table>\n",
       "<p>2667 rows × 1 columns</p>\n",
       "</div>"
      ],
      "text/plain": [
       "             3MO TBILL\n",
       "Date                  \n",
       "2009-06-30  0.00000030\n",
       "2009-07-01  0.00000027\n",
       "2009-07-02  0.00000027\n",
       "2009-07-06  0.00000030\n",
       "2009-07-07  0.00000030\n",
       "...                ...\n",
       "2020-01-28  0.00000244\n",
       "2020-01-29  0.00000243\n",
       "2020-01-30  0.00000244\n",
       "2020-01-31  0.00000241\n",
       "2020-02-03  0.00000244\n",
       "\n",
       "[2667 rows x 1 columns]"
      ]
     },
     "execution_count": 34,
     "metadata": {},
     "output_type": "execute_result"
    }
   ],
   "source": [
    "t_test['2009-06-30':'2020-02-03']"
   ]
  },
  {
   "cell_type": "markdown",
   "id": "e66402e3",
   "metadata": {
    "hidden": true
   },
   "source": [
    "> ### T-Bills Training"
   ]
  },
  {
   "cell_type": "code",
   "execution_count": 35,
   "id": "9df36afe",
   "metadata": {
    "hidden": true
   },
   "outputs": [],
   "source": [
    "# read csv from file and set column name\n",
    "t = pd.read_csv(\"DTB3.csv\",\n",
    "                   header=0, index_col=0, parse_dates=True, na_values=-99.99)\n",
    "t.columns = ['tbill']"
   ]
  },
  {
   "cell_type": "code",
   "execution_count": 36,
   "id": "e93bcaf0",
   "metadata": {
    "hidden": true
   },
   "outputs": [],
   "source": [
    "# convert from % return to decimal return\n",
    "tbills = t.replace('.', np.nan).astype(float).ffill()/100\n",
    "#sets date to training period\n",
    "tbills = tbills/63\n",
    "tbills = tbills['2009-06-30':'2020-02-03']\n"
   ]
  },
  {
   "cell_type": "code",
   "execution_count": 37,
   "id": "902b7d7a",
   "metadata": {
    "hidden": true
   },
   "outputs": [],
   "source": [
    "#convert from % return to decimal return\n",
    "tbills_diff =  t.replace('.', np.nan).astype(float).ffill()/100\n",
    "#sets date to training period, takes difference between each days rates and fills NaN values\n",
    "tbills_diff=tbills_diff/63\n",
    "tbills_diff = tbills_diff['2009-06-30':'2020-02-03'].diff().bfill()\n"
   ]
  },
  {
   "cell_type": "code",
   "execution_count": 38,
   "id": "d82a59c0",
   "metadata": {
    "hidden": true
   },
   "outputs": [
    {
     "data": {
      "text/html": [
       "<div>\n",
       "<style scoped>\n",
       "    .dataframe tbody tr th:only-of-type {\n",
       "        vertical-align: middle;\n",
       "    }\n",
       "\n",
       "    .dataframe tbody tr th {\n",
       "        vertical-align: top;\n",
       "    }\n",
       "\n",
       "    .dataframe thead th {\n",
       "        text-align: right;\n",
       "    }\n",
       "</style>\n",
       "<table border=\"1\" class=\"dataframe\">\n",
       "  <thead>\n",
       "    <tr style=\"text-align: right;\">\n",
       "      <th></th>\n",
       "      <th>tbill</th>\n",
       "    </tr>\n",
       "    <tr>\n",
       "      <th>DATE</th>\n",
       "      <th></th>\n",
       "    </tr>\n",
       "  </thead>\n",
       "  <tbody>\n",
       "    <tr>\n",
       "      <th>2009-06-30</th>\n",
       "      <td>0.00003016</td>\n",
       "    </tr>\n",
       "    <tr>\n",
       "      <th>2009-07-01</th>\n",
       "      <td>0.00002698</td>\n",
       "    </tr>\n",
       "    <tr>\n",
       "      <th>2009-07-02</th>\n",
       "      <td>0.00002698</td>\n",
       "    </tr>\n",
       "    <tr>\n",
       "      <th>2009-07-03</th>\n",
       "      <td>0.00002698</td>\n",
       "    </tr>\n",
       "    <tr>\n",
       "      <th>2009-07-06</th>\n",
       "      <td>0.00003016</td>\n",
       "    </tr>\n",
       "    <tr>\n",
       "      <th>...</th>\n",
       "      <td>...</td>\n",
       "    </tr>\n",
       "    <tr>\n",
       "      <th>2020-01-28</th>\n",
       "      <td>0.00024444</td>\n",
       "    </tr>\n",
       "    <tr>\n",
       "      <th>2020-01-29</th>\n",
       "      <td>0.00024286</td>\n",
       "    </tr>\n",
       "    <tr>\n",
       "      <th>2020-01-30</th>\n",
       "      <td>0.00024444</td>\n",
       "    </tr>\n",
       "    <tr>\n",
       "      <th>2020-01-31</th>\n",
       "      <td>0.00024127</td>\n",
       "    </tr>\n",
       "    <tr>\n",
       "      <th>2020-02-03</th>\n",
       "      <td>0.00024444</td>\n",
       "    </tr>\n",
       "  </tbody>\n",
       "</table>\n",
       "<p>2765 rows × 1 columns</p>\n",
       "</div>"
      ],
      "text/plain": [
       "                 tbill\n",
       "DATE                  \n",
       "2009-06-30  0.00003016\n",
       "2009-07-01  0.00002698\n",
       "2009-07-02  0.00002698\n",
       "2009-07-03  0.00002698\n",
       "2009-07-06  0.00003016\n",
       "...                ...\n",
       "2020-01-28  0.00024444\n",
       "2020-01-29  0.00024286\n",
       "2020-01-30  0.00024444\n",
       "2020-01-31  0.00024127\n",
       "2020-02-03  0.00024444\n",
       "\n",
       "[2765 rows x 1 columns]"
      ]
     },
     "execution_count": 38,
     "metadata": {},
     "output_type": "execute_result"
    }
   ],
   "source": [
    "tbills"
   ]
  },
  {
   "cell_type": "code",
   "execution_count": 39,
   "id": "b6ca5ad4",
   "metadata": {
    "hidden": true
   },
   "outputs": [
    {
     "data": {
      "text/html": [
       "<div>\n",
       "<style scoped>\n",
       "    .dataframe tbody tr th:only-of-type {\n",
       "        vertical-align: middle;\n",
       "    }\n",
       "\n",
       "    .dataframe tbody tr th {\n",
       "        vertical-align: top;\n",
       "    }\n",
       "\n",
       "    .dataframe thead th {\n",
       "        text-align: right;\n",
       "    }\n",
       "</style>\n",
       "<table border=\"1\" class=\"dataframe\">\n",
       "  <thead>\n",
       "    <tr style=\"text-align: right;\">\n",
       "      <th></th>\n",
       "      <th>tbill</th>\n",
       "    </tr>\n",
       "    <tr>\n",
       "      <th>DATE</th>\n",
       "      <th></th>\n",
       "    </tr>\n",
       "  </thead>\n",
       "  <tbody>\n",
       "    <tr>\n",
       "      <th>2009-06-30</th>\n",
       "      <td>-0.00000317</td>\n",
       "    </tr>\n",
       "    <tr>\n",
       "      <th>2009-07-01</th>\n",
       "      <td>-0.00000317</td>\n",
       "    </tr>\n",
       "    <tr>\n",
       "      <th>2009-07-02</th>\n",
       "      <td>0.00000000</td>\n",
       "    </tr>\n",
       "    <tr>\n",
       "      <th>2009-07-03</th>\n",
       "      <td>0.00000000</td>\n",
       "    </tr>\n",
       "    <tr>\n",
       "      <th>2009-07-06</th>\n",
       "      <td>0.00000317</td>\n",
       "    </tr>\n",
       "    <tr>\n",
       "      <th>...</th>\n",
       "      <td>...</td>\n",
       "    </tr>\n",
       "    <tr>\n",
       "      <th>2020-01-28</th>\n",
       "      <td>0.00000317</td>\n",
       "    </tr>\n",
       "    <tr>\n",
       "      <th>2020-01-29</th>\n",
       "      <td>-0.00000159</td>\n",
       "    </tr>\n",
       "    <tr>\n",
       "      <th>2020-01-30</th>\n",
       "      <td>0.00000159</td>\n",
       "    </tr>\n",
       "    <tr>\n",
       "      <th>2020-01-31</th>\n",
       "      <td>-0.00000317</td>\n",
       "    </tr>\n",
       "    <tr>\n",
       "      <th>2020-02-03</th>\n",
       "      <td>0.00000317</td>\n",
       "    </tr>\n",
       "  </tbody>\n",
       "</table>\n",
       "<p>2765 rows × 1 columns</p>\n",
       "</div>"
      ],
      "text/plain": [
       "                 tbill\n",
       "DATE                  \n",
       "2009-06-30 -0.00000317\n",
       "2009-07-01 -0.00000317\n",
       "2009-07-02  0.00000000\n",
       "2009-07-03  0.00000000\n",
       "2009-07-06  0.00000317\n",
       "...                ...\n",
       "2020-01-28  0.00000317\n",
       "2020-01-29 -0.00000159\n",
       "2020-01-30  0.00000159\n",
       "2020-01-31 -0.00000317\n",
       "2020-02-03  0.00000317\n",
       "\n",
       "[2765 rows x 1 columns]"
      ]
     },
     "execution_count": 39,
     "metadata": {},
     "output_type": "execute_result"
    }
   ],
   "source": [
    "tbills_diff"
   ]
  },
  {
   "cell_type": "markdown",
   "id": "64aa18a6",
   "metadata": {
    "hidden": true
   },
   "source": [
    "> ### T-Bills Covid"
   ]
  },
  {
   "cell_type": "code",
   "execution_count": 40,
   "id": "61a96c3a",
   "metadata": {
    "hidden": true
   },
   "outputs": [],
   "source": [
    "# read csv from file and set column name\n",
    "t = pd.read_csv(\"DTB3.csv\",\n",
    "                   header=0, index_col=0, parse_dates=True, na_values=-99.99)\n",
    "t.columns = ['tbill']"
   ]
  },
  {
   "cell_type": "code",
   "execution_count": 41,
   "id": "f476b1b4",
   "metadata": {
    "hidden": true
   },
   "outputs": [],
   "source": [
    "# convert from % return to decimal return\n",
    "tbills_covid = t.replace('.', np.nan).astype(float).ffill()/100\n",
    "#sets date to training period\n",
    "tbills_covid = tbills_covid/63\n",
    "tbills_covid = tbills_covid['2020-02-03':'2020-04-14']"
   ]
  },
  {
   "cell_type": "code",
   "execution_count": 42,
   "id": "4fa5957c",
   "metadata": {
    "hidden": true
   },
   "outputs": [],
   "source": [
    "#convert from % return to decimal return\n",
    "tbills_covid_diff = t.replace('.', np.nan).astype(float).ffill()/100\n",
    "tbills_covid_diff = tbills_covid_diff/63\n",
    "#sets date to training period, takes difference between each days rates and fills NaN values\n",
    "tbills_covid_diff = tbills_covid_diff['2020-02-03':'2020-04-14'].diff().bfill()"
   ]
  },
  {
   "cell_type": "code",
   "execution_count": 43,
   "id": "77931863",
   "metadata": {
    "hidden": true,
    "scrolled": true
   },
   "outputs": [
    {
     "data": {
      "text/html": [
       "<div>\n",
       "<style scoped>\n",
       "    .dataframe tbody tr th:only-of-type {\n",
       "        vertical-align: middle;\n",
       "    }\n",
       "\n",
       "    .dataframe tbody tr th {\n",
       "        vertical-align: top;\n",
       "    }\n",
       "\n",
       "    .dataframe thead th {\n",
       "        text-align: right;\n",
       "    }\n",
       "</style>\n",
       "<table border=\"1\" class=\"dataframe\">\n",
       "  <thead>\n",
       "    <tr style=\"text-align: right;\">\n",
       "      <th></th>\n",
       "      <th>tbill</th>\n",
       "    </tr>\n",
       "    <tr>\n",
       "      <th>DATE</th>\n",
       "      <th></th>\n",
       "    </tr>\n",
       "  </thead>\n",
       "  <tbody>\n",
       "    <tr>\n",
       "      <th>2020-02-03</th>\n",
       "      <td>0.00024444</td>\n",
       "    </tr>\n",
       "    <tr>\n",
       "      <th>2020-02-04</th>\n",
       "      <td>0.00024444</td>\n",
       "    </tr>\n",
       "    <tr>\n",
       "      <th>2020-02-05</th>\n",
       "      <td>0.00024444</td>\n",
       "    </tr>\n",
       "    <tr>\n",
       "      <th>2020-02-06</th>\n",
       "      <td>0.00024444</td>\n",
       "    </tr>\n",
       "    <tr>\n",
       "      <th>2020-02-07</th>\n",
       "      <td>0.00024286</td>\n",
       "    </tr>\n",
       "    <tr>\n",
       "      <th>2020-02-10</th>\n",
       "      <td>0.00024603</td>\n",
       "    </tr>\n",
       "    <tr>\n",
       "      <th>2020-02-11</th>\n",
       "      <td>0.00024444</td>\n",
       "    </tr>\n",
       "    <tr>\n",
       "      <th>2020-02-12</th>\n",
       "      <td>0.00024603</td>\n",
       "    </tr>\n",
       "    <tr>\n",
       "      <th>2020-02-13</th>\n",
       "      <td>0.00024762</td>\n",
       "    </tr>\n",
       "    <tr>\n",
       "      <th>2020-02-14</th>\n",
       "      <td>0.00024603</td>\n",
       "    </tr>\n",
       "    <tr>\n",
       "      <th>2020-02-17</th>\n",
       "      <td>0.00024603</td>\n",
       "    </tr>\n",
       "    <tr>\n",
       "      <th>2020-02-18</th>\n",
       "      <td>0.00024603</td>\n",
       "    </tr>\n",
       "    <tr>\n",
       "      <th>2020-02-19</th>\n",
       "      <td>0.00024603</td>\n",
       "    </tr>\n",
       "    <tr>\n",
       "      <th>2020-02-20</th>\n",
       "      <td>0.00024603</td>\n",
       "    </tr>\n",
       "    <tr>\n",
       "      <th>2020-02-21</th>\n",
       "      <td>0.00024286</td>\n",
       "    </tr>\n",
       "    <tr>\n",
       "      <th>2020-02-24</th>\n",
       "      <td>0.00023810</td>\n",
       "    </tr>\n",
       "    <tr>\n",
       "      <th>2020-02-25</th>\n",
       "      <td>0.00023810</td>\n",
       "    </tr>\n",
       "    <tr>\n",
       "      <th>2020-02-26</th>\n",
       "      <td>0.00023810</td>\n",
       "    </tr>\n",
       "    <tr>\n",
       "      <th>2020-02-27</th>\n",
       "      <td>0.00022540</td>\n",
       "    </tr>\n",
       "    <tr>\n",
       "      <th>2020-02-28</th>\n",
       "      <td>0.00019841</td>\n",
       "    </tr>\n",
       "    <tr>\n",
       "      <th>2020-03-02</th>\n",
       "      <td>0.00017460</td>\n",
       "    </tr>\n",
       "    <tr>\n",
       "      <th>2020-03-03</th>\n",
       "      <td>0.00014762</td>\n",
       "    </tr>\n",
       "    <tr>\n",
       "      <th>2020-03-04</th>\n",
       "      <td>0.00011270</td>\n",
       "    </tr>\n",
       "    <tr>\n",
       "      <th>2020-03-05</th>\n",
       "      <td>0.00009683</td>\n",
       "    </tr>\n",
       "    <tr>\n",
       "      <th>2020-03-06</th>\n",
       "      <td>0.00007143</td>\n",
       "    </tr>\n",
       "    <tr>\n",
       "      <th>2020-03-09</th>\n",
       "      <td>0.00005079</td>\n",
       "    </tr>\n",
       "    <tr>\n",
       "      <th>2020-03-10</th>\n",
       "      <td>0.00006825</td>\n",
       "    </tr>\n",
       "    <tr>\n",
       "      <th>2020-03-11</th>\n",
       "      <td>0.00006508</td>\n",
       "    </tr>\n",
       "    <tr>\n",
       "      <th>2020-03-12</th>\n",
       "      <td>0.00005238</td>\n",
       "    </tr>\n",
       "    <tr>\n",
       "      <th>2020-03-13</th>\n",
       "      <td>0.00004286</td>\n",
       "    </tr>\n",
       "    <tr>\n",
       "      <th>2020-03-16</th>\n",
       "      <td>0.00003810</td>\n",
       "    </tr>\n",
       "    <tr>\n",
       "      <th>2020-03-17</th>\n",
       "      <td>0.00003016</td>\n",
       "    </tr>\n",
       "    <tr>\n",
       "      <th>2020-03-18</th>\n",
       "      <td>0.00000317</td>\n",
       "    </tr>\n",
       "    <tr>\n",
       "      <th>2020-03-19</th>\n",
       "      <td>0.00000635</td>\n",
       "    </tr>\n",
       "    <tr>\n",
       "      <th>2020-03-20</th>\n",
       "      <td>0.00000794</td>\n",
       "    </tr>\n",
       "    <tr>\n",
       "      <th>2020-03-23</th>\n",
       "      <td>0.00000317</td>\n",
       "    </tr>\n",
       "    <tr>\n",
       "      <th>2020-03-24</th>\n",
       "      <td>0.00000159</td>\n",
       "    </tr>\n",
       "    <tr>\n",
       "      <th>2020-03-25</th>\n",
       "      <td>-0.00000635</td>\n",
       "    </tr>\n",
       "    <tr>\n",
       "      <th>2020-03-26</th>\n",
       "      <td>-0.00000794</td>\n",
       "    </tr>\n",
       "    <tr>\n",
       "      <th>2020-03-27</th>\n",
       "      <td>0.00000476</td>\n",
       "    </tr>\n",
       "    <tr>\n",
       "      <th>2020-03-30</th>\n",
       "      <td>0.00001905</td>\n",
       "    </tr>\n",
       "    <tr>\n",
       "      <th>2020-03-31</th>\n",
       "      <td>0.00001746</td>\n",
       "    </tr>\n",
       "    <tr>\n",
       "      <th>2020-04-01</th>\n",
       "      <td>0.00001429</td>\n",
       "    </tr>\n",
       "    <tr>\n",
       "      <th>2020-04-02</th>\n",
       "      <td>0.00001429</td>\n",
       "    </tr>\n",
       "    <tr>\n",
       "      <th>2020-04-03</th>\n",
       "      <td>0.00001587</td>\n",
       "    </tr>\n",
       "    <tr>\n",
       "      <th>2020-04-06</th>\n",
       "      <td>0.00002381</td>\n",
       "    </tr>\n",
       "    <tr>\n",
       "      <th>2020-04-07</th>\n",
       "      <td>0.00002222</td>\n",
       "    </tr>\n",
       "    <tr>\n",
       "      <th>2020-04-08</th>\n",
       "      <td>0.00003492</td>\n",
       "    </tr>\n",
       "    <tr>\n",
       "      <th>2020-04-09</th>\n",
       "      <td>0.00003968</td>\n",
       "    </tr>\n",
       "    <tr>\n",
       "      <th>2020-04-10</th>\n",
       "      <td>0.00003968</td>\n",
       "    </tr>\n",
       "    <tr>\n",
       "      <th>2020-04-13</th>\n",
       "      <td>0.00004127</td>\n",
       "    </tr>\n",
       "    <tr>\n",
       "      <th>2020-04-14</th>\n",
       "      <td>0.00003175</td>\n",
       "    </tr>\n",
       "  </tbody>\n",
       "</table>\n",
       "</div>"
      ],
      "text/plain": [
       "                 tbill\n",
       "DATE                  \n",
       "2020-02-03  0.00024444\n",
       "2020-02-04  0.00024444\n",
       "2020-02-05  0.00024444\n",
       "2020-02-06  0.00024444\n",
       "2020-02-07  0.00024286\n",
       "2020-02-10  0.00024603\n",
       "2020-02-11  0.00024444\n",
       "2020-02-12  0.00024603\n",
       "2020-02-13  0.00024762\n",
       "2020-02-14  0.00024603\n",
       "2020-02-17  0.00024603\n",
       "2020-02-18  0.00024603\n",
       "2020-02-19  0.00024603\n",
       "2020-02-20  0.00024603\n",
       "2020-02-21  0.00024286\n",
       "2020-02-24  0.00023810\n",
       "2020-02-25  0.00023810\n",
       "2020-02-26  0.00023810\n",
       "2020-02-27  0.00022540\n",
       "2020-02-28  0.00019841\n",
       "2020-03-02  0.00017460\n",
       "2020-03-03  0.00014762\n",
       "2020-03-04  0.00011270\n",
       "2020-03-05  0.00009683\n",
       "2020-03-06  0.00007143\n",
       "2020-03-09  0.00005079\n",
       "2020-03-10  0.00006825\n",
       "2020-03-11  0.00006508\n",
       "2020-03-12  0.00005238\n",
       "2020-03-13  0.00004286\n",
       "2020-03-16  0.00003810\n",
       "2020-03-17  0.00003016\n",
       "2020-03-18  0.00000317\n",
       "2020-03-19  0.00000635\n",
       "2020-03-20  0.00000794\n",
       "2020-03-23  0.00000317\n",
       "2020-03-24  0.00000159\n",
       "2020-03-25 -0.00000635\n",
       "2020-03-26 -0.00000794\n",
       "2020-03-27  0.00000476\n",
       "2020-03-30  0.00001905\n",
       "2020-03-31  0.00001746\n",
       "2020-04-01  0.00001429\n",
       "2020-04-02  0.00001429\n",
       "2020-04-03  0.00001587\n",
       "2020-04-06  0.00002381\n",
       "2020-04-07  0.00002222\n",
       "2020-04-08  0.00003492\n",
       "2020-04-09  0.00003968\n",
       "2020-04-10  0.00003968\n",
       "2020-04-13  0.00004127\n",
       "2020-04-14  0.00003175"
      ]
     },
     "execution_count": 43,
     "metadata": {},
     "output_type": "execute_result"
    }
   ],
   "source": [
    "tbills_covid"
   ]
  },
  {
   "cell_type": "code",
   "execution_count": 44,
   "id": "647b4f71",
   "metadata": {
    "hidden": true,
    "scrolled": true
   },
   "outputs": [
    {
     "data": {
      "text/html": [
       "<div>\n",
       "<style scoped>\n",
       "    .dataframe tbody tr th:only-of-type {\n",
       "        vertical-align: middle;\n",
       "    }\n",
       "\n",
       "    .dataframe tbody tr th {\n",
       "        vertical-align: top;\n",
       "    }\n",
       "\n",
       "    .dataframe thead th {\n",
       "        text-align: right;\n",
       "    }\n",
       "</style>\n",
       "<table border=\"1\" class=\"dataframe\">\n",
       "  <thead>\n",
       "    <tr style=\"text-align: right;\">\n",
       "      <th></th>\n",
       "      <th>tbill</th>\n",
       "    </tr>\n",
       "    <tr>\n",
       "      <th>DATE</th>\n",
       "      <th></th>\n",
       "    </tr>\n",
       "  </thead>\n",
       "  <tbody>\n",
       "    <tr>\n",
       "      <th>2020-02-03</th>\n",
       "      <td>0.00000000</td>\n",
       "    </tr>\n",
       "    <tr>\n",
       "      <th>2020-02-04</th>\n",
       "      <td>0.00000000</td>\n",
       "    </tr>\n",
       "    <tr>\n",
       "      <th>2020-02-05</th>\n",
       "      <td>0.00000000</td>\n",
       "    </tr>\n",
       "    <tr>\n",
       "      <th>2020-02-06</th>\n",
       "      <td>0.00000000</td>\n",
       "    </tr>\n",
       "    <tr>\n",
       "      <th>2020-02-07</th>\n",
       "      <td>-0.00000159</td>\n",
       "    </tr>\n",
       "    <tr>\n",
       "      <th>2020-02-10</th>\n",
       "      <td>0.00000317</td>\n",
       "    </tr>\n",
       "    <tr>\n",
       "      <th>2020-02-11</th>\n",
       "      <td>-0.00000159</td>\n",
       "    </tr>\n",
       "    <tr>\n",
       "      <th>2020-02-12</th>\n",
       "      <td>0.00000159</td>\n",
       "    </tr>\n",
       "    <tr>\n",
       "      <th>2020-02-13</th>\n",
       "      <td>0.00000159</td>\n",
       "    </tr>\n",
       "    <tr>\n",
       "      <th>2020-02-14</th>\n",
       "      <td>-0.00000159</td>\n",
       "    </tr>\n",
       "    <tr>\n",
       "      <th>2020-02-17</th>\n",
       "      <td>0.00000000</td>\n",
       "    </tr>\n",
       "    <tr>\n",
       "      <th>2020-02-18</th>\n",
       "      <td>0.00000000</td>\n",
       "    </tr>\n",
       "    <tr>\n",
       "      <th>2020-02-19</th>\n",
       "      <td>0.00000000</td>\n",
       "    </tr>\n",
       "    <tr>\n",
       "      <th>2020-02-20</th>\n",
       "      <td>0.00000000</td>\n",
       "    </tr>\n",
       "    <tr>\n",
       "      <th>2020-02-21</th>\n",
       "      <td>-0.00000317</td>\n",
       "    </tr>\n",
       "    <tr>\n",
       "      <th>2020-02-24</th>\n",
       "      <td>-0.00000476</td>\n",
       "    </tr>\n",
       "    <tr>\n",
       "      <th>2020-02-25</th>\n",
       "      <td>0.00000000</td>\n",
       "    </tr>\n",
       "    <tr>\n",
       "      <th>2020-02-26</th>\n",
       "      <td>0.00000000</td>\n",
       "    </tr>\n",
       "    <tr>\n",
       "      <th>2020-02-27</th>\n",
       "      <td>-0.00001270</td>\n",
       "    </tr>\n",
       "    <tr>\n",
       "      <th>2020-02-28</th>\n",
       "      <td>-0.00002698</td>\n",
       "    </tr>\n",
       "    <tr>\n",
       "      <th>2020-03-02</th>\n",
       "      <td>-0.00002381</td>\n",
       "    </tr>\n",
       "    <tr>\n",
       "      <th>2020-03-03</th>\n",
       "      <td>-0.00002698</td>\n",
       "    </tr>\n",
       "    <tr>\n",
       "      <th>2020-03-04</th>\n",
       "      <td>-0.00003492</td>\n",
       "    </tr>\n",
       "    <tr>\n",
       "      <th>2020-03-05</th>\n",
       "      <td>-0.00001587</td>\n",
       "    </tr>\n",
       "    <tr>\n",
       "      <th>2020-03-06</th>\n",
       "      <td>-0.00002540</td>\n",
       "    </tr>\n",
       "    <tr>\n",
       "      <th>2020-03-09</th>\n",
       "      <td>-0.00002063</td>\n",
       "    </tr>\n",
       "    <tr>\n",
       "      <th>2020-03-10</th>\n",
       "      <td>0.00001746</td>\n",
       "    </tr>\n",
       "    <tr>\n",
       "      <th>2020-03-11</th>\n",
       "      <td>-0.00000317</td>\n",
       "    </tr>\n",
       "    <tr>\n",
       "      <th>2020-03-12</th>\n",
       "      <td>-0.00001270</td>\n",
       "    </tr>\n",
       "    <tr>\n",
       "      <th>2020-03-13</th>\n",
       "      <td>-0.00000952</td>\n",
       "    </tr>\n",
       "    <tr>\n",
       "      <th>2020-03-16</th>\n",
       "      <td>-0.00000476</td>\n",
       "    </tr>\n",
       "    <tr>\n",
       "      <th>2020-03-17</th>\n",
       "      <td>-0.00000794</td>\n",
       "    </tr>\n",
       "    <tr>\n",
       "      <th>2020-03-18</th>\n",
       "      <td>-0.00002698</td>\n",
       "    </tr>\n",
       "    <tr>\n",
       "      <th>2020-03-19</th>\n",
       "      <td>0.00000317</td>\n",
       "    </tr>\n",
       "    <tr>\n",
       "      <th>2020-03-20</th>\n",
       "      <td>0.00000159</td>\n",
       "    </tr>\n",
       "    <tr>\n",
       "      <th>2020-03-23</th>\n",
       "      <td>-0.00000476</td>\n",
       "    </tr>\n",
       "    <tr>\n",
       "      <th>2020-03-24</th>\n",
       "      <td>-0.00000159</td>\n",
       "    </tr>\n",
       "    <tr>\n",
       "      <th>2020-03-25</th>\n",
       "      <td>-0.00000794</td>\n",
       "    </tr>\n",
       "    <tr>\n",
       "      <th>2020-03-26</th>\n",
       "      <td>-0.00000159</td>\n",
       "    </tr>\n",
       "    <tr>\n",
       "      <th>2020-03-27</th>\n",
       "      <td>0.00001270</td>\n",
       "    </tr>\n",
       "    <tr>\n",
       "      <th>2020-03-30</th>\n",
       "      <td>0.00001429</td>\n",
       "    </tr>\n",
       "    <tr>\n",
       "      <th>2020-03-31</th>\n",
       "      <td>-0.00000159</td>\n",
       "    </tr>\n",
       "    <tr>\n",
       "      <th>2020-04-01</th>\n",
       "      <td>-0.00000317</td>\n",
       "    </tr>\n",
       "    <tr>\n",
       "      <th>2020-04-02</th>\n",
       "      <td>0.00000000</td>\n",
       "    </tr>\n",
       "    <tr>\n",
       "      <th>2020-04-03</th>\n",
       "      <td>0.00000159</td>\n",
       "    </tr>\n",
       "    <tr>\n",
       "      <th>2020-04-06</th>\n",
       "      <td>0.00000794</td>\n",
       "    </tr>\n",
       "    <tr>\n",
       "      <th>2020-04-07</th>\n",
       "      <td>-0.00000159</td>\n",
       "    </tr>\n",
       "    <tr>\n",
       "      <th>2020-04-08</th>\n",
       "      <td>0.00001270</td>\n",
       "    </tr>\n",
       "    <tr>\n",
       "      <th>2020-04-09</th>\n",
       "      <td>0.00000476</td>\n",
       "    </tr>\n",
       "    <tr>\n",
       "      <th>2020-04-10</th>\n",
       "      <td>0.00000000</td>\n",
       "    </tr>\n",
       "    <tr>\n",
       "      <th>2020-04-13</th>\n",
       "      <td>0.00000159</td>\n",
       "    </tr>\n",
       "    <tr>\n",
       "      <th>2020-04-14</th>\n",
       "      <td>-0.00000952</td>\n",
       "    </tr>\n",
       "  </tbody>\n",
       "</table>\n",
       "</div>"
      ],
      "text/plain": [
       "                 tbill\n",
       "DATE                  \n",
       "2020-02-03  0.00000000\n",
       "2020-02-04  0.00000000\n",
       "2020-02-05  0.00000000\n",
       "2020-02-06  0.00000000\n",
       "2020-02-07 -0.00000159\n",
       "2020-02-10  0.00000317\n",
       "2020-02-11 -0.00000159\n",
       "2020-02-12  0.00000159\n",
       "2020-02-13  0.00000159\n",
       "2020-02-14 -0.00000159\n",
       "2020-02-17  0.00000000\n",
       "2020-02-18  0.00000000\n",
       "2020-02-19  0.00000000\n",
       "2020-02-20  0.00000000\n",
       "2020-02-21 -0.00000317\n",
       "2020-02-24 -0.00000476\n",
       "2020-02-25  0.00000000\n",
       "2020-02-26  0.00000000\n",
       "2020-02-27 -0.00001270\n",
       "2020-02-28 -0.00002698\n",
       "2020-03-02 -0.00002381\n",
       "2020-03-03 -0.00002698\n",
       "2020-03-04 -0.00003492\n",
       "2020-03-05 -0.00001587\n",
       "2020-03-06 -0.00002540\n",
       "2020-03-09 -0.00002063\n",
       "2020-03-10  0.00001746\n",
       "2020-03-11 -0.00000317\n",
       "2020-03-12 -0.00001270\n",
       "2020-03-13 -0.00000952\n",
       "2020-03-16 -0.00000476\n",
       "2020-03-17 -0.00000794\n",
       "2020-03-18 -0.00002698\n",
       "2020-03-19  0.00000317\n",
       "2020-03-20  0.00000159\n",
       "2020-03-23 -0.00000476\n",
       "2020-03-24 -0.00000159\n",
       "2020-03-25 -0.00000794\n",
       "2020-03-26 -0.00000159\n",
       "2020-03-27  0.00001270\n",
       "2020-03-30  0.00001429\n",
       "2020-03-31 -0.00000159\n",
       "2020-04-01 -0.00000317\n",
       "2020-04-02  0.00000000\n",
       "2020-04-03  0.00000159\n",
       "2020-04-06  0.00000794\n",
       "2020-04-07 -0.00000159\n",
       "2020-04-08  0.00001270\n",
       "2020-04-09  0.00000476\n",
       "2020-04-10  0.00000000\n",
       "2020-04-13  0.00000159\n",
       "2020-04-14 -0.00000952"
      ]
     },
     "execution_count": 44,
     "metadata": {},
     "output_type": "execute_result"
    }
   ],
   "source": [
    "tbills_covid_diff"
   ]
  },
  {
   "cell_type": "code",
   "execution_count": 45,
   "id": "3a0a4141",
   "metadata": {
    "hidden": true
   },
   "outputs": [
    {
     "data": {
      "text/plain": [
       "(52, 1)"
      ]
     },
     "execution_count": 45,
     "metadata": {},
     "output_type": "execute_result"
    }
   ],
   "source": [
    "tbills_covid.shape"
   ]
  },
  {
   "cell_type": "markdown",
   "id": "80141443",
   "metadata": {
    "hidden": true
   },
   "source": [
    "> ### Training Period: Match Returns and T-Bills Index"
   ]
  },
  {
   "cell_type": "code",
   "execution_count": 46,
   "id": "73749ebf",
   "metadata": {
    "hidden": true
   },
   "outputs": [],
   "source": [
    "merged = returns.merge(tbills, how = 'left', left_index=True, right_index=True)\n",
    "merged_diff = returns.merge(tbills_diff, how = 'left', left_index=True, right_index=True)"
   ]
  },
  {
   "cell_type": "code",
   "execution_count": 47,
   "id": "31dff7ac",
   "metadata": {
    "hidden": true
   },
   "outputs": [
    {
     "data": {
      "text/html": [
       "<div>\n",
       "<style scoped>\n",
       "    .dataframe tbody tr th:only-of-type {\n",
       "        vertical-align: middle;\n",
       "    }\n",
       "\n",
       "    .dataframe tbody tr th {\n",
       "        vertical-align: top;\n",
       "    }\n",
       "\n",
       "    .dataframe thead th {\n",
       "        text-align: right;\n",
       "    }\n",
       "</style>\n",
       "<table border=\"1\" class=\"dataframe\">\n",
       "  <thead>\n",
       "    <tr style=\"text-align: right;\">\n",
       "      <th></th>\n",
       "      <th>A</th>\n",
       "      <th>AAPL</th>\n",
       "      <th>ABC</th>\n",
       "      <th>ABT</th>\n",
       "      <th>ADBE</th>\n",
       "      <th>ADI</th>\n",
       "      <th>ADM</th>\n",
       "      <th>ADP</th>\n",
       "      <th>ADSK</th>\n",
       "      <th>AEE</th>\n",
       "      <th>...</th>\n",
       "      <th>WY</th>\n",
       "      <th>WYNN</th>\n",
       "      <th>XEL</th>\n",
       "      <th>XOM</th>\n",
       "      <th>XRAY</th>\n",
       "      <th>XRX</th>\n",
       "      <th>YUM</th>\n",
       "      <th>ZBH</th>\n",
       "      <th>ZION</th>\n",
       "      <th>tbill</th>\n",
       "    </tr>\n",
       "    <tr>\n",
       "      <th>Date</th>\n",
       "      <th></th>\n",
       "      <th></th>\n",
       "      <th></th>\n",
       "      <th></th>\n",
       "      <th></th>\n",
       "      <th></th>\n",
       "      <th></th>\n",
       "      <th></th>\n",
       "      <th></th>\n",
       "      <th></th>\n",
       "      <th></th>\n",
       "      <th></th>\n",
       "      <th></th>\n",
       "      <th></th>\n",
       "      <th></th>\n",
       "      <th></th>\n",
       "      <th></th>\n",
       "      <th></th>\n",
       "      <th></th>\n",
       "      <th></th>\n",
       "      <th></th>\n",
       "    </tr>\n",
       "  </thead>\n",
       "  <tbody>\n",
       "    <tr>\n",
       "      <th>2009-06-30</th>\n",
       "      <td>-0.00587349</td>\n",
       "      <td>0.00324017</td>\n",
       "      <td>-0.01826198</td>\n",
       "      <td>-0.01631134</td>\n",
       "      <td>-0.01118105</td>\n",
       "      <td>0.00405194</td>\n",
       "      <td>-0.01761489</td>\n",
       "      <td>0.00425018</td>\n",
       "      <td>-0.02865923</td>\n",
       "      <td>-0.00200544</td>\n",
       "      <td>...</td>\n",
       "      <td>-0.00555527</td>\n",
       "      <td>-0.04413755</td>\n",
       "      <td>-0.00162688</td>\n",
       "      <td>-0.00949279</td>\n",
       "      <td>-0.01035911</td>\n",
       "      <td>-0.02114771</td>\n",
       "      <td>0.00059997</td>\n",
       "      <td>-0.00907233</td>\n",
       "      <td>-0.05555517</td>\n",
       "      <td>0.00003016</td>\n",
       "    </tr>\n",
       "    <tr>\n",
       "      <th>2009-07-01</th>\n",
       "      <td>0.01526303</td>\n",
       "      <td>0.00280841</td>\n",
       "      <td>0.02818532</td>\n",
       "      <td>-0.00850357</td>\n",
       "      <td>0.01272087</td>\n",
       "      <td>0.00322817</td>\n",
       "      <td>0.02913713</td>\n",
       "      <td>-0.00253974</td>\n",
       "      <td>-0.01685984</td>\n",
       "      <td>0.02008842</td>\n",
       "      <td>...</td>\n",
       "      <td>0.01117300</td>\n",
       "      <td>0.00254950</td>\n",
       "      <td>0.02009799</td>\n",
       "      <td>0.00929765</td>\n",
       "      <td>-0.00294432</td>\n",
       "      <td>0.02006137</td>\n",
       "      <td>0.05038968</td>\n",
       "      <td>-0.01713564</td>\n",
       "      <td>-0.01816628</td>\n",
       "      <td>0.00002698</td>\n",
       "    </tr>\n",
       "    <tr>\n",
       "      <th>2009-07-02</th>\n",
       "      <td>-0.04364674</td>\n",
       "      <td>-0.01967347</td>\n",
       "      <td>-0.02302657</td>\n",
       "      <td>-0.00771879</td>\n",
       "      <td>-0.03558969</td>\n",
       "      <td>-0.00643567</td>\n",
       "      <td>-0.03666050</td>\n",
       "      <td>-0.03309734</td>\n",
       "      <td>-0.02947477</td>\n",
       "      <td>-0.04568724</td>\n",
       "      <td>...</td>\n",
       "      <td>-0.04094889</td>\n",
       "      <td>-0.05594780</td>\n",
       "      <td>-0.02502728</td>\n",
       "      <td>-0.02933662</td>\n",
       "      <td>-0.02099698</td>\n",
       "      <td>-0.03177030</td>\n",
       "      <td>-0.02198723</td>\n",
       "      <td>-0.03940807</td>\n",
       "      <td>-0.02555057</td>\n",
       "      <td>0.00002698</td>\n",
       "    </tr>\n",
       "    <tr>\n",
       "      <th>2009-07-06</th>\n",
       "      <td>-0.00862072</td>\n",
       "      <td>-0.01007011</td>\n",
       "      <td>-0.00168390</td>\n",
       "      <td>-0.00604984</td>\n",
       "      <td>-0.01736612</td>\n",
       "      <td>-0.02510120</td>\n",
       "      <td>0.00791229</td>\n",
       "      <td>0.00263301</td>\n",
       "      <td>0.00331306</td>\n",
       "      <td>0.00577817</td>\n",
       "      <td>...</td>\n",
       "      <td>0.01626568</td>\n",
       "      <td>-0.02155073</td>\n",
       "      <td>0.01310828</td>\n",
       "      <td>-0.00569425</td>\n",
       "      <td>-0.01306964</td>\n",
       "      <td>-0.01874971</td>\n",
       "      <td>0.01751812</td>\n",
       "      <td>0.00124264</td>\n",
       "      <td>0.00632925</td>\n",
       "      <td>0.00003016</td>\n",
       "    </tr>\n",
       "    <tr>\n",
       "      <th>2009-07-07</th>\n",
       "      <td>-0.02864450</td>\n",
       "      <td>-0.02315847</td>\n",
       "      <td>0.02304660</td>\n",
       "      <td>-0.01434784</td>\n",
       "      <td>-0.03019145</td>\n",
       "      <td>-0.01162802</td>\n",
       "      <td>0.01794445</td>\n",
       "      <td>-0.02742921</td>\n",
       "      <td>-0.02641715</td>\n",
       "      <td>-0.02995492</td>\n",
       "      <td>...</td>\n",
       "      <td>-0.07102387</td>\n",
       "      <td>-0.05934542</td>\n",
       "      <td>-0.02048540</td>\n",
       "      <td>-0.02261391</td>\n",
       "      <td>-0.02376930</td>\n",
       "      <td>-0.03662417</td>\n",
       "      <td>-0.01004254</td>\n",
       "      <td>-0.01291228</td>\n",
       "      <td>-0.00988313</td>\n",
       "      <td>0.00003016</td>\n",
       "    </tr>\n",
       "    <tr>\n",
       "      <th>...</th>\n",
       "      <td>...</td>\n",
       "      <td>...</td>\n",
       "      <td>...</td>\n",
       "      <td>...</td>\n",
       "      <td>...</td>\n",
       "      <td>...</td>\n",
       "      <td>...</td>\n",
       "      <td>...</td>\n",
       "      <td>...</td>\n",
       "      <td>...</td>\n",
       "      <td>...</td>\n",
       "      <td>...</td>\n",
       "      <td>...</td>\n",
       "      <td>...</td>\n",
       "      <td>...</td>\n",
       "      <td>...</td>\n",
       "      <td>...</td>\n",
       "      <td>...</td>\n",
       "      <td>...</td>\n",
       "      <td>...</td>\n",
       "      <td>...</td>\n",
       "    </tr>\n",
       "    <tr>\n",
       "      <th>2020-01-28</th>\n",
       "      <td>0.00716278</td>\n",
       "      <td>0.02828946</td>\n",
       "      <td>0.01816712</td>\n",
       "      <td>-0.00055807</td>\n",
       "      <td>0.02228311</td>\n",
       "      <td>0.01871470</td>\n",
       "      <td>0.00895909</td>\n",
       "      <td>0.01456689</td>\n",
       "      <td>0.02123860</td>\n",
       "      <td>0.00262164</td>\n",
       "      <td>...</td>\n",
       "      <td>0.00729188</td>\n",
       "      <td>0.00871742</td>\n",
       "      <td>0.00448309</td>\n",
       "      <td>-0.00139024</td>\n",
       "      <td>-0.01088231</td>\n",
       "      <td>0.04935794</td>\n",
       "      <td>0.00411908</td>\n",
       "      <td>0.00783594</td>\n",
       "      <td>0.01356009</td>\n",
       "      <td>0.00024444</td>\n",
       "    </tr>\n",
       "    <tr>\n",
       "      <th>2020-01-29</th>\n",
       "      <td>0.00068816</td>\n",
       "      <td>0.02093218</td>\n",
       "      <td>0.00841671</td>\n",
       "      <td>-0.00446729</td>\n",
       "      <td>-0.00837493</td>\n",
       "      <td>-0.00944774</td>\n",
       "      <td>-0.00546421</td>\n",
       "      <td>-0.04071785</td>\n",
       "      <td>-0.00144975</td>\n",
       "      <td>0.00871486</td>\n",
       "      <td>...</td>\n",
       "      <td>-0.00954262</td>\n",
       "      <td>-0.00896221</td>\n",
       "      <td>0.00297498</td>\n",
       "      <td>-0.00835262</td>\n",
       "      <td>-0.00253892</td>\n",
       "      <td>-0.00135962</td>\n",
       "      <td>0.01726767</td>\n",
       "      <td>0.01038870</td>\n",
       "      <td>-0.01528974</td>\n",
       "      <td>0.00024286</td>\n",
       "    </tr>\n",
       "    <tr>\n",
       "      <th>2020-01-30</th>\n",
       "      <td>-0.03278328</td>\n",
       "      <td>-0.00144891</td>\n",
       "      <td>-0.01090581</td>\n",
       "      <td>0.00022453</td>\n",
       "      <td>0.01444573</td>\n",
       "      <td>-0.00759526</td>\n",
       "      <td>0.04853461</td>\n",
       "      <td>0.02321094</td>\n",
       "      <td>-0.00375488</td>\n",
       "      <td>0.01086145</td>\n",
       "      <td>...</td>\n",
       "      <td>-0.00099675</td>\n",
       "      <td>0.02236582</td>\n",
       "      <td>0.01987558</td>\n",
       "      <td>0.01060683</td>\n",
       "      <td>-0.02206008</td>\n",
       "      <td>0.00680650</td>\n",
       "      <td>-0.00028128</td>\n",
       "      <td>0.00285240</td>\n",
       "      <td>0.00841051</td>\n",
       "      <td>0.00024444</td>\n",
       "    </tr>\n",
       "    <tr>\n",
       "      <th>2020-01-31</th>\n",
       "      <td>-0.02156894</td>\n",
       "      <td>-0.04433889</td>\n",
       "      <td>-0.03735386</td>\n",
       "      <td>-0.02265586</td>\n",
       "      <td>-0.01569764</td>\n",
       "      <td>-0.02331584</td>\n",
       "      <td>-0.02270731</td>\n",
       "      <td>-0.02068457</td>\n",
       "      <td>-0.01075431</td>\n",
       "      <td>0.00183157</td>\n",
       "      <td>...</td>\n",
       "      <td>-0.03724639</td>\n",
       "      <td>-0.00363289</td>\n",
       "      <td>0.00625354</td>\n",
       "      <td>-0.04121010</td>\n",
       "      <td>-0.02828390</td>\n",
       "      <td>-0.03812878</td>\n",
       "      <td>-0.00778615</td>\n",
       "      <td>-0.02169602</td>\n",
       "      <td>-0.02715995</td>\n",
       "      <td>0.00024127</td>\n",
       "    </tr>\n",
       "    <tr>\n",
       "      <th>2020-02-03</th>\n",
       "      <td>-0.00496606</td>\n",
       "      <td>-0.00274620</td>\n",
       "      <td>0.00163644</td>\n",
       "      <td>-0.00091829</td>\n",
       "      <td>0.01953632</td>\n",
       "      <td>0.00227793</td>\n",
       "      <td>0.00446822</td>\n",
       "      <td>0.01487837</td>\n",
       "      <td>0.01224277</td>\n",
       "      <td>0.00706876</td>\n",
       "      <td>...</td>\n",
       "      <td>-0.02521591</td>\n",
       "      <td>0.01918195</td>\n",
       "      <td>0.00375769</td>\n",
       "      <td>-0.02237616</td>\n",
       "      <td>-0.00678569</td>\n",
       "      <td>0.02024182</td>\n",
       "      <td>0.00605102</td>\n",
       "      <td>0.00412441</td>\n",
       "      <td>0.01362942</td>\n",
       "      <td>0.00024444</td>\n",
       "    </tr>\n",
       "  </tbody>\n",
       "</table>\n",
       "<p>2667 rows × 290 columns</p>\n",
       "</div>"
      ],
      "text/plain": [
       "                     A        AAPL         ABC         ABT        ADBE  \\\n",
       "Date                                                                     \n",
       "2009-06-30 -0.00587349  0.00324017 -0.01826198 -0.01631134 -0.01118105   \n",
       "2009-07-01  0.01526303  0.00280841  0.02818532 -0.00850357  0.01272087   \n",
       "2009-07-02 -0.04364674 -0.01967347 -0.02302657 -0.00771879 -0.03558969   \n",
       "2009-07-06 -0.00862072 -0.01007011 -0.00168390 -0.00604984 -0.01736612   \n",
       "2009-07-07 -0.02864450 -0.02315847  0.02304660 -0.01434784 -0.03019145   \n",
       "...                ...         ...         ...         ...         ...   \n",
       "2020-01-28  0.00716278  0.02828946  0.01816712 -0.00055807  0.02228311   \n",
       "2020-01-29  0.00068816  0.02093218  0.00841671 -0.00446729 -0.00837493   \n",
       "2020-01-30 -0.03278328 -0.00144891 -0.01090581  0.00022453  0.01444573   \n",
       "2020-01-31 -0.02156894 -0.04433889 -0.03735386 -0.02265586 -0.01569764   \n",
       "2020-02-03 -0.00496606 -0.00274620  0.00163644 -0.00091829  0.01953632   \n",
       "\n",
       "                   ADI         ADM         ADP        ADSK         AEE  ...  \\\n",
       "Date                                                                    ...   \n",
       "2009-06-30  0.00405194 -0.01761489  0.00425018 -0.02865923 -0.00200544  ...   \n",
       "2009-07-01  0.00322817  0.02913713 -0.00253974 -0.01685984  0.02008842  ...   \n",
       "2009-07-02 -0.00643567 -0.03666050 -0.03309734 -0.02947477 -0.04568724  ...   \n",
       "2009-07-06 -0.02510120  0.00791229  0.00263301  0.00331306  0.00577817  ...   \n",
       "2009-07-07 -0.01162802  0.01794445 -0.02742921 -0.02641715 -0.02995492  ...   \n",
       "...                ...         ...         ...         ...         ...  ...   \n",
       "2020-01-28  0.01871470  0.00895909  0.01456689  0.02123860  0.00262164  ...   \n",
       "2020-01-29 -0.00944774 -0.00546421 -0.04071785 -0.00144975  0.00871486  ...   \n",
       "2020-01-30 -0.00759526  0.04853461  0.02321094 -0.00375488  0.01086145  ...   \n",
       "2020-01-31 -0.02331584 -0.02270731 -0.02068457 -0.01075431  0.00183157  ...   \n",
       "2020-02-03  0.00227793  0.00446822  0.01487837  0.01224277  0.00706876  ...   \n",
       "\n",
       "                    WY        WYNN         XEL         XOM        XRAY  \\\n",
       "Date                                                                     \n",
       "2009-06-30 -0.00555527 -0.04413755 -0.00162688 -0.00949279 -0.01035911   \n",
       "2009-07-01  0.01117300  0.00254950  0.02009799  0.00929765 -0.00294432   \n",
       "2009-07-02 -0.04094889 -0.05594780 -0.02502728 -0.02933662 -0.02099698   \n",
       "2009-07-06  0.01626568 -0.02155073  0.01310828 -0.00569425 -0.01306964   \n",
       "2009-07-07 -0.07102387 -0.05934542 -0.02048540 -0.02261391 -0.02376930   \n",
       "...                ...         ...         ...         ...         ...   \n",
       "2020-01-28  0.00729188  0.00871742  0.00448309 -0.00139024 -0.01088231   \n",
       "2020-01-29 -0.00954262 -0.00896221  0.00297498 -0.00835262 -0.00253892   \n",
       "2020-01-30 -0.00099675  0.02236582  0.01987558  0.01060683 -0.02206008   \n",
       "2020-01-31 -0.03724639 -0.00363289  0.00625354 -0.04121010 -0.02828390   \n",
       "2020-02-03 -0.02521591  0.01918195  0.00375769 -0.02237616 -0.00678569   \n",
       "\n",
       "                   XRX         YUM         ZBH        ZION       tbill  \n",
       "Date                                                                    \n",
       "2009-06-30 -0.02114771  0.00059997 -0.00907233 -0.05555517  0.00003016  \n",
       "2009-07-01  0.02006137  0.05038968 -0.01713564 -0.01816628  0.00002698  \n",
       "2009-07-02 -0.03177030 -0.02198723 -0.03940807 -0.02555057  0.00002698  \n",
       "2009-07-06 -0.01874971  0.01751812  0.00124264  0.00632925  0.00003016  \n",
       "2009-07-07 -0.03662417 -0.01004254 -0.01291228 -0.00988313  0.00003016  \n",
       "...                ...         ...         ...         ...         ...  \n",
       "2020-01-28  0.04935794  0.00411908  0.00783594  0.01356009  0.00024444  \n",
       "2020-01-29 -0.00135962  0.01726767  0.01038870 -0.01528974  0.00024286  \n",
       "2020-01-30  0.00680650 -0.00028128  0.00285240  0.00841051  0.00024444  \n",
       "2020-01-31 -0.03812878 -0.00778615 -0.02169602 -0.02715995  0.00024127  \n",
       "2020-02-03  0.02024182  0.00605102  0.00412441  0.01362942  0.00024444  \n",
       "\n",
       "[2667 rows x 290 columns]"
      ]
     },
     "execution_count": 47,
     "metadata": {},
     "output_type": "execute_result"
    }
   ],
   "source": [
    "merged"
   ]
  },
  {
   "cell_type": "code",
   "execution_count": 48,
   "id": "596c1729",
   "metadata": {
    "hidden": true
   },
   "outputs": [],
   "source": [
    "returns = merged.iloc[:,:-1].ffill().bfill()"
   ]
  },
  {
   "cell_type": "code",
   "execution_count": 49,
   "id": "18992e9a",
   "metadata": {
    "hidden": true
   },
   "outputs": [],
   "source": [
    "tbills = pd.DataFrame(merged['tbill'])\n",
    "tbills_diff = pd.DataFrame(merged_diff['tbill'])"
   ]
  },
  {
   "cell_type": "code",
   "execution_count": 50,
   "id": "05f8543d",
   "metadata": {
    "hidden": true
   },
   "outputs": [
    {
     "data": {
      "text/html": [
       "<div>\n",
       "<style scoped>\n",
       "    .dataframe tbody tr th:only-of-type {\n",
       "        vertical-align: middle;\n",
       "    }\n",
       "\n",
       "    .dataframe tbody tr th {\n",
       "        vertical-align: top;\n",
       "    }\n",
       "\n",
       "    .dataframe thead th {\n",
       "        text-align: right;\n",
       "    }\n",
       "</style>\n",
       "<table border=\"1\" class=\"dataframe\">\n",
       "  <thead>\n",
       "    <tr style=\"text-align: right;\">\n",
       "      <th></th>\n",
       "      <th>A</th>\n",
       "      <th>AAPL</th>\n",
       "      <th>ABC</th>\n",
       "      <th>ABT</th>\n",
       "      <th>ADBE</th>\n",
       "      <th>ADI</th>\n",
       "      <th>ADM</th>\n",
       "      <th>ADP</th>\n",
       "      <th>ADSK</th>\n",
       "      <th>AEE</th>\n",
       "      <th>...</th>\n",
       "      <th>WMT</th>\n",
       "      <th>WY</th>\n",
       "      <th>WYNN</th>\n",
       "      <th>XEL</th>\n",
       "      <th>XOM</th>\n",
       "      <th>XRAY</th>\n",
       "      <th>XRX</th>\n",
       "      <th>YUM</th>\n",
       "      <th>ZBH</th>\n",
       "      <th>ZION</th>\n",
       "    </tr>\n",
       "    <tr>\n",
       "      <th>Date</th>\n",
       "      <th></th>\n",
       "      <th></th>\n",
       "      <th></th>\n",
       "      <th></th>\n",
       "      <th></th>\n",
       "      <th></th>\n",
       "      <th></th>\n",
       "      <th></th>\n",
       "      <th></th>\n",
       "      <th></th>\n",
       "      <th></th>\n",
       "      <th></th>\n",
       "      <th></th>\n",
       "      <th></th>\n",
       "      <th></th>\n",
       "      <th></th>\n",
       "      <th></th>\n",
       "      <th></th>\n",
       "      <th></th>\n",
       "      <th></th>\n",
       "      <th></th>\n",
       "    </tr>\n",
       "  </thead>\n",
       "  <tbody>\n",
       "    <tr>\n",
       "      <th>2009-06-30</th>\n",
       "      <td>-0.00587349</td>\n",
       "      <td>0.00324017</td>\n",
       "      <td>-0.01826198</td>\n",
       "      <td>-0.01631134</td>\n",
       "      <td>-0.01118105</td>\n",
       "      <td>0.00405194</td>\n",
       "      <td>-0.01761489</td>\n",
       "      <td>0.00425018</td>\n",
       "      <td>-0.02865923</td>\n",
       "      <td>-0.00200544</td>\n",
       "      <td>...</td>\n",
       "      <td>-0.00656314</td>\n",
       "      <td>-0.00555527</td>\n",
       "      <td>-0.04413755</td>\n",
       "      <td>-0.00162688</td>\n",
       "      <td>-0.00949279</td>\n",
       "      <td>-0.01035911</td>\n",
       "      <td>-0.02114771</td>\n",
       "      <td>0.00059997</td>\n",
       "      <td>-0.00907233</td>\n",
       "      <td>-0.05555517</td>\n",
       "    </tr>\n",
       "    <tr>\n",
       "      <th>2009-07-01</th>\n",
       "      <td>0.01526303</td>\n",
       "      <td>0.00280841</td>\n",
       "      <td>0.02818532</td>\n",
       "      <td>-0.00850357</td>\n",
       "      <td>0.01272087</td>\n",
       "      <td>0.00322817</td>\n",
       "      <td>0.02913713</td>\n",
       "      <td>-0.00253974</td>\n",
       "      <td>-0.01685984</td>\n",
       "      <td>0.02008842</td>\n",
       "      <td>...</td>\n",
       "      <td>-0.00144531</td>\n",
       "      <td>0.01117300</td>\n",
       "      <td>0.00254950</td>\n",
       "      <td>0.02009799</td>\n",
       "      <td>0.00929765</td>\n",
       "      <td>-0.00294432</td>\n",
       "      <td>0.02006137</td>\n",
       "      <td>0.05038968</td>\n",
       "      <td>-0.01713564</td>\n",
       "      <td>-0.01816628</td>\n",
       "    </tr>\n",
       "    <tr>\n",
       "      <th>2009-07-02</th>\n",
       "      <td>-0.04364674</td>\n",
       "      <td>-0.01967347</td>\n",
       "      <td>-0.02302657</td>\n",
       "      <td>-0.00771879</td>\n",
       "      <td>-0.03558969</td>\n",
       "      <td>-0.00643567</td>\n",
       "      <td>-0.03666050</td>\n",
       "      <td>-0.03309734</td>\n",
       "      <td>-0.02947477</td>\n",
       "      <td>-0.04568724</td>\n",
       "      <td>...</td>\n",
       "      <td>-0.01199035</td>\n",
       "      <td>-0.04094889</td>\n",
       "      <td>-0.05594780</td>\n",
       "      <td>-0.02502728</td>\n",
       "      <td>-0.02933662</td>\n",
       "      <td>-0.02099698</td>\n",
       "      <td>-0.03177030</td>\n",
       "      <td>-0.02198723</td>\n",
       "      <td>-0.03940807</td>\n",
       "      <td>-0.02555057</td>\n",
       "    </tr>\n",
       "    <tr>\n",
       "      <th>2009-07-06</th>\n",
       "      <td>-0.00862072</td>\n",
       "      <td>-0.01007011</td>\n",
       "      <td>-0.00168390</td>\n",
       "      <td>-0.00604984</td>\n",
       "      <td>-0.01736612</td>\n",
       "      <td>-0.02510120</td>\n",
       "      <td>0.00791229</td>\n",
       "      <td>0.00263301</td>\n",
       "      <td>0.00331306</td>\n",
       "      <td>0.00577817</td>\n",
       "      <td>...</td>\n",
       "      <td>-0.00125565</td>\n",
       "      <td>0.01626568</td>\n",
       "      <td>-0.02155073</td>\n",
       "      <td>0.01310828</td>\n",
       "      <td>-0.00569425</td>\n",
       "      <td>-0.01306964</td>\n",
       "      <td>-0.01874971</td>\n",
       "      <td>0.01751812</td>\n",
       "      <td>0.00124264</td>\n",
       "      <td>0.00632925</td>\n",
       "    </tr>\n",
       "    <tr>\n",
       "      <th>2009-07-07</th>\n",
       "      <td>-0.02864450</td>\n",
       "      <td>-0.02315847</td>\n",
       "      <td>0.02304660</td>\n",
       "      <td>-0.01434784</td>\n",
       "      <td>-0.03019145</td>\n",
       "      <td>-0.01162802</td>\n",
       "      <td>0.01794445</td>\n",
       "      <td>-0.02742921</td>\n",
       "      <td>-0.02641715</td>\n",
       "      <td>-0.02995492</td>\n",
       "      <td>...</td>\n",
       "      <td>0.00230446</td>\n",
       "      <td>-0.07102387</td>\n",
       "      <td>-0.05934542</td>\n",
       "      <td>-0.02048540</td>\n",
       "      <td>-0.02261391</td>\n",
       "      <td>-0.02376930</td>\n",
       "      <td>-0.03662417</td>\n",
       "      <td>-0.01004254</td>\n",
       "      <td>-0.01291228</td>\n",
       "      <td>-0.00988313</td>\n",
       "    </tr>\n",
       "    <tr>\n",
       "      <th>...</th>\n",
       "      <td>...</td>\n",
       "      <td>...</td>\n",
       "      <td>...</td>\n",
       "      <td>...</td>\n",
       "      <td>...</td>\n",
       "      <td>...</td>\n",
       "      <td>...</td>\n",
       "      <td>...</td>\n",
       "      <td>...</td>\n",
       "      <td>...</td>\n",
       "      <td>...</td>\n",
       "      <td>...</td>\n",
       "      <td>...</td>\n",
       "      <td>...</td>\n",
       "      <td>...</td>\n",
       "      <td>...</td>\n",
       "      <td>...</td>\n",
       "      <td>...</td>\n",
       "      <td>...</td>\n",
       "      <td>...</td>\n",
       "      <td>...</td>\n",
       "    </tr>\n",
       "    <tr>\n",
       "      <th>2020-01-28</th>\n",
       "      <td>0.00716278</td>\n",
       "      <td>0.02828946</td>\n",
       "      <td>0.01816712</td>\n",
       "      <td>-0.00055807</td>\n",
       "      <td>0.02228311</td>\n",
       "      <td>0.01871470</td>\n",
       "      <td>0.00895909</td>\n",
       "      <td>0.01456689</td>\n",
       "      <td>0.02123860</td>\n",
       "      <td>0.00262164</td>\n",
       "      <td>...</td>\n",
       "      <td>0.00638691</td>\n",
       "      <td>0.00729188</td>\n",
       "      <td>0.00871742</td>\n",
       "      <td>0.00448309</td>\n",
       "      <td>-0.00139024</td>\n",
       "      <td>-0.01088231</td>\n",
       "      <td>0.04935794</td>\n",
       "      <td>0.00411908</td>\n",
       "      <td>0.00783594</td>\n",
       "      <td>0.01356009</td>\n",
       "    </tr>\n",
       "    <tr>\n",
       "      <th>2020-01-29</th>\n",
       "      <td>0.00068816</td>\n",
       "      <td>0.02093218</td>\n",
       "      <td>0.00841671</td>\n",
       "      <td>-0.00446729</td>\n",
       "      <td>-0.00837493</td>\n",
       "      <td>-0.00944774</td>\n",
       "      <td>-0.00546421</td>\n",
       "      <td>-0.04071785</td>\n",
       "      <td>-0.00144975</td>\n",
       "      <td>0.00871486</td>\n",
       "      <td>...</td>\n",
       "      <td>-0.00608904</td>\n",
       "      <td>-0.00954262</td>\n",
       "      <td>-0.00896221</td>\n",
       "      <td>0.00297498</td>\n",
       "      <td>-0.00835262</td>\n",
       "      <td>-0.00253892</td>\n",
       "      <td>-0.00135962</td>\n",
       "      <td>0.01726767</td>\n",
       "      <td>0.01038870</td>\n",
       "      <td>-0.01528974</td>\n",
       "    </tr>\n",
       "    <tr>\n",
       "      <th>2020-01-30</th>\n",
       "      <td>-0.03278328</td>\n",
       "      <td>-0.00144891</td>\n",
       "      <td>-0.01090581</td>\n",
       "      <td>0.00022453</td>\n",
       "      <td>0.01444573</td>\n",
       "      <td>-0.00759526</td>\n",
       "      <td>0.04853461</td>\n",
       "      <td>0.02321094</td>\n",
       "      <td>-0.00375488</td>\n",
       "      <td>0.01086145</td>\n",
       "      <td>...</td>\n",
       "      <td>0.00595384</td>\n",
       "      <td>-0.00099675</td>\n",
       "      <td>0.02236582</td>\n",
       "      <td>0.01987558</td>\n",
       "      <td>0.01060683</td>\n",
       "      <td>-0.02206008</td>\n",
       "      <td>0.00680650</td>\n",
       "      <td>-0.00028128</td>\n",
       "      <td>0.00285240</td>\n",
       "      <td>0.00841051</td>\n",
       "    </tr>\n",
       "    <tr>\n",
       "      <th>2020-01-31</th>\n",
       "      <td>-0.02156894</td>\n",
       "      <td>-0.04433889</td>\n",
       "      <td>-0.03735386</td>\n",
       "      <td>-0.02265586</td>\n",
       "      <td>-0.01569764</td>\n",
       "      <td>-0.02331584</td>\n",
       "      <td>-0.02270731</td>\n",
       "      <td>-0.02068457</td>\n",
       "      <td>-0.01075431</td>\n",
       "      <td>0.00183157</td>\n",
       "      <td>...</td>\n",
       "      <td>-0.01792763</td>\n",
       "      <td>-0.03724639</td>\n",
       "      <td>-0.00363289</td>\n",
       "      <td>0.00625354</td>\n",
       "      <td>-0.04121010</td>\n",
       "      <td>-0.02828390</td>\n",
       "      <td>-0.03812878</td>\n",
       "      <td>-0.00778615</td>\n",
       "      <td>-0.02169602</td>\n",
       "      <td>-0.02715995</td>\n",
       "    </tr>\n",
       "    <tr>\n",
       "      <th>2020-02-03</th>\n",
       "      <td>-0.00496606</td>\n",
       "      <td>-0.00274620</td>\n",
       "      <td>0.00163644</td>\n",
       "      <td>-0.00091829</td>\n",
       "      <td>0.01953632</td>\n",
       "      <td>0.00227793</td>\n",
       "      <td>0.00446822</td>\n",
       "      <td>0.01487837</td>\n",
       "      <td>0.01224277</td>\n",
       "      <td>0.00706876</td>\n",
       "      <td>...</td>\n",
       "      <td>-0.00192150</td>\n",
       "      <td>-0.02521591</td>\n",
       "      <td>0.01918195</td>\n",
       "      <td>0.00375769</td>\n",
       "      <td>-0.02237616</td>\n",
       "      <td>-0.00678569</td>\n",
       "      <td>0.02024182</td>\n",
       "      <td>0.00605102</td>\n",
       "      <td>0.00412441</td>\n",
       "      <td>0.01362942</td>\n",
       "    </tr>\n",
       "  </tbody>\n",
       "</table>\n",
       "<p>2667 rows × 289 columns</p>\n",
       "</div>"
      ],
      "text/plain": [
       "                     A        AAPL         ABC         ABT        ADBE  \\\n",
       "Date                                                                     \n",
       "2009-06-30 -0.00587349  0.00324017 -0.01826198 -0.01631134 -0.01118105   \n",
       "2009-07-01  0.01526303  0.00280841  0.02818532 -0.00850357  0.01272087   \n",
       "2009-07-02 -0.04364674 -0.01967347 -0.02302657 -0.00771879 -0.03558969   \n",
       "2009-07-06 -0.00862072 -0.01007011 -0.00168390 -0.00604984 -0.01736612   \n",
       "2009-07-07 -0.02864450 -0.02315847  0.02304660 -0.01434784 -0.03019145   \n",
       "...                ...         ...         ...         ...         ...   \n",
       "2020-01-28  0.00716278  0.02828946  0.01816712 -0.00055807  0.02228311   \n",
       "2020-01-29  0.00068816  0.02093218  0.00841671 -0.00446729 -0.00837493   \n",
       "2020-01-30 -0.03278328 -0.00144891 -0.01090581  0.00022453  0.01444573   \n",
       "2020-01-31 -0.02156894 -0.04433889 -0.03735386 -0.02265586 -0.01569764   \n",
       "2020-02-03 -0.00496606 -0.00274620  0.00163644 -0.00091829  0.01953632   \n",
       "\n",
       "                   ADI         ADM         ADP        ADSK         AEE  ...  \\\n",
       "Date                                                                    ...   \n",
       "2009-06-30  0.00405194 -0.01761489  0.00425018 -0.02865923 -0.00200544  ...   \n",
       "2009-07-01  0.00322817  0.02913713 -0.00253974 -0.01685984  0.02008842  ...   \n",
       "2009-07-02 -0.00643567 -0.03666050 -0.03309734 -0.02947477 -0.04568724  ...   \n",
       "2009-07-06 -0.02510120  0.00791229  0.00263301  0.00331306  0.00577817  ...   \n",
       "2009-07-07 -0.01162802  0.01794445 -0.02742921 -0.02641715 -0.02995492  ...   \n",
       "...                ...         ...         ...         ...         ...  ...   \n",
       "2020-01-28  0.01871470  0.00895909  0.01456689  0.02123860  0.00262164  ...   \n",
       "2020-01-29 -0.00944774 -0.00546421 -0.04071785 -0.00144975  0.00871486  ...   \n",
       "2020-01-30 -0.00759526  0.04853461  0.02321094 -0.00375488  0.01086145  ...   \n",
       "2020-01-31 -0.02331584 -0.02270731 -0.02068457 -0.01075431  0.00183157  ...   \n",
       "2020-02-03  0.00227793  0.00446822  0.01487837  0.01224277  0.00706876  ...   \n",
       "\n",
       "                   WMT          WY        WYNN         XEL         XOM  \\\n",
       "Date                                                                     \n",
       "2009-06-30 -0.00656314 -0.00555527 -0.04413755 -0.00162688 -0.00949279   \n",
       "2009-07-01 -0.00144531  0.01117300  0.00254950  0.02009799  0.00929765   \n",
       "2009-07-02 -0.01199035 -0.04094889 -0.05594780 -0.02502728 -0.02933662   \n",
       "2009-07-06 -0.00125565  0.01626568 -0.02155073  0.01310828 -0.00569425   \n",
       "2009-07-07  0.00230446 -0.07102387 -0.05934542 -0.02048540 -0.02261391   \n",
       "...                ...         ...         ...         ...         ...   \n",
       "2020-01-28  0.00638691  0.00729188  0.00871742  0.00448309 -0.00139024   \n",
       "2020-01-29 -0.00608904 -0.00954262 -0.00896221  0.00297498 -0.00835262   \n",
       "2020-01-30  0.00595384 -0.00099675  0.02236582  0.01987558  0.01060683   \n",
       "2020-01-31 -0.01792763 -0.03724639 -0.00363289  0.00625354 -0.04121010   \n",
       "2020-02-03 -0.00192150 -0.02521591  0.01918195  0.00375769 -0.02237616   \n",
       "\n",
       "                  XRAY         XRX         YUM         ZBH        ZION  \n",
       "Date                                                                    \n",
       "2009-06-30 -0.01035911 -0.02114771  0.00059997 -0.00907233 -0.05555517  \n",
       "2009-07-01 -0.00294432  0.02006137  0.05038968 -0.01713564 -0.01816628  \n",
       "2009-07-02 -0.02099698 -0.03177030 -0.02198723 -0.03940807 -0.02555057  \n",
       "2009-07-06 -0.01306964 -0.01874971  0.01751812  0.00124264  0.00632925  \n",
       "2009-07-07 -0.02376930 -0.03662417 -0.01004254 -0.01291228 -0.00988313  \n",
       "...                ...         ...         ...         ...         ...  \n",
       "2020-01-28 -0.01088231  0.04935794  0.00411908  0.00783594  0.01356009  \n",
       "2020-01-29 -0.00253892 -0.00135962  0.01726767  0.01038870 -0.01528974  \n",
       "2020-01-30 -0.02206008  0.00680650 -0.00028128  0.00285240  0.00841051  \n",
       "2020-01-31 -0.02828390 -0.03812878 -0.00778615 -0.02169602 -0.02715995  \n",
       "2020-02-03 -0.00678569  0.02024182  0.00605102  0.00412441  0.01362942  \n",
       "\n",
       "[2667 rows x 289 columns]"
      ]
     },
     "execution_count": 50,
     "metadata": {},
     "output_type": "execute_result"
    }
   ],
   "source": [
    "returns"
   ]
  },
  {
   "cell_type": "code",
   "execution_count": 51,
   "id": "39c89d21",
   "metadata": {
    "hidden": true
   },
   "outputs": [
    {
     "data": {
      "text/html": [
       "<div>\n",
       "<style scoped>\n",
       "    .dataframe tbody tr th:only-of-type {\n",
       "        vertical-align: middle;\n",
       "    }\n",
       "\n",
       "    .dataframe tbody tr th {\n",
       "        vertical-align: top;\n",
       "    }\n",
       "\n",
       "    .dataframe thead th {\n",
       "        text-align: right;\n",
       "    }\n",
       "</style>\n",
       "<table border=\"1\" class=\"dataframe\">\n",
       "  <thead>\n",
       "    <tr style=\"text-align: right;\">\n",
       "      <th></th>\n",
       "      <th>tbill</th>\n",
       "    </tr>\n",
       "    <tr>\n",
       "      <th>Date</th>\n",
       "      <th></th>\n",
       "    </tr>\n",
       "  </thead>\n",
       "  <tbody>\n",
       "    <tr>\n",
       "      <th>2009-06-30</th>\n",
       "      <td>0.00003016</td>\n",
       "    </tr>\n",
       "    <tr>\n",
       "      <th>2009-07-01</th>\n",
       "      <td>0.00002698</td>\n",
       "    </tr>\n",
       "    <tr>\n",
       "      <th>2009-07-02</th>\n",
       "      <td>0.00002698</td>\n",
       "    </tr>\n",
       "    <tr>\n",
       "      <th>2009-07-06</th>\n",
       "      <td>0.00003016</td>\n",
       "    </tr>\n",
       "    <tr>\n",
       "      <th>2009-07-07</th>\n",
       "      <td>0.00003016</td>\n",
       "    </tr>\n",
       "    <tr>\n",
       "      <th>...</th>\n",
       "      <td>...</td>\n",
       "    </tr>\n",
       "    <tr>\n",
       "      <th>2020-01-28</th>\n",
       "      <td>0.00024444</td>\n",
       "    </tr>\n",
       "    <tr>\n",
       "      <th>2020-01-29</th>\n",
       "      <td>0.00024286</td>\n",
       "    </tr>\n",
       "    <tr>\n",
       "      <th>2020-01-30</th>\n",
       "      <td>0.00024444</td>\n",
       "    </tr>\n",
       "    <tr>\n",
       "      <th>2020-01-31</th>\n",
       "      <td>0.00024127</td>\n",
       "    </tr>\n",
       "    <tr>\n",
       "      <th>2020-02-03</th>\n",
       "      <td>0.00024444</td>\n",
       "    </tr>\n",
       "  </tbody>\n",
       "</table>\n",
       "<p>2667 rows × 1 columns</p>\n",
       "</div>"
      ],
      "text/plain": [
       "                 tbill\n",
       "Date                  \n",
       "2009-06-30  0.00003016\n",
       "2009-07-01  0.00002698\n",
       "2009-07-02  0.00002698\n",
       "2009-07-06  0.00003016\n",
       "2009-07-07  0.00003016\n",
       "...                ...\n",
       "2020-01-28  0.00024444\n",
       "2020-01-29  0.00024286\n",
       "2020-01-30  0.00024444\n",
       "2020-01-31  0.00024127\n",
       "2020-02-03  0.00024444\n",
       "\n",
       "[2667 rows x 1 columns]"
      ]
     },
     "execution_count": 51,
     "metadata": {},
     "output_type": "execute_result"
    }
   ],
   "source": [
    "tbills"
   ]
  },
  {
   "cell_type": "code",
   "execution_count": 52,
   "id": "d7f98b90",
   "metadata": {
    "hidden": true
   },
   "outputs": [
    {
     "data": {
      "text/html": [
       "<div>\n",
       "<style scoped>\n",
       "    .dataframe tbody tr th:only-of-type {\n",
       "        vertical-align: middle;\n",
       "    }\n",
       "\n",
       "    .dataframe tbody tr th {\n",
       "        vertical-align: top;\n",
       "    }\n",
       "\n",
       "    .dataframe thead th {\n",
       "        text-align: right;\n",
       "    }\n",
       "</style>\n",
       "<table border=\"1\" class=\"dataframe\">\n",
       "  <thead>\n",
       "    <tr style=\"text-align: right;\">\n",
       "      <th></th>\n",
       "      <th>tbill</th>\n",
       "    </tr>\n",
       "    <tr>\n",
       "      <th>Date</th>\n",
       "      <th></th>\n",
       "    </tr>\n",
       "  </thead>\n",
       "  <tbody>\n",
       "    <tr>\n",
       "      <th>2009-06-30</th>\n",
       "      <td>-0.00000317</td>\n",
       "    </tr>\n",
       "    <tr>\n",
       "      <th>2009-07-01</th>\n",
       "      <td>-0.00000317</td>\n",
       "    </tr>\n",
       "    <tr>\n",
       "      <th>2009-07-02</th>\n",
       "      <td>0.00000000</td>\n",
       "    </tr>\n",
       "    <tr>\n",
       "      <th>2009-07-06</th>\n",
       "      <td>0.00000317</td>\n",
       "    </tr>\n",
       "    <tr>\n",
       "      <th>2009-07-07</th>\n",
       "      <td>0.00000000</td>\n",
       "    </tr>\n",
       "    <tr>\n",
       "      <th>...</th>\n",
       "      <td>...</td>\n",
       "    </tr>\n",
       "    <tr>\n",
       "      <th>2020-01-28</th>\n",
       "      <td>0.00000317</td>\n",
       "    </tr>\n",
       "    <tr>\n",
       "      <th>2020-01-29</th>\n",
       "      <td>-0.00000159</td>\n",
       "    </tr>\n",
       "    <tr>\n",
       "      <th>2020-01-30</th>\n",
       "      <td>0.00000159</td>\n",
       "    </tr>\n",
       "    <tr>\n",
       "      <th>2020-01-31</th>\n",
       "      <td>-0.00000317</td>\n",
       "    </tr>\n",
       "    <tr>\n",
       "      <th>2020-02-03</th>\n",
       "      <td>0.00000317</td>\n",
       "    </tr>\n",
       "  </tbody>\n",
       "</table>\n",
       "<p>2667 rows × 1 columns</p>\n",
       "</div>"
      ],
      "text/plain": [
       "                 tbill\n",
       "Date                  \n",
       "2009-06-30 -0.00000317\n",
       "2009-07-01 -0.00000317\n",
       "2009-07-02  0.00000000\n",
       "2009-07-06  0.00000317\n",
       "2009-07-07  0.00000000\n",
       "...                ...\n",
       "2020-01-28  0.00000317\n",
       "2020-01-29 -0.00000159\n",
       "2020-01-30  0.00000159\n",
       "2020-01-31 -0.00000317\n",
       "2020-02-03  0.00000317\n",
       "\n",
       "[2667 rows x 1 columns]"
      ]
     },
     "execution_count": 52,
     "metadata": {},
     "output_type": "execute_result"
    }
   ],
   "source": [
    "tbills_diff"
   ]
  },
  {
   "cell_type": "markdown",
   "id": "f1f7f8e2",
   "metadata": {
    "hidden": true
   },
   "source": [
    "> ### Testing Period: Match Returns and T-Bills Index"
   ]
  },
  {
   "cell_type": "code",
   "execution_count": 53,
   "id": "dd970331",
   "metadata": {
    "hidden": true
   },
   "outputs": [],
   "source": [
    "merged_covid = returns_covid_PC.merge(tbills_covid, how = 'left', left_index=True, right_index=True)\n",
    "merged_covid_diff = returns_covid_PC.merge(tbills_covid_diff, how = 'left', left_index=True, right_index=True)"
   ]
  },
  {
   "cell_type": "code",
   "execution_count": 54,
   "id": "e1c882a0",
   "metadata": {
    "hidden": true
   },
   "outputs": [],
   "source": [
    "returns_covid = merged_covid.iloc[:,:-1].ffill().bfill()"
   ]
  },
  {
   "cell_type": "code",
   "execution_count": 55,
   "id": "e61c8d28",
   "metadata": {
    "hidden": true
   },
   "outputs": [],
   "source": [
    "tbills_covid = pd.DataFrame(merged_covid['tbill']).ffill().bfill()"
   ]
  },
  {
   "cell_type": "code",
   "execution_count": 56,
   "id": "fe461ba2",
   "metadata": {
    "hidden": true
   },
   "outputs": [],
   "source": [
    "tbills_covid_diff = pd.DataFrame(merged_covid_diff['tbill']).ffill().bfill()"
   ]
  },
  {
   "cell_type": "code",
   "execution_count": 57,
   "id": "d4775975",
   "metadata": {
    "hidden": true
   },
   "outputs": [
    {
     "data": {
      "text/plain": [
       "(50, 289)"
      ]
     },
     "execution_count": 57,
     "metadata": {},
     "output_type": "execute_result"
    }
   ],
   "source": [
    "returns_covid.shape"
   ]
  },
  {
   "cell_type": "code",
   "execution_count": 58,
   "id": "8f6dce04",
   "metadata": {
    "hidden": true
   },
   "outputs": [
    {
     "data": {
      "text/plain": [
       "(50, 1)"
      ]
     },
     "execution_count": 58,
     "metadata": {},
     "output_type": "execute_result"
    }
   ],
   "source": [
    "tbills_covid.shape"
   ]
  },
  {
   "cell_type": "code",
   "execution_count": 59,
   "id": "f0d04b41",
   "metadata": {
    "hidden": true
   },
   "outputs": [
    {
     "data": {
      "text/plain": [
       "(50, 1)"
      ]
     },
     "execution_count": 59,
     "metadata": {},
     "output_type": "execute_result"
    }
   ],
   "source": [
    "tbills_covid_diff.shape"
   ]
  },
  {
   "cell_type": "markdown",
   "id": "b59dbdba",
   "metadata": {
    "hidden": true
   },
   "source": [
    "> ### Training Period and Testing Period: Monthly T-Bills"
   ]
  },
  {
   "cell_type": "code",
   "execution_count": 60,
   "id": "501ce2d9",
   "metadata": {
    "hidden": true
   },
   "outputs": [],
   "source": [
    "tbills_monthly = (tbills+1).groupby(pd.Grouper(freq=\"M\")).prod() -1\n",
    "tbills_diff_monthly = (tbills_diff).groupby(pd.Grouper(freq=\"M\")).prod()\n",
    "\n",
    "tbills_covid_monthly = (tbills_covid+1).groupby(pd.Grouper(freq=\"M\")).prod().ffill() -1\n",
    "tbills_monthly_covid_diff = (tbills_covid_diff).groupby(pd.Grouper(freq=\"M\")).mean()"
   ]
  },
  {
   "cell_type": "markdown",
   "id": "61577961",
   "metadata": {},
   "source": [
    "## Calculate Sharpe Ratios"
   ]
  },
  {
   "cell_type": "markdown",
   "id": "09c9cbfc",
   "metadata": {},
   "source": [
    "> ### Sharpes calcs with Excess - Direct (PC)"
   ]
  },
  {
   "cell_type": "code",
   "execution_count": 61,
   "id": "86691340",
   "metadata": {},
   "outputs": [],
   "source": [
    "excess_returns_PC = returns_PC.sub(tbills['tbill'], axis = 0)\n",
    "excess_returns_monthly_PC = monthly_returns_PC.sub(tbills_monthly['tbill'], axis = 0)"
   ]
  },
  {
   "cell_type": "code",
   "execution_count": 62,
   "id": "2100f070",
   "metadata": {},
   "outputs": [],
   "source": [
    "sharpes_PC = pd.DataFrame(excess_returns_PC.mean()/returns_PC.std())\n",
    "#sharpes = pd.DataFrame(returns.mean()/returns.std())\n",
    "\n",
    "\n",
    "sharpes_monthly_PC = pd.DataFrame(excess_returns_monthly_PC.mean()/monthly_returns_PC.std())\n",
    "#sharpes_monthly = pd.DataFrame(monthly_returns.mean()/monthly_returns.std())\n",
    "\n",
    "sharpes_PC = sharpes_PC*(252)**0.5\n",
    "sharpes_monthly_PC = sharpes_monthly_PC*(12)**0.5"
   ]
  },
  {
   "cell_type": "code",
   "execution_count": 63,
   "id": "4445ed26",
   "metadata": {},
   "outputs": [],
   "source": [
    "sharpes_PC.columns = ['sharpes']\n",
    "sharpes_monthly_PC.columns = ['sharpes']"
   ]
  },
  {
   "cell_type": "code",
   "execution_count": 64,
   "id": "450d995f",
   "metadata": {},
   "outputs": [],
   "source": [
    "sharpes_PC.index.name = 'ticker'\n",
    "sharpes_monthly_PC.index.name = 'ticker'"
   ]
  },
  {
   "cell_type": "code",
   "execution_count": 65,
   "id": "00e42806",
   "metadata": {
    "scrolled": true
   },
   "outputs": [
    {
     "data": {
      "text/html": [
       "<div>\n",
       "<style scoped>\n",
       "    .dataframe tbody tr th:only-of-type {\n",
       "        vertical-align: middle;\n",
       "    }\n",
       "\n",
       "    .dataframe tbody tr th {\n",
       "        vertical-align: top;\n",
       "    }\n",
       "\n",
       "    .dataframe thead th {\n",
       "        text-align: right;\n",
       "    }\n",
       "</style>\n",
       "<table border=\"1\" class=\"dataframe\">\n",
       "  <thead>\n",
       "    <tr style=\"text-align: right;\">\n",
       "      <th></th>\n",
       "      <th>sharpes</th>\n",
       "    </tr>\n",
       "    <tr>\n",
       "      <th>ticker</th>\n",
       "      <th></th>\n",
       "    </tr>\n",
       "  </thead>\n",
       "  <tbody>\n",
       "    <tr>\n",
       "      <th>DVN</th>\n",
       "      <td>-0.09174980</td>\n",
       "    </tr>\n",
       "    <tr>\n",
       "      <th>APA</th>\n",
       "      <td>-0.08042710</td>\n",
       "    </tr>\n",
       "    <tr>\n",
       "      <th>SLB</th>\n",
       "      <td>-0.02023952</td>\n",
       "    </tr>\n",
       "    <tr>\n",
       "      <th>OXY</th>\n",
       "      <td>0.01743242</td>\n",
       "    </tr>\n",
       "    <tr>\n",
       "      <th>NOV</th>\n",
       "      <td>0.05621424</td>\n",
       "    </tr>\n",
       "    <tr>\n",
       "      <th>...</th>\n",
       "      <td>...</td>\n",
       "    </tr>\n",
       "    <tr>\n",
       "      <th>CMS</th>\n",
       "      <td>1.13490714</td>\n",
       "    </tr>\n",
       "    <tr>\n",
       "      <th>FISV</th>\n",
       "      <td>1.14623849</td>\n",
       "    </tr>\n",
       "    <tr>\n",
       "      <th>MA</th>\n",
       "      <td>1.16426396</td>\n",
       "    </tr>\n",
       "    <tr>\n",
       "      <th>HD</th>\n",
       "      <td>1.18672995</td>\n",
       "    </tr>\n",
       "    <tr>\n",
       "      <th>CTAS</th>\n",
       "      <td>1.19116673</td>\n",
       "    </tr>\n",
       "  </tbody>\n",
       "</table>\n",
       "<p>289 rows × 1 columns</p>\n",
       "</div>"
      ],
      "text/plain": [
       "           sharpes\n",
       "ticker            \n",
       "DVN    -0.09174980\n",
       "APA    -0.08042710\n",
       "SLB    -0.02023952\n",
       "OXY     0.01743242\n",
       "NOV     0.05621424\n",
       "...            ...\n",
       "CMS     1.13490714\n",
       "FISV    1.14623849\n",
       "MA      1.16426396\n",
       "HD      1.18672995\n",
       "CTAS    1.19116673\n",
       "\n",
       "[289 rows x 1 columns]"
      ]
     },
     "execution_count": 65,
     "metadata": {},
     "output_type": "execute_result"
    }
   ],
   "source": [
    "sharpes_PC.sort_values(by='sharpes')"
   ]
  },
  {
   "cell_type": "code",
   "execution_count": 66,
   "id": "22c36e6f",
   "metadata": {
    "scrolled": true
   },
   "outputs": [
    {
     "data": {
      "text/html": [
       "<div>\n",
       "<style scoped>\n",
       "    .dataframe tbody tr th:only-of-type {\n",
       "        vertical-align: middle;\n",
       "    }\n",
       "\n",
       "    .dataframe tbody tr th {\n",
       "        vertical-align: top;\n",
       "    }\n",
       "\n",
       "    .dataframe thead th {\n",
       "        text-align: right;\n",
       "    }\n",
       "</style>\n",
       "<table border=\"1\" class=\"dataframe\">\n",
       "  <thead>\n",
       "    <tr style=\"text-align: right;\">\n",
       "      <th></th>\n",
       "      <th>sharpes</th>\n",
       "    </tr>\n",
       "    <tr>\n",
       "      <th>ticker</th>\n",
       "      <th></th>\n",
       "    </tr>\n",
       "  </thead>\n",
       "  <tbody>\n",
       "    <tr>\n",
       "      <th>APA</th>\n",
       "      <td>-0.08063527</td>\n",
       "    </tr>\n",
       "    <tr>\n",
       "      <th>DVN</th>\n",
       "      <td>-0.06774487</td>\n",
       "    </tr>\n",
       "    <tr>\n",
       "      <th>SLB</th>\n",
       "      <td>-0.00564712</td>\n",
       "    </tr>\n",
       "    <tr>\n",
       "      <th>OXY</th>\n",
       "      <td>0.00844826</td>\n",
       "    </tr>\n",
       "    <tr>\n",
       "      <th>NOV</th>\n",
       "      <td>0.04341347</td>\n",
       "    </tr>\n",
       "    <tr>\n",
       "      <th>...</th>\n",
       "      <td>...</td>\n",
       "    </tr>\n",
       "    <tr>\n",
       "      <th>CMS</th>\n",
       "      <td>1.26435777</td>\n",
       "    </tr>\n",
       "    <tr>\n",
       "      <th>NI</th>\n",
       "      <td>1.28138520</td>\n",
       "    </tr>\n",
       "    <tr>\n",
       "      <th>FISV</th>\n",
       "      <td>1.35116017</td>\n",
       "    </tr>\n",
       "    <tr>\n",
       "      <th>CTAS</th>\n",
       "      <td>1.40823475</td>\n",
       "    </tr>\n",
       "    <tr>\n",
       "      <th>MA</th>\n",
       "      <td>1.41282185</td>\n",
       "    </tr>\n",
       "  </tbody>\n",
       "</table>\n",
       "<p>289 rows × 1 columns</p>\n",
       "</div>"
      ],
      "text/plain": [
       "           sharpes\n",
       "ticker            \n",
       "APA    -0.08063527\n",
       "DVN    -0.06774487\n",
       "SLB    -0.00564712\n",
       "OXY     0.00844826\n",
       "NOV     0.04341347\n",
       "...            ...\n",
       "CMS     1.26435777\n",
       "NI      1.28138520\n",
       "FISV    1.35116017\n",
       "CTAS    1.40823475\n",
       "MA      1.41282185\n",
       "\n",
       "[289 rows x 1 columns]"
      ]
     },
     "execution_count": 66,
     "metadata": {},
     "output_type": "execute_result"
    }
   ],
   "source": [
    "sharpes_monthly_PC.sort_values(by='sharpes')"
   ]
  },
  {
   "cell_type": "code",
   "execution_count": 67,
   "id": "243cdb07",
   "metadata": {
    "scrolled": false
   },
   "outputs": [
    {
     "data": {
      "text/plain": [
       "sharpes    0.62149321\n",
       "dtype: float64"
      ]
     },
     "execution_count": 67,
     "metadata": {},
     "output_type": "execute_result"
    }
   ],
   "source": [
    "sharpes_PC.sort_values(by='sharpes').mean()"
   ]
  },
  {
   "cell_type": "code",
   "execution_count": 68,
   "id": "f5149db3",
   "metadata": {
    "scrolled": true
   },
   "outputs": [
    {
     "data": {
      "text/plain": [
       "sharpes    0.66019716\n",
       "dtype: float64"
      ]
     },
     "execution_count": 68,
     "metadata": {},
     "output_type": "execute_result"
    }
   ],
   "source": [
    "sharpes_monthly_PC.sort_values(by='sharpes').mean()"
   ]
  },
  {
   "cell_type": "markdown",
   "id": "aa3cc8b8",
   "metadata": {},
   "source": [
    "### EXPORT"
   ]
  },
  {
   "cell_type": "code",
   "execution_count": 69,
   "id": "663be421",
   "metadata": {},
   "outputs": [],
   "source": [
    "sharpes_PC.to_csv('Export/sharpes_PC.csv')\n",
    "sharpes_monthly_PC.to_csv('Export/sharpes_monthly_PC.csv')"
   ]
  },
  {
   "cell_type": "markdown",
   "id": "3e715956",
   "metadata": {},
   "source": [
    "> ### Sharpes calcs with Excess - Direct (OCO)"
   ]
  },
  {
   "cell_type": "code",
   "execution_count": 70,
   "id": "af4facd3",
   "metadata": {},
   "outputs": [],
   "source": [
    "excess_returns_OCO = returns_OCO.sub(tbills['tbill'], axis = 0)\n",
    "excess_returns_monthly_OCO = monthly_returns_OCO.sub(tbills_monthly['tbill'], axis = 0)"
   ]
  },
  {
   "cell_type": "code",
   "execution_count": 71,
   "id": "0b17aafd",
   "metadata": {},
   "outputs": [],
   "source": [
    "sharpes_OCO = pd.DataFrame(excess_returns_OCO.mean()/returns_OCO.std())\n",
    "#sharpes = pd.DataFrame(returns.mean()/returns.std())\n",
    "\n",
    "\n",
    "sharpes_monthly_OCO = pd.DataFrame(excess_returns_monthly_OCO.mean()/monthly_returns_OCO.std())\n",
    "#sharpes_monthly = pd.DataFrame(monthly_returns.mean()/monthly_returns.std())\n",
    "\n",
    "sharpes_OCO = sharpes_OCO*(252)**0.5\n",
    "sharpes_monthly_OCO = sharpes_monthly_OCO*(12)**0.5"
   ]
  },
  {
   "cell_type": "code",
   "execution_count": 72,
   "id": "4a727dc5",
   "metadata": {},
   "outputs": [],
   "source": [
    "sharpes_OCO.columns = ['sharpes']\n",
    "sharpes_monthly_OCO.columns = ['sharpes']"
   ]
  },
  {
   "cell_type": "code",
   "execution_count": 73,
   "id": "54001ea3",
   "metadata": {},
   "outputs": [],
   "source": [
    "sharpes_OCO.index.name = 'ticker'\n",
    "sharpes_monthly_OCO.index.name = 'ticker'"
   ]
  },
  {
   "cell_type": "code",
   "execution_count": 74,
   "id": "26bed453",
   "metadata": {
    "scrolled": true
   },
   "outputs": [
    {
     "data": {
      "text/html": [
       "<div>\n",
       "<style scoped>\n",
       "    .dataframe tbody tr th:only-of-type {\n",
       "        vertical-align: middle;\n",
       "    }\n",
       "\n",
       "    .dataframe tbody tr th {\n",
       "        vertical-align: top;\n",
       "    }\n",
       "\n",
       "    .dataframe thead th {\n",
       "        text-align: right;\n",
       "    }\n",
       "</style>\n",
       "<table border=\"1\" class=\"dataframe\">\n",
       "  <thead>\n",
       "    <tr style=\"text-align: right;\">\n",
       "      <th></th>\n",
       "      <th>sharpes</th>\n",
       "    </tr>\n",
       "    <tr>\n",
       "      <th>ticker</th>\n",
       "      <th></th>\n",
       "    </tr>\n",
       "  </thead>\n",
       "  <tbody>\n",
       "    <tr>\n",
       "      <th>F</th>\n",
       "      <td>-0.84279601</td>\n",
       "    </tr>\n",
       "    <tr>\n",
       "      <th>BAC</th>\n",
       "      <td>-0.72981199</td>\n",
       "    </tr>\n",
       "    <tr>\n",
       "      <th>FCX</th>\n",
       "      <td>-0.52835816</td>\n",
       "    </tr>\n",
       "    <tr>\n",
       "      <th>C</th>\n",
       "      <td>-0.51414508</td>\n",
       "    </tr>\n",
       "    <tr>\n",
       "      <th>DVN</th>\n",
       "      <td>-0.49781592</td>\n",
       "    </tr>\n",
       "    <tr>\n",
       "      <th>...</th>\n",
       "      <td>...</td>\n",
       "    </tr>\n",
       "    <tr>\n",
       "      <th>AON</th>\n",
       "      <td>1.20757081</td>\n",
       "    </tr>\n",
       "    <tr>\n",
       "      <th>HSY</th>\n",
       "      <td>1.23984924</td>\n",
       "    </tr>\n",
       "    <tr>\n",
       "      <th>SHW</th>\n",
       "      <td>1.31123173</td>\n",
       "    </tr>\n",
       "    <tr>\n",
       "      <th>FISV</th>\n",
       "      <td>1.35472315</td>\n",
       "    </tr>\n",
       "    <tr>\n",
       "      <th>INTU</th>\n",
       "      <td>1.36303645</td>\n",
       "    </tr>\n",
       "  </tbody>\n",
       "</table>\n",
       "<p>289 rows × 1 columns</p>\n",
       "</div>"
      ],
      "text/plain": [
       "           sharpes\n",
       "ticker            \n",
       "F      -0.84279601\n",
       "BAC    -0.72981199\n",
       "FCX    -0.52835816\n",
       "C      -0.51414508\n",
       "DVN    -0.49781592\n",
       "...            ...\n",
       "AON     1.20757081\n",
       "HSY     1.23984924\n",
       "SHW     1.31123173\n",
       "FISV    1.35472315\n",
       "INTU    1.36303645\n",
       "\n",
       "[289 rows x 1 columns]"
      ]
     },
     "execution_count": 74,
     "metadata": {},
     "output_type": "execute_result"
    }
   ],
   "source": [
    "sharpes_OCO.sort_values(by='sharpes')"
   ]
  },
  {
   "cell_type": "code",
   "execution_count": 75,
   "id": "e015ff1e",
   "metadata": {
    "scrolled": true
   },
   "outputs": [
    {
     "data": {
      "text/html": [
       "<div>\n",
       "<style scoped>\n",
       "    .dataframe tbody tr th:only-of-type {\n",
       "        vertical-align: middle;\n",
       "    }\n",
       "\n",
       "    .dataframe tbody tr th {\n",
       "        vertical-align: top;\n",
       "    }\n",
       "\n",
       "    .dataframe thead th {\n",
       "        text-align: right;\n",
       "    }\n",
       "</style>\n",
       "<table border=\"1\" class=\"dataframe\">\n",
       "  <thead>\n",
       "    <tr style=\"text-align: right;\">\n",
       "      <th></th>\n",
       "      <th>sharpes</th>\n",
       "    </tr>\n",
       "    <tr>\n",
       "      <th>ticker</th>\n",
       "      <th></th>\n",
       "    </tr>\n",
       "  </thead>\n",
       "  <tbody>\n",
       "    <tr>\n",
       "      <th>F</th>\n",
       "      <td>-0.79212502</td>\n",
       "    </tr>\n",
       "    <tr>\n",
       "      <th>BAC</th>\n",
       "      <td>-0.61764227</td>\n",
       "    </tr>\n",
       "    <tr>\n",
       "      <th>MU</th>\n",
       "      <td>-0.49637062</td>\n",
       "    </tr>\n",
       "    <tr>\n",
       "      <th>MRO</th>\n",
       "      <td>-0.46358456</td>\n",
       "    </tr>\n",
       "    <tr>\n",
       "      <th>DVN</th>\n",
       "      <td>-0.46166430</td>\n",
       "    </tr>\n",
       "    <tr>\n",
       "      <th>...</th>\n",
       "      <td>...</td>\n",
       "    </tr>\n",
       "    <tr>\n",
       "      <th>MMC</th>\n",
       "      <td>1.13392206</td>\n",
       "    </tr>\n",
       "    <tr>\n",
       "      <th>HSY</th>\n",
       "      <td>1.15673264</td>\n",
       "    </tr>\n",
       "    <tr>\n",
       "      <th>SHW</th>\n",
       "      <td>1.29382253</td>\n",
       "    </tr>\n",
       "    <tr>\n",
       "      <th>FISV</th>\n",
       "      <td>1.40237752</td>\n",
       "    </tr>\n",
       "    <tr>\n",
       "      <th>INTU</th>\n",
       "      <td>1.44848566</td>\n",
       "    </tr>\n",
       "  </tbody>\n",
       "</table>\n",
       "<p>289 rows × 1 columns</p>\n",
       "</div>"
      ],
      "text/plain": [
       "           sharpes\n",
       "ticker            \n",
       "F      -0.79212502\n",
       "BAC    -0.61764227\n",
       "MU     -0.49637062\n",
       "MRO    -0.46358456\n",
       "DVN    -0.46166430\n",
       "...            ...\n",
       "MMC     1.13392206\n",
       "HSY     1.15673264\n",
       "SHW     1.29382253\n",
       "FISV    1.40237752\n",
       "INTU    1.44848566\n",
       "\n",
       "[289 rows x 1 columns]"
      ]
     },
     "execution_count": 75,
     "metadata": {},
     "output_type": "execute_result"
    }
   ],
   "source": [
    "sharpes_monthly_OCO.sort_values(by='sharpes')"
   ]
  },
  {
   "cell_type": "code",
   "execution_count": 76,
   "id": "68f59680",
   "metadata": {
    "scrolled": false
   },
   "outputs": [
    {
     "data": {
      "text/plain": [
       "sharpes    0.37960045\n",
       "dtype: float64"
      ]
     },
     "execution_count": 76,
     "metadata": {},
     "output_type": "execute_result"
    }
   ],
   "source": [
    "sharpes_OCO.sort_values(by='sharpes').mean()"
   ]
  },
  {
   "cell_type": "code",
   "execution_count": 77,
   "id": "d9bc0ed7",
   "metadata": {
    "scrolled": false
   },
   "outputs": [
    {
     "data": {
      "text/plain": [
       "sharpes    0.38424593\n",
       "dtype: float64"
      ]
     },
     "execution_count": 77,
     "metadata": {},
     "output_type": "execute_result"
    }
   ],
   "source": [
    "sharpes_monthly_OCO.sort_values(by='sharpes').mean()"
   ]
  },
  {
   "cell_type": "markdown",
   "id": "ddadc23c",
   "metadata": {},
   "source": [
    "### EXPORT"
   ]
  },
  {
   "cell_type": "code",
   "execution_count": 78,
   "id": "494ac6ff",
   "metadata": {},
   "outputs": [],
   "source": [
    "sharpes_OCO.to_csv('Export/sharpes_OCO.csv')\n",
    "sharpes_monthly_OCO.to_csv('Export/sharpes_monthly_OCO.csv')"
   ]
  },
  {
   "cell_type": "markdown",
   "id": "ad26e696",
   "metadata": {},
   "source": [
    "> ### Sharpes calcs with Excess - Diff (PC)"
   ]
  },
  {
   "cell_type": "code",
   "execution_count": 79,
   "id": "6b62ec6b",
   "metadata": {},
   "outputs": [],
   "source": [
    "excess_returns_diff_PC = returns_PC.sub(tbills_diff['tbill'], axis = 0)\n",
    "excess_returns_monthly_diff_PC = monthly_returns_PC.sub(tbills_diff_monthly['tbill'], axis = 0)"
   ]
  },
  {
   "cell_type": "code",
   "execution_count": 80,
   "id": "0f84857c",
   "metadata": {},
   "outputs": [],
   "source": [
    "sharpes_diff_PC = pd.DataFrame(excess_returns_diff_PC.mean()/returns_PC.std())\n",
    "sharpes_monthly_diff_PC = pd.DataFrame(excess_returns_monthly_diff_PC.mean()/returns_PC.std())\n",
    "\n",
    "sharpes_diff_PC = sharpes_diff_PC*(252)**0.5\n",
    "sharpes_monthly_diff_PC = sharpes_monthly_diff_PC*(12)**0.5"
   ]
  },
  {
   "cell_type": "code",
   "execution_count": 81,
   "id": "25e12316",
   "metadata": {},
   "outputs": [],
   "source": [
    "sharpes_diff_PC.columns = ['sharpes']\n",
    "sharpes_monthly_diff_PC.columns = ['sharpes']"
   ]
  },
  {
   "cell_type": "code",
   "execution_count": 82,
   "id": "755c443c",
   "metadata": {},
   "outputs": [],
   "source": [
    "sharpes_diff_PC.index.name = 'ticker'\n",
    "sharpes_monthly_diff_PC.index.name = 'ticker'"
   ]
  },
  {
   "cell_type": "code",
   "execution_count": 83,
   "id": "b7119583",
   "metadata": {
    "scrolled": false
   },
   "outputs": [
    {
     "data": {
      "text/html": [
       "<div>\n",
       "<style scoped>\n",
       "    .dataframe tbody tr th:only-of-type {\n",
       "        vertical-align: middle;\n",
       "    }\n",
       "\n",
       "    .dataframe tbody tr th {\n",
       "        vertical-align: top;\n",
       "    }\n",
       "\n",
       "    .dataframe thead th {\n",
       "        text-align: right;\n",
       "    }\n",
       "</style>\n",
       "<table border=\"1\" class=\"dataframe\">\n",
       "  <thead>\n",
       "    <tr style=\"text-align: right;\">\n",
       "      <th></th>\n",
       "      <th>sharpes</th>\n",
       "    </tr>\n",
       "    <tr>\n",
       "      <th>ticker</th>\n",
       "      <th></th>\n",
       "    </tr>\n",
       "  </thead>\n",
       "  <tbody>\n",
       "    <tr>\n",
       "      <th>DVN</th>\n",
       "      <td>-0.03152377</td>\n",
       "    </tr>\n",
       "    <tr>\n",
       "      <th>APA</th>\n",
       "      <td>-0.02079241</td>\n",
       "    </tr>\n",
       "    <tr>\n",
       "      <th>SLB</th>\n",
       "      <td>0.05789284</td>\n",
       "    </tr>\n",
       "    <tr>\n",
       "      <th>OXY</th>\n",
       "      <td>0.10078582</td>\n",
       "    </tr>\n",
       "    <tr>\n",
       "      <th>NOV</th>\n",
       "      <td>0.11964186</td>\n",
       "    </tr>\n",
       "    <tr>\n",
       "      <th>...</th>\n",
       "      <td>...</td>\n",
       "    </tr>\n",
       "    <tr>\n",
       "      <th>MA</th>\n",
       "      <td>1.25146689</td>\n",
       "    </tr>\n",
       "    <tr>\n",
       "      <th>FISV</th>\n",
       "      <td>1.26122920</td>\n",
       "    </tr>\n",
       "    <tr>\n",
       "      <th>CMS</th>\n",
       "      <td>1.26710887</td>\n",
       "    </tr>\n",
       "    <tr>\n",
       "      <th>CTAS</th>\n",
       "      <td>1.29498692</td>\n",
       "    </tr>\n",
       "    <tr>\n",
       "      <th>HD</th>\n",
       "      <td>1.29753579</td>\n",
       "    </tr>\n",
       "  </tbody>\n",
       "</table>\n",
       "<p>289 rows × 1 columns</p>\n",
       "</div>"
      ],
      "text/plain": [
       "           sharpes\n",
       "ticker            \n",
       "DVN    -0.03152377\n",
       "APA    -0.02079241\n",
       "SLB     0.05789284\n",
       "OXY     0.10078582\n",
       "NOV     0.11964186\n",
       "...            ...\n",
       "MA      1.25146689\n",
       "FISV    1.26122920\n",
       "CMS     1.26710887\n",
       "CTAS    1.29498692\n",
       "HD      1.29753579\n",
       "\n",
       "[289 rows x 1 columns]"
      ]
     },
     "execution_count": 83,
     "metadata": {},
     "output_type": "execute_result"
    }
   ],
   "source": [
    "sharpes_diff_PC.sort_values(by='sharpes')"
   ]
  },
  {
   "cell_type": "code",
   "execution_count": 84,
   "id": "63e49a5b",
   "metadata": {
    "scrolled": true
   },
   "outputs": [
    {
     "data": {
      "text/html": [
       "<div>\n",
       "<style scoped>\n",
       "    .dataframe tbody tr th:only-of-type {\n",
       "        vertical-align: middle;\n",
       "    }\n",
       "\n",
       "    .dataframe tbody tr th {\n",
       "        vertical-align: top;\n",
       "    }\n",
       "\n",
       "    .dataframe thead th {\n",
       "        text-align: right;\n",
       "    }\n",
       "</style>\n",
       "<table border=\"1\" class=\"dataframe\">\n",
       "  <thead>\n",
       "    <tr style=\"text-align: right;\">\n",
       "      <th></th>\n",
       "      <th>sharpes</th>\n",
       "    </tr>\n",
       "    <tr>\n",
       "      <th>ticker</th>\n",
       "      <th></th>\n",
       "    </tr>\n",
       "  </thead>\n",
       "  <tbody>\n",
       "    <tr>\n",
       "      <th>APA</th>\n",
       "      <td>-0.09392857</td>\n",
       "    </tr>\n",
       "    <tr>\n",
       "      <th>DVN</th>\n",
       "      <td>-0.05019335</td>\n",
       "    </tr>\n",
       "    <tr>\n",
       "      <th>SLB</th>\n",
       "      <td>0.32692007</td>\n",
       "    </tr>\n",
       "    <tr>\n",
       "      <th>OXY</th>\n",
       "      <td>0.41476812</td>\n",
       "    </tr>\n",
       "    <tr>\n",
       "      <th>NOV</th>\n",
       "      <td>0.47844740</td>\n",
       "    </tr>\n",
       "    <tr>\n",
       "      <th>...</th>\n",
       "      <td>...</td>\n",
       "    </tr>\n",
       "    <tr>\n",
       "      <th>WEC</th>\n",
       "      <td>5.49753594</td>\n",
       "    </tr>\n",
       "    <tr>\n",
       "      <th>FISV</th>\n",
       "      <td>5.58856041</td>\n",
       "    </tr>\n",
       "    <tr>\n",
       "      <th>CMS</th>\n",
       "      <td>5.66944295</td>\n",
       "    </tr>\n",
       "    <tr>\n",
       "      <th>CTAS</th>\n",
       "      <td>5.73555245</td>\n",
       "    </tr>\n",
       "    <tr>\n",
       "      <th>HD</th>\n",
       "      <td>5.85250092</td>\n",
       "    </tr>\n",
       "  </tbody>\n",
       "</table>\n",
       "<p>289 rows × 1 columns</p>\n",
       "</div>"
      ],
      "text/plain": [
       "           sharpes\n",
       "ticker            \n",
       "APA    -0.09392857\n",
       "DVN    -0.05019335\n",
       "SLB     0.32692007\n",
       "OXY     0.41476812\n",
       "NOV     0.47844740\n",
       "...            ...\n",
       "WEC     5.49753594\n",
       "FISV    5.58856041\n",
       "CMS     5.66944295\n",
       "CTAS    5.73555245\n",
       "HD      5.85250092\n",
       "\n",
       "[289 rows x 1 columns]"
      ]
     },
     "execution_count": 84,
     "metadata": {},
     "output_type": "execute_result"
    }
   ],
   "source": [
    "sharpes_monthly_diff_PC.sort_values(by='sharpes')"
   ]
  },
  {
   "cell_type": "code",
   "execution_count": 85,
   "id": "34026ad4",
   "metadata": {
    "scrolled": false
   },
   "outputs": [
    {
     "data": {
      "text/plain": [
       "sharpes    0.71476901\n",
       "dtype: float64"
      ]
     },
     "execution_count": 85,
     "metadata": {},
     "output_type": "execute_result"
    }
   ],
   "source": [
    "sharpes_diff_PC.sort_values(by='sharpes').mean()"
   ]
  },
  {
   "cell_type": "code",
   "execution_count": 86,
   "id": "820ae558",
   "metadata": {
    "scrolled": false
   },
   "outputs": [
    {
     "data": {
      "text/plain": [
       "sharpes    3.16544569\n",
       "dtype: float64"
      ]
     },
     "execution_count": 86,
     "metadata": {},
     "output_type": "execute_result"
    }
   ],
   "source": [
    "sharpes_monthly_diff_PC.sort_values(by='sharpes').mean()"
   ]
  },
  {
   "cell_type": "markdown",
   "id": "1b136c26",
   "metadata": {},
   "source": [
    "### EXPORT"
   ]
  },
  {
   "cell_type": "code",
   "execution_count": 87,
   "id": "64931969",
   "metadata": {},
   "outputs": [],
   "source": [
    "sharpes_diff_PC.to_csv('Export/sharpes_diff_PC.csv')\n",
    "sharpes_monthly_diff_PC.to_csv('Export/sharpes_monthly_diff_PC.csv')"
   ]
  },
  {
   "cell_type": "markdown",
   "id": "daf0d413",
   "metadata": {},
   "source": [
    "> ### Sharpes calcs with Excess - Diff (OCO)"
   ]
  },
  {
   "cell_type": "code",
   "execution_count": 88,
   "id": "7e485661",
   "metadata": {},
   "outputs": [],
   "source": [
    "excess_returns_diff_OCO = returns_OCO.sub(tbills_diff['tbill'], axis = 0)\n",
    "excess_returns_monthly_diff_OCO = monthly_returns_OCO.sub(tbills_diff_monthly['tbill'], axis = 0)"
   ]
  },
  {
   "cell_type": "code",
   "execution_count": 89,
   "id": "a3ef3c1f",
   "metadata": {},
   "outputs": [],
   "source": [
    "sharpes_diff_OCO = pd.DataFrame(excess_returns_diff_OCO.mean()/returns_OCO.std())\n",
    "sharpes_monthly_diff_OCO = pd.DataFrame(excess_returns_monthly_diff_OCO.mean()/returns_OCO.std())\n",
    "\n",
    "sharpes_diff_OCO = sharpes_diff_OCO*(252)**0.5\n",
    "sharpes_monthly_diff_OCO = sharpes_monthly_diff_OCO*(12)**0.5"
   ]
  },
  {
   "cell_type": "code",
   "execution_count": 90,
   "id": "f3acb427",
   "metadata": {},
   "outputs": [],
   "source": [
    "sharpes_diff_OCO.columns = ['sharpes']\n",
    "sharpes_monthly_diff_OCO.columns = ['sharpes']"
   ]
  },
  {
   "cell_type": "code",
   "execution_count": 91,
   "id": "4ba46dd5",
   "metadata": {},
   "outputs": [],
   "source": [
    "sharpes_diff_OCO.index.name = 'ticker'\n",
    "sharpes_monthly_diff_OCO.index.name = 'ticker'"
   ]
  },
  {
   "cell_type": "code",
   "execution_count": 92,
   "id": "6d148ed7",
   "metadata": {
    "scrolled": false
   },
   "outputs": [
    {
     "data": {
      "text/html": [
       "<div>\n",
       "<style scoped>\n",
       "    .dataframe tbody tr th:only-of-type {\n",
       "        vertical-align: middle;\n",
       "    }\n",
       "\n",
       "    .dataframe tbody tr th {\n",
       "        vertical-align: top;\n",
       "    }\n",
       "\n",
       "    .dataframe thead th {\n",
       "        text-align: right;\n",
       "    }\n",
       "</style>\n",
       "<table border=\"1\" class=\"dataframe\">\n",
       "  <thead>\n",
       "    <tr style=\"text-align: right;\">\n",
       "      <th></th>\n",
       "      <th>sharpes</th>\n",
       "    </tr>\n",
       "    <tr>\n",
       "      <th>ticker</th>\n",
       "      <th></th>\n",
       "    </tr>\n",
       "  </thead>\n",
       "  <tbody>\n",
       "    <tr>\n",
       "      <th>F</th>\n",
       "      <td>-0.74986674</td>\n",
       "    </tr>\n",
       "    <tr>\n",
       "      <th>BAC</th>\n",
       "      <td>-0.64687686</td>\n",
       "    </tr>\n",
       "    <tr>\n",
       "      <th>FCX</th>\n",
       "      <td>-0.47297146</td>\n",
       "    </tr>\n",
       "    <tr>\n",
       "      <th>C</th>\n",
       "      <td>-0.42991245</td>\n",
       "    </tr>\n",
       "    <tr>\n",
       "      <th>DVN</th>\n",
       "      <td>-0.42561943</td>\n",
       "    </tr>\n",
       "    <tr>\n",
       "      <th>...</th>\n",
       "      <td>...</td>\n",
       "    </tr>\n",
       "    <tr>\n",
       "      <th>AON</th>\n",
       "      <td>1.34270966</td>\n",
       "    </tr>\n",
       "    <tr>\n",
       "      <th>HSY</th>\n",
       "      <td>1.37910655</td>\n",
       "    </tr>\n",
       "    <tr>\n",
       "      <th>SHW</th>\n",
       "      <td>1.42862237</td>\n",
       "    </tr>\n",
       "    <tr>\n",
       "      <th>INTU</th>\n",
       "      <td>1.47782037</td>\n",
       "    </tr>\n",
       "    <tr>\n",
       "      <th>FISV</th>\n",
       "      <td>1.48734249</td>\n",
       "    </tr>\n",
       "  </tbody>\n",
       "</table>\n",
       "<p>289 rows × 1 columns</p>\n",
       "</div>"
      ],
      "text/plain": [
       "           sharpes\n",
       "ticker            \n",
       "F      -0.74986674\n",
       "BAC    -0.64687686\n",
       "FCX    -0.47297146\n",
       "C      -0.42991245\n",
       "DVN    -0.42561943\n",
       "...            ...\n",
       "AON     1.34270966\n",
       "HSY     1.37910655\n",
       "SHW     1.42862237\n",
       "INTU    1.47782037\n",
       "FISV    1.48734249\n",
       "\n",
       "[289 rows x 1 columns]"
      ]
     },
     "execution_count": 92,
     "metadata": {},
     "output_type": "execute_result"
    }
   ],
   "source": [
    "sharpes_diff_OCO.sort_values(by='sharpes')"
   ]
  },
  {
   "cell_type": "code",
   "execution_count": 93,
   "id": "ebfcf66b",
   "metadata": {
    "scrolled": true
   },
   "outputs": [
    {
     "data": {
      "text/html": [
       "<div>\n",
       "<style scoped>\n",
       "    .dataframe tbody tr th:only-of-type {\n",
       "        vertical-align: middle;\n",
       "    }\n",
       "\n",
       "    .dataframe tbody tr th {\n",
       "        vertical-align: top;\n",
       "    }\n",
       "\n",
       "    .dataframe thead th {\n",
       "        text-align: right;\n",
       "    }\n",
       "</style>\n",
       "<table border=\"1\" class=\"dataframe\">\n",
       "  <thead>\n",
       "    <tr style=\"text-align: right;\">\n",
       "      <th></th>\n",
       "      <th>sharpes</th>\n",
       "    </tr>\n",
       "    <tr>\n",
       "      <th>ticker</th>\n",
       "      <th></th>\n",
       "    </tr>\n",
       "  </thead>\n",
       "  <tbody>\n",
       "    <tr>\n",
       "      <th>F</th>\n",
       "      <td>-3.30387321</td>\n",
       "    </tr>\n",
       "    <tr>\n",
       "      <th>BAC</th>\n",
       "      <td>-2.72250945</td>\n",
       "    </tr>\n",
       "    <tr>\n",
       "      <th>DVN</th>\n",
       "      <td>-1.86127420</td>\n",
       "    </tr>\n",
       "    <tr>\n",
       "      <th>C</th>\n",
       "      <td>-1.78746870</td>\n",
       "    </tr>\n",
       "    <tr>\n",
       "      <th>MRO</th>\n",
       "      <td>-1.74676509</td>\n",
       "    </tr>\n",
       "    <tr>\n",
       "      <th>...</th>\n",
       "      <td>...</td>\n",
       "    </tr>\n",
       "    <tr>\n",
       "      <th>AON</th>\n",
       "      <td>6.16439590</td>\n",
       "    </tr>\n",
       "    <tr>\n",
       "      <th>HSY</th>\n",
       "      <td>6.31312466</td>\n",
       "    </tr>\n",
       "    <tr>\n",
       "      <th>SHW</th>\n",
       "      <td>6.50743824</td>\n",
       "    </tr>\n",
       "    <tr>\n",
       "      <th>INTU</th>\n",
       "      <td>6.66798655</td>\n",
       "    </tr>\n",
       "    <tr>\n",
       "      <th>FISV</th>\n",
       "      <td>6.72528257</td>\n",
       "    </tr>\n",
       "  </tbody>\n",
       "</table>\n",
       "<p>289 rows × 1 columns</p>\n",
       "</div>"
      ],
      "text/plain": [
       "           sharpes\n",
       "ticker            \n",
       "F      -3.30387321\n",
       "BAC    -2.72250945\n",
       "DVN    -1.86127420\n",
       "C      -1.78746870\n",
       "MRO    -1.74676509\n",
       "...            ...\n",
       "AON     6.16439590\n",
       "HSY     6.31312466\n",
       "SHW     6.50743824\n",
       "INTU    6.66798655\n",
       "FISV    6.72528257\n",
       "\n",
       "[289 rows x 1 columns]"
      ]
     },
     "execution_count": 93,
     "metadata": {},
     "output_type": "execute_result"
    }
   ],
   "source": [
    "sharpes_monthly_diff_OCO.sort_values(by='sharpes')"
   ]
  },
  {
   "cell_type": "code",
   "execution_count": 94,
   "id": "861d2ca3",
   "metadata": {
    "scrolled": false
   },
   "outputs": [
    {
     "data": {
      "text/plain": [
       "sharpes    0.49054685\n",
       "dtype: float64"
      ]
     },
     "execution_count": 94,
     "metadata": {},
     "output_type": "execute_result"
    }
   ],
   "source": [
    "sharpes_diff_OCO.sort_values(by='sharpes').mean()"
   ]
  },
  {
   "cell_type": "code",
   "execution_count": 95,
   "id": "7b7f224b",
   "metadata": {
    "scrolled": false
   },
   "outputs": [
    {
     "data": {
      "text/plain": [
       "sharpes    2.21108448\n",
       "dtype: float64"
      ]
     },
     "execution_count": 95,
     "metadata": {},
     "output_type": "execute_result"
    }
   ],
   "source": [
    "sharpes_monthly_diff_OCO.sort_values(by='sharpes').mean()"
   ]
  },
  {
   "cell_type": "markdown",
   "id": "e0ca3ef1",
   "metadata": {},
   "source": [
    "### EXPORT"
   ]
  },
  {
   "cell_type": "code",
   "execution_count": 96,
   "id": "97fd1f27",
   "metadata": {},
   "outputs": [],
   "source": [
    "sharpes_diff_OCO.to_csv('Export/sharpes_diff_OCO.csv')\n",
    "sharpes_monthly_diff_OCO.to_csv('Export/sharpes_monthly_diff_OCO.csv')"
   ]
  },
  {
   "cell_type": "markdown",
   "id": "4960982b",
   "metadata": {},
   "source": [
    "> ### Sharpes, No Excess (PC)"
   ]
  },
  {
   "cell_type": "code",
   "execution_count": 97,
   "id": "35a53fac",
   "metadata": {},
   "outputs": [],
   "source": [
    "sharpes_no_excess_PC = pd.DataFrame(returns_PC.mean()/returns_PC.std())\n",
    "sharpes_monthly_no_excess_PC = pd.DataFrame(monthly_returns_PC.mean()/monthly_returns_PC.std())\n",
    "\n",
    "sharpes_no_excess_PC = sharpes_no_excess_PC*(252)**0.5\n",
    "sharpes_monthly_no_excess_PC = sharpes_monthly_no_excess_PC*(12)**0.5"
   ]
  },
  {
   "cell_type": "code",
   "execution_count": 98,
   "id": "c8b2fd13",
   "metadata": {},
   "outputs": [],
   "source": [
    "sharpes_no_excess_PC.columns = ['sharpes']\n",
    "sharpes_monthly_no_excess_PC.columns = ['sharpes']"
   ]
  },
  {
   "cell_type": "code",
   "execution_count": 99,
   "id": "c155fbfb",
   "metadata": {},
   "outputs": [],
   "source": [
    "sharpes_no_excess_PC.index.name = 'ticker'\n",
    "sharpes_monthly_no_excess_PC.index.name = 'ticker'"
   ]
  },
  {
   "cell_type": "code",
   "execution_count": 100,
   "id": "76276659",
   "metadata": {
    "scrolled": false
   },
   "outputs": [
    {
     "data": {
      "text/html": [
       "<div>\n",
       "<style scoped>\n",
       "    .dataframe tbody tr th:only-of-type {\n",
       "        vertical-align: middle;\n",
       "    }\n",
       "\n",
       "    .dataframe tbody tr th {\n",
       "        vertical-align: top;\n",
       "    }\n",
       "\n",
       "    .dataframe thead th {\n",
       "        text-align: right;\n",
       "    }\n",
       "</style>\n",
       "<table border=\"1\" class=\"dataframe\">\n",
       "  <thead>\n",
       "    <tr style=\"text-align: right;\">\n",
       "      <th></th>\n",
       "      <th>sharpes</th>\n",
       "    </tr>\n",
       "    <tr>\n",
       "      <th>ticker</th>\n",
       "      <th></th>\n",
       "    </tr>\n",
       "  </thead>\n",
       "  <tbody>\n",
       "    <tr>\n",
       "      <th>DVN</th>\n",
       "      <td>-0.03146977</td>\n",
       "    </tr>\n",
       "    <tr>\n",
       "      <th>APA</th>\n",
       "      <td>-0.02073894</td>\n",
       "    </tr>\n",
       "    <tr>\n",
       "      <th>SLB</th>\n",
       "      <td>0.05796290</td>\n",
       "    </tr>\n",
       "    <tr>\n",
       "      <th>OXY</th>\n",
       "      <td>0.10086056</td>\n",
       "    </tr>\n",
       "    <tr>\n",
       "      <th>NOV</th>\n",
       "      <td>0.11969874</td>\n",
       "    </tr>\n",
       "    <tr>\n",
       "      <th>...</th>\n",
       "      <td>...</td>\n",
       "    </tr>\n",
       "    <tr>\n",
       "      <th>MA</th>\n",
       "      <td>1.25154508</td>\n",
       "    </tr>\n",
       "    <tr>\n",
       "      <th>FISV</th>\n",
       "      <td>1.26133231</td>\n",
       "    </tr>\n",
       "    <tr>\n",
       "      <th>CMS</th>\n",
       "      <td>1.26722742</td>\n",
       "    </tr>\n",
       "    <tr>\n",
       "      <th>CTAS</th>\n",
       "      <td>1.29508002</td>\n",
       "    </tr>\n",
       "    <tr>\n",
       "      <th>HD</th>\n",
       "      <td>1.29763515</td>\n",
       "    </tr>\n",
       "  </tbody>\n",
       "</table>\n",
       "<p>289 rows × 1 columns</p>\n",
       "</div>"
      ],
      "text/plain": [
       "           sharpes\n",
       "ticker            \n",
       "DVN    -0.03146977\n",
       "APA    -0.02073894\n",
       "SLB     0.05796290\n",
       "OXY     0.10086056\n",
       "NOV     0.11969874\n",
       "...            ...\n",
       "MA      1.25154508\n",
       "FISV    1.26133231\n",
       "CMS     1.26722742\n",
       "CTAS    1.29508002\n",
       "HD      1.29763515\n",
       "\n",
       "[289 rows x 1 columns]"
      ]
     },
     "execution_count": 100,
     "metadata": {},
     "output_type": "execute_result"
    }
   ],
   "source": [
    "sharpes_no_excess_PC.sort_values(by='sharpes')"
   ]
  },
  {
   "cell_type": "code",
   "execution_count": 101,
   "id": "620586c4",
   "metadata": {
    "scrolled": true
   },
   "outputs": [
    {
     "data": {
      "text/html": [
       "<div>\n",
       "<style scoped>\n",
       "    .dataframe tbody tr th:only-of-type {\n",
       "        vertical-align: middle;\n",
       "    }\n",
       "\n",
       "    .dataframe tbody tr th {\n",
       "        vertical-align: top;\n",
       "    }\n",
       "\n",
       "    .dataframe thead th {\n",
       "        text-align: right;\n",
       "    }\n",
       "</style>\n",
       "<table border=\"1\" class=\"dataframe\">\n",
       "  <thead>\n",
       "    <tr style=\"text-align: right;\">\n",
       "      <th></th>\n",
       "      <th>sharpes</th>\n",
       "    </tr>\n",
       "    <tr>\n",
       "      <th>ticker</th>\n",
       "      <th></th>\n",
       "    </tr>\n",
       "  </thead>\n",
       "  <tbody>\n",
       "    <tr>\n",
       "      <th>APA</th>\n",
       "      <td>-0.02081296</td>\n",
       "    </tr>\n",
       "    <tr>\n",
       "      <th>DVN</th>\n",
       "      <td>-0.01053234</td>\n",
       "    </tr>\n",
       "    <tr>\n",
       "      <th>SLB</th>\n",
       "      <td>0.06888771</td>\n",
       "    </tr>\n",
       "    <tr>\n",
       "      <th>OXY</th>\n",
       "      <td>0.09366193</td>\n",
       "    </tr>\n",
       "    <tr>\n",
       "      <th>NOV</th>\n",
       "      <td>0.10857913</td>\n",
       "    </tr>\n",
       "    <tr>\n",
       "      <th>...</th>\n",
       "      <td>...</td>\n",
       "    </tr>\n",
       "    <tr>\n",
       "      <th>CMS</th>\n",
       "      <td>1.41358454</td>\n",
       "    </tr>\n",
       "    <tr>\n",
       "      <th>NI</th>\n",
       "      <td>1.41995511</td>\n",
       "    </tr>\n",
       "    <tr>\n",
       "      <th>FISV</th>\n",
       "      <td>1.48995177</td>\n",
       "    </tr>\n",
       "    <tr>\n",
       "      <th>MA</th>\n",
       "      <td>1.52234540</td>\n",
       "    </tr>\n",
       "    <tr>\n",
       "      <th>CTAS</th>\n",
       "      <td>1.53393675</td>\n",
       "    </tr>\n",
       "  </tbody>\n",
       "</table>\n",
       "<p>289 rows × 1 columns</p>\n",
       "</div>"
      ],
      "text/plain": [
       "           sharpes\n",
       "ticker            \n",
       "APA    -0.02081296\n",
       "DVN    -0.01053234\n",
       "SLB     0.06888771\n",
       "OXY     0.09366193\n",
       "NOV     0.10857913\n",
       "...            ...\n",
       "CMS     1.41358454\n",
       "NI      1.41995511\n",
       "FISV    1.48995177\n",
       "MA      1.52234540\n",
       "CTAS    1.53393675\n",
       "\n",
       "[289 rows x 1 columns]"
      ]
     },
     "execution_count": 101,
     "metadata": {},
     "output_type": "execute_result"
    }
   ],
   "source": [
    "sharpes_monthly_no_excess_PC.sort_values(by='sharpes')"
   ]
  },
  {
   "cell_type": "code",
   "execution_count": 102,
   "id": "20dd6ead",
   "metadata": {
    "scrolled": false
   },
   "outputs": [
    {
     "data": {
      "text/plain": [
       "sharpes    0.71485265\n",
       "dtype: float64"
      ]
     },
     "execution_count": 102,
     "metadata": {},
     "output_type": "execute_result"
    }
   ],
   "source": [
    "sharpes_no_excess_PC.sort_values(by='sharpes').mean()"
   ]
  },
  {
   "cell_type": "code",
   "execution_count": 103,
   "id": "ff95751a",
   "metadata": {
    "scrolled": true
   },
   "outputs": [
    {
     "data": {
      "text/plain": [
       "sharpes    0.76145786\n",
       "dtype: float64"
      ]
     },
     "execution_count": 103,
     "metadata": {},
     "output_type": "execute_result"
    }
   ],
   "source": [
    "sharpes_monthly_no_excess_PC.sort_values(by='sharpes').mean()"
   ]
  },
  {
   "cell_type": "markdown",
   "id": "3ca97703",
   "metadata": {},
   "source": [
    "### EXPORT"
   ]
  },
  {
   "cell_type": "code",
   "execution_count": 104,
   "id": "727be6ef",
   "metadata": {},
   "outputs": [],
   "source": [
    "sharpes_no_excess_PC.to_csv('Export/sharpes_no_excess_PC.csv')\n",
    "sharpes_monthly_no_excess_PC.to_csv('Export/sharpes_monthly_no_excess_PC.csv')"
   ]
  },
  {
   "cell_type": "markdown",
   "id": "db704982",
   "metadata": {},
   "source": [
    "> ### Sharpes, No Excess (OCO)"
   ]
  },
  {
   "cell_type": "code",
   "execution_count": 105,
   "id": "7bd525ce",
   "metadata": {},
   "outputs": [],
   "source": [
    "sharpes_no_excess_OCO = pd.DataFrame(returns_OCO.mean()/returns_OCO.std())\n",
    "sharpes_monthly_no_excess_OCO = pd.DataFrame(monthly_returns_OCO.mean()/monthly_returns_OCO.std())\n",
    "\n",
    "sharpes_no_excess_OCO = sharpes_no_excess_OCO*(252)**0.5\n",
    "sharpes_monthly_no_excess_OCO = sharpes_monthly_no_excess_OCO*(12)**0.5"
   ]
  },
  {
   "cell_type": "code",
   "execution_count": 106,
   "id": "30184777",
   "metadata": {},
   "outputs": [],
   "source": [
    "sharpes_no_excess_OCO.columns = ['sharpes']\n",
    "sharpes_monthly_no_excess_OCO.columns = ['sharpes']"
   ]
  },
  {
   "cell_type": "code",
   "execution_count": 107,
   "id": "adb20d82",
   "metadata": {},
   "outputs": [],
   "source": [
    "sharpes_no_excess_OCO.index.name = 'ticker'\n",
    "sharpes_monthly_no_excess_OCO.index.name = 'ticker'"
   ]
  },
  {
   "cell_type": "code",
   "execution_count": 108,
   "id": "1fd64481",
   "metadata": {
    "scrolled": false
   },
   "outputs": [
    {
     "data": {
      "text/html": [
       "<div>\n",
       "<style scoped>\n",
       "    .dataframe tbody tr th:only-of-type {\n",
       "        vertical-align: middle;\n",
       "    }\n",
       "\n",
       "    .dataframe tbody tr th {\n",
       "        vertical-align: top;\n",
       "    }\n",
       "\n",
       "    .dataframe thead th {\n",
       "        text-align: right;\n",
       "    }\n",
       "</style>\n",
       "<table border=\"1\" class=\"dataframe\">\n",
       "  <thead>\n",
       "    <tr style=\"text-align: right;\">\n",
       "      <th></th>\n",
       "      <th>sharpes</th>\n",
       "    </tr>\n",
       "    <tr>\n",
       "      <th>ticker</th>\n",
       "      <th></th>\n",
       "    </tr>\n",
       "  </thead>\n",
       "  <tbody>\n",
       "    <tr>\n",
       "      <th>F</th>\n",
       "      <td>-0.74978341</td>\n",
       "    </tr>\n",
       "    <tr>\n",
       "      <th>BAC</th>\n",
       "      <td>-0.64680250</td>\n",
       "    </tr>\n",
       "    <tr>\n",
       "      <th>FCX</th>\n",
       "      <td>-0.47292179</td>\n",
       "    </tr>\n",
       "    <tr>\n",
       "      <th>C</th>\n",
       "      <td>-0.42983692</td>\n",
       "    </tr>\n",
       "    <tr>\n",
       "      <th>DVN</th>\n",
       "      <td>-0.42555469</td>\n",
       "    </tr>\n",
       "    <tr>\n",
       "      <th>...</th>\n",
       "      <td>...</td>\n",
       "    </tr>\n",
       "    <tr>\n",
       "      <th>AON</th>\n",
       "      <td>1.34283084</td>\n",
       "    </tr>\n",
       "    <tr>\n",
       "      <th>HSY</th>\n",
       "      <td>1.37923142</td>\n",
       "    </tr>\n",
       "    <tr>\n",
       "      <th>SHW</th>\n",
       "      <td>1.42872764</td>\n",
       "    </tr>\n",
       "    <tr>\n",
       "      <th>INTU</th>\n",
       "      <td>1.47792329</td>\n",
       "    </tr>\n",
       "    <tr>\n",
       "      <th>FISV</th>\n",
       "      <td>1.48746141</td>\n",
       "    </tr>\n",
       "  </tbody>\n",
       "</table>\n",
       "<p>289 rows × 1 columns</p>\n",
       "</div>"
      ],
      "text/plain": [
       "           sharpes\n",
       "ticker            \n",
       "F      -0.74978341\n",
       "BAC    -0.64680250\n",
       "FCX    -0.47292179\n",
       "C      -0.42983692\n",
       "DVN    -0.42555469\n",
       "...            ...\n",
       "AON     1.34283084\n",
       "HSY     1.37923142\n",
       "SHW     1.42872764\n",
       "INTU    1.47792329\n",
       "FISV    1.48746141\n",
       "\n",
       "[289 rows x 1 columns]"
      ]
     },
     "execution_count": 108,
     "metadata": {},
     "output_type": "execute_result"
    }
   ],
   "source": [
    "sharpes_no_excess_OCO.sort_values(by='sharpes')"
   ]
  },
  {
   "cell_type": "code",
   "execution_count": 109,
   "id": "87c05f04",
   "metadata": {
    "scrolled": true
   },
   "outputs": [
    {
     "data": {
      "text/html": [
       "<div>\n",
       "<style scoped>\n",
       "    .dataframe tbody tr th:only-of-type {\n",
       "        vertical-align: middle;\n",
       "    }\n",
       "\n",
       "    .dataframe tbody tr th {\n",
       "        vertical-align: top;\n",
       "    }\n",
       "\n",
       "    .dataframe thead th {\n",
       "        text-align: right;\n",
       "    }\n",
       "</style>\n",
       "<table border=\"1\" class=\"dataframe\">\n",
       "  <thead>\n",
       "    <tr style=\"text-align: right;\">\n",
       "      <th></th>\n",
       "      <th>sharpes</th>\n",
       "    </tr>\n",
       "    <tr>\n",
       "      <th>ticker</th>\n",
       "      <th></th>\n",
       "    </tr>\n",
       "  </thead>\n",
       "  <tbody>\n",
       "    <tr>\n",
       "      <th>F</th>\n",
       "      <td>-0.70265099</td>\n",
       "    </tr>\n",
       "    <tr>\n",
       "      <th>BAC</th>\n",
       "      <td>-0.54278634</td>\n",
       "    </tr>\n",
       "    <tr>\n",
       "      <th>MU</th>\n",
       "      <td>-0.43124417</td>\n",
       "    </tr>\n",
       "    <tr>\n",
       "      <th>MRO</th>\n",
       "      <td>-0.39511803</td>\n",
       "    </tr>\n",
       "    <tr>\n",
       "      <th>DVN</th>\n",
       "      <td>-0.39270399</td>\n",
       "    </tr>\n",
       "    <tr>\n",
       "      <th>...</th>\n",
       "      <td>...</td>\n",
       "    </tr>\n",
       "    <tr>\n",
       "      <th>MMC</th>\n",
       "      <td>1.27804366</td>\n",
       "    </tr>\n",
       "    <tr>\n",
       "      <th>HSY</th>\n",
       "      <td>1.28506196</td>\n",
       "    </tr>\n",
       "    <tr>\n",
       "      <th>SHW</th>\n",
       "      <td>1.40888311</td>\n",
       "    </tr>\n",
       "    <tr>\n",
       "      <th>FISV</th>\n",
       "      <td>1.53984554</td>\n",
       "    </tr>\n",
       "    <tr>\n",
       "      <th>INTU</th>\n",
       "      <td>1.57090940</td>\n",
       "    </tr>\n",
       "  </tbody>\n",
       "</table>\n",
       "<p>289 rows × 1 columns</p>\n",
       "</div>"
      ],
      "text/plain": [
       "           sharpes\n",
       "ticker            \n",
       "F      -0.70265099\n",
       "BAC    -0.54278634\n",
       "MU     -0.43124417\n",
       "MRO    -0.39511803\n",
       "DVN    -0.39270399\n",
       "...            ...\n",
       "MMC     1.27804366\n",
       "HSY     1.28506196\n",
       "SHW     1.40888311\n",
       "FISV    1.53984554\n",
       "INTU    1.57090940\n",
       "\n",
       "[289 rows x 1 columns]"
      ]
     },
     "execution_count": 109,
     "metadata": {},
     "output_type": "execute_result"
    }
   ],
   "source": [
    "sharpes_monthly_no_excess_OCO.sort_values(by='sharpes')"
   ]
  },
  {
   "cell_type": "code",
   "execution_count": 110,
   "id": "6360725b",
   "metadata": {
    "scrolled": false
   },
   "outputs": [
    {
     "data": {
      "text/plain": [
       "sharpes    0.49064633\n",
       "dtype: float64"
      ]
     },
     "execution_count": 110,
     "metadata": {},
     "output_type": "execute_result"
    }
   ],
   "source": [
    "sharpes_no_excess_OCO.sort_values(by='sharpes').mean()"
   ]
  },
  {
   "cell_type": "code",
   "execution_count": 111,
   "id": "e514395f",
   "metadata": {
    "scrolled": true
   },
   "outputs": [
    {
     "data": {
      "text/plain": [
       "sharpes    0.49659568\n",
       "dtype: float64"
      ]
     },
     "execution_count": 111,
     "metadata": {},
     "output_type": "execute_result"
    }
   ],
   "source": [
    "sharpes_monthly_no_excess_OCO.sort_values(by='sharpes').mean()"
   ]
  },
  {
   "cell_type": "markdown",
   "id": "212c4e0e",
   "metadata": {},
   "source": [
    "### EXPORT"
   ]
  },
  {
   "cell_type": "code",
   "execution_count": 112,
   "id": "9aefcdf4",
   "metadata": {},
   "outputs": [],
   "source": [
    "sharpes_no_excess_OCO.to_csv('Export/sharpes_no_excess_OCO.csv')\n",
    "sharpes_monthly_no_excess_OCO.to_csv('Export/sharpes_monthly_no_excess_OCO.csv')"
   ]
  },
  {
   "cell_type": "markdown",
   "id": "a966eb67",
   "metadata": {},
   "source": [
    "## Export Data"
   ]
  },
  {
   "cell_type": "markdown",
   "id": "4cf02a57",
   "metadata": {},
   "source": [
    "> ### Returns, Covid Returns, Monthly Sharpes (using difference method, 10 YR T-Bills)"
   ]
  },
  {
   "cell_type": "raw",
   "id": "86f76692",
   "metadata": {},
   "source": [
    "\n",
    "returns.T.to_csv('returns.csv')\n",
    "returns_covid.T.to_csv('returns_covid.csv')\n",
    "\n",
    "sharpes_monthly.to_csv('Export/sharpes_monthly.csv')\n"
   ]
  },
  {
   "cell_type": "markdown",
   "id": "35954097",
   "metadata": {},
   "source": [
    "> ### Returns, Covid Returns, Daily Sharpes (using difference method, 10 YR T-Bills)"
   ]
  },
  {
   "cell_type": "raw",
   "id": "654e2665",
   "metadata": {},
   "source": [
    "returns.T.to_csv('Export/returns.csv')\n",
    "returns_covid.T.to_csv('Export/returns_covid.csv')\n",
    "sharpes.to_csv('Export/sharpes.csv')\n",
    "tbills_covid.to_csv('Export/tbills_covid.csv')"
   ]
  },
  {
   "cell_type": "markdown",
   "id": "67dbcd45",
   "metadata": {},
   "source": [
    "> ### Returns, Covid Returns, Monthly Sharpes (Direct method, 10 YR T-Bills)"
   ]
  },
  {
   "cell_type": "raw",
   "id": "39f598ec",
   "metadata": {},
   "source": [
    "'''\n",
    "returns.T.to_csv('Export/returns.csv')\n",
    "returns_covid.T.to_csv('Export/returns_covid.csv')\n",
    "\n",
    "'''\n",
    "sharpes_monthly_diff.to_csv('Export/sharpes_monthly_diff.csv')\n"
   ]
  },
  {
   "cell_type": "markdown",
   "id": "4a4b7679",
   "metadata": {},
   "source": [
    "> ### Returns, Covid Returns, Daily Sharpes (Direct method, 10 YR T-Bills)"
   ]
  },
  {
   "cell_type": "raw",
   "id": "5084bbfe",
   "metadata": {
    "run_control": {
     "marked": false
    }
   },
   "source": [
    "'''\n",
    "returns.T.to_csv('Export/returns.csv')\n",
    "returns_covid.T.to_csv('Export/returns_covid.csv')\n",
    "'''\n",
    "sharpes_diff.to_csv('Export/sharpes_diff.csv')\n"
   ]
  }
 ],
 "metadata": {
  "kernelspec": {
   "display_name": "Python 3 (ipykernel)",
   "language": "python",
   "name": "python3"
  },
  "language_info": {
   "codemirror_mode": {
    "name": "ipython",
    "version": 3
   },
   "file_extension": ".py",
   "mimetype": "text/x-python",
   "name": "python",
   "nbconvert_exporter": "python",
   "pygments_lexer": "ipython3",
   "version": "3.8.5"
  },
  "toc": {
   "base_numbering": 1,
   "nav_menu": {},
   "number_sections": true,
   "sideBar": true,
   "skip_h1_title": false,
   "title_cell": "Table of Contents",
   "title_sidebar": "Contents",
   "toc_cell": false,
   "toc_position": {},
   "toc_section_display": true,
   "toc_window_display": false
  },
  "varInspector": {
   "cols": {
    "lenName": 16,
    "lenType": 16,
    "lenVar": 40
   },
   "kernels_config": {
    "python": {
     "delete_cmd_postfix": "",
     "delete_cmd_prefix": "del ",
     "library": "var_list.py",
     "varRefreshCmd": "print(var_dic_list())"
    },
    "r": {
     "delete_cmd_postfix": ") ",
     "delete_cmd_prefix": "rm(",
     "library": "var_list.r",
     "varRefreshCmd": "cat(var_dic_list()) "
    }
   },
   "position": {
    "height": "338.844px",
    "left": "959px",
    "right": "20px",
    "top": "120px",
    "width": "361px"
   },
   "types_to_exclude": [
    "module",
    "function",
    "builtin_function_or_method",
    "instance",
    "_Feature"
   ],
   "window_display": false
  }
 },
 "nbformat": 4,
 "nbformat_minor": 5
}
